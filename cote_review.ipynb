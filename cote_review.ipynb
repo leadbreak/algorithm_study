{
  "nbformat": 4,
  "nbformat_minor": 0,
  "metadata": {
    "colab": {
      "name": "cote_review.ipynb",
      "provenance": [],
      "collapsed_sections": []
    },
    "kernelspec": {
      "name": "python3",
      "display_name": "Python 3"
    }
  },
  "cells": [
    {
      "cell_type": "markdown",
      "metadata": {
        "id": "dFqvg_Jz7G9e"
      },
      "source": [
        "# Day 01 - 21.02.08"
      ]
    },
    {
      "cell_type": "markdown",
      "metadata": {
        "id": "O2enT7PA7MrI"
      },
      "source": [
        "##1. Array Manipulation\r\n"
      ]
    },
    {
      "cell_type": "code",
      "metadata": {
        "id": "bMJE0fGciLE9"
      },
      "source": [
        "n = 5\r\n",
        "queries = [[1, 2, 100], [2, 5, 100], [3, 4, 100]]\r\n",
        "board = [0] * n"
      ],
      "execution_count": null,
      "outputs": []
    },
    {
      "cell_type": "code",
      "metadata": {
        "colab": {
          "base_uri": "https://localhost:8080/"
        },
        "id": "NMEc3lYBVwjw",
        "outputId": "0d28b914-7c8e-4a5f-bb1f-39336d1cfd4c"
      },
      "source": [
        "# time-limit : 50점\r\n",
        "def arrayManipulation(n, queries):\r\n",
        "    \r\n",
        "    board = [0] * n\r\n",
        "    \r\n",
        "    for i, j, k in queries :\r\n",
        "        for s in range(i-1, j) :\r\n",
        "            board[s] += k\r\n",
        "            \r\n",
        "    return max(board)\r\n",
        "\r\n",
        "%timeit(arrayManipulation(n, queries))"
      ],
      "execution_count": null,
      "outputs": [
        {
          "output_type": "stream",
          "text": [
            "1000000 loops, best of 3: 1.71 µs per loop\n"
          ],
          "name": "stdout"
        }
      ]
    },
    {
      "cell_type": "code",
      "metadata": {
        "colab": {
          "base_uri": "https://localhost:8080/"
        },
        "id": "bMV7AfcrZVt3",
        "outputId": "01687cbf-93af-403b-e15d-e16ae06da304"
      },
      "source": [
        "def arrayManipulation(n, queries):\r\n",
        "    array = [0] * (n + 1)\r\n",
        "    \r\n",
        "    for query in queries: \r\n",
        "        a = query[0] - 1\r\n",
        "        b = query[1]\r\n",
        "        k = query[2]\r\n",
        "        array[a] += k\r\n",
        "        array[b] -= k\r\n",
        "        \r\n",
        "    max_value = 0\r\n",
        "    running_count = 0\r\n",
        "    for i in array:\r\n",
        "        running_count += i\r\n",
        "        if running_count > max_value:\r\n",
        "            max_value = running_count\r\n",
        "            \r\n",
        "    return max_value\r\n",
        "\r\n",
        "%timeit(arrayManipulation(n, queries))"
      ],
      "execution_count": null,
      "outputs": [
        {
          "output_type": "stream",
          "text": [
            "The slowest run took 5.13 times longer than the fastest. This could mean that an intermediate result is being cached.\n",
            "1000000 loops, best of 3: 1.2 µs per loop\n"
          ],
          "name": "stdout"
        }
      ]
    },
    {
      "cell_type": "code",
      "metadata": {
        "colab": {
          "base_uri": "https://localhost:8080/"
        },
        "id": "6PkAjvSfiA6V",
        "outputId": "95165939-5eba-4ad5-eb72-41062e3596d1"
      },
      "source": [
        "n = 5\r\n",
        "queries = [[1, 2, 100], [2, 5, 100], [3, 4, 100]]\r\n",
        "array = [0] * (n+1)\r\n",
        "\r\n",
        "for query in queries: \r\n",
        "    a = query[0] - 1\r\n",
        "    b = query[1]\r\n",
        "    k = query[2]\r\n",
        "    array[a] += k\r\n",
        "    array[b] -= k\r\n",
        "    \r\n",
        "array"
      ],
      "execution_count": null,
      "outputs": [
        {
          "output_type": "execute_result",
          "data": {
            "text/plain": [
              "[100, 100, 0, 0, -100, -100]"
            ]
          },
          "metadata": {
            "tags": []
          },
          "execution_count": 48
        }
      ]
    },
    {
      "cell_type": "code",
      "metadata": {
        "id": "t_0ppJIUiXAv"
      },
      "source": [
        "max_value = 0\r\n",
        "running_count = 0\r\n",
        "for i in array:\r\n",
        "    running_count += i\r\n",
        "    if running_count > max_value:\r\n",
        "        max_value = running_count"
      ],
      "execution_count": null,
      "outputs": []
    },
    {
      "cell_type": "markdown",
      "metadata": {
        "id": "SdiVFZcLS9pd"
      },
      "source": [
        "# Day 02 (21.02.09)"
      ]
    },
    {
      "cell_type": "markdown",
      "metadata": {
        "id": "Ts8n5W6tTAfV"
      },
      "source": [
        "##1. Dictionaries and Hashmaps : Frequency Queries\r\n",
        "https://www.hackerrank.com/challenges/frequency-queries/problem?h_l=interview&playlist_slugs%5B%5D=interview-preparation-kit&playlist_slugs%5B%5D=dictionaries-hashmaps"
      ]
    },
    {
      "cell_type": "code",
      "metadata": {
        "id": "ZVk8lBIuS_-v"
      },
      "source": [
        "# 런타임 에러 발생\r\n",
        "def freqQuery(queries):\r\n",
        "    \r\n",
        "    array = [0] * max(queries, key = lambda x : x[1])[1]\r\n",
        "    \r\n",
        "    result = []\r\n",
        "    \r\n",
        "    for i in range(q) :\r\n",
        "        if queries[i][0] == 1 :\r\n",
        "            array[queries[i][1] - 1] += 1\r\n",
        "        elif queries[i][0] == 2 :\r\n",
        "            array[queries[i][1] - 1] -= 1\r\n",
        "        else :\r\n",
        "            if queries[i][1] in array :\r\n",
        "                result.append(1)\r\n",
        "            else :\r\n",
        "                result.append(0)\r\n",
        "    \r\n",
        "    return result\r\n",
        "                  "
      ],
      "execution_count": null,
      "outputs": []
    },
    {
      "cell_type": "code",
      "metadata": {
        "id": "HmIg0TRlXB-B"
      },
      "source": [
        "# colllections 모듈을 이용한 최적화\r\n",
        "\r\n",
        "from collections import defaultdict\r\n",
        "\r\n",
        "def freqQuery(queries):\r\n",
        "    results = []\r\n",
        "    lookup = dict()\r\n",
        "    freqs = defaultdict(set)\r\n",
        "    for command, value in queries:\r\n",
        "        freq = lookup.get(value, 0)\r\n",
        "        if command == 1:\r\n",
        "            lookup[value] = freq + 1\r\n",
        "            freqs[freq].discard(value)\r\n",
        "            freqs[freq + 1].add(value)\r\n",
        "        elif command == 2:\r\n",
        "            lookup[value] = max(0, freq - 1)\r\n",
        "            freqs[freq].discard(value)\r\n",
        "            freqs[freq - 1].add(value)\r\n",
        "        elif command == 3:\r\n",
        "            results.append(1 if freqs[value] else 0)\r\n",
        "    return results "
      ],
      "execution_count": null,
      "outputs": []
    },
    {
      "cell_type": "code",
      "metadata": {
        "colab": {
          "base_uri": "https://localhost:8080/"
        },
        "id": "sIBNDPf0auq7",
        "outputId": "ad685b63-15cb-4319-b943-5e405fb3deea"
      },
      "source": [
        "from collections import defaultdict\r\n",
        "\r\n",
        "freqs = defaultdict(set)\r\n",
        "\r\n",
        "# freqs\r\n",
        "\r\n",
        "queries = [[1,2],[2,3],[3,1003],[1,2],[3,2]]\r\n",
        "\r\n",
        "results = []\r\n",
        "lookup = dict()\r\n",
        "freqs = defaultdict(set)\r\n",
        "for command, value in queries:\r\n",
        "    freq = lookup.get(value, 0)\r\n",
        "    print(freq)\r\n",
        "    if command == 1:\r\n",
        "        lookup[value] = freq + 1\r\n",
        "        freqs[freq].discard(value)\r\n",
        "        freqs[freq + 1].add(value)\r\n",
        "    elif command == 2:\r\n",
        "        lookup[value] = max(0, freq - 1)\r\n",
        "        freqs[freq].discard(value)\r\n",
        "        freqs[freq - 1].add(value)\r\n",
        "    elif command == 3:\r\n",
        "        results.append(1 if freqs[value] else 0)\r\n",
        "\r\n",
        "results"
      ],
      "execution_count": null,
      "outputs": [
        {
          "output_type": "stream",
          "text": [
            "0\n",
            "0\n",
            "0\n",
            "1\n",
            "2\n"
          ],
          "name": "stdout"
        },
        {
          "output_type": "execute_result",
          "data": {
            "text/plain": [
              "[0, 1]"
            ]
          },
          "metadata": {
            "tags": []
          },
          "execution_count": 36
        }
      ]
    },
    {
      "cell_type": "markdown",
      "metadata": {
        "id": "NggPBndOb-Ln"
      },
      "source": [
        "##2. Sorting: Fraudulent Activity Notifications\r\n",
        "https://www.hackerrank.com/challenges/fraudulent-activity-notifications/problem?h_l=interview&playlist_slugs%5B%5D=interview-preparation-kit&playlist_slugs%5B%5D=sorting"
      ]
    },
    {
      "cell_type": "code",
      "metadata": {
        "id": "jgYBDdhrgNuC"
      },
      "source": [
        "#time limit - but I can't find any more efficient way\r\n",
        "from statistics import median\r\n",
        "\r\n",
        "def activityNotifications(expenditure, d):\r\n",
        "    \r\n",
        "    res = 0\r\n",
        "    cnt = n - d\r\n",
        "    \r\n",
        "    for i in range(cnt) :\r\n",
        "        target = median(expenditure[i:i+d])\r\n",
        "        if expenditure[i+d] >= 2 * target :\r\n",
        "            res += 1\r\n",
        "            \r\n",
        "    return res"
      ],
      "execution_count": null,
      "outputs": []
    },
    {
      "cell_type": "markdown",
      "metadata": {
        "id": "onaDj_NriRrg"
      },
      "source": [
        "##3. String Manipulation : Common Child\r\n",
        "https://www.hackerrank.com/challenges/common-child/problem?h_l=interview&playlist_slugs%5B%5D=interview-preparation-kit&playlist_slugs%5B%5D=strings"
      ]
    },
    {
      "cell_type": "code",
      "metadata": {
        "colab": {
          "base_uri": "https://localhost:8080/"
        },
        "id": "HuBX4bzsmhuu",
        "outputId": "940d9ed0-e818-4da0-a100-bb84e4ace9ff"
      },
      "source": [
        "len(sample)"
      ],
      "execution_count": null,
      "outputs": [
        {
          "output_type": "execute_result",
          "data": {
            "text/plain": [
              "5"
            ]
          },
          "metadata": {
            "tags": []
          },
          "execution_count": 54
        }
      ]
    },
    {
      "cell_type": "code",
      "metadata": {
        "colab": {
          "base_uri": "https://localhost:8080/"
        },
        "id": "WecBY5b6kllx",
        "outputId": "743f1843-8cb9-4adc-8ff2-0af531b21ff3"
      },
      "source": [
        "sample = [1,2,3,4,5]\r\n",
        "\r\n",
        "for i in sample :\r\n",
        "  for j in sample :\r\n",
        "    if j == 3 :\r\n",
        "      break\r\n",
        "    print(j)"
      ],
      "execution_count": null,
      "outputs": [
        {
          "output_type": "stream",
          "text": [
            "1\n",
            "2\n",
            "1\n",
            "2\n",
            "1\n",
            "2\n",
            "1\n",
            "2\n",
            "1\n",
            "2\n"
          ],
          "name": "stdout"
        }
      ]
    },
    {
      "cell_type": "code",
      "metadata": {
        "id": "31vbaM2xisnc"
      },
      "source": [
        "s1 = \"HARRY\"\r\n",
        "s2 = \"SALLY\""
      ],
      "execution_count": null,
      "outputs": []
    },
    {
      "cell_type": "code",
      "metadata": {
        "id": "2INhKiFUkkzz"
      },
      "source": [
        ""
      ],
      "execution_count": null,
      "outputs": []
    },
    {
      "cell_type": "code",
      "metadata": {
        "id": "R3UtVpMfj-w0"
      },
      "source": [
        "s1 = \"SHINCHAN\"\r\n",
        "s2 = \"NOHARAAA\""
      ],
      "execution_count": null,
      "outputs": []
    },
    {
      "cell_type": "code",
      "metadata": {
        "colab": {
          "base_uri": "https://localhost:8080/"
        },
        "id": "InUk__3UiwA-",
        "outputId": "e25dd26a-f18b-47fa-eb27-dc623d03c669"
      },
      "source": [
        "a1 = [i for i in s1 if i in s2]\r\n",
        "a1"
      ],
      "execution_count": null,
      "outputs": [
        {
          "output_type": "execute_result",
          "data": {
            "text/plain": [
              "['H', 'N', 'H', 'A', 'N']"
            ]
          },
          "metadata": {
            "tags": []
          },
          "execution_count": 51
        }
      ]
    },
    {
      "cell_type": "code",
      "metadata": {
        "colab": {
          "base_uri": "https://localhost:8080/"
        },
        "id": "Ev1TidxSiRDz",
        "outputId": "d8f71fc1-9395-477f-9627-0033a5c1b042"
      },
      "source": [
        "a2 = [j for j in s2 if j in s1]\r\n",
        "a2"
      ],
      "execution_count": null,
      "outputs": [
        {
          "output_type": "execute_result",
          "data": {
            "text/plain": [
              "['N', 'H', 'A', 'A', 'A', 'A']"
            ]
          },
          "metadata": {
            "tags": []
          },
          "execution_count": 52
        }
      ]
    },
    {
      "cell_type": "code",
      "metadata": {
        "colab": {
          "base_uri": "https://localhost:8080/"
        },
        "id": "nbciaC_Oi8r5",
        "outputId": "558cd43a-d816-4da8-c5e8-7bc12e35dfa4"
      },
      "source": [
        "cnt = 1\r\n",
        "res = 0\r\n",
        "for i in range(len(a1)) :\r\n",
        "\r\n",
        "  # print(cnt)\r\n",
        "  if res < cnt :\r\n",
        "    res = cnt\r\n",
        "\r\n",
        "  if a1[i] == a2[i] :\r\n",
        "    cnt += 1\r\n",
        "  else :\r\n",
        "    cnt = 0\r\n",
        "  \r\n",
        "print(res)"
      ],
      "execution_count": null,
      "outputs": [
        {
          "output_type": "stream",
          "text": [
            "2\n"
          ],
          "name": "stdout"
        }
      ]
    },
    {
      "cell_type": "code",
      "metadata": {
        "id": "7iN-HOzmnTnw"
      },
      "source": [
        "# wrong answer??\r\n",
        "def commonChild(s1, s2):\r\n",
        "    \r\n",
        "    a1 = [i for i in s1 if i in s2]\r\n",
        "    a2 = [j for j in s2 if j in s1]\r\n",
        "    \r\n",
        "    cnt = 1\r\n",
        "    res = 0\r\n",
        "    \r\n",
        "    for k in range(len(a1)) :\r\n",
        "        for h in range(len(a2)) :\r\n",
        "            \r\n",
        "            if a1[k] == a2[h] :\r\n",
        "                if res < cnt :\r\n",
        "                    res = cnt   \r\n",
        "                x, y = k, h\r\n",
        "                while True :\r\n",
        "                    if res < cnt :\r\n",
        "                        res = cnt   \r\n",
        "                    if x < len(a1)-1  and y < len(a2)-1 :                        \r\n",
        "                        x = x+1\r\n",
        "                        y = y+1\r\n",
        "                        if a1[x] == a2[y] :\r\n",
        "                            cnt += 1\r\n",
        "                    else :\r\n",
        "                      cnt = 1\r\n",
        "                      break\r\n",
        "                            \r\n",
        " \r\n",
        "    return res"
      ],
      "execution_count": null,
      "outputs": []
    },
    {
      "cell_type": "code",
      "metadata": {
        "id": "BSmrA34OqUlI"
      },
      "source": [
        "def commonChild(s1, s2):\r\n",
        "    \r\n",
        "    a1 = [i for i in s1 if i in s2]\r\n",
        "    a2 = [j for j in s2 if j in s1]\r\n",
        "    \r\n",
        "    cnt = 1\r\n",
        "    res = 0\r\n",
        "    \r\n",
        "    for k in range(len(a1)) :\r\n",
        "        for h in range(len(a2)) :\r\n",
        "            \r\n",
        "            if a1[k] == a2[h] :\r\n",
        "                x, y = k+1, h+1\r\n",
        "                while True :\r\n",
        "\r\n",
        "                    if x == len(a1) :\r\n",
        "                        cnt = 1\r\n",
        "                        break\r\n",
        "                    \r\n",
        "\r\n",
        "                    if a1[x] in a2[y:] :\r\n",
        "                        print(\"target :\", a1[x], \"target_list :\", a2[y:], \"count :\", cnt)\r\n",
        "                        cnt += 1\r\n",
        "                        y = y + a2[y:].index(a1[x])\r\n",
        "                        # print(cnt)\r\n",
        "                        \r\n",
        "                        if res < cnt :\r\n",
        "                            res = cnt\r\n",
        "                        x = x+1\r\n",
        "                        y = y+1\r\n",
        "\r\n",
        "                    else :\r\n",
        "                        x = x+1                \r\n",
        "                                    \r\n",
        " \r\n",
        "    return res"
      ],
      "execution_count": null,
      "outputs": []
    },
    {
      "cell_type": "code",
      "metadata": {
        "id": "viNILFpGvlq6"
      },
      "source": [
        "# answer but still time-limit problem\r\n",
        "def commonChild(a, b):\r\n",
        "    N = len(a)\r\n",
        "    M = len(b)\r\n",
        "    prerow = [0]*(M+1)\r\n",
        "    for row in range(1, N+1):\r\n",
        "        currow = [0]*(M+1)\r\n",
        "        for col in range(1, M+1):\r\n",
        "\r\n",
        "            \r\n",
        "            if a[row-1] == b[col-1]:\r\n",
        "                currow[col] = 1 + prerow[col-1]\r\n",
        "            else:\r\n",
        "                currow[col] = max(prerow[col], currow[col-1])\r\n",
        "        prerow = currow\r\n",
        "        print(prerow)\r\n",
        "    return prerow[-1]"
      ],
      "execution_count": null,
      "outputs": []
    },
    {
      "cell_type": "code",
      "metadata": {
        "id": "zII3fJoswZjE"
      },
      "source": [
        "# answer but still time-limit problem\r\n",
        "def commonChild(a, b):\r\n",
        "    N = len(a)\r\n",
        "    M = len(b)\r\n",
        "    prerow = [0]*(M+1)\r\n",
        "    for row in range(1, N+1):\r\n",
        "        currow = [0]*(M+1)\r\n",
        "        for col in range(1, M+1):\r\n",
        "\r\n",
        "            if a[row-1] not in b[col-1:] :\r\n",
        "              currow[col] = max(prerow[col], currow[col-1])\r\n",
        "              break\r\n",
        "\r\n",
        "            if a[row-1] == b[col-1]:\r\n",
        "                currow[col] = 1 + prerow[col-1]\r\n",
        "            else:\r\n",
        "                currow[col] = max(prerow[col], currow[col-1])\r\n",
        "        prerow = currow\r\n",
        "        print(prerow)\r\n",
        "    return prerow[-1]"
      ],
      "execution_count": null,
      "outputs": []
    },
    {
      "cell_type": "code",
      "metadata": {
        "colab": {
          "base_uri": "https://localhost:8080/"
        },
        "id": "jlQk5FWfs8zQ",
        "outputId": "23731119-3964-47e9-da0c-e1cf43760d70"
      },
      "source": [
        "a = [2,3,4,5,4,3,2,1]\r\n",
        "len(a)\r\n",
        "a[7:]\r\n",
        "a[7]"
      ],
      "execution_count": null,
      "outputs": [
        {
          "output_type": "execute_result",
          "data": {
            "text/plain": [
              "1"
            ]
          },
          "metadata": {
            "tags": []
          },
          "execution_count": 93
        }
      ]
    },
    {
      "cell_type": "code",
      "metadata": {
        "colab": {
          "base_uri": "https://localhost:8080/"
        },
        "id": "xxUmjuWEqkpt",
        "outputId": "fae7162d-98a7-4150-c96d-552af1b04631"
      },
      "source": [
        "y = 3\r\n",
        "a = [2,3,4,5,4,3,2,1]\r\n",
        "y = y + a[y:].index(2)\r\n",
        "y += 1\r\n",
        "a[y:]\r\n"
      ],
      "execution_count": null,
      "outputs": [
        {
          "output_type": "execute_result",
          "data": {
            "text/plain": [
              "[1]"
            ]
          },
          "metadata": {
            "tags": []
          },
          "execution_count": 84
        }
      ]
    },
    {
      "cell_type": "code",
      "metadata": {
        "colab": {
          "base_uri": "https://localhost:8080/"
        },
        "id": "tPyXVhfJnV01",
        "outputId": "d61e489a-bacd-413a-ccf7-7a784a6e0d85"
      },
      "source": [
        "s1 = \"WEWOUCUIDGCGTRMEZEPXZFEJWISRSBBSYXAYDFEJJDLEBVHHKS\"\r\n",
        "s2 = \"FDAGCXGKCTKWNECHMRXZWMLRYUCOCZHJRRJBOAJOQJZZVUYXIC\"\r\n",
        "\r\n",
        "commonChild(s1,s2)"
      ],
      "execution_count": null,
      "outputs": [
        {
          "output_type": "stream",
          "text": [
            "[0, 0, 0, 0, 0, 0, 0, 0, 0, 0, 0, 0, 1, 1, 1, 1, 1, 1, 1, 1, 1, 1, 1, 0, 0, 0, 0, 0, 0, 0, 0, 0, 0, 0, 0, 0, 0, 0, 0, 0, 0, 0, 0, 0, 0, 0, 0, 0, 0, 0, 0]\n",
            "[0, 0, 0, 0, 0, 0, 0, 0, 0, 0, 0, 0, 1, 1, 2, 2, 0, 0, 0, 0, 0, 0, 0, 0, 0, 0, 0, 0, 0, 0, 0, 0, 0, 0, 0, 0, 0, 0, 0, 0, 0, 0, 0, 0, 0, 0, 0, 0, 0, 0, 0]\n",
            "[0, 0, 0, 0, 0, 0, 0, 0, 0, 0, 0, 0, 1, 1, 2, 2, 2, 2, 2, 2, 2, 1, 1, 0, 0, 0, 0, 0, 0, 0, 0, 0, 0, 0, 0, 0, 0, 0, 0, 0, 0, 0, 0, 0, 0, 0, 0, 0, 0, 0, 0]\n",
            "[0, 0, 0, 0, 0, 0, 0, 0, 0, 0, 0, 0, 1, 1, 2, 2, 2, 2, 2, 2, 2, 2, 2, 2, 2, 2, 2, 2, 1, 1, 1, 1, 1, 1, 1, 1, 1, 1, 1, 1, 1, 1, 0, 0, 0, 0, 0, 0, 0, 0, 0]\n",
            "[0, 0, 0, 0, 0, 0, 0, 0, 0, 0, 0, 0, 1, 1, 2, 2, 2, 2, 2, 2, 2, 2, 2, 2, 2, 2, 3, 3, 3, 3, 3, 3, 3, 3, 3, 3, 3, 3, 3, 3, 3, 3, 3, 3, 3, 3, 1, 1, 0, 0, 0]\n",
            "[0, 0, 0, 0, 0, 1, 1, 1, 1, 1, 1, 1, 1, 1, 2, 3, 3, 3, 3, 3, 3, 3, 3, 3, 3, 3, 3, 4, 4, 4, 4, 4, 4, 4, 4, 4, 4, 4, 4, 4, 4, 4, 4, 4, 4, 4, 4, 4, 4, 4, 1]\n",
            "[0, 0, 0, 0, 0, 1, 1, 1, 1, 1, 1, 1, 1, 1, 2, 3, 3, 3, 3, 3, 3, 3, 3, 3, 3, 3, 4, 4, 4, 4, 4, 4, 4, 4, 4, 4, 4, 4, 4, 4, 4, 4, 4, 4, 4, 4, 5, 5, 0, 0, 0]\n",
            "[0, 0, 0, 0, 0, 1, 1, 1, 1, 1, 1, 1, 1, 1, 2, 3, 3, 3, 3, 3, 3, 3, 3, 3, 3, 3, 4, 4, 4, 4, 4, 4, 4, 4, 4, 4, 4, 4, 4, 4, 4, 4, 4, 4, 4, 4, 5, 5, 5, 1, 1]\n",
            "[0, 0, 1, 1, 0, 0, 0, 0, 0, 0, 0, 0, 0, 0, 0, 0, 0, 0, 0, 0, 0, 0, 0, 0, 0, 0, 0, 0, 0, 0, 0, 0, 0, 0, 0, 0, 0, 0, 0, 0, 0, 0, 0, 0, 0, 0, 0, 0, 0, 0, 0]\n",
            "[0, 0, 1, 1, 2, 2, 2, 1, 1, 0, 0, 0, 0, 0, 0, 0, 0, 0, 0, 0, 0, 0, 0, 0, 0, 0, 0, 0, 0, 0, 0, 0, 0, 0, 0, 0, 0, 0, 0, 0, 0, 0, 0, 0, 0, 0, 0, 0, 0, 0, 0]\n",
            "[0, 0, 1, 1, 2, 3, 3, 3, 3, 2, 2, 2, 2, 2, 2, 1, 1, 1, 1, 1, 1, 1, 1, 1, 1, 1, 1, 1, 1, 1, 1, 1, 1, 1, 1, 1, 1, 1, 1, 1, 1, 1, 1, 1, 1, 1, 1, 1, 1, 1, 1]\n",
            "[0, 0, 1, 1, 2, 3, 3, 4, 4, 0, 0, 0, 0, 0, 0, 0, 0, 0, 0, 0, 0, 0, 0, 0, 0, 0, 0, 0, 0, 0, 0, 0, 0, 0, 0, 0, 0, 0, 0, 0, 0, 0, 0, 0, 0, 0, 0, 0, 0, 0, 0]\n",
            "[0, 0, 1, 1, 2, 3, 3, 4, 4, 4, 1, 1, 0, 0, 0, 0, 0, 0, 0, 0, 0, 0, 0, 0, 0, 0, 0, 0, 0, 0, 0, 0, 0, 0, 0, 0, 0, 0, 0, 0, 0, 0, 0, 0, 0, 0, 0, 0, 0, 0, 0]\n",
            "[0, 0, 1, 1, 2, 3, 3, 4, 4, 4, 4, 4, 4, 4, 4, 4, 4, 4, 1, 1, 1, 1, 1, 1, 1, 1, 1, 1, 1, 1, 1, 1, 1, 1, 1, 1, 0, 0, 0, 0, 0, 0, 0, 0, 0, 0, 0, 0, 0, 0, 0]\n",
            "[0, 0, 1, 1, 2, 3, 3, 4, 4, 4, 4, 4, 4, 4, 4, 4, 4, 5, 5, 5, 5, 5, 2, 2, 0, 0, 0, 0, 0, 0, 0, 0, 0, 0, 0, 0, 0, 0, 0, 0, 0, 0, 0, 0, 0, 0, 0, 0, 0, 0, 0]\n",
            "[0, 0, 1, 1, 2, 3, 3, 4, 4, 4, 4, 4, 4, 4, 5, 5, 0, 0, 0, 0, 0, 0, 0, 0, 0, 0, 0, 0, 0, 0, 0, 0, 0, 0, 0, 0, 0, 0, 0, 0, 0, 0, 0, 0, 0, 0, 0, 0, 0, 0, 0]\n",
            "[0, 0, 1, 1, 2, 3, 3, 4, 4, 4, 4, 4, 4, 4, 5, 5, 5, 5, 5, 5, 1, 1, 1, 1, 1, 1, 1, 1, 1, 1, 1, 1, 1, 1, 1, 1, 1, 1, 1, 1, 1, 1, 1, 1, 1, 1, 0, 0, 0, 0, 0]\n",
            "[0, 0, 1, 1, 2, 3, 3, 4, 4, 4, 4, 4, 4, 4, 5, 5, 0, 0, 0, 0, 0, 0, 0, 0, 0, 0, 0, 0, 0, 0, 0, 0, 0, 0, 0, 0, 0, 0, 0, 0, 0, 0, 0, 0, 0, 0, 0, 0, 0, 0, 0]\n",
            "[0, 0, 0, 0, 0, 0, 0, 0, 0, 0, 0, 0, 0, 0, 0, 0, 0, 0, 0, 0, 0, 0, 0, 0, 0, 0, 0, 0, 0, 0, 0, 0, 0, 0, 0, 0, 0, 0, 0, 0, 0, 0, 0, 0, 0, 0, 0, 0, 0, 0, 0]\n",
            "[0, 0, 0, 0, 0, 0, 1, 1, 1, 1, 1, 1, 1, 1, 1, 1, 1, 1, 1, 1, 1, 1, 1, 1, 1, 1, 1, 1, 1, 1, 1, 1, 1, 1, 1, 1, 1, 1, 1, 1, 1, 1, 1, 1, 1, 1, 1, 1, 1, 1, 0]\n",
            "[0, 0, 0, 0, 0, 0, 1, 1, 1, 1, 1, 1, 1, 1, 1, 1, 1, 1, 1, 1, 2, 2, 2, 2, 2, 2, 2, 2, 2, 2, 2, 2, 2, 2, 2, 2, 2, 2, 2, 2, 2, 2, 2, 2, 2, 2, 0, 0, 0, 0, 0]\n",
            "[0, 1, 1, 0, 0, 0, 0, 0, 0, 0, 0, 0, 0, 0, 0, 0, 0, 0, 0, 0, 0, 0, 0, 0, 0, 0, 0, 0, 0, 0, 0, 0, 0, 0, 0, 0, 0, 0, 0, 0, 0, 0, 0, 0, 0, 0, 0, 0, 0, 0, 0]\n",
            "[0, 1, 1, 1, 1, 1, 1, 1, 1, 1, 1, 1, 1, 1, 1, 1, 0, 0, 0, 0, 0, 0, 0, 0, 0, 0, 0, 0, 0, 0, 0, 0, 0, 0, 0, 0, 0, 0, 0, 0, 0, 0, 0, 0, 0, 0, 0, 0, 0, 0, 0]\n",
            "[0, 1, 1, 1, 1, 1, 1, 1, 1, 1, 1, 1, 1, 1, 1, 1, 1, 1, 1, 1, 1, 1, 1, 1, 1, 1, 1, 1, 1, 1, 1, 1, 1, 1, 1, 1, 1, 1, 1, 1, 1, 1, 1, 1, 0, 0, 0, 0, 0, 0, 0]\n",
            "[0, 1, 1, 1, 1, 1, 1, 1, 1, 1, 1, 1, 2, 2, 2, 2, 2, 2, 2, 2, 2, 2, 2, 0, 0, 0, 0, 0, 0, 0, 0, 0, 0, 0, 0, 0, 0, 0, 0, 0, 0, 0, 0, 0, 0, 0, 0, 0, 0, 0, 0]\n",
            "[0, 1, 1, 1, 1, 1, 1, 1, 1, 1, 1, 1, 2, 2, 2, 2, 2, 2, 2, 2, 2, 2, 2, 2, 2, 2, 2, 2, 2, 2, 2, 2, 2, 2, 2, 2, 2, 2, 2, 2, 2, 2, 2, 2, 2, 2, 2, 2, 2, 1, 1]\n",
            "[0, 1, 0, 0, 0, 0, 0, 0, 0, 0, 0, 0, 0, 0, 0, 0, 0, 0, 0, 0, 0, 0, 0, 0, 0, 0, 0, 0, 0, 0, 0, 0, 0, 0, 0, 0, 0, 0, 0, 0, 0, 0, 0, 0, 0, 0, 0, 0, 0, 0, 0]\n",
            "[0, 1, 1, 1, 1, 1, 1, 1, 1, 1, 1, 1, 1, 1, 1, 1, 1, 1, 1, 1, 1, 1, 1, 1, 1, 1, 1, 1, 1, 1, 1, 1, 1, 1, 1, 1, 0, 0, 0, 0, 0, 0, 0, 0, 0, 0, 0, 0, 0, 0, 0]\n",
            "[0, 1, 0, 0, 0, 0, 0, 0, 0, 0, 0, 0, 0, 0, 0, 0, 0, 0, 0, 0, 0, 0, 0, 0, 0, 0, 0, 0, 0, 0, 0, 0, 0, 0, 0, 0, 0, 0, 0, 0, 0, 0, 0, 0, 0, 0, 0, 0, 0, 0, 0]\n",
            "[0, 1, 1, 1, 1, 1, 1, 1, 1, 1, 1, 1, 1, 1, 1, 1, 1, 1, 1, 1, 1, 1, 1, 1, 1, 1, 1, 1, 1, 1, 1, 1, 1, 1, 1, 1, 1, 1, 0, 0, 0, 0, 0, 0, 0, 0, 0, 0, 0, 0, 0]\n",
            "[0, 1, 1, 1, 1, 1, 1, 1, 1, 1, 1, 1, 1, 1, 1, 1, 1, 1, 1, 1, 1, 1, 1, 1, 1, 1, 1, 1, 1, 1, 1, 1, 1, 1, 1, 1, 2, 2, 0, 0, 0, 0, 0, 0, 0, 0, 0, 0, 0, 0, 0]\n",
            "[0, 1, 0, 0, 0, 0, 0, 0, 0, 0, 0, 0, 0, 0, 0, 0, 0, 0, 0, 0, 0, 0, 0, 0, 0, 0, 0, 0, 0, 0, 0, 0, 0, 0, 0, 0, 0, 0, 0, 0, 0, 0, 0, 0, 0, 0, 0, 0, 0, 0, 0]\n",
            "[0, 1, 1, 1, 1, 1, 1, 1, 1, 1, 1, 1, 1, 1, 1, 1, 1, 1, 1, 1, 1, 1, 1, 1, 1, 1, 1, 1, 1, 1, 1, 1, 1, 1, 1, 1, 1, 1, 1, 1, 1, 1, 1, 1, 1, 1, 1, 1, 1, 0, 0]\n",
            "[0, 1, 1, 1, 1, 1, 2, 2, 2, 2, 2, 2, 2, 2, 2, 2, 2, 2, 2, 2, 2, 2, 2, 2, 2, 2, 2, 2, 2, 2, 2, 2, 2, 2, 2, 2, 2, 2, 2, 2, 2, 2, 2, 2, 2, 2, 2, 2, 2, 2, 0]\n",
            "[0, 1, 1, 2, 2, 2, 2, 2, 2, 2, 2, 2, 2, 2, 2, 2, 2, 2, 2, 2, 2, 2, 2, 2, 2, 2, 2, 2, 2, 2, 2, 2, 2, 2, 2, 2, 2, 2, 3, 3, 0, 0, 0, 0, 0, 0, 0, 0, 0, 0, 0]\n",
            "[0, 1, 1, 2, 2, 2, 2, 2, 2, 2, 2, 2, 2, 2, 2, 2, 2, 2, 2, 2, 2, 2, 2, 2, 2, 3, 3, 3, 3, 3, 3, 3, 3, 3, 3, 3, 3, 3, 3, 3, 3, 3, 3, 3, 3, 3, 3, 1, 1, 0, 0]\n",
            "[0, 1, 2, 2, 0, 0, 0, 0, 0, 0, 0, 0, 0, 0, 0, 0, 0, 0, 0, 0, 0, 0, 0, 0, 0, 0, 0, 0, 0, 0, 0, 0, 0, 0, 0, 0, 0, 0, 0, 0, 0, 0, 0, 0, 0, 0, 0, 0, 0, 0, 0]\n",
            "[0, 1, 2, 0, 0, 0, 0, 0, 0, 0, 0, 0, 0, 0, 0, 0, 0, 0, 0, 0, 0, 0, 0, 0, 0, 0, 0, 0, 0, 0, 0, 0, 0, 0, 0, 0, 0, 0, 0, 0, 0, 0, 0, 0, 0, 0, 0, 0, 0, 0, 0]\n",
            "[0, 1, 2, 2, 2, 2, 2, 2, 2, 2, 2, 2, 2, 2, 1, 1, 0, 0, 0, 0, 0, 0, 0, 0, 0, 0, 0, 0, 0, 0, 0, 0, 0, 0, 0, 0, 0, 0, 0, 0, 0, 0, 0, 0, 0, 0, 0, 0, 0, 0, 0]\n",
            "[0, 1, 2, 2, 2, 2, 2, 2, 2, 2, 2, 2, 2, 2, 2, 2, 2, 2, 2, 2, 2, 2, 2, 2, 2, 2, 2, 2, 2, 2, 2, 2, 1, 1, 1, 1, 1, 1, 1, 1, 1, 1, 1, 1, 0, 0, 0, 0, 0, 0, 0]\n",
            "[0, 1, 2, 2, 2, 2, 2, 2, 2, 2, 2, 2, 2, 2, 2, 2, 2, 2, 2, 2, 2, 2, 2, 2, 2, 2, 2, 2, 2, 2, 2, 2, 3, 3, 3, 2, 2, 2, 2, 2, 2, 2, 2, 2, 0, 0, 0, 0, 0, 0, 0]\n",
            "[0, 1, 2, 2, 0, 0, 0, 0, 0, 0, 0, 0, 0, 0, 0, 0, 0, 0, 0, 0, 0, 0, 0, 0, 0, 0, 0, 0, 0, 0, 0, 0, 0, 0, 0, 0, 0, 0, 0, 0, 0, 0, 0, 0, 0, 0, 0, 0, 0, 0, 0]\n",
            "[0, 1, 2, 2, 2, 2, 2, 2, 2, 2, 2, 2, 2, 2, 2, 2, 2, 2, 2, 2, 2, 2, 2, 1, 1, 0, 0, 0, 0, 0, 0, 0, 0, 0, 0, 0, 0, 0, 0, 0, 0, 0, 0, 0, 0, 0, 0, 0, 0, 0, 0]\n",
            "[0, 1, 2, 2, 2, 2, 2, 2, 2, 2, 2, 2, 2, 2, 3, 3, 0, 0, 0, 0, 0, 0, 0, 0, 0, 0, 0, 0, 0, 0, 0, 0, 0, 0, 0, 0, 0, 0, 0, 0, 0, 0, 0, 0, 0, 0, 0, 0, 0, 0, 0]\n",
            "[0, 1, 2, 2, 2, 2, 2, 2, 2, 2, 2, 2, 2, 2, 3, 3, 3, 3, 3, 3, 3, 3, 3, 3, 3, 3, 3, 3, 3, 3, 3, 3, 3, 3, 3, 3, 1, 1, 0, 0, 0, 0, 0, 0, 0, 0, 0, 0, 0, 0, 0]\n",
            "[0, 1, 2, 2, 2, 2, 2, 2, 2, 2, 2, 2, 2, 2, 3, 3, 3, 3, 3, 3, 3, 3, 3, 3, 3, 3, 3, 3, 3, 3, 3, 3, 3, 3, 3, 3, 3, 3, 3, 3, 3, 3, 3, 3, 3, 1, 1, 0, 0, 0, 0]\n",
            "[0, 1, 2, 2, 2, 2, 2, 2, 2, 2, 2, 2, 2, 2, 3, 3, 4, 4, 4, 4, 4, 4, 4, 4, 4, 4, 4, 4, 4, 4, 4, 4, 4, 0, 0, 0, 0, 0, 0, 0, 0, 0, 0, 0, 0, 0, 0, 0, 0, 0, 0]\n",
            "[0, 1, 2, 2, 2, 2, 2, 2, 2, 2, 2, 2, 2, 2, 3, 3, 4, 4, 4, 4, 4, 4, 4, 4, 4, 4, 4, 4, 4, 4, 4, 5, 5, 0, 0, 0, 0, 0, 0, 0, 0, 0, 0, 0, 0, 0, 0, 0, 0, 0, 0]\n",
            "[0, 1, 2, 2, 2, 2, 2, 2, 3, 3, 3, 3, 3, 0, 0, 0, 0, 0, 0, 0, 0, 0, 0, 0, 0, 0, 0, 0, 0, 0, 0, 0, 0, 0, 0, 0, 0, 0, 0, 0, 0, 0, 0, 0, 0, 0, 0, 0, 0, 0, 0]\n",
            "[0, 1, 0, 0, 0, 0, 0, 0, 0, 0, 0, 0, 0, 0, 0, 0, 0, 0, 0, 0, 0, 0, 0, 0, 0, 0, 0, 0, 0, 0, 0, 0, 0, 0, 0, 0, 0, 0, 0, 0, 0, 0, 0, 0, 0, 0, 0, 0, 0, 0, 0]\n"
          ],
          "name": "stdout"
        },
        {
          "output_type": "execute_result",
          "data": {
            "text/plain": [
              "0"
            ]
          },
          "metadata": {
            "tags": []
          },
          "execution_count": 111
        }
      ]
    },
    {
      "cell_type": "code",
      "metadata": {
        "colab": {
          "base_uri": "https://localhost:8080/"
        },
        "id": "zB4akda9nciA",
        "outputId": "9c89bcf3-bab5-4870-9f12-c5cc28e12bfc"
      },
      "source": [
        "a1 = [i for i in s1 if i in s2]\r\n",
        "a2 = [j for j in s2 if j in s1]\r\n",
        "print(len(a1), len(a2))"
      ],
      "execution_count": null,
      "outputs": [
        {
          "output_type": "stream",
          "text": [
            "45 48\n"
          ],
          "name": "stdout"
        }
      ]
    },
    {
      "cell_type": "code",
      "metadata": {
        "colab": {
          "base_uri": "https://localhost:8080/"
        },
        "id": "MiDdHSO4nf9S",
        "outputId": "c4934aae-74bd-4cd3-ef00-28005faba7c5"
      },
      "source": [
        "a = [1,2,3,4,5]\r\n",
        "a.index(3)"
      ],
      "execution_count": null,
      "outputs": [
        {
          "output_type": "execute_result",
          "data": {
            "text/plain": [
              "2"
            ]
          },
          "metadata": {
            "tags": []
          },
          "execution_count": 66
        }
      ]
    },
    {
      "cell_type": "code",
      "metadata": {
        "colab": {
          "base_uri": "https://localhost:8080/"
        },
        "id": "X2cdGJNgqGOX",
        "outputId": "10f1bacd-37f9-4d18-d789-25d1a2a34252"
      },
      "source": [
        "1 in a"
      ],
      "execution_count": null,
      "outputs": [
        {
          "output_type": "execute_result",
          "data": {
            "text/plain": [
              "True"
            ]
          },
          "metadata": {
            "tags": []
          },
          "execution_count": 67
        }
      ]
    }
  ]
}