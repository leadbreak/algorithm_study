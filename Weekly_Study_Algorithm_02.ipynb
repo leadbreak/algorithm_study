{
  "nbformat": 4,
  "nbformat_minor": 0,
  "metadata": {
    "colab": {
      "name": "Weekly_Study_Algorithm_02.ipynb",
      "provenance": [],
      "collapsed_sections": [],
      "authorship_tag": "ABX9TyPzNwlA1p47sOQDSRe6SP2k",
      "include_colab_link": true
    },
    "kernelspec": {
      "name": "python3",
      "display_name": "Python 3"
    },
    "language_info": {
      "name": "python"
    }
  },
  "cells": [
    {
      "cell_type": "markdown",
      "metadata": {
        "id": "view-in-github",
        "colab_type": "text"
      },
      "source": [
        "<a href=\"https://colab.research.google.com/github/leadbreak/algorithm_study/blob/main/Weekly_Study_Algorithm_02.ipynb\" target=\"_parent\"><img src=\"https://colab.research.google.com/assets/colab-badge.svg\" alt=\"Open In Colab\"/></a>"
      ]
    },
    {
      "cell_type": "markdown",
      "metadata": {
        "id": "kygj10-8VAey"
      },
      "source": [
        "https://programmers.co.kr/learn/courses/30/lessons/86048"
      ]
    },
    {
      "cell_type": "code",
      "metadata": {
        "id": "VAhDU8EH7UFl"
      },
      "source": [
        "def solution(enter, leave):\n",
        "    \"\"\"\n",
        "    answer = 1 - 2\n",
        "    1 : 나보다 먼저(나포함) 나간 인원 중 입장 최대 index\n",
        "    2 : 나보다 나중에(나포함) 들어온 인원 중 퇴장 최소 index\n",
        "    \"\"\"\n",
        "    answer_list = []\n",
        "    for i in range(1, len(enter)+1) :\n",
        "\n",
        "      #01\n",
        "      early_out = leave[:leave.index(i)+1]\n",
        "      max_index = max([enter.index(x) for x in early_out])\n",
        "\n",
        "      #02\n",
        "      late_in = enter[enter.index(i):]\n",
        "      min_index = min([leave.index(y) for y in late_in])\n",
        "\n",
        "      answer = max_index - min_index\n",
        "      \n",
        "      answer_list.append(answer)\n",
        "\n",
        "    return answer_list"
      ],
      "execution_count": 108,
      "outputs": []
    },
    {
      "cell_type": "code",
      "metadata": {
        "colab": {
          "base_uri": "https://localhost:8080/"
        },
        "id": "6eoYnGI68fB9",
        "outputId": "e6bb325d-80d0-4be0-a874-f940c1d1179f"
      },
      "source": [
        "# case 1 - [0,1,1]\n",
        "enter = [1,3,2]\n",
        "leave = [1,2,3]\n",
        "\n",
        "solution(enter, leave)"
      ],
      "execution_count": 109,
      "outputs": [
        {
          "output_type": "execute_result",
          "data": {
            "text/plain": [
              "[0, 1, 1]"
            ]
          },
          "metadata": {},
          "execution_count": 109
        }
      ]
    },
    {
      "cell_type": "code",
      "metadata": {
        "colab": {
          "base_uri": "https://localhost:8080/"
        },
        "id": "3kL7iNZr8lPo",
        "outputId": "ae67e952-00f4-429c-d5aa-f62db2323d06"
      },
      "source": [
        "# case 2 - [2,2,1,3]\n",
        "enter = [1,4,2,3]\n",
        "leave = [2,1,3,4]\n",
        "\n",
        "solution(enter, leave)"
      ],
      "execution_count": 110,
      "outputs": [
        {
          "output_type": "execute_result",
          "data": {
            "text/plain": [
              "[2, 2, 1, 3]"
            ]
          },
          "metadata": {},
          "execution_count": 110
        }
      ]
    },
    {
      "cell_type": "code",
      "metadata": {
        "colab": {
          "base_uri": "https://localhost:8080/"
        },
        "id": "_AcwDBGL7FJe",
        "outputId": "d517bc49-e6aa-47cc-9f82-f5c0a0a31e21"
      },
      "source": [
        "#case 3 - [1,1,2]\n",
        "enter = [3,2,1]\t\n",
        "leave = [2,1,3]\n",
        "\n",
        "solution(enter, leave)"
      ],
      "execution_count": 112,
      "outputs": [
        {
          "output_type": "execute_result",
          "data": {
            "text/plain": [
              "[1, 1, 2]"
            ]
          },
          "metadata": {},
          "execution_count": 112
        }
      ]
    },
    {
      "cell_type": "code",
      "metadata": {
        "colab": {
          "base_uri": "https://localhost:8080/"
        },
        "id": "euOhCDR3F5mh",
        "outputId": "9594b787-3a8a-4c2c-d11f-485467fd95e2"
      },
      "source": [
        "# case 4 - [2,2,2]\n",
        "\n",
        "enter = [3,2,1]\t\n",
        "leave = [1,3,2]\n",
        "\n",
        "solution(enter, leave)"
      ],
      "execution_count": 113,
      "outputs": [
        {
          "output_type": "execute_result",
          "data": {
            "text/plain": [
              "[2, 2, 2]"
            ]
          },
          "metadata": {},
          "execution_count": 113
        }
      ]
    },
    {
      "cell_type": "code",
      "metadata": {
        "colab": {
          "base_uri": "https://localhost:8080/"
        },
        "id": "mvlX6Ow7GAnr",
        "outputId": "5b63feed-d996-4297-ed1f-25c42caa797d"
      },
      "source": [
        "# case 5 - [2,2,0,2]\n",
        "\n",
        "enter = [1,4,2,3]\t\n",
        "leave = [2,1,4,3]\n",
        "\n",
        "solution(enter, leave)"
      ],
      "execution_count": 114,
      "outputs": [
        {
          "output_type": "execute_result",
          "data": {
            "text/plain": [
              "[2, 2, 0, 2]"
            ]
          },
          "metadata": {},
          "execution_count": 114
        }
      ]
    },
    {
      "cell_type": "code",
      "metadata": {
        "id": "x5Yz6TNjIIq_"
      },
      "source": [
        ""
      ],
      "execution_count": null,
      "outputs": []
    }
  ]
}