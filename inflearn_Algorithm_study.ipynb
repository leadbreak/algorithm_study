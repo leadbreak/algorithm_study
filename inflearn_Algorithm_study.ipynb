{
  "nbformat": 4,
  "nbformat_minor": 0,
  "metadata": {
    "colab": {
      "name": "Algorithm_study.ipynb",
      "provenance": [],
      "collapsed_sections": []
    },
    "kernelspec": {
      "name": "python3",
      "display_name": "Python 3"
    }
  },
  "cells": [
    {
      "cell_type": "markdown",
      "metadata": {
        "id": "4WMOhtbMbz-h"
      },
      "source": [
        "# Day 01 (21.01.18) - anagram, heapq\r\n",
        "\r\n",
        "heaq의 경우 기본적인 구조와 반대로 할 경우에는 -를 활용한다.\r\n"
      ]
    },
    {
      "cell_type": "markdown",
      "metadata": {
        "id": "4lVFJ-lob5iQ"
      },
      "source": [
        "##1. Anagram(아나그램 : 구글 인터뷰 문제)\r\n",
        "Anagram이란 두 문자열이 알파벳의 나열 순서를 다르지만 그 구성이 일치하면 두 단어는 아나그램이라고 합니다.\r\n",
        "\r\n",
        "예를 들면 AbaAeCe 와 baeeACA 는 알파벳을 나열 순서는 다르지만 그 구성을 살펴보면\r\n",
        "A(2), a(1), b(1), C(1), e(2)로 알파벳과 그 개수가 모두 일치합니다. 즉 어느 한 단어를 재배열하면 상대편 단어가 될 수 있는 것을 아나그램이라 합니다.\r\n",
        "길이가 같은 두 개의 단어가 주어지면 두 단어가 아나그램인지 판별하는 프로그램을 작성하세요. 아나그램 판별시 대소문자가 구분됩니다.\r\n",
        "\r\n",
        "▣ 입력설명\r\n",
        "첫 줄에 첫 번째 단어가 입력되고, 두 번째 줄에 두 번째 단어가 입력됩니다.\r\n",
        "단어의 길이는 100을 넘지 않습니다.\r\n",
        "\r\n",
        "▣ 출력설명\r\n",
        "두 단어가 아나그램이면 “YES\"를 출력하고, 아니면 ”NO\"를 출력합니다.\r\n",
        "\r\n",
        "▣ 입력예제 1\r\n",
        "AbaAeCe\r\n",
        "baeeACA\r\n",
        "\r\n",
        "▣ 출력예제 1\r\n",
        "YES"
      ]
    },
    {
      "cell_type": "code",
      "metadata": {
        "id": "KOUpxqfrcEO7"
      },
      "source": [
        "sample_input = \"\"\"AbaAeCe baeeACA\"\"\""
      ],
      "execution_count": null,
      "outputs": []
    },
    {
      "cell_type": "code",
      "metadata": {
        "id": "sjXEHaBZdXCF"
      },
      "source": [
        "sample_input = \"\"\"AbaAeCe badeACA\"\"\""
      ],
      "execution_count": null,
      "outputs": []
    },
    {
      "cell_type": "code",
      "metadata": {
        "colab": {
          "base_uri": "https://localhost:8080/"
        },
        "id": "viokn-MbcPLW",
        "outputId": "74face78-9142-4e68-f9ba-0e5f4f5f493b"
      },
      "source": [
        "import sys\r\n",
        "sys.stdin = list(map(str, sample_input.split(\" \")))\r\n",
        "sys.stdin"
      ],
      "execution_count": null,
      "outputs": [
        {
          "output_type": "execute_result",
          "data": {
            "text/plain": [
              "['AbaAeCe', 'badeACA']"
            ]
          },
          "metadata": {
            "tags": []
          },
          "execution_count": 15
        }
      ]
    },
    {
      "cell_type": "code",
      "metadata": {
        "colab": {
          "base_uri": "https://localhost:8080/"
        },
        "id": "jiIOq6k7cs79",
        "outputId": "d8d124c3-7729-4cc7-d3d9-2587ddd06f50"
      },
      "source": [
        "from collections import Counter\r\n",
        "\r\n",
        "a = sys.stdin[0]\r\n",
        "b = sys.stdin[1]\r\n",
        "\r\n",
        "Counter(a)"
      ],
      "execution_count": null,
      "outputs": [
        {
          "output_type": "execute_result",
          "data": {
            "text/plain": [
              "Counter({'A': 2, 'C': 1, 'a': 1, 'b': 1, 'e': 2})"
            ]
          },
          "metadata": {
            "tags": []
          },
          "execution_count": 18
        }
      ]
    },
    {
      "cell_type": "code",
      "metadata": {
        "colab": {
          "base_uri": "https://localhost:8080/"
        },
        "id": "3cFbYtJ4c4OJ",
        "outputId": "279c461e-cd2e-4d1e-8117-66abe4a5ff6d"
      },
      "source": [
        "Counter(b)"
      ],
      "execution_count": null,
      "outputs": [
        {
          "output_type": "execute_result",
          "data": {
            "text/plain": [
              "Counter({'A': 2, 'C': 1, 'a': 1, 'b': 1, 'd': 1, 'e': 1})"
            ]
          },
          "metadata": {
            "tags": []
          },
          "execution_count": 19
        }
      ]
    },
    {
      "cell_type": "code",
      "metadata": {
        "colab": {
          "base_uri": "https://localhost:8080/"
        },
        "id": "vetNcewPdDYm",
        "outputId": "e51f3cb0-45ca-454f-bfa8-d0be3a60f1a6"
      },
      "source": [
        "Counter(a) == Counter(b)"
      ],
      "execution_count": null,
      "outputs": [
        {
          "output_type": "execute_result",
          "data": {
            "text/plain": [
              "True"
            ]
          },
          "metadata": {
            "tags": []
          },
          "execution_count": 8
        }
      ]
    },
    {
      "cell_type": "code",
      "metadata": {
        "colab": {
          "base_uri": "https://localhost:8080/",
          "height": 35
        },
        "id": "bMCla3n6b-an",
        "outputId": "600e0267-8e17-4dd0-ff1d-ad461ff21630"
      },
      "source": [
        "def IsAnagram(target) :\r\n",
        "  if Counter(target[0]) == Counter(target[-1]) :\r\n",
        "    result = \"Yes\"\r\n",
        "  else :\r\n",
        "    result = \"No\"\r\n",
        "\r\n",
        "  return result\r\n",
        "\r\n",
        "IsAnagram(sys.stdin)"
      ],
      "execution_count": null,
      "outputs": [
        {
          "output_type": "execute_result",
          "data": {
            "application/vnd.google.colaboratory.intrinsic+json": {
              "type": "string"
            },
            "text/plain": [
              "'No'"
            ]
          },
          "metadata": {
            "tags": []
          },
          "execution_count": 20
        }
      ]
    },
    {
      "cell_type": "markdown",
      "metadata": {
        "id": "r4oRFspme91t"
      },
      "source": [
        "#2. 최소힙\r\n",
        "최소힙은 완전이진트리로 구현된 자료구조입니다. 그 구성은 부모 노드값이 쪽자식과 오른쪽 자식노드의 값보다 작게 트리를 구성하는 것입니다. 그렇게 하면 트리의 루트(root)노드는입력된 값들 중 가장 작은 값이 저장되어 있습니다. 예를 들어 5 3 2 1 4 6 7순으로 입력되면 최소힙 트리는 아래와 같이 구성됩니다.\r\n",
        "\r\n",
        "1\r\n",
        "2 3\r\n",
        "5 4 6 7\r\n",
        "\r\n",
        "최소힙 자료를 이용하여 다음과 같은 연산을 하는 프로그램을 작성하세요.\r\n",
        "\r\n",
        "1) 자연수가 입력되면 최소힙에 입력한다.\r\n",
        "2) 숫자 0 이 입력되면 최소힙에서 최솟값을 꺼내어 출력한다.\r\n",
        " (출력할 자료가 없으면 -1를 출력한다.)\r\n",
        "3) -1이 입력되면 프로그램 종료한다.\r\n",
        "\r\n",
        "▣ 입력설명\r\n",
        "첫 번째 줄부터 숫자가 입력된다. 입력되는 숫자는 100,000개 이하이며 각 숫자의 기는 정수형 범위에 있다.\r\n",
        "\r\n",
        "▣ 출력설명\r\n",
        "2) 연산을 한 결과를 보여준다.\r\n",
        "\r\n",
        "▣ 입력예제\r\n",
        "\r\n",
        "5\r\n",
        "3\r\n",
        "6\r\n",
        "0\r\n",
        "5\r\n",
        "0\r\n",
        "2\r\n",
        "4\r\n",
        "0\r\n",
        "-1\r\n",
        "\r\n",
        "▣ 출력예제\r\n",
        "3\r\n",
        "5\r\n",
        "2"
      ]
    },
    {
      "cell_type": "code",
      "metadata": {
        "colab": {
          "base_uri": "https://localhost:8080/"
        },
        "id": "wwk4eu3yfJ8F",
        "outputId": "0090595b-0710-419d-a4c1-e86135d0b9c7"
      },
      "source": [
        "import sys\r\n",
        "import heapq as hq\r\n",
        "\r\n",
        "sample_input = \"\"\"5 3 6 0 5 0 2 4 0 -1\"\"\"\r\n",
        "sys.stdin = list(map(int, sample_input.split(\" \")))\r\n",
        "sys.stdin"
      ],
      "execution_count": null,
      "outputs": [
        {
          "output_type": "execute_result",
          "data": {
            "text/plain": [
              "[5, 3, 6, 0, 5, 0, 2, 4, 0, -1]"
            ]
          },
          "metadata": {
            "tags": []
          },
          "execution_count": 28
        }
      ]
    },
    {
      "cell_type": "code",
      "metadata": {
        "colab": {
          "base_uri": "https://localhost:8080/"
        },
        "id": "Og8yA5weihAq",
        "outputId": "cb0d4126-522c-4216-ef63-17475ef69ede"
      },
      "source": [
        "a = []\r\n",
        "for n in sys.stdin :\r\n",
        "  n = int(n)\r\n",
        "  if n == -1 :\r\n",
        "    break\r\n",
        "  elif n == 0 :\r\n",
        "    if len(a) == 0 :\r\n",
        "      print(-1)\r\n",
        "    else :\r\n",
        "      print(hq.heappop(a))\r\n",
        "  else :\r\n",
        "    hq.heappush(a, n)"
      ],
      "execution_count": null,
      "outputs": [
        {
          "output_type": "stream",
          "text": [
            "3\n",
            "5\n",
            "2\n"
          ],
          "name": "stdout"
        }
      ]
    },
    {
      "cell_type": "code",
      "metadata": {
        "id": "wfbZLHaHh35v"
      },
      "source": [
        "# 제출용으로 변경\r\n",
        "a = []\r\n",
        "while True :\r\n",
        "  n = int(input())\r\n",
        "  if n == -1 :\r\n",
        "    break\r\n",
        "  elif n == 0 :\r\n",
        "    if len(a) == 0 :\r\n",
        "      print(-1)\r\n",
        "    else :\r\n",
        "      print(hq.heappop(a,n))\r\n",
        "  else :\r\n",
        "    hq.heappush(n)"
      ],
      "execution_count": null,
      "outputs": []
    },
    {
      "cell_type": "markdown",
      "metadata": {
        "id": "RTAirC7-jlEU"
      },
      "source": [
        "##3. 최대힙\r\n",
        "최대힙은 완전이진트리로 구현된 자료구조입니다. 그 구성은 부모 노드값이 왼쪽자식과 오른쪽 자식노드의 값보다 크게 트리를 구성하는 것입니다. 그렇게 하면 트리의 루트(root)노드는입력된 값들 중 가장 큰 값이 저장되어 있습니다. 예를 들어 5 3 2 1 4 6 7순으로 입력되면 최대힙 트리는 아래와 같이 구성됩니다.\r\n",
        "\r\n",
        "7\r\n",
        "4 6\r\n",
        "1 3 2 5\r\n",
        "\r\n",
        "최대힙 자료를 이용하여 다음과 같은 연산을 하는 프로그램을 작성하세요.\r\n",
        "\r\n",
        "1) 자연수가 입력되면 최대힙에 입력한다.\r\n",
        "2) 숫자 0 이 입력되면 최대힙에서 최댓값을 꺼내어 출력한다.\r\n",
        " (출력할 자료가 없으면 -1를 출력한다.)\r\n",
        "3) -1이 입력되면 프로그램 종료한다.\r\n",
        "\r\n",
        "▣ 입력설명\r\n",
        "\r\n",
        "첫 번째 줄부터 숫자가 입력된다. 입력되는 숫자는 100,000개 이하이며 각 숫자의 크기는 정\r\n",
        "수형 범위에 있다.\r\n",
        "\r\n",
        "▣ 출력설명\r\n",
        "\r\n",
        "2) 연산을 한 결과를 보여준다.\r\n",
        "\r\n",
        "▣ 입력예제 \r\n",
        "5\r\n",
        "3\r\n",
        "6\r\n",
        "0\r\n",
        "5\r\n",
        "0\r\n",
        "2\r\n",
        "4\r\n",
        "0\r\n",
        "-1\r\n",
        "\r\n",
        "▣ 출력예제\r\n",
        "6\r\n",
        "5\r\n",
        "5"
      ]
    },
    {
      "cell_type": "code",
      "metadata": {
        "id": "4ddgLTuZieuE"
      },
      "source": [
        "sample_input = \"\"\"5 3 6 0 5 0 2 4 0 -1\"\"\""
      ],
      "execution_count": null,
      "outputs": []
    },
    {
      "cell_type": "code",
      "metadata": {
        "colab": {
          "base_uri": "https://localhost:8080/"
        },
        "id": "8vUIf0TWjz9D",
        "outputId": "8fccaf7e-451e-4d57-a133-a22a6cf02de9"
      },
      "source": [
        "sys.stdin = list(map(int, sample_input.split(\" \")))\r\n",
        "sys.stdin"
      ],
      "execution_count": null,
      "outputs": [
        {
          "output_type": "execute_result",
          "data": {
            "text/plain": [
              "[5, 3, 6, 0, 5, 0, 2, 4, 0, -1]"
            ]
          },
          "metadata": {
            "tags": []
          },
          "execution_count": 34
        }
      ]
    },
    {
      "cell_type": "code",
      "metadata": {
        "colab": {
          "base_uri": "https://localhost:8080/"
        },
        "id": "cCGt4ESJj5xB",
        "outputId": "f1e5aa14-d19b-498c-be6b-fdb7ace3e320"
      },
      "source": [
        "a = []\r\n",
        "for n in sys.stdin :\r\n",
        "  if n == -1 :\r\n",
        "    break\r\n",
        "  elif n == 0 :\r\n",
        "    if len(a) == 0 :\r\n",
        "      print(-1)\r\n",
        "    else :\r\n",
        "      print(-hq.heappop(a)) # 최대값을 꺼낼 경우\r\n",
        "  else :\r\n",
        "    hq.heappush(a, -n) # heappush하는 값이 클수록 위에 둘 경우(최대힙 문제)"
      ],
      "execution_count": null,
      "outputs": [
        {
          "output_type": "stream",
          "text": [
            "6\n",
            "5\n",
            "5\n"
          ],
          "name": "stdout"
        }
      ]
    },
    {
      "cell_type": "code",
      "metadata": {
        "id": "bqbQSQs7bw5y"
      },
      "source": [
        "# 채점용\r\n",
        "a = []\r\n",
        "while True :\r\n",
        "  n = int(input())\r\n",
        "  if n == -1 :\r\n",
        "    break\r\n",
        "  elif n == 0 :\r\n",
        "    if len(a) == 0 :\r\n",
        "      print(-1)\r\n",
        "    else :\r\n",
        "      print(-hq.heappop(a)) # 최대값을 꺼낼 경우\r\n",
        "  else :\r\n",
        "    hq.heappush(a, -n) "
      ],
      "execution_count": null,
      "outputs": []
    },
    {
      "cell_type": "markdown",
      "metadata": {
        "id": "ISAQbdkPst6B"
      },
      "source": [
        "#Day 02 (21.01.19) - DFS/BFS"
      ]
    },
    {
      "cell_type": "markdown",
      "metadata": {
        "id": "EZypDifas1lM"
      },
      "source": [
        "##1. 깊이/너비 우선 탐색(DFS/BFS) : 타겟 넘버\r\n",
        "https://programmers.co.kr/learn/courses/30/lessons/43165\r\n"
      ]
    },
    {
      "cell_type": "code",
      "metadata": {
        "id": "oQywWLYbs6kP"
      },
      "source": [
        "numbers = [1, 1, 1, 1, 1]\r\n",
        "target = 3 #return = 5"
      ],
      "execution_count": null,
      "outputs": []
    },
    {
      "cell_type": "markdown",
      "metadata": {
        "id": "Ofu2499ctCvc"
      },
      "source": [
        "![image.png](data:image/png;base64,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)"
      ]
    },
    {
      "cell_type": "code",
      "metadata": {
        "id": "fWx8A-DKtDPL"
      },
      "source": [
        "def DFS(numbers, target) :\r\n",
        "  cnt = 0\r\n",
        "  numbers.sort()\r\n",
        "\r\n",
        "  if sum(numbers) > target :\r\n",
        "      for i in range(len(numbers)) :\r\n",
        "          numbers[i] * -1\r\n",
        "          if sum(numbers) == target :\r\n",
        "            cnt += 1\r\n",
        "          else :\r\n",
        "            numbers[i] * -1\r\n",
        "            if sum(numbers) > target :\r\n",
        "              DFS(numbers[i:], target)\r\n",
        "            \r\n",
        "      return cnt\r\n",
        "  elif sum(numbers) < target :\r\n",
        "    return -1"
      ],
      "execution_count": null,
      "outputs": []
    },
    {
      "cell_type": "code",
      "metadata": {
        "id": "2SOKcDkGwGRh"
      },
      "source": [
        "DFS(numbers, target)"
      ],
      "execution_count": null,
      "outputs": []
    },
    {
      "cell_type": "code",
      "metadata": {
        "id": "7cWyPs4mv6Mv"
      },
      "source": [
        "def solution(numbers, target):\r\n",
        "    if not numbers and target == 0 :\r\n",
        "        return 1\r\n",
        "    elif not numbers:\r\n",
        "        return 0\r\n",
        "    else:\r\n",
        "        return solution(numbers[1:], target-numbers[0]) + solution(numbers[1:], target+numbers[0])"
      ],
      "execution_count": null,
      "outputs": []
    },
    {
      "cell_type": "code",
      "metadata": {
        "id": "26GHMkX0s_7S"
      },
      "source": [
        ""
      ],
      "execution_count": null,
      "outputs": []
    },
    {
      "cell_type": "code",
      "metadata": {
        "id": "e9p5AXizs0f6"
      },
      "source": [
        ""
      ],
      "execution_count": null,
      "outputs": []
    }
  ]
}
