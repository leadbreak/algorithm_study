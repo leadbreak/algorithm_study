{
  "nbformat": 4,
  "nbformat_minor": 0,
  "metadata": {
    "colab": {
      "name": "baekun_11728.ipynb",
      "provenance": [],
      "authorship_tag": "ABX9TyNRJCRPW+/Sj5eu7TuF7UoU",
      "include_colab_link": true
    },
    "kernelspec": {
      "name": "python3",
      "display_name": "Python 3"
    },
    "language_info": {
      "name": "python"
    }
  },
  "cells": [
    {
      "cell_type": "markdown",
      "metadata": {
        "id": "view-in-github",
        "colab_type": "text"
      },
      "source": [
        "<a href=\"https://colab.research.google.com/github/leadbreak/algorithm_study/blob/main/baekun_11728.ipynb\" target=\"_parent\"><img src=\"https://colab.research.google.com/assets/colab-badge.svg\" alt=\"Open In Colab\"/></a>"
      ]
    },
    {
      "cell_type": "code",
      "source": [
        "input()\n",
        "A = list(map(int, input().split()))\n",
        "B = list(map(int, input().split()))\n",
        "C = A+B\n",
        "C.sort()\n",
        "\n",
        "answer = \"\"\n",
        "for c in C :\n",
        "    answer += str(c)+\" \"\n",
        "print(answer)"
      ],
      "metadata": {
        "colab": {
          "base_uri": "https://localhost:8080/"
        },
        "id": "QcTtDZat6ypV",
        "outputId": "94988850-e7a4-40d9-d33c-c38428bfdb70"
      },
      "execution_count": null,
      "outputs": [
        {
          "output_type": "stream",
          "name": "stdout",
          "text": [
            "2 3 5 9 \n"
          ]
        }
      ]
    }
  ]
}