{
  "nbformat": 4,
  "nbformat_minor": 0,
  "metadata": {
    "colab": {
      "name": "pyspark_study.ipynb",
      "provenance": [],
      "collapsed_sections": [],
      "authorship_tag": "ABX9TyNWM7bBQ/X38uK0jJFs7GDu",
      "include_colab_link": true
    },
    "kernelspec": {
      "name": "python3",
      "display_name": "Python 3"
    },
    "language_info": {
      "name": "python"
    }
  },
  "cells": [
    {
      "cell_type": "markdown",
      "metadata": {
        "id": "view-in-github",
        "colab_type": "text"
      },
      "source": [
        "<a href=\"https://colab.research.google.com/github/leadbreak/algorithm_study/blob/main/pyspark_study.ipynb\" target=\"_parent\"><img src=\"https://colab.research.google.com/assets/colab-badge.svg\" alt=\"Open In Colab\"/></a>"
      ]
    },
    {
      "cell_type": "markdown",
      "metadata": {
        "id": "RwgV2XuWVH2I"
      },
      "source": [
        "# Tutorial 01\n"
      ]
    },
    {
      "cell_type": "code",
      "metadata": {
        "colab": {
          "base_uri": "https://localhost:8080/"
        },
        "id": "0ORonlnTSqEQ",
        "outputId": "b1cf3a4b-8722-4fbf-ea95-f347d44e2fc2"
      },
      "source": [
        "!pip install pyspark"
      ],
      "execution_count": 78,
      "outputs": [
        {
          "output_type": "stream",
          "text": [
            "Requirement already satisfied: pyspark in /usr/local/lib/python3.7/dist-packages (3.1.2)\n",
            "Requirement already satisfied: py4j==0.10.9 in /usr/local/lib/python3.7/dist-packages (from pyspark) (0.10.9)\n"
          ],
          "name": "stdout"
        }
      ]
    },
    {
      "cell_type": "code",
      "metadata": {
        "id": "OA5GCvXlTY3d"
      },
      "source": [
        "import pyspark"
      ],
      "execution_count": 79,
      "outputs": []
    },
    {
      "cell_type": "code",
      "metadata": {
        "colab": {
          "base_uri": "https://localhost:8080/",
          "height": 141
        },
        "id": "gifE3L-VTcBM",
        "outputId": "4fb65e75-8ac5-4367-f44e-e8001008ea79"
      },
      "source": [
        "import pandas as pd\n",
        "\n",
        "df = pd.DataFrame(\n",
        "    {\n",
        "        'Name':['Qscar', \"Keith\", \"Luca\"],\n",
        "     'Age':[29,39,28]\n",
        "     }\n",
        ")\n",
        "\n",
        "df"
      ],
      "execution_count": 80,
      "outputs": [
        {
          "output_type": "execute_result",
          "data": {
            "text/html": [
              "<div>\n",
              "<style scoped>\n",
              "    .dataframe tbody tr th:only-of-type {\n",
              "        vertical-align: middle;\n",
              "    }\n",
              "\n",
              "    .dataframe tbody tr th {\n",
              "        vertical-align: top;\n",
              "    }\n",
              "\n",
              "    .dataframe thead th {\n",
              "        text-align: right;\n",
              "    }\n",
              "</style>\n",
              "<table border=\"1\" class=\"dataframe\">\n",
              "  <thead>\n",
              "    <tr style=\"text-align: right;\">\n",
              "      <th></th>\n",
              "      <th>Name</th>\n",
              "      <th>Age</th>\n",
              "    </tr>\n",
              "  </thead>\n",
              "  <tbody>\n",
              "    <tr>\n",
              "      <th>0</th>\n",
              "      <td>Qscar</td>\n",
              "      <td>29</td>\n",
              "    </tr>\n",
              "    <tr>\n",
              "      <th>1</th>\n",
              "      <td>Keith</td>\n",
              "      <td>39</td>\n",
              "    </tr>\n",
              "    <tr>\n",
              "      <th>2</th>\n",
              "      <td>Luca</td>\n",
              "      <td>28</td>\n",
              "    </tr>\n",
              "  </tbody>\n",
              "</table>\n",
              "</div>"
            ],
            "text/plain": [
              "    Name  Age\n",
              "0  Qscar   29\n",
              "1  Keith   39\n",
              "2   Luca   28"
            ]
          },
          "metadata": {
            "tags": []
          },
          "execution_count": 80
        }
      ]
    },
    {
      "cell_type": "code",
      "metadata": {
        "id": "fZacAyLZTvk0"
      },
      "source": [
        "df.to_csv(\"test1.csv\", index=False)"
      ],
      "execution_count": 81,
      "outputs": []
    },
    {
      "cell_type": "code",
      "metadata": {
        "id": "kkHkDAU2T5ns"
      },
      "source": [
        "from pyspark.sql import SparkSession"
      ],
      "execution_count": 82,
      "outputs": []
    },
    {
      "cell_type": "code",
      "metadata": {
        "id": "LwIoUJ_rT9x8"
      },
      "source": [
        "spark = SparkSession.builder.appName('Practice').getOrCreate()"
      ],
      "execution_count": 83,
      "outputs": []
    },
    {
      "cell_type": "code",
      "metadata": {
        "colab": {
          "base_uri": "https://localhost:8080/",
          "height": 213
        },
        "id": "Ix2psPLRUEGv",
        "outputId": "a0613c7e-ed6a-4590-94dc-4e5463c2c692"
      },
      "source": [
        "spark"
      ],
      "execution_count": 84,
      "outputs": [
        {
          "output_type": "execute_result",
          "data": {
            "text/html": [
              "\n",
              "            <div>\n",
              "                <p><b>SparkSession - in-memory</b></p>\n",
              "                \n",
              "        <div>\n",
              "            <p><b>SparkContext</b></p>\n",
              "\n",
              "            <p><a href=\"http://cfaa65324841:4040\">Spark UI</a></p>\n",
              "\n",
              "            <dl>\n",
              "              <dt>Version</dt>\n",
              "                <dd><code>v3.1.2</code></dd>\n",
              "              <dt>Master</dt>\n",
              "                <dd><code>local[*]</code></dd>\n",
              "              <dt>AppName</dt>\n",
              "                <dd><code>Practice</code></dd>\n",
              "            </dl>\n",
              "        </div>\n",
              "        \n",
              "            </div>\n",
              "        "
            ],
            "text/plain": [
              "<pyspark.sql.session.SparkSession at 0x7fa0a681cc50>"
            ]
          },
          "metadata": {
            "tags": []
          },
          "execution_count": 84
        }
      ]
    },
    {
      "cell_type": "code",
      "metadata": {
        "colab": {
          "base_uri": "https://localhost:8080/"
        },
        "id": "sjIKZVwYUGjg",
        "outputId": "4bbafcef-ee7b-4604-9588-bde88bc7b5e1"
      },
      "source": [
        "df_pyspark = spark.read.csv('test1.csv')\n",
        "df_pyspark"
      ],
      "execution_count": 85,
      "outputs": [
        {
          "output_type": "execute_result",
          "data": {
            "text/plain": [
              "DataFrame[_c0: string, _c1: string]"
            ]
          },
          "metadata": {
            "tags": []
          },
          "execution_count": 85
        }
      ]
    },
    {
      "cell_type": "code",
      "metadata": {
        "colab": {
          "base_uri": "https://localhost:8080/"
        },
        "id": "RZLxKL9MUVP4",
        "outputId": "5a92d0b0-49c4-4b31-bd68-f016d06be82e"
      },
      "source": [
        "df_pyspark.show()"
      ],
      "execution_count": 86,
      "outputs": [
        {
          "output_type": "stream",
          "text": [
            "+-----+---+\n",
            "|  _c0|_c1|\n",
            "+-----+---+\n",
            "| Name|Age|\n",
            "|Qscar| 29|\n",
            "|Keith| 39|\n",
            "| Luca| 28|\n",
            "+-----+---+\n",
            "\n"
          ],
          "name": "stdout"
        }
      ]
    },
    {
      "cell_type": "code",
      "metadata": {
        "colab": {
          "base_uri": "https://localhost:8080/"
        },
        "id": "_dU6zIkmUbdw",
        "outputId": "a48ad83a-dee9-4aae-9686-0e8f419e01c8"
      },
      "source": [
        "spark.read.option('header', 'true').csv('test1.csv')"
      ],
      "execution_count": 87,
      "outputs": [
        {
          "output_type": "execute_result",
          "data": {
            "text/plain": [
              "DataFrame[Name: string, Age: string]"
            ]
          },
          "metadata": {
            "tags": []
          },
          "execution_count": 87
        }
      ]
    },
    {
      "cell_type": "code",
      "metadata": {
        "colab": {
          "base_uri": "https://localhost:8080/"
        },
        "id": "CEzcY4KpUs5R",
        "outputId": "bad848ad-cf56-44e5-aa0f-14362b0253f6"
      },
      "source": [
        "spark.read.option('header', 'true').csv('test1.csv').show()"
      ],
      "execution_count": 88,
      "outputs": [
        {
          "output_type": "stream",
          "text": [
            "+-----+---+\n",
            "| Name|Age|\n",
            "+-----+---+\n",
            "|Qscar| 29|\n",
            "|Keith| 39|\n",
            "| Luca| 28|\n",
            "+-----+---+\n",
            "\n"
          ],
          "name": "stdout"
        }
      ]
    },
    {
      "cell_type": "code",
      "metadata": {
        "colab": {
          "base_uri": "https://localhost:8080/"
        },
        "id": "OUlIQ_U8UtzP",
        "outputId": "10a79c3a-16f8-41f0-8af9-c7d0ca9009ce"
      },
      "source": [
        "type(df_pyspark)"
      ],
      "execution_count": 89,
      "outputs": [
        {
          "output_type": "execute_result",
          "data": {
            "text/plain": [
              "pyspark.sql.dataframe.DataFrame"
            ]
          },
          "metadata": {
            "tags": []
          },
          "execution_count": 89
        }
      ]
    },
    {
      "cell_type": "code",
      "metadata": {
        "colab": {
          "base_uri": "https://localhost:8080/"
        },
        "id": "EfxFpOXxUn1z",
        "outputId": "bd6f5bf2-e865-4768-ca13-8ed093f3c67e"
      },
      "source": [
        "df_pyspark.head(3)"
      ],
      "execution_count": 90,
      "outputs": [
        {
          "output_type": "execute_result",
          "data": {
            "text/plain": [
              "[Row(_c0='Name', _c1='Age'),\n",
              " Row(_c0='Qscar', _c1='29'),\n",
              " Row(_c0='Keith', _c1='39')]"
            ]
          },
          "metadata": {
            "tags": []
          },
          "execution_count": 90
        }
      ]
    },
    {
      "cell_type": "code",
      "metadata": {
        "colab": {
          "base_uri": "https://localhost:8080/"
        },
        "id": "GMbiCgmFU7Kq",
        "outputId": "43e2609f-f442-410c-b6a0-980f5f47f8dd"
      },
      "source": [
        "df_pyspark.printSchema()"
      ],
      "execution_count": 91,
      "outputs": [
        {
          "output_type": "stream",
          "text": [
            "root\n",
            " |-- _c0: string (nullable = true)\n",
            " |-- _c1: string (nullable = true)\n",
            "\n"
          ],
          "name": "stdout"
        }
      ]
    },
    {
      "cell_type": "markdown",
      "metadata": {
        "id": "8xrtCUnQVNhb"
      },
      "source": [
        "# Tutorial 2 : PySpark DataFrames"
      ]
    },
    {
      "cell_type": "code",
      "metadata": {
        "id": "iPBcMGTwWMMG"
      },
      "source": [
        "import pandas as pd\n",
        "\n",
        "df = pd.DataFrame(\n",
        "    {\n",
        "        'Name':['Qscar', \"Keith\", \"Luca\"],\n",
        "        'Age':[29,39,28],\n",
        "        'Experience':[1,11,2]\n",
        "     }\n",
        ")\n",
        "\n",
        "df.to_csv(\"test2.csv\", index=False)"
      ],
      "execution_count": 92,
      "outputs": []
    },
    {
      "cell_type": "code",
      "metadata": {
        "id": "D9sTFm5GVS1H"
      },
      "source": [
        "from pyspark.sql import SparkSession"
      ],
      "execution_count": 93,
      "outputs": []
    },
    {
      "cell_type": "code",
      "metadata": {
        "id": "w3gI-Z54VfJE"
      },
      "source": [
        "spark = SparkSession.builder.appName('Dataframe').getOrCreate()"
      ],
      "execution_count": 94,
      "outputs": []
    },
    {
      "cell_type": "code",
      "metadata": {
        "colab": {
          "base_uri": "https://localhost:8080/",
          "height": 213
        },
        "id": "MmTdzv7kVmZn",
        "outputId": "3eef4514-6b35-47cb-cf14-bec7bd5b428f"
      },
      "source": [
        "spark"
      ],
      "execution_count": 95,
      "outputs": [
        {
          "output_type": "execute_result",
          "data": {
            "text/html": [
              "\n",
              "            <div>\n",
              "                <p><b>SparkSession - in-memory</b></p>\n",
              "                \n",
              "        <div>\n",
              "            <p><b>SparkContext</b></p>\n",
              "\n",
              "            <p><a href=\"http://cfaa65324841:4040\">Spark UI</a></p>\n",
              "\n",
              "            <dl>\n",
              "              <dt>Version</dt>\n",
              "                <dd><code>v3.1.2</code></dd>\n",
              "              <dt>Master</dt>\n",
              "                <dd><code>local[*]</code></dd>\n",
              "              <dt>AppName</dt>\n",
              "                <dd><code>Practice</code></dd>\n",
              "            </dl>\n",
              "        </div>\n",
              "        \n",
              "            </div>\n",
              "        "
            ],
            "text/plain": [
              "<pyspark.sql.session.SparkSession at 0x7fa0a681cc50>"
            ]
          },
          "metadata": {
            "tags": []
          },
          "execution_count": 95
        }
      ]
    },
    {
      "cell_type": "code",
      "metadata": {
        "colab": {
          "base_uri": "https://localhost:8080/"
        },
        "id": "CIMklKjTVnco",
        "outputId": "987c3f2c-760b-475d-984f-edad933603fa"
      },
      "source": [
        "## read the dataset\n",
        "df_pyspark = spark.read.option('header', 'true').csv('test2.csv')\n",
        "df_pyspark"
      ],
      "execution_count": 96,
      "outputs": [
        {
          "output_type": "execute_result",
          "data": {
            "text/plain": [
              "DataFrame[Name: string, Age: string, Experience: string]"
            ]
          },
          "metadata": {
            "tags": []
          },
          "execution_count": 96
        }
      ]
    },
    {
      "cell_type": "code",
      "metadata": {
        "colab": {
          "base_uri": "https://localhost:8080/"
        },
        "id": "7iLWC1u_V2S3",
        "outputId": "d9a89e70-6ecd-4fbc-830e-b9fc8f523046"
      },
      "source": [
        "spark.read.option('header', 'true').csv('test2.csv').show()"
      ],
      "execution_count": 97,
      "outputs": [
        {
          "output_type": "stream",
          "text": [
            "+-----+---+----------+\n",
            "| Name|Age|Experience|\n",
            "+-----+---+----------+\n",
            "|Qscar| 29|         1|\n",
            "|Keith| 39|        11|\n",
            "| Luca| 28|         2|\n",
            "+-----+---+----------+\n",
            "\n"
          ],
          "name": "stdout"
        }
      ]
    },
    {
      "cell_type": "code",
      "metadata": {
        "colab": {
          "base_uri": "https://localhost:8080/"
        },
        "id": "L44rKkL1V8a0",
        "outputId": "99d9bdcf-02a5-4c0a-fe00-0112171efd6d"
      },
      "source": [
        "### Check the schema\n",
        "df_pyspark.printSchema()"
      ],
      "execution_count": 98,
      "outputs": [
        {
          "output_type": "stream",
          "text": [
            "root\n",
            " |-- Name: string (nullable = true)\n",
            " |-- Age: string (nullable = true)\n",
            " |-- Experience: string (nullable = true)\n",
            "\n"
          ],
          "name": "stdout"
        }
      ]
    },
    {
      "cell_type": "code",
      "metadata": {
        "colab": {
          "base_uri": "https://localhost:8080/"
        },
        "id": "Ix7Aox0kWEGn",
        "outputId": "a00dba87-9045-41a6-8bf0-f0e2d300aaa9"
      },
      "source": [
        "df_pyspark.columns"
      ],
      "execution_count": 99,
      "outputs": [
        {
          "output_type": "execute_result",
          "data": {
            "text/plain": [
              "['Name', 'Age', 'Experience']"
            ]
          },
          "metadata": {
            "tags": []
          },
          "execution_count": 99
        }
      ]
    },
    {
      "cell_type": "code",
      "metadata": {
        "colab": {
          "base_uri": "https://localhost:8080/"
        },
        "id": "KMvDUiDjWrYd",
        "outputId": "4d10764b-ed51-4929-fa80-417a3bf57ff5"
      },
      "source": [
        "df_pyspark.head(3)"
      ],
      "execution_count": 100,
      "outputs": [
        {
          "output_type": "execute_result",
          "data": {
            "text/plain": [
              "[Row(Name='Qscar', Age='29', Experience='1'),\n",
              " Row(Name='Keith', Age='39', Experience='11'),\n",
              " Row(Name='Luca', Age='28', Experience='2')]"
            ]
          },
          "metadata": {
            "tags": []
          },
          "execution_count": 100
        }
      ]
    },
    {
      "cell_type": "code",
      "metadata": {
        "colab": {
          "base_uri": "https://localhost:8080/"
        },
        "id": "zIuGH8RFWxlI",
        "outputId": "03876700-6cfc-4de4-cc5d-9545b5b5a69e"
      },
      "source": [
        "df_pyspark.select('Name').show()"
      ],
      "execution_count": 101,
      "outputs": [
        {
          "output_type": "stream",
          "text": [
            "+-----+\n",
            "| Name|\n",
            "+-----+\n",
            "|Qscar|\n",
            "|Keith|\n",
            "| Luca|\n",
            "+-----+\n",
            "\n"
          ],
          "name": "stdout"
        }
      ]
    },
    {
      "cell_type": "code",
      "metadata": {
        "colab": {
          "base_uri": "https://localhost:8080/"
        },
        "id": "ANOeMBq6W_FT",
        "outputId": "6b62a9b8-10f8-4075-cf22-5983c5da9e03"
      },
      "source": [
        "df_pyspark.select(['Name', 'Experience'] ).show()"
      ],
      "execution_count": 102,
      "outputs": [
        {
          "output_type": "stream",
          "text": [
            "+-----+----------+\n",
            "| Name|Experience|\n",
            "+-----+----------+\n",
            "|Qscar|         1|\n",
            "|Keith|        11|\n",
            "| Luca|         2|\n",
            "+-----+----------+\n",
            "\n"
          ],
          "name": "stdout"
        }
      ]
    },
    {
      "cell_type": "code",
      "metadata": {
        "colab": {
          "base_uri": "https://localhost:8080/"
        },
        "id": "j1DjAiSSX6b5",
        "outputId": "fa04dfc1-271b-45f1-d8ab-cab109788a53"
      },
      "source": [
        "df_pyspark.dtypes"
      ],
      "execution_count": 103,
      "outputs": [
        {
          "output_type": "execute_result",
          "data": {
            "text/plain": [
              "[('Name', 'string'), ('Age', 'string'), ('Experience', 'string')]"
            ]
          },
          "metadata": {
            "tags": []
          },
          "execution_count": 103
        }
      ]
    },
    {
      "cell_type": "code",
      "metadata": {
        "colab": {
          "base_uri": "https://localhost:8080/"
        },
        "id": "CCkCg7LyU-c8",
        "outputId": "49503069-c898-462c-fe9a-7f6450fa1753"
      },
      "source": [
        "df_pyspark.describe().show()"
      ],
      "execution_count": 104,
      "outputs": [
        {
          "output_type": "stream",
          "text": [
            "+-------+-----+-----------------+-----------------+\n",
            "|summary| Name|              Age|       Experience|\n",
            "+-------+-----+-----------------+-----------------+\n",
            "|  count|    3|                3|                3|\n",
            "|   mean| null|             32.0|4.666666666666667|\n",
            "| stddev| null|6.082762530298219|5.507570547286102|\n",
            "|    min|Keith|               28|                1|\n",
            "|    max|Qscar|               39|                2|\n",
            "+-------+-----+-----------------+-----------------+\n",
            "\n"
          ],
          "name": "stdout"
        }
      ]
    },
    {
      "cell_type": "code",
      "metadata": {
        "colab": {
          "base_uri": "https://localhost:8080/"
        },
        "id": "8kwJ9fPzX25I",
        "outputId": "14a92bf7-3a75-48ff-dbed-ec9d0a5caa23"
      },
      "source": [
        "### Adding columns in data frame\n",
        "df_pyspark = df_pyspark.withColumn('Experience After 2 years',df_pyspark['Experience']+2)\n",
        "df_pyspark.show()"
      ],
      "execution_count": 105,
      "outputs": [
        {
          "output_type": "stream",
          "text": [
            "+-----+---+----------+------------------------+\n",
            "| Name|Age|Experience|Experience After 2 years|\n",
            "+-----+---+----------+------------------------+\n",
            "|Qscar| 29|         1|                     3.0|\n",
            "|Keith| 39|        11|                    13.0|\n",
            "| Luca| 28|         2|                     4.0|\n",
            "+-----+---+----------+------------------------+\n",
            "\n"
          ],
          "name": "stdout"
        }
      ]
    },
    {
      "cell_type": "code",
      "metadata": {
        "colab": {
          "base_uri": "https://localhost:8080/"
        },
        "id": "MGI8OJ9yYW3o",
        "outputId": "7edfd882-1a19-4698-c77a-6a2de04c8cc5"
      },
      "source": [
        "### Drop the columns\n",
        "df_pyspark = df_pyspark.drop('Experience After 2 years')\n",
        "df_pyspark.show()"
      ],
      "execution_count": 106,
      "outputs": [
        {
          "output_type": "stream",
          "text": [
            "+-----+---+----------+\n",
            "| Name|Age|Experience|\n",
            "+-----+---+----------+\n",
            "|Qscar| 29|         1|\n",
            "|Keith| 39|        11|\n",
            "| Luca| 28|         2|\n",
            "+-----+---+----------+\n",
            "\n"
          ],
          "name": "stdout"
        }
      ]
    },
    {
      "cell_type": "code",
      "metadata": {
        "colab": {
          "base_uri": "https://localhost:8080/"
        },
        "id": "qWxxHZ1zYuz4",
        "outputId": "eed4a1af-3731-4ce6-9416-afe328413772"
      },
      "source": [
        "### Rename the columns\n",
        "df_pyspark.withColumnRenamed('Name',\"New Name\").show()"
      ],
      "execution_count": 107,
      "outputs": [
        {
          "output_type": "stream",
          "text": [
            "+--------+---+----------+\n",
            "|New Name|Age|Experience|\n",
            "+--------+---+----------+\n",
            "|   Qscar| 29|         1|\n",
            "|   Keith| 39|        11|\n",
            "|    Luca| 28|         2|\n",
            "+--------+---+----------+\n",
            "\n"
          ],
          "name": "stdout"
        }
      ]
    },
    {
      "cell_type": "code",
      "metadata": {
        "colab": {
          "base_uri": "https://localhost:8080/",
          "height": 232
        },
        "id": "TtDodiwQY5ob",
        "outputId": "68653092-8b33-4963-e6f7-d9394710be14"
      },
      "source": [
        "import pandas as pd\n",
        "import numpy as np\n",
        "\n",
        "df = pd.DataFrame(\n",
        "    {\n",
        "        'Name':['Qscar', \"Keith\", \"Luca\", \"Helena\", \"Joy\", np.nan],\n",
        "        'Age':[29,np.nan,28, 25, np.nan, np.nan],\n",
        "        'Experience':[1,11,2,np.nan,1, np.nan],\n",
        "        'Salary':[30000,50000,20000,10000, np.nan, np.nan]\n",
        "     }\n",
        ")\n",
        "\n",
        "df.to_csv(\"test3.csv\", index=False)\n",
        "df"
      ],
      "execution_count": 108,
      "outputs": [
        {
          "output_type": "execute_result",
          "data": {
            "text/html": [
              "<div>\n",
              "<style scoped>\n",
              "    .dataframe tbody tr th:only-of-type {\n",
              "        vertical-align: middle;\n",
              "    }\n",
              "\n",
              "    .dataframe tbody tr th {\n",
              "        vertical-align: top;\n",
              "    }\n",
              "\n",
              "    .dataframe thead th {\n",
              "        text-align: right;\n",
              "    }\n",
              "</style>\n",
              "<table border=\"1\" class=\"dataframe\">\n",
              "  <thead>\n",
              "    <tr style=\"text-align: right;\">\n",
              "      <th></th>\n",
              "      <th>Name</th>\n",
              "      <th>Age</th>\n",
              "      <th>Experience</th>\n",
              "      <th>Salary</th>\n",
              "    </tr>\n",
              "  </thead>\n",
              "  <tbody>\n",
              "    <tr>\n",
              "      <th>0</th>\n",
              "      <td>Qscar</td>\n",
              "      <td>29.0</td>\n",
              "      <td>1.0</td>\n",
              "      <td>30000.0</td>\n",
              "    </tr>\n",
              "    <tr>\n",
              "      <th>1</th>\n",
              "      <td>Keith</td>\n",
              "      <td>NaN</td>\n",
              "      <td>11.0</td>\n",
              "      <td>50000.0</td>\n",
              "    </tr>\n",
              "    <tr>\n",
              "      <th>2</th>\n",
              "      <td>Luca</td>\n",
              "      <td>28.0</td>\n",
              "      <td>2.0</td>\n",
              "      <td>20000.0</td>\n",
              "    </tr>\n",
              "    <tr>\n",
              "      <th>3</th>\n",
              "      <td>Helena</td>\n",
              "      <td>25.0</td>\n",
              "      <td>NaN</td>\n",
              "      <td>10000.0</td>\n",
              "    </tr>\n",
              "    <tr>\n",
              "      <th>4</th>\n",
              "      <td>Joy</td>\n",
              "      <td>NaN</td>\n",
              "      <td>1.0</td>\n",
              "      <td>NaN</td>\n",
              "    </tr>\n",
              "    <tr>\n",
              "      <th>5</th>\n",
              "      <td>NaN</td>\n",
              "      <td>NaN</td>\n",
              "      <td>NaN</td>\n",
              "      <td>NaN</td>\n",
              "    </tr>\n",
              "  </tbody>\n",
              "</table>\n",
              "</div>"
            ],
            "text/plain": [
              "     Name   Age  Experience   Salary\n",
              "0   Qscar  29.0         1.0  30000.0\n",
              "1   Keith   NaN        11.0  50000.0\n",
              "2    Luca  28.0         2.0  20000.0\n",
              "3  Helena  25.0         NaN  10000.0\n",
              "4     Joy   NaN         1.0      NaN\n",
              "5     NaN   NaN         NaN      NaN"
            ]
          },
          "metadata": {
            "tags": []
          },
          "execution_count": 108
        }
      ]
    },
    {
      "cell_type": "code",
      "metadata": {
        "colab": {
          "base_uri": "https://localhost:8080/"
        },
        "id": "frY0fJOTZlbY",
        "outputId": "cfc111a4-cbf6-4247-d54c-582f9adc6143"
      },
      "source": [
        "sdf = spark.read.csv('test3.csv')\n",
        "sdf.show()"
      ],
      "execution_count": 109,
      "outputs": [
        {
          "output_type": "stream",
          "text": [
            "+------+----+----------+-------+\n",
            "|   _c0| _c1|       _c2|    _c3|\n",
            "+------+----+----------+-------+\n",
            "|  Name| Age|Experience| Salary|\n",
            "| Qscar|29.0|       1.0|30000.0|\n",
            "| Keith|null|      11.0|50000.0|\n",
            "|  Luca|28.0|       2.0|20000.0|\n",
            "|Helena|25.0|      null|10000.0|\n",
            "|   Joy|null|       1.0|   null|\n",
            "|  null|null|      null|   null|\n",
            "+------+----+----------+-------+\n",
            "\n"
          ],
          "name": "stdout"
        }
      ]
    },
    {
      "cell_type": "code",
      "metadata": {
        "colab": {
          "base_uri": "https://localhost:8080/"
        },
        "id": "l5ap63gDaQh3",
        "outputId": "a8fb4de9-eb5d-4092-e89d-3d1b700ff4e7"
      },
      "source": [
        "sdf = spark.read.csv('test3.csv',header=True, inferSchema=True)\n",
        "sdf.show()"
      ],
      "execution_count": 110,
      "outputs": [
        {
          "output_type": "stream",
          "text": [
            "+------+----+----------+-------+\n",
            "|  Name| Age|Experience| Salary|\n",
            "+------+----+----------+-------+\n",
            "| Qscar|29.0|       1.0|30000.0|\n",
            "| Keith|null|      11.0|50000.0|\n",
            "|  Luca|28.0|       2.0|20000.0|\n",
            "|Helena|25.0|      null|10000.0|\n",
            "|   Joy|null|       1.0|   null|\n",
            "|  null|null|      null|   null|\n",
            "+------+----+----------+-------+\n",
            "\n"
          ],
          "name": "stdout"
        }
      ]
    },
    {
      "cell_type": "code",
      "metadata": {
        "colab": {
          "base_uri": "https://localhost:8080/"
        },
        "id": "upJ4HK3eaEtc",
        "outputId": "7f6f9781-7ac2-46f6-8c87-917d1d10c022"
      },
      "source": [
        "### drop the columns\n",
        "sdf.drop('Name').show()"
      ],
      "execution_count": 111,
      "outputs": [
        {
          "output_type": "stream",
          "text": [
            "+----+----------+-------+\n",
            "| Age|Experience| Salary|\n",
            "+----+----------+-------+\n",
            "|29.0|       1.0|30000.0|\n",
            "|null|      11.0|50000.0|\n",
            "|28.0|       2.0|20000.0|\n",
            "|25.0|      null|10000.0|\n",
            "|null|       1.0|   null|\n",
            "|null|      null|   null|\n",
            "+----+----------+-------+\n",
            "\n"
          ],
          "name": "stdout"
        }
      ]
    },
    {
      "cell_type": "code",
      "metadata": {
        "colab": {
          "base_uri": "https://localhost:8080/"
        },
        "id": "b7QrhNsIafdw",
        "outputId": "96b48cff-a332-47be-93a4-2c37494e5895"
      },
      "source": [
        "### dropna()\n",
        "sdf.na.drop(how='any').show()"
      ],
      "execution_count": 112,
      "outputs": [
        {
          "output_type": "stream",
          "text": [
            "+-----+----+----------+-------+\n",
            "| Name| Age|Experience| Salary|\n",
            "+-----+----+----------+-------+\n",
            "|Qscar|29.0|       1.0|30000.0|\n",
            "| Luca|28.0|       2.0|20000.0|\n",
            "+-----+----+----------+-------+\n",
            "\n"
          ],
          "name": "stdout"
        }
      ]
    },
    {
      "cell_type": "code",
      "metadata": {
        "colab": {
          "base_uri": "https://localhost:8080/"
        },
        "id": "VAWNvaiibzQ9",
        "outputId": "443ab482-377b-45e6-ca89-050ae874f744"
      },
      "source": [
        "sdf.show()"
      ],
      "execution_count": 113,
      "outputs": [
        {
          "output_type": "stream",
          "text": [
            "+------+----+----------+-------+\n",
            "|  Name| Age|Experience| Salary|\n",
            "+------+----+----------+-------+\n",
            "| Qscar|29.0|       1.0|30000.0|\n",
            "| Keith|null|      11.0|50000.0|\n",
            "|  Luca|28.0|       2.0|20000.0|\n",
            "|Helena|25.0|      null|10000.0|\n",
            "|   Joy|null|       1.0|   null|\n",
            "|  null|null|      null|   null|\n",
            "+------+----+----------+-------+\n",
            "\n"
          ],
          "name": "stdout"
        }
      ]
    },
    {
      "cell_type": "code",
      "metadata": {
        "colab": {
          "base_uri": "https://localhost:8080/"
        },
        "id": "iaMjdbfCarMr",
        "outputId": "7ff49c83-7889-45ba-c73b-eb7102310b0d"
      },
      "source": [
        "### parameter tuning\n",
        "sdf.na.drop(how='all').show()"
      ],
      "execution_count": 114,
      "outputs": [
        {
          "output_type": "stream",
          "text": [
            "+------+----+----------+-------+\n",
            "|  Name| Age|Experience| Salary|\n",
            "+------+----+----------+-------+\n",
            "| Qscar|29.0|       1.0|30000.0|\n",
            "| Keith|null|      11.0|50000.0|\n",
            "|  Luca|28.0|       2.0|20000.0|\n",
            "|Helena|25.0|      null|10000.0|\n",
            "|   Joy|null|       1.0|   null|\n",
            "+------+----+----------+-------+\n",
            "\n"
          ],
          "name": "stdout"
        }
      ]
    },
    {
      "cell_type": "code",
      "metadata": {
        "colab": {
          "base_uri": "https://localhost:8080/"
        },
        "id": "4dURz9tccSmP",
        "outputId": "c54cea5e-b57d-4fe6-b8a8-aa4b5d947d3c"
      },
      "source": [
        "sdf.na.drop(how='any', thresh=2).show()"
      ],
      "execution_count": 115,
      "outputs": [
        {
          "output_type": "stream",
          "text": [
            "+------+----+----------+-------+\n",
            "|  Name| Age|Experience| Salary|\n",
            "+------+----+----------+-------+\n",
            "| Qscar|29.0|       1.0|30000.0|\n",
            "| Keith|null|      11.0|50000.0|\n",
            "|  Luca|28.0|       2.0|20000.0|\n",
            "|Helena|25.0|      null|10000.0|\n",
            "|   Joy|null|       1.0|   null|\n",
            "+------+----+----------+-------+\n",
            "\n"
          ],
          "name": "stdout"
        }
      ]
    },
    {
      "cell_type": "code",
      "metadata": {
        "colab": {
          "base_uri": "https://localhost:8080/"
        },
        "id": "FDpUYLEmcCzT",
        "outputId": "b41d4f09-3273-452d-c9af-a985d96a1a83"
      },
      "source": [
        "sdf.na.drop(how='any', thresh=2, subset=['Name','Experience', 'Salary']).show()"
      ],
      "execution_count": 116,
      "outputs": [
        {
          "output_type": "stream",
          "text": [
            "+------+----+----------+-------+\n",
            "|  Name| Age|Experience| Salary|\n",
            "+------+----+----------+-------+\n",
            "| Qscar|29.0|       1.0|30000.0|\n",
            "| Keith|null|      11.0|50000.0|\n",
            "|  Luca|28.0|       2.0|20000.0|\n",
            "|Helena|25.0|      null|10000.0|\n",
            "|   Joy|null|       1.0|   null|\n",
            "+------+----+----------+-------+\n",
            "\n"
          ],
          "name": "stdout"
        }
      ]
    },
    {
      "cell_type": "code",
      "metadata": {
        "colab": {
          "base_uri": "https://localhost:8080/"
        },
        "id": "srVhwiXFa60d",
        "outputId": "1a534d54-0508-4dee-bc9b-af925d3af159"
      },
      "source": [
        "### Filling the Missing Value \n",
        "\n",
        "sdf.na.fill('Missing!', ['Experience', 'Age']).show()"
      ],
      "execution_count": 117,
      "outputs": [
        {
          "output_type": "stream",
          "text": [
            "+------+----+----------+-------+\n",
            "|  Name| Age|Experience| Salary|\n",
            "+------+----+----------+-------+\n",
            "| Qscar|29.0|       1.0|30000.0|\n",
            "| Keith|null|      11.0|50000.0|\n",
            "|  Luca|28.0|       2.0|20000.0|\n",
            "|Helena|25.0|      null|10000.0|\n",
            "|   Joy|null|       1.0|   null|\n",
            "|  null|null|      null|   null|\n",
            "+------+----+----------+-------+\n",
            "\n"
          ],
          "name": "stdout"
        }
      ]
    },
    {
      "cell_type": "code",
      "metadata": {
        "colab": {
          "base_uri": "https://localhost:8080/"
        },
        "id": "fh774PdGch-b",
        "outputId": "29e69dc5-a331-4a68-cc76-e19968f99359"
      },
      "source": [
        "sdf.show()"
      ],
      "execution_count": 118,
      "outputs": [
        {
          "output_type": "stream",
          "text": [
            "+------+----+----------+-------+\n",
            "|  Name| Age|Experience| Salary|\n",
            "+------+----+----------+-------+\n",
            "| Qscar|29.0|       1.0|30000.0|\n",
            "| Keith|null|      11.0|50000.0|\n",
            "|  Luca|28.0|       2.0|20000.0|\n",
            "|Helena|25.0|      null|10000.0|\n",
            "|   Joy|null|       1.0|   null|\n",
            "|  null|null|      null|   null|\n",
            "+------+----+----------+-------+\n",
            "\n"
          ],
          "name": "stdout"
        }
      ]
    },
    {
      "cell_type": "code",
      "metadata": {
        "id": "r_p9gg9ZdE9M"
      },
      "source": [
        " from pyspark.ml.feature import Imputer\n",
        " \n",
        " imputer = Imputer(\n",
        "     inputCols=['Age', 'Experience', 'Salary'],\n",
        "     outputCols=[\"{}_imputed\".format(c) for c in ['Age', 'Experience', 'Salary']]\n",
        "      ).setStrategy(\"mean\")"
      ],
      "execution_count": 119,
      "outputs": []
    },
    {
      "cell_type": "code",
      "metadata": {
        "colab": {
          "base_uri": "https://localhost:8080/"
        },
        "id": "pmj9WT_Ed7qJ",
        "outputId": "4ee6831e-a3ae-4096-d14a-4177afcdc3f9"
      },
      "source": [
        "# Add imputation cols to df\n",
        "\n",
        "imputer.fit(sdf).transform(sdf).show()"
      ],
      "execution_count": 120,
      "outputs": [
        {
          "output_type": "stream",
          "text": [
            "+------+----+----------+-------+------------------+------------------+--------------+\n",
            "|  Name| Age|Experience| Salary|       Age_imputed|Experience_imputed|Salary_imputed|\n",
            "+------+----+----------+-------+------------------+------------------+--------------+\n",
            "| Qscar|29.0|       1.0|30000.0|              29.0|               1.0|       30000.0|\n",
            "| Keith|null|      11.0|50000.0|27.333333333333332|              11.0|       50000.0|\n",
            "|  Luca|28.0|       2.0|20000.0|              28.0|               2.0|       20000.0|\n",
            "|Helena|25.0|      null|10000.0|              25.0|              3.75|       10000.0|\n",
            "|   Joy|null|       1.0|   null|27.333333333333332|               1.0|       27500.0|\n",
            "|  null|null|      null|   null|27.333333333333332|              3.75|       27500.0|\n",
            "+------+----+----------+-------+------------------+------------------+--------------+\n",
            "\n"
          ],
          "name": "stdout"
        }
      ]
    },
    {
      "cell_type": "code",
      "metadata": {
        "colab": {
          "base_uri": "https://localhost:8080/"
        },
        "id": "k1LB13RheB1J",
        "outputId": "90027dcb-247b-4742-b505-faa0e7b07f44"
      },
      "source": [
        " from pyspark.ml.feature import Imputer\n",
        " \n",
        " imputer = Imputer(\n",
        "     inputCols=['Age', 'Experience', 'Salary'],\n",
        "     outputCols=[\"{}\".format(c) for c in ['Age', 'Experience', 'Salary']]\n",
        "      ).setStrategy(\"mean\")\n",
        "\n",
        "sdf = imputer.fit(sdf).transform(sdf)\n",
        "sdf.show()"
      ],
      "execution_count": 121,
      "outputs": [
        {
          "output_type": "stream",
          "text": [
            "+------+------------------+----------+-------+\n",
            "|  Name|               Age|Experience| Salary|\n",
            "+------+------------------+----------+-------+\n",
            "| Qscar|              29.0|       1.0|30000.0|\n",
            "| Keith|27.333333333333332|      11.0|50000.0|\n",
            "|  Luca|              28.0|       2.0|20000.0|\n",
            "|Helena|              25.0|      3.75|10000.0|\n",
            "|   Joy|27.333333333333332|       1.0|27500.0|\n",
            "|  null|27.333333333333332|      3.75|27500.0|\n",
            "+------+------------------+----------+-------+\n",
            "\n"
          ],
          "name": "stdout"
        }
      ]
    },
    {
      "cell_type": "code",
      "metadata": {
        "colab": {
          "base_uri": "https://localhost:8080/"
        },
        "id": "tzuJvXH6g2vj",
        "outputId": "7f878b43-4732-4d85-a90b-5c5974166655"
      },
      "source": [
        "sdf = sdf.na.fill('NoNamed', ['Name'])\n",
        "sdf.show()"
      ],
      "execution_count": 122,
      "outputs": [
        {
          "output_type": "stream",
          "text": [
            "+-------+------------------+----------+-------+\n",
            "|   Name|               Age|Experience| Salary|\n",
            "+-------+------------------+----------+-------+\n",
            "|  Qscar|              29.0|       1.0|30000.0|\n",
            "|  Keith|27.333333333333332|      11.0|50000.0|\n",
            "|   Luca|              28.0|       2.0|20000.0|\n",
            "| Helena|              25.0|      3.75|10000.0|\n",
            "|    Joy|27.333333333333332|       1.0|27500.0|\n",
            "|NoNamed|27.333333333333332|      3.75|27500.0|\n",
            "+-------+------------------+----------+-------+\n",
            "\n"
          ],
          "name": "stdout"
        }
      ]
    },
    {
      "cell_type": "code",
      "metadata": {
        "colab": {
          "base_uri": "https://localhost:8080/"
        },
        "id": "gyzweytahDFj",
        "outputId": "d9d83472-4844-4b34-a441-59a6321014f5"
      },
      "source": [
        "sdf.filter(\"Salary<=20000\").show()"
      ],
      "execution_count": 123,
      "outputs": [
        {
          "output_type": "stream",
          "text": [
            "+------+----+----------+-------+\n",
            "|  Name| Age|Experience| Salary|\n",
            "+------+----+----------+-------+\n",
            "|  Luca|28.0|       2.0|20000.0|\n",
            "|Helena|25.0|      3.75|10000.0|\n",
            "+------+----+----------+-------+\n",
            "\n"
          ],
          "name": "stdout"
        }
      ]
    },
    {
      "cell_type": "code",
      "metadata": {
        "colab": {
          "base_uri": "https://localhost:8080/"
        },
        "id": "OgoTf8uvhaIp",
        "outputId": "83168a67-ead1-40fe-f5d9-6149f1bd1d5a"
      },
      "source": [
        "sdf.filter(\"Salary<=20000\").select(['Name', \"Age\"]).show()"
      ],
      "execution_count": 124,
      "outputs": [
        {
          "output_type": "stream",
          "text": [
            "+------+----+\n",
            "|  Name| Age|\n",
            "+------+----+\n",
            "|  Luca|28.0|\n",
            "|Helena|25.0|\n",
            "+------+----+\n",
            "\n"
          ],
          "name": "stdout"
        }
      ]
    },
    {
      "cell_type": "code",
      "metadata": {
        "colab": {
          "base_uri": "https://localhost:8080/"
        },
        "id": "eEjeGRoPhugD",
        "outputId": "dc194bd7-6d3e-4418-850e-76711b149e1a"
      },
      "source": [
        "sdf.filter( ( sdf['Salary'] <= 20000 ) & ( sdf['Salary'] >= 15000 ) ).show()"
      ],
      "execution_count": 125,
      "outputs": [
        {
          "output_type": "stream",
          "text": [
            "+----+----+----------+-------+\n",
            "|Name| Age|Experience| Salary|\n",
            "+----+----+----------+-------+\n",
            "|Luca|28.0|       2.0|20000.0|\n",
            "+----+----+----------+-------+\n",
            "\n"
          ],
          "name": "stdout"
        }
      ]
    },
    {
      "cell_type": "code",
      "metadata": {
        "colab": {
          "base_uri": "https://localhost:8080/"
        },
        "id": "PQ4umLMnh-ly",
        "outputId": "9feb297c-741b-41ae-9106-adf5907544ab"
      },
      "source": [
        "sdf.filter( ( sdf['Salary'] > 20000 ) | ( sdf['Salary'] < 15000 ) ).show()"
      ],
      "execution_count": 126,
      "outputs": [
        {
          "output_type": "stream",
          "text": [
            "+-------+------------------+----------+-------+\n",
            "|   Name|               Age|Experience| Salary|\n",
            "+-------+------------------+----------+-------+\n",
            "|  Qscar|              29.0|       1.0|30000.0|\n",
            "|  Keith|27.333333333333332|      11.0|50000.0|\n",
            "| Helena|              25.0|      3.75|10000.0|\n",
            "|    Joy|27.333333333333332|       1.0|27500.0|\n",
            "|NoNamed|27.333333333333332|      3.75|27500.0|\n",
            "+-------+------------------+----------+-------+\n",
            "\n"
          ],
          "name": "stdout"
        }
      ]
    },
    {
      "cell_type": "markdown",
      "metadata": {
        "id": "_wnMSknPPptm"
      },
      "source": [
        "## Groupby & Aggregation\n"
      ]
    },
    {
      "cell_type": "code",
      "metadata": {
        "id": "9gqEcZVNhsf_",
        "colab": {
          "base_uri": "https://localhost:8080/",
          "height": 355
        },
        "outputId": "59d5a0e0-75c5-4833-9241-370691ea21ce"
      },
      "source": [
        "import pandas as pd\n",
        "import numpy as np\n",
        "\n",
        "df = pd.DataFrame(\n",
        "    {\n",
        "        'Name':['Qscar','Qscar', \"Keith\",'Qscar', \"Luca\", \"Helena\",\"Helena\",\"Helena\", \"Joy\",\"Joy\"],\n",
        "        'Departments':[\"Data Science\",\"Big Data\",\"IoT\",\"Data Science\",\"Big Data\",\"IoT\",\"Data Science\",\"Data Science\",\"Big Data\",\"Data Science\"],\n",
        "        'Salary':[10000,5000,4000,4000,3000,20000,10000,5000,10000,2000]\n",
        "     }\n",
        ")\n",
        "\n",
        "df.to_csv(\"test3.csv\", index=False)\n",
        "df"
      ],
      "execution_count": 127,
      "outputs": [
        {
          "output_type": "execute_result",
          "data": {
            "text/html": [
              "<div>\n",
              "<style scoped>\n",
              "    .dataframe tbody tr th:only-of-type {\n",
              "        vertical-align: middle;\n",
              "    }\n",
              "\n",
              "    .dataframe tbody tr th {\n",
              "        vertical-align: top;\n",
              "    }\n",
              "\n",
              "    .dataframe thead th {\n",
              "        text-align: right;\n",
              "    }\n",
              "</style>\n",
              "<table border=\"1\" class=\"dataframe\">\n",
              "  <thead>\n",
              "    <tr style=\"text-align: right;\">\n",
              "      <th></th>\n",
              "      <th>Name</th>\n",
              "      <th>Departments</th>\n",
              "      <th>Salary</th>\n",
              "    </tr>\n",
              "  </thead>\n",
              "  <tbody>\n",
              "    <tr>\n",
              "      <th>0</th>\n",
              "      <td>Qscar</td>\n",
              "      <td>Data Science</td>\n",
              "      <td>10000</td>\n",
              "    </tr>\n",
              "    <tr>\n",
              "      <th>1</th>\n",
              "      <td>Qscar</td>\n",
              "      <td>Big Data</td>\n",
              "      <td>5000</td>\n",
              "    </tr>\n",
              "    <tr>\n",
              "      <th>2</th>\n",
              "      <td>Keith</td>\n",
              "      <td>IoT</td>\n",
              "      <td>4000</td>\n",
              "    </tr>\n",
              "    <tr>\n",
              "      <th>3</th>\n",
              "      <td>Qscar</td>\n",
              "      <td>Data Science</td>\n",
              "      <td>4000</td>\n",
              "    </tr>\n",
              "    <tr>\n",
              "      <th>4</th>\n",
              "      <td>Luca</td>\n",
              "      <td>Big Data</td>\n",
              "      <td>3000</td>\n",
              "    </tr>\n",
              "    <tr>\n",
              "      <th>5</th>\n",
              "      <td>Helena</td>\n",
              "      <td>IoT</td>\n",
              "      <td>20000</td>\n",
              "    </tr>\n",
              "    <tr>\n",
              "      <th>6</th>\n",
              "      <td>Helena</td>\n",
              "      <td>Data Science</td>\n",
              "      <td>10000</td>\n",
              "    </tr>\n",
              "    <tr>\n",
              "      <th>7</th>\n",
              "      <td>Helena</td>\n",
              "      <td>Data Science</td>\n",
              "      <td>5000</td>\n",
              "    </tr>\n",
              "    <tr>\n",
              "      <th>8</th>\n",
              "      <td>Joy</td>\n",
              "      <td>Big Data</td>\n",
              "      <td>10000</td>\n",
              "    </tr>\n",
              "    <tr>\n",
              "      <th>9</th>\n",
              "      <td>Joy</td>\n",
              "      <td>Data Science</td>\n",
              "      <td>2000</td>\n",
              "    </tr>\n",
              "  </tbody>\n",
              "</table>\n",
              "</div>"
            ],
            "text/plain": [
              "     Name   Departments  Salary\n",
              "0   Qscar  Data Science   10000\n",
              "1   Qscar      Big Data    5000\n",
              "2   Keith           IoT    4000\n",
              "3   Qscar  Data Science    4000\n",
              "4    Luca      Big Data    3000\n",
              "5  Helena           IoT   20000\n",
              "6  Helena  Data Science   10000\n",
              "7  Helena  Data Science    5000\n",
              "8     Joy      Big Data   10000\n",
              "9     Joy  Data Science    2000"
            ]
          },
          "metadata": {
            "tags": []
          },
          "execution_count": 127
        }
      ]
    },
    {
      "cell_type": "code",
      "metadata": {
        "id": "ACRefsR0gtSv",
        "colab": {
          "base_uri": "https://localhost:8080/"
        },
        "outputId": "cf7b10c0-5ecb-4758-a548-318fa0a8548f"
      },
      "source": [
        "sdf = spark.read.csv('test3.csv',header=True, inferSchema=True)\n",
        "sdf.show()"
      ],
      "execution_count": 128,
      "outputs": [
        {
          "output_type": "stream",
          "text": [
            "+------+------------+------+\n",
            "|  Name| Departments|Salary|\n",
            "+------+------------+------+\n",
            "| Qscar|Data Science| 10000|\n",
            "| Qscar|    Big Data|  5000|\n",
            "| Keith|         IoT|  4000|\n",
            "| Qscar|Data Science|  4000|\n",
            "|  Luca|    Big Data|  3000|\n",
            "|Helena|         IoT| 20000|\n",
            "|Helena|Data Science| 10000|\n",
            "|Helena|Data Science|  5000|\n",
            "|   Joy|    Big Data| 10000|\n",
            "|   Joy|Data Science|  2000|\n",
            "+------+------------+------+\n",
            "\n"
          ],
          "name": "stdout"
        }
      ]
    },
    {
      "cell_type": "code",
      "metadata": {
        "id": "5WOtJxH7Yq2M"
      },
      "source": [
        "from pyspark.sql import SparkSession\n",
        "spark = SparkSession.builder.appName('Agg').getOrCreate()"
      ],
      "execution_count": 129,
      "outputs": []
    },
    {
      "cell_type": "code",
      "metadata": {
        "colab": {
          "base_uri": "https://localhost:8080/",
          "height": 213
        },
        "id": "ac_Uq1U9RCI8",
        "outputId": "b60e8257-600a-41dd-88b6-c1117b309f09"
      },
      "source": [
        "spark"
      ],
      "execution_count": 130,
      "outputs": [
        {
          "output_type": "execute_result",
          "data": {
            "text/html": [
              "\n",
              "            <div>\n",
              "                <p><b>SparkSession - in-memory</b></p>\n",
              "                \n",
              "        <div>\n",
              "            <p><b>SparkContext</b></p>\n",
              "\n",
              "            <p><a href=\"http://cfaa65324841:4040\">Spark UI</a></p>\n",
              "\n",
              "            <dl>\n",
              "              <dt>Version</dt>\n",
              "                <dd><code>v3.1.2</code></dd>\n",
              "              <dt>Master</dt>\n",
              "                <dd><code>local[*]</code></dd>\n",
              "              <dt>AppName</dt>\n",
              "                <dd><code>Practice</code></dd>\n",
              "            </dl>\n",
              "        </div>\n",
              "        \n",
              "            </div>\n",
              "        "
            ],
            "text/plain": [
              "<pyspark.sql.session.SparkSession at 0x7fa0a681cc50>"
            ]
          },
          "metadata": {
            "tags": []
          },
          "execution_count": 130
        }
      ]
    },
    {
      "cell_type": "code",
      "metadata": {
        "colab": {
          "base_uri": "https://localhost:8080/"
        },
        "id": "boCrPW1LRClQ",
        "outputId": "92b761e0-42ac-44e2-82c3-0e7d7045d0ec"
      },
      "source": [
        "sdf = spark.read.csv(\"test3.csv\", header=True, inferSchema=True)\n",
        "sdf.show()"
      ],
      "execution_count": 131,
      "outputs": [
        {
          "output_type": "stream",
          "text": [
            "+------+------------+------+\n",
            "|  Name| Departments|Salary|\n",
            "+------+------------+------+\n",
            "| Qscar|Data Science| 10000|\n",
            "| Qscar|    Big Data|  5000|\n",
            "| Keith|         IoT|  4000|\n",
            "| Qscar|Data Science|  4000|\n",
            "|  Luca|    Big Data|  3000|\n",
            "|Helena|         IoT| 20000|\n",
            "|Helena|Data Science| 10000|\n",
            "|Helena|Data Science|  5000|\n",
            "|   Joy|    Big Data| 10000|\n",
            "|   Joy|Data Science|  2000|\n",
            "+------+------------+------+\n",
            "\n"
          ],
          "name": "stdout"
        }
      ]
    },
    {
      "cell_type": "code",
      "metadata": {
        "colab": {
          "base_uri": "https://localhost:8080/"
        },
        "id": "nI03MekPRI02",
        "outputId": "76459b80-bf48-42a2-af52-d70e8d19be36"
      },
      "source": [
        "sdf.printSchema()"
      ],
      "execution_count": 132,
      "outputs": [
        {
          "output_type": "stream",
          "text": [
            "root\n",
            " |-- Name: string (nullable = true)\n",
            " |-- Departments: string (nullable = true)\n",
            " |-- Salary: integer (nullable = true)\n",
            "\n"
          ],
          "name": "stdout"
        }
      ]
    },
    {
      "cell_type": "code",
      "metadata": {
        "colab": {
          "base_uri": "https://localhost:8080/"
        },
        "id": "5U1S4YUQRQo5",
        "outputId": "b7ad14fd-0474-4f7d-c6db-5504200774e8"
      },
      "source": [
        "## Groupby\n",
        "sdf.groupBy('Name')"
      ],
      "execution_count": 133,
      "outputs": [
        {
          "output_type": "execute_result",
          "data": {
            "text/plain": [
              "<pyspark.sql.group.GroupedData at 0x7fa098efc6d0>"
            ]
          },
          "metadata": {
            "tags": []
          },
          "execution_count": 133
        }
      ]
    },
    {
      "cell_type": "code",
      "metadata": {
        "colab": {
          "base_uri": "https://localhost:8080/"
        },
        "id": "zKXIze8CRWtb",
        "outputId": "2f9acc70-0cb9-4a71-aa85-0219d77301be"
      },
      "source": [
        "sdf.groupBy('Name').sum()"
      ],
      "execution_count": 134,
      "outputs": [
        {
          "output_type": "execute_result",
          "data": {
            "text/plain": [
              "DataFrame[Name: string, sum(Salary): bigint]"
            ]
          },
          "metadata": {
            "tags": []
          },
          "execution_count": 134
        }
      ]
    },
    {
      "cell_type": "code",
      "metadata": {
        "colab": {
          "base_uri": "https://localhost:8080/"
        },
        "id": "dmy6HMXtRf2A",
        "outputId": "9d39b24f-5358-4468-e412-c0eea21516a4"
      },
      "source": [
        "### Grouped to find the maximum salary\n",
        "sdf.groupBy('Name').sum().show()"
      ],
      "execution_count": 135,
      "outputs": [
        {
          "output_type": "stream",
          "text": [
            "+------+-----------+\n",
            "|  Name|sum(Salary)|\n",
            "+------+-----------+\n",
            "| Keith|       4000|\n",
            "| Qscar|      19000|\n",
            "|  Luca|       3000|\n",
            "|   Joy|      12000|\n",
            "|Helena|      35000|\n",
            "+------+-----------+\n",
            "\n"
          ],
          "name": "stdout"
        }
      ]
    },
    {
      "cell_type": "code",
      "metadata": {
        "colab": {
          "base_uri": "https://localhost:8080/"
        },
        "id": "iFAOBj1qRler",
        "outputId": "b0d083f8-df00-4c2b-d6ef-5b0a668fe724"
      },
      "source": [
        "### Groupby Departments which maximum salary\n",
        "sdf.groupBy('Departments').sum().show()"
      ],
      "execution_count": 136,
      "outputs": [
        {
          "output_type": "stream",
          "text": [
            "+------------+-----------+\n",
            "| Departments|sum(Salary)|\n",
            "+------------+-----------+\n",
            "|         IoT|      24000|\n",
            "|    Big Data|      18000|\n",
            "|Data Science|      31000|\n",
            "+------------+-----------+\n",
            "\n"
          ],
          "name": "stdout"
        }
      ]
    },
    {
      "cell_type": "code",
      "metadata": {
        "colab": {
          "base_uri": "https://localhost:8080/"
        },
        "id": "s6_Yp0NNR6vN",
        "outputId": "92174b75-07a7-4f1c-cafd-b60db56a19cb"
      },
      "source": [
        "sdf.groupBy('Departments').mean().show()"
      ],
      "execution_count": 137,
      "outputs": [
        {
          "output_type": "stream",
          "text": [
            "+------------+-----------+\n",
            "| Departments|avg(Salary)|\n",
            "+------------+-----------+\n",
            "|         IoT|    12000.0|\n",
            "|    Big Data|     6000.0|\n",
            "|Data Science|     6200.0|\n",
            "+------------+-----------+\n",
            "\n"
          ],
          "name": "stdout"
        }
      ]
    },
    {
      "cell_type": "code",
      "metadata": {
        "colab": {
          "base_uri": "https://localhost:8080/"
        },
        "id": "4N-tu_utSCc5",
        "outputId": "d64c9546-0827-435e-fdc5-2aede5a23990"
      },
      "source": [
        "sdf.groupby('Departments').count().show()"
      ],
      "execution_count": 138,
      "outputs": [
        {
          "output_type": "stream",
          "text": [
            "+------------+-----+\n",
            "| Departments|count|\n",
            "+------------+-----+\n",
            "|         IoT|    2|\n",
            "|    Big Data|    3|\n",
            "|Data Science|    5|\n",
            "+------------+-----+\n",
            "\n"
          ],
          "name": "stdout"
        }
      ]
    },
    {
      "cell_type": "code",
      "metadata": {
        "colab": {
          "base_uri": "https://localhost:8080/"
        },
        "id": "Yq7HdP7jSIAY",
        "outputId": "6ecc3474-cef9-4006-a0c7-4850e820dfab"
      },
      "source": [
        "sdf.agg({'Salary':'sum'}).show()"
      ],
      "execution_count": 139,
      "outputs": [
        {
          "output_type": "stream",
          "text": [
            "+-----------+\n",
            "|sum(Salary)|\n",
            "+-----------+\n",
            "|      73000|\n",
            "+-----------+\n",
            "\n"
          ],
          "name": "stdout"
        }
      ]
    },
    {
      "cell_type": "code",
      "metadata": {
        "colab": {
          "base_uri": "https://localhost:8080/"
        },
        "id": "bfnUT9YfSPAG",
        "outputId": "88ca005d-27a0-4387-cd92-a87b1edf5dea"
      },
      "source": [
        "sdf.agg({\"Salary\":\"avg\"}).show()"
      ],
      "execution_count": 140,
      "outputs": [
        {
          "output_type": "stream",
          "text": [
            "+-----------+\n",
            "|avg(Salary)|\n",
            "+-----------+\n",
            "|     7300.0|\n",
            "+-----------+\n",
            "\n"
          ],
          "name": "stdout"
        }
      ]
    },
    {
      "cell_type": "markdown",
      "metadata": {
        "id": "XTzbsEK3TCgn"
      },
      "source": [
        "# Tutorial 3 : Pyspark ML"
      ]
    },
    {
      "cell_type": "code",
      "metadata": {
        "colab": {
          "base_uri": "https://localhost:8080/",
          "height": 202
        },
        "id": "rzEeYOMWTFRE",
        "outputId": "fe0e64ef-573c-49a7-cebc-14bcd409149d"
      },
      "source": [
        "df = pd.DataFrame(\n",
        "    {\n",
        "        'Name':['Qscar',\"Keith\",\"Luca\", \"Helena\",\"Joy\"],\n",
        "        'age':[29,39,27,25,25],\n",
        "        'Salary':[10000,50000,8000,4000,3000],\n",
        "        'experience':[2,12,2,1,1]\n",
        "     }\n",
        ")\n",
        "\n",
        "df.to_csv(\"test3.csv\", index=False)\n",
        "df"
      ],
      "execution_count": 141,
      "outputs": [
        {
          "output_type": "execute_result",
          "data": {
            "text/html": [
              "<div>\n",
              "<style scoped>\n",
              "    .dataframe tbody tr th:only-of-type {\n",
              "        vertical-align: middle;\n",
              "    }\n",
              "\n",
              "    .dataframe tbody tr th {\n",
              "        vertical-align: top;\n",
              "    }\n",
              "\n",
              "    .dataframe thead th {\n",
              "        text-align: right;\n",
              "    }\n",
              "</style>\n",
              "<table border=\"1\" class=\"dataframe\">\n",
              "  <thead>\n",
              "    <tr style=\"text-align: right;\">\n",
              "      <th></th>\n",
              "      <th>Name</th>\n",
              "      <th>age</th>\n",
              "      <th>Salary</th>\n",
              "      <th>experience</th>\n",
              "    </tr>\n",
              "  </thead>\n",
              "  <tbody>\n",
              "    <tr>\n",
              "      <th>0</th>\n",
              "      <td>Qscar</td>\n",
              "      <td>29</td>\n",
              "      <td>10000</td>\n",
              "      <td>2</td>\n",
              "    </tr>\n",
              "    <tr>\n",
              "      <th>1</th>\n",
              "      <td>Keith</td>\n",
              "      <td>39</td>\n",
              "      <td>50000</td>\n",
              "      <td>12</td>\n",
              "    </tr>\n",
              "    <tr>\n",
              "      <th>2</th>\n",
              "      <td>Luca</td>\n",
              "      <td>27</td>\n",
              "      <td>8000</td>\n",
              "      <td>2</td>\n",
              "    </tr>\n",
              "    <tr>\n",
              "      <th>3</th>\n",
              "      <td>Helena</td>\n",
              "      <td>25</td>\n",
              "      <td>4000</td>\n",
              "      <td>1</td>\n",
              "    </tr>\n",
              "    <tr>\n",
              "      <th>4</th>\n",
              "      <td>Joy</td>\n",
              "      <td>25</td>\n",
              "      <td>3000</td>\n",
              "      <td>1</td>\n",
              "    </tr>\n",
              "  </tbody>\n",
              "</table>\n",
              "</div>"
            ],
            "text/plain": [
              "     Name  age  Salary  experience\n",
              "0   Qscar   29   10000           2\n",
              "1   Keith   39   50000          12\n",
              "2    Luca   27    8000           2\n",
              "3  Helena   25    4000           1\n",
              "4     Joy   25    3000           1"
            ]
          },
          "metadata": {
            "tags": []
          },
          "execution_count": 141
        }
      ]
    },
    {
      "cell_type": "code",
      "metadata": {
        "colab": {
          "base_uri": "https://localhost:8080/"
        },
        "id": "XtfO51oKSnWA",
        "outputId": "4eaad103-abc5-4092-8d8a-aac30f8ab733"
      },
      "source": [
        "sdf = spark.read.csv(\"test3.csv\", header=True, inferSchema=True)\n",
        "sdf.show()"
      ],
      "execution_count": 142,
      "outputs": [
        {
          "output_type": "stream",
          "text": [
            "+------+---+------+----------+\n",
            "|  Name|age|Salary|experience|\n",
            "+------+---+------+----------+\n",
            "| Qscar| 29| 10000|         2|\n",
            "| Keith| 39| 50000|        12|\n",
            "|  Luca| 27|  8000|         2|\n",
            "|Helena| 25|  4000|         1|\n",
            "|   Joy| 25|  3000|         1|\n",
            "+------+---+------+----------+\n",
            "\n"
          ],
          "name": "stdout"
        }
      ]
    },
    {
      "cell_type": "code",
      "metadata": {
        "colab": {
          "base_uri": "https://localhost:8080/"
        },
        "id": "VWz1K3GITasf",
        "outputId": "9dd01648-24c0-45ce-ca1f-cb03bb1a22de"
      },
      "source": [
        "training = sdf\n",
        "training.show()"
      ],
      "execution_count": 143,
      "outputs": [
        {
          "output_type": "stream",
          "text": [
            "+------+---+------+----------+\n",
            "|  Name|age|Salary|experience|\n",
            "+------+---+------+----------+\n",
            "| Qscar| 29| 10000|         2|\n",
            "| Keith| 39| 50000|        12|\n",
            "|  Luca| 27|  8000|         2|\n",
            "|Helena| 25|  4000|         1|\n",
            "|   Joy| 25|  3000|         1|\n",
            "+------+---+------+----------+\n",
            "\n"
          ],
          "name": "stdout"
        }
      ]
    },
    {
      "cell_type": "code",
      "metadata": {
        "colab": {
          "base_uri": "https://localhost:8080/"
        },
        "id": "TOgJdq-ITgoc",
        "outputId": "21129ab8-9317-4545-eb4a-c5d58ff909e1"
      },
      "source": [
        "training.printSchema()"
      ],
      "execution_count": 144,
      "outputs": [
        {
          "output_type": "stream",
          "text": [
            "root\n",
            " |-- Name: string (nullable = true)\n",
            " |-- age: integer (nullable = true)\n",
            " |-- Salary: integer (nullable = true)\n",
            " |-- experience: integer (nullable = true)\n",
            "\n"
          ],
          "name": "stdout"
        }
      ]
    },
    {
      "cell_type": "code",
      "metadata": {
        "colab": {
          "base_uri": "https://localhost:8080/"
        },
        "id": "mtQMelFTToJW",
        "outputId": "3981ac08-6de5-4877-d75e-6b1e21b39c9c"
      },
      "source": [
        "training.columns"
      ],
      "execution_count": 145,
      "outputs": [
        {
          "output_type": "execute_result",
          "data": {
            "text/plain": [
              "['Name', 'age', 'Salary', 'experience']"
            ]
          },
          "metadata": {
            "tags": []
          },
          "execution_count": 145
        }
      ]
    },
    {
      "cell_type": "markdown",
      "metadata": {
        "id": "yZRjB1Uah57S"
      },
      "source": [
        "[Age,Experience] ----> new feature -----> independatn feature"
      ]
    },
    {
      "cell_type": "code",
      "metadata": {
        "id": "cIFXK7hYTqLf",
        "colab": {
          "base_uri": "https://localhost:8080/"
        },
        "outputId": "c584e5f4-f4b0-4297-f48d-b377d9305656"
      },
      "source": [
        "from pyspark.ml.feature import VectorAssembler\n",
        "\n",
        "assembler = VectorAssembler(inputCols=['age','experience'], outputCol='Independent Feature')\n",
        "output = assembler.transform(training)\n",
        "output.show()"
      ],
      "execution_count": 146,
      "outputs": [
        {
          "output_type": "stream",
          "text": [
            "+------+---+------+----------+-------------------+\n",
            "|  Name|age|Salary|experience|Independent Feature|\n",
            "+------+---+------+----------+-------------------+\n",
            "| Qscar| 29| 10000|         2|         [29.0,2.0]|\n",
            "| Keith| 39| 50000|        12|        [39.0,12.0]|\n",
            "|  Luca| 27|  8000|         2|         [27.0,2.0]|\n",
            "|Helena| 25|  4000|         1|         [25.0,1.0]|\n",
            "|   Joy| 25|  3000|         1|         [25.0,1.0]|\n",
            "+------+---+------+----------+-------------------+\n",
            "\n"
          ],
          "name": "stdout"
        }
      ]
    },
    {
      "cell_type": "code",
      "metadata": {
        "colab": {
          "base_uri": "https://localhost:8080/"
        },
        "id": "zsn27wr-iSCg",
        "outputId": "5cddd529-dbc7-453f-ecff-d4c077b412af"
      },
      "source": [
        "output.columns"
      ],
      "execution_count": 147,
      "outputs": [
        {
          "output_type": "execute_result",
          "data": {
            "text/plain": [
              "['Name', 'age', 'Salary', 'experience', 'Independent Feature']"
            ]
          },
          "metadata": {
            "tags": []
          },
          "execution_count": 147
        }
      ]
    },
    {
      "cell_type": "code",
      "metadata": {
        "colab": {
          "base_uri": "https://localhost:8080/"
        },
        "id": "ud7ZwIxDiamM",
        "outputId": "c69c1625-b148-4772-b765-28cc74ef8e18"
      },
      "source": [
        "finalized_data = output.select(\"Independent Feature\", \"Salary\")\n",
        "finalized_data.show()"
      ],
      "execution_count": 148,
      "outputs": [
        {
          "output_type": "stream",
          "text": [
            "+-------------------+------+\n",
            "|Independent Feature|Salary|\n",
            "+-------------------+------+\n",
            "|         [29.0,2.0]| 10000|\n",
            "|        [39.0,12.0]| 50000|\n",
            "|         [27.0,2.0]|  8000|\n",
            "|         [25.0,1.0]|  4000|\n",
            "|         [25.0,1.0]|  3000|\n",
            "+-------------------+------+\n",
            "\n"
          ],
          "name": "stdout"
        }
      ]
    },
    {
      "cell_type": "code",
      "metadata": {
        "id": "nQmqX6sbihlG"
      },
      "source": [
        "from pyspark.ml.regression import LinearRegression\n",
        "\n",
        "train_data, test_data = finalized_data.randomSplit([0.75,0.25])\n",
        "regressor = LinearRegression(featuresCol='Independent Feature', labelCol='Salary')\n",
        "regressor = regressor.fit(train_data)"
      ],
      "execution_count": 149,
      "outputs": []
    },
    {
      "cell_type": "code",
      "metadata": {
        "colab": {
          "base_uri": "https://localhost:8080/"
        },
        "id": "qnqki1CJi52O",
        "outputId": "eac31fa9-e89f-4d23-f156-395aee87a919"
      },
      "source": [
        "### Coefficients\n",
        "regressor.coefficients"
      ],
      "execution_count": 150,
      "outputs": [
        {
          "output_type": "execute_result",
          "data": {
            "text/plain": [
              "DenseVector([1000.0, 3000.0])"
            ]
          },
          "metadata": {
            "tags": []
          },
          "execution_count": 150
        }
      ]
    },
    {
      "cell_type": "code",
      "metadata": {
        "colab": {
          "base_uri": "https://localhost:8080/"
        },
        "id": "e8Wjjk2ui-gu",
        "outputId": "33ca19f2-6925-429e-dbc6-752f8af8ea61"
      },
      "source": [
        "### Intercepts\n",
        "regressor.intercept"
      ],
      "execution_count": 151,
      "outputs": [
        {
          "output_type": "execute_result",
          "data": {
            "text/plain": [
              "-25000.000000001288"
            ]
          },
          "metadata": {
            "tags": []
          },
          "execution_count": 151
        }
      ]
    },
    {
      "cell_type": "code",
      "metadata": {
        "colab": {
          "base_uri": "https://localhost:8080/"
        },
        "id": "kNN8z0icjHvr",
        "outputId": "c296b2a0-7b10-47c3-ce15-b3a110790425"
      },
      "source": [
        "### Prediction\n",
        "pred_results = regressor.evaluate(test_data)\n",
        "pred_results.predictions.show()"
      ],
      "execution_count": 153,
      "outputs": [
        {
          "output_type": "stream",
          "text": [
            "+-------------------+------+------------------+\n",
            "|Independent Feature|Salary|        prediction|\n",
            "+-------------------+------+------------------+\n",
            "|         [25.0,1.0]|  4000|2999.9999999999927|\n",
            "|        [39.0,12.0]| 50000|49999.999999998945|\n",
            "+-------------------+------+------------------+\n",
            "\n"
          ],
          "name": "stdout"
        }
      ]
    },
    {
      "cell_type": "code",
      "metadata": {
        "colab": {
          "base_uri": "https://localhost:8080/"
        },
        "id": "Xxiujs61jXpi",
        "outputId": "2e20a4b5-f05c-468c-88d2-df7d54e115d5"
      },
      "source": [
        "pred_results.meanAbsoluteError, pred_results.meanSquaredError"
      ],
      "execution_count": 154,
      "outputs": [
        {
          "output_type": "execute_result",
          "data": {
            "text/plain": [
              "(500.00000000053114, 500000.0000000073)"
            ]
          },
          "metadata": {
            "tags": []
          },
          "execution_count": 154
        }
      ]
    },
    {
      "cell_type": "code",
      "metadata": {
        "id": "PABuCbX1jhEX"
      },
      "source": [
        ""
      ],
      "execution_count": null,
      "outputs": []
    },
    {
      "cell_type": "code",
      "metadata": {
        "id": "dPG3rQ7MTZT_"
      },
      "source": [
        ""
      ],
      "execution_count": 145,
      "outputs": []
    }
  ]
}