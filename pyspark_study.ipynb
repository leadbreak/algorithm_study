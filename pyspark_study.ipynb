{
  "nbformat": 4,
  "nbformat_minor": 0,
  "metadata": {
    "colab": {
      "name": "pyspark_study.ipynb",
      "provenance": [],
      "collapsed_sections": [],
      "toc_visible": true,
      "authorship_tag": "ABX9TyMCIJ9YCFwreydww7Q2rNFI",
      "include_colab_link": true
    },
    "kernelspec": {
      "name": "python3",
      "display_name": "Python 3"
    },
    "language_info": {
      "name": "python"
    }
  },
  "cells": [
    {
      "cell_type": "markdown",
      "metadata": {
        "id": "view-in-github",
        "colab_type": "text"
      },
      "source": [
        "<a href=\"https://colab.research.google.com/github/leadbreak/algorithm_study/blob/main/pyspark_study.ipynb\" target=\"_parent\"><img src=\"https://colab.research.google.com/assets/colab-badge.svg\" alt=\"Open In Colab\"/></a>"
      ]
    },
    {
      "cell_type": "markdown",
      "metadata": {
        "id": "RwgV2XuWVH2I"
      },
      "source": [
        "# Tutorial 01\n"
      ]
    },
    {
      "cell_type": "code",
      "metadata": {
        "colab": {
          "base_uri": "https://localhost:8080/"
        },
        "id": "0ORonlnTSqEQ",
        "outputId": "ac57ec97-5c13-4fdf-8732-0cba5f244a39"
      },
      "source": [
        "!pip install pyspark"
      ],
      "execution_count": 1,
      "outputs": [
        {
          "output_type": "stream",
          "text": [
            "Collecting pyspark\n",
            "  Downloading pyspark-3.1.2.tar.gz (212.4 MB)\n",
            "\u001b[K     |████████████████████████████████| 212.4 MB 70 kB/s \n",
            "\u001b[?25hCollecting py4j==0.10.9\n",
            "  Downloading py4j-0.10.9-py2.py3-none-any.whl (198 kB)\n",
            "\u001b[K     |████████████████████████████████| 198 kB 53.9 MB/s \n",
            "\u001b[?25hBuilding wheels for collected packages: pyspark\n",
            "  Building wheel for pyspark (setup.py) ... \u001b[?25l\u001b[?25hdone\n",
            "  Created wheel for pyspark: filename=pyspark-3.1.2-py2.py3-none-any.whl size=212880768 sha256=7bb61d7c3922e572d9085f4ccf4ad1023d787250d4adbbddc32907f77866d887\n",
            "  Stored in directory: /root/.cache/pip/wheels/a5/0a/c1/9561f6fecb759579a7d863dcd846daaa95f598744e71b02c77\n",
            "Successfully built pyspark\n",
            "Installing collected packages: py4j, pyspark\n",
            "Successfully installed py4j-0.10.9 pyspark-3.1.2\n"
          ],
          "name": "stdout"
        }
      ]
    },
    {
      "cell_type": "code",
      "metadata": {
        "id": "OA5GCvXlTY3d"
      },
      "source": [
        "import pyspark"
      ],
      "execution_count": 2,
      "outputs": []
    },
    {
      "cell_type": "code",
      "metadata": {
        "colab": {
          "base_uri": "https://localhost:8080/",
          "height": 141
        },
        "id": "gifE3L-VTcBM",
        "outputId": "aed818d4-cb71-4b93-d8d0-d95e74801a3f"
      },
      "source": [
        "import pandas as pd\n",
        "\n",
        "df = pd.DataFrame(\n",
        "    {\n",
        "        'Name':['Qscar', \"Keith\", \"Luca\"],\n",
        "     'Age':[29,39,28]\n",
        "     }\n",
        ")\n",
        "\n",
        "df"
      ],
      "execution_count": 3,
      "outputs": [
        {
          "output_type": "execute_result",
          "data": {
            "text/html": [
              "<div>\n",
              "<style scoped>\n",
              "    .dataframe tbody tr th:only-of-type {\n",
              "        vertical-align: middle;\n",
              "    }\n",
              "\n",
              "    .dataframe tbody tr th {\n",
              "        vertical-align: top;\n",
              "    }\n",
              "\n",
              "    .dataframe thead th {\n",
              "        text-align: right;\n",
              "    }\n",
              "</style>\n",
              "<table border=\"1\" class=\"dataframe\">\n",
              "  <thead>\n",
              "    <tr style=\"text-align: right;\">\n",
              "      <th></th>\n",
              "      <th>Name</th>\n",
              "      <th>Age</th>\n",
              "    </tr>\n",
              "  </thead>\n",
              "  <tbody>\n",
              "    <tr>\n",
              "      <th>0</th>\n",
              "      <td>Qscar</td>\n",
              "      <td>29</td>\n",
              "    </tr>\n",
              "    <tr>\n",
              "      <th>1</th>\n",
              "      <td>Keith</td>\n",
              "      <td>39</td>\n",
              "    </tr>\n",
              "    <tr>\n",
              "      <th>2</th>\n",
              "      <td>Luca</td>\n",
              "      <td>28</td>\n",
              "    </tr>\n",
              "  </tbody>\n",
              "</table>\n",
              "</div>"
            ],
            "text/plain": [
              "    Name  Age\n",
              "0  Qscar   29\n",
              "1  Keith   39\n",
              "2   Luca   28"
            ]
          },
          "metadata": {
            "tags": []
          },
          "execution_count": 3
        }
      ]
    },
    {
      "cell_type": "code",
      "metadata": {
        "id": "fZacAyLZTvk0"
      },
      "source": [
        "df.to_csv(\"test1.csv\", index=False)"
      ],
      "execution_count": 4,
      "outputs": []
    },
    {
      "cell_type": "code",
      "metadata": {
        "id": "kkHkDAU2T5ns"
      },
      "source": [
        "from pyspark.sql import SparkSession"
      ],
      "execution_count": 5,
      "outputs": []
    },
    {
      "cell_type": "code",
      "metadata": {
        "id": "LwIoUJ_rT9x8"
      },
      "source": [
        "spark = SparkSession.builder.appName('Practice').getOrCreate()"
      ],
      "execution_count": 6,
      "outputs": []
    },
    {
      "cell_type": "code",
      "metadata": {
        "colab": {
          "base_uri": "https://localhost:8080/",
          "height": 213
        },
        "id": "Ix2psPLRUEGv",
        "outputId": "c8ea0a13-9a55-416f-983e-1525337f4730"
      },
      "source": [
        "spark"
      ],
      "execution_count": 7,
      "outputs": [
        {
          "output_type": "execute_result",
          "data": {
            "text/html": [
              "\n",
              "            <div>\n",
              "                <p><b>SparkSession - in-memory</b></p>\n",
              "                \n",
              "        <div>\n",
              "            <p><b>SparkContext</b></p>\n",
              "\n",
              "            <p><a href=\"http://cfaa65324841:4040\">Spark UI</a></p>\n",
              "\n",
              "            <dl>\n",
              "              <dt>Version</dt>\n",
              "                <dd><code>v3.1.2</code></dd>\n",
              "              <dt>Master</dt>\n",
              "                <dd><code>local[*]</code></dd>\n",
              "              <dt>AppName</dt>\n",
              "                <dd><code>Practice</code></dd>\n",
              "            </dl>\n",
              "        </div>\n",
              "        \n",
              "            </div>\n",
              "        "
            ],
            "text/plain": [
              "<pyspark.sql.session.SparkSession at 0x7fa0a681cc50>"
            ]
          },
          "metadata": {
            "tags": []
          },
          "execution_count": 7
        }
      ]
    },
    {
      "cell_type": "code",
      "metadata": {
        "colab": {
          "base_uri": "https://localhost:8080/"
        },
        "id": "sjIKZVwYUGjg",
        "outputId": "cf83d342-4373-4f5b-9330-f0d398dc31e7"
      },
      "source": [
        "df_pyspark = spark.read.csv('test1.csv')\n",
        "df_pyspark"
      ],
      "execution_count": 8,
      "outputs": [
        {
          "output_type": "execute_result",
          "data": {
            "text/plain": [
              "DataFrame[_c0: string, _c1: string]"
            ]
          },
          "metadata": {
            "tags": []
          },
          "execution_count": 8
        }
      ]
    },
    {
      "cell_type": "code",
      "metadata": {
        "colab": {
          "base_uri": "https://localhost:8080/"
        },
        "id": "RZLxKL9MUVP4",
        "outputId": "82b066db-ec28-4b12-bdf5-ff1c012e7c72"
      },
      "source": [
        "df_pyspark.show()"
      ],
      "execution_count": 9,
      "outputs": [
        {
          "output_type": "stream",
          "text": [
            "+-----+---+\n",
            "|  _c0|_c1|\n",
            "+-----+---+\n",
            "| Name|Age|\n",
            "|Qscar| 29|\n",
            "|Keith| 39|\n",
            "| Luca| 28|\n",
            "+-----+---+\n",
            "\n"
          ],
          "name": "stdout"
        }
      ]
    },
    {
      "cell_type": "code",
      "metadata": {
        "colab": {
          "base_uri": "https://localhost:8080/"
        },
        "id": "_dU6zIkmUbdw",
        "outputId": "2fcdd0f6-4569-4eec-ffe2-748fedd2719c"
      },
      "source": [
        "spark.read.option('header', 'true').csv('test1.csv')"
      ],
      "execution_count": 10,
      "outputs": [
        {
          "output_type": "execute_result",
          "data": {
            "text/plain": [
              "DataFrame[Name: string, Age: string]"
            ]
          },
          "metadata": {
            "tags": []
          },
          "execution_count": 10
        }
      ]
    },
    {
      "cell_type": "code",
      "metadata": {
        "colab": {
          "base_uri": "https://localhost:8080/"
        },
        "id": "CEzcY4KpUs5R",
        "outputId": "012b0778-5272-40af-af89-1a1ac2baf57c"
      },
      "source": [
        "spark.read.option('header', 'true').csv('test1.csv').show()"
      ],
      "execution_count": 11,
      "outputs": [
        {
          "output_type": "stream",
          "text": [
            "+-----+---+\n",
            "| Name|Age|\n",
            "+-----+---+\n",
            "|Qscar| 29|\n",
            "|Keith| 39|\n",
            "| Luca| 28|\n",
            "+-----+---+\n",
            "\n"
          ],
          "name": "stdout"
        }
      ]
    },
    {
      "cell_type": "code",
      "metadata": {
        "colab": {
          "base_uri": "https://localhost:8080/"
        },
        "id": "OUlIQ_U8UtzP",
        "outputId": "b9b31670-fb18-4782-e979-5f01da149951"
      },
      "source": [
        "type(df_pyspark)"
      ],
      "execution_count": 12,
      "outputs": [
        {
          "output_type": "execute_result",
          "data": {
            "text/plain": [
              "pyspark.sql.dataframe.DataFrame"
            ]
          },
          "metadata": {
            "tags": []
          },
          "execution_count": 12
        }
      ]
    },
    {
      "cell_type": "code",
      "metadata": {
        "colab": {
          "base_uri": "https://localhost:8080/"
        },
        "id": "EfxFpOXxUn1z",
        "outputId": "db9f0493-9f04-4038-db00-1a80ed4e7fe4"
      },
      "source": [
        "df_pyspark.head(3)"
      ],
      "execution_count": 13,
      "outputs": [
        {
          "output_type": "execute_result",
          "data": {
            "text/plain": [
              "[Row(_c0='Name', _c1='Age'),\n",
              " Row(_c0='Qscar', _c1='29'),\n",
              " Row(_c0='Keith', _c1='39')]"
            ]
          },
          "metadata": {
            "tags": []
          },
          "execution_count": 13
        }
      ]
    },
    {
      "cell_type": "code",
      "metadata": {
        "colab": {
          "base_uri": "https://localhost:8080/"
        },
        "id": "GMbiCgmFU7Kq",
        "outputId": "a0840cbb-8497-4361-d516-59a0373d8951"
      },
      "source": [
        "df_pyspark.printSchema()"
      ],
      "execution_count": 14,
      "outputs": [
        {
          "output_type": "stream",
          "text": [
            "root\n",
            " |-- _c0: string (nullable = true)\n",
            " |-- _c1: string (nullable = true)\n",
            "\n"
          ],
          "name": "stdout"
        }
      ]
    },
    {
      "cell_type": "markdown",
      "metadata": {
        "id": "8xrtCUnQVNhb"
      },
      "source": [
        "# Tutorial 2 : PySpark DataFrames"
      ]
    },
    {
      "cell_type": "code",
      "metadata": {
        "id": "iPBcMGTwWMMG"
      },
      "source": [
        "import pandas as pd\n",
        "\n",
        "df = pd.DataFrame(\n",
        "    {\n",
        "        'Name':['Qscar', \"Keith\", \"Luca\"],\n",
        "        'Age':[29,39,28],\n",
        "        'Experience':[1,11,2]\n",
        "     }\n",
        ")\n",
        "\n",
        "df.to_csv(\"test2.csv\", index=False)"
      ],
      "execution_count": 15,
      "outputs": []
    },
    {
      "cell_type": "code",
      "metadata": {
        "id": "D9sTFm5GVS1H"
      },
      "source": [
        "from pyspark.sql import SparkSession"
      ],
      "execution_count": 16,
      "outputs": []
    },
    {
      "cell_type": "code",
      "metadata": {
        "id": "w3gI-Z54VfJE"
      },
      "source": [
        "spark = SparkSession.builder.appName('Dataframe').getOrCreate()"
      ],
      "execution_count": 17,
      "outputs": []
    },
    {
      "cell_type": "code",
      "metadata": {
        "colab": {
          "base_uri": "https://localhost:8080/",
          "height": 213
        },
        "id": "MmTdzv7kVmZn",
        "outputId": "f8d3817a-1efd-4363-d9be-e88b33aee347"
      },
      "source": [
        "spark"
      ],
      "execution_count": 18,
      "outputs": [
        {
          "output_type": "execute_result",
          "data": {
            "text/html": [
              "\n",
              "            <div>\n",
              "                <p><b>SparkSession - in-memory</b></p>\n",
              "                \n",
              "        <div>\n",
              "            <p><b>SparkContext</b></p>\n",
              "\n",
              "            <p><a href=\"http://cfaa65324841:4040\">Spark UI</a></p>\n",
              "\n",
              "            <dl>\n",
              "              <dt>Version</dt>\n",
              "                <dd><code>v3.1.2</code></dd>\n",
              "              <dt>Master</dt>\n",
              "                <dd><code>local[*]</code></dd>\n",
              "              <dt>AppName</dt>\n",
              "                <dd><code>Practice</code></dd>\n",
              "            </dl>\n",
              "        </div>\n",
              "        \n",
              "            </div>\n",
              "        "
            ],
            "text/plain": [
              "<pyspark.sql.session.SparkSession at 0x7fa0a681cc50>"
            ]
          },
          "metadata": {
            "tags": []
          },
          "execution_count": 18
        }
      ]
    },
    {
      "cell_type": "code",
      "metadata": {
        "colab": {
          "base_uri": "https://localhost:8080/"
        },
        "id": "CIMklKjTVnco",
        "outputId": "7cf2a5bb-3751-4cb7-b61d-300acb0308ef"
      },
      "source": [
        "## read the dataset\n",
        "df_pyspark = spark.read.option('header', 'true').csv('test2.csv')\n",
        "df_pyspark"
      ],
      "execution_count": 19,
      "outputs": [
        {
          "output_type": "execute_result",
          "data": {
            "text/plain": [
              "DataFrame[Name: string, Age: string, Experience: string]"
            ]
          },
          "metadata": {
            "tags": []
          },
          "execution_count": 19
        }
      ]
    },
    {
      "cell_type": "code",
      "metadata": {
        "colab": {
          "base_uri": "https://localhost:8080/"
        },
        "id": "7iLWC1u_V2S3",
        "outputId": "4b83aec1-7be2-4228-b7f9-b5c2dddf3d0f"
      },
      "source": [
        "spark.read.option('header', 'true').csv('test2.csv').show()"
      ],
      "execution_count": 20,
      "outputs": [
        {
          "output_type": "stream",
          "text": [
            "+-----+---+----------+\n",
            "| Name|Age|Experience|\n",
            "+-----+---+----------+\n",
            "|Qscar| 29|         1|\n",
            "|Keith| 39|        11|\n",
            "| Luca| 28|         2|\n",
            "+-----+---+----------+\n",
            "\n"
          ],
          "name": "stdout"
        }
      ]
    },
    {
      "cell_type": "code",
      "metadata": {
        "colab": {
          "base_uri": "https://localhost:8080/"
        },
        "id": "L44rKkL1V8a0",
        "outputId": "76ef295b-bde2-45b4-d603-d27480849625"
      },
      "source": [
        "### Check the schema\n",
        "df_pyspark.printSchema()"
      ],
      "execution_count": 21,
      "outputs": [
        {
          "output_type": "stream",
          "text": [
            "root\n",
            " |-- Name: string (nullable = true)\n",
            " |-- Age: string (nullable = true)\n",
            " |-- Experience: string (nullable = true)\n",
            "\n"
          ],
          "name": "stdout"
        }
      ]
    },
    {
      "cell_type": "code",
      "metadata": {
        "colab": {
          "base_uri": "https://localhost:8080/"
        },
        "id": "Ix7Aox0kWEGn",
        "outputId": "16e7ed71-1b11-4edf-85c6-ca9081fd0789"
      },
      "source": [
        "df_pyspark.columns"
      ],
      "execution_count": 22,
      "outputs": [
        {
          "output_type": "execute_result",
          "data": {
            "text/plain": [
              "['Name', 'Age', 'Experience']"
            ]
          },
          "metadata": {
            "tags": []
          },
          "execution_count": 22
        }
      ]
    },
    {
      "cell_type": "code",
      "metadata": {
        "colab": {
          "base_uri": "https://localhost:8080/"
        },
        "id": "KMvDUiDjWrYd",
        "outputId": "7439ff8d-cd28-40b8-f156-862a7c75f93e"
      },
      "source": [
        "df_pyspark.head(3)"
      ],
      "execution_count": 23,
      "outputs": [
        {
          "output_type": "execute_result",
          "data": {
            "text/plain": [
              "[Row(Name='Qscar', Age='29', Experience='1'),\n",
              " Row(Name='Keith', Age='39', Experience='11'),\n",
              " Row(Name='Luca', Age='28', Experience='2')]"
            ]
          },
          "metadata": {
            "tags": []
          },
          "execution_count": 23
        }
      ]
    },
    {
      "cell_type": "code",
      "metadata": {
        "colab": {
          "base_uri": "https://localhost:8080/"
        },
        "id": "zIuGH8RFWxlI",
        "outputId": "e500051c-beb3-420e-ec41-ae238c353ca6"
      },
      "source": [
        "df_pyspark.select('Name').show()"
      ],
      "execution_count": 24,
      "outputs": [
        {
          "output_type": "stream",
          "text": [
            "+-----+\n",
            "| Name|\n",
            "+-----+\n",
            "|Qscar|\n",
            "|Keith|\n",
            "| Luca|\n",
            "+-----+\n",
            "\n"
          ],
          "name": "stdout"
        }
      ]
    },
    {
      "cell_type": "code",
      "metadata": {
        "colab": {
          "base_uri": "https://localhost:8080/"
        },
        "id": "ANOeMBq6W_FT",
        "outputId": "0abc0979-8961-4d08-c457-171e4b102c78"
      },
      "source": [
        "df_pyspark.select(['Name', 'Experience'] ).show()"
      ],
      "execution_count": 25,
      "outputs": [
        {
          "output_type": "stream",
          "text": [
            "+-----+----------+\n",
            "| Name|Experience|\n",
            "+-----+----------+\n",
            "|Qscar|         1|\n",
            "|Keith|        11|\n",
            "| Luca|         2|\n",
            "+-----+----------+\n",
            "\n"
          ],
          "name": "stdout"
        }
      ]
    },
    {
      "cell_type": "code",
      "metadata": {
        "colab": {
          "base_uri": "https://localhost:8080/"
        },
        "id": "j1DjAiSSX6b5",
        "outputId": "52a508dd-e5cb-46a3-ae6f-95a160487c35"
      },
      "source": [
        "df_pyspark.dtypes"
      ],
      "execution_count": 26,
      "outputs": [
        {
          "output_type": "execute_result",
          "data": {
            "text/plain": [
              "[('Name', 'string'), ('Age', 'string'), ('Experience', 'string')]"
            ]
          },
          "metadata": {
            "tags": []
          },
          "execution_count": 26
        }
      ]
    },
    {
      "cell_type": "code",
      "metadata": {
        "colab": {
          "base_uri": "https://localhost:8080/"
        },
        "id": "CCkCg7LyU-c8",
        "outputId": "53fc6447-0306-4d01-d36b-f01e5cf334c6"
      },
      "source": [
        "df_pyspark.describe().show()"
      ],
      "execution_count": 27,
      "outputs": [
        {
          "output_type": "stream",
          "text": [
            "+-------+-----+-----------------+-----------------+\n",
            "|summary| Name|              Age|       Experience|\n",
            "+-------+-----+-----------------+-----------------+\n",
            "|  count|    3|                3|                3|\n",
            "|   mean| null|             32.0|4.666666666666667|\n",
            "| stddev| null|6.082762530298219|5.507570547286102|\n",
            "|    min|Keith|               28|                1|\n",
            "|    max|Qscar|               39|                2|\n",
            "+-------+-----+-----------------+-----------------+\n",
            "\n"
          ],
          "name": "stdout"
        }
      ]
    },
    {
      "cell_type": "code",
      "metadata": {
        "colab": {
          "base_uri": "https://localhost:8080/"
        },
        "id": "8kwJ9fPzX25I",
        "outputId": "95a15dda-a0bd-44e8-d8d2-fe33555cbdb0"
      },
      "source": [
        "### Adding columns in data frame\n",
        "df_pyspark = df_pyspark.withColumn('Experience After 2 years',df_pyspark['Experience']+2)\n",
        "df_pyspark.show()"
      ],
      "execution_count": 28,
      "outputs": [
        {
          "output_type": "stream",
          "text": [
            "+-----+---+----------+------------------------+\n",
            "| Name|Age|Experience|Experience After 2 years|\n",
            "+-----+---+----------+------------------------+\n",
            "|Qscar| 29|         1|                     3.0|\n",
            "|Keith| 39|        11|                    13.0|\n",
            "| Luca| 28|         2|                     4.0|\n",
            "+-----+---+----------+------------------------+\n",
            "\n"
          ],
          "name": "stdout"
        }
      ]
    },
    {
      "cell_type": "code",
      "metadata": {
        "colab": {
          "base_uri": "https://localhost:8080/"
        },
        "id": "MGI8OJ9yYW3o",
        "outputId": "6900948a-c712-4a45-bbba-14466fee7a1d"
      },
      "source": [
        "### Drop the columns\n",
        "df_pyspark = df_pyspark.drop('Experience After 2 years')\n",
        "df_pyspark.show()"
      ],
      "execution_count": 29,
      "outputs": [
        {
          "output_type": "stream",
          "text": [
            "+-----+---+----------+\n",
            "| Name|Age|Experience|\n",
            "+-----+---+----------+\n",
            "|Qscar| 29|         1|\n",
            "|Keith| 39|        11|\n",
            "| Luca| 28|         2|\n",
            "+-----+---+----------+\n",
            "\n"
          ],
          "name": "stdout"
        }
      ]
    },
    {
      "cell_type": "code",
      "metadata": {
        "colab": {
          "base_uri": "https://localhost:8080/"
        },
        "id": "qWxxHZ1zYuz4",
        "outputId": "822b6a71-b2dc-4d45-994c-18ef000f2947"
      },
      "source": [
        "### Rename the columns\n",
        "df_pyspark.withColumnRenamed('Name',\"New Name\").show()"
      ],
      "execution_count": 30,
      "outputs": [
        {
          "output_type": "stream",
          "text": [
            "+--------+---+----------+\n",
            "|New Name|Age|Experience|\n",
            "+--------+---+----------+\n",
            "|   Qscar| 29|         1|\n",
            "|   Keith| 39|        11|\n",
            "|    Luca| 28|         2|\n",
            "+--------+---+----------+\n",
            "\n"
          ],
          "name": "stdout"
        }
      ]
    },
    {
      "cell_type": "code",
      "metadata": {
        "colab": {
          "base_uri": "https://localhost:8080/",
          "height": 232
        },
        "id": "TtDodiwQY5ob",
        "outputId": "5c4e4f22-e92b-4b97-b051-d25b2896f04b"
      },
      "source": [
        "import pandas as pd\n",
        "import numpy as np\n",
        "\n",
        "df = pd.DataFrame(\n",
        "    {\n",
        "        'Name':['Qscar', \"Keith\", \"Luca\", \"Helena\", \"Joy\", np.nan],\n",
        "        'Age':[29,np.nan,28, 25, np.nan, np.nan],\n",
        "        'Experience':[1,11,2,np.nan,1, np.nan],\n",
        "        'Salary':[30000,50000,20000,10000, np.nan, np.nan]\n",
        "     }\n",
        ")\n",
        "\n",
        "df.to_csv(\"test3.csv\", index=False)\n",
        "df"
      ],
      "execution_count": 31,
      "outputs": [
        {
          "output_type": "execute_result",
          "data": {
            "text/html": [
              "<div>\n",
              "<style scoped>\n",
              "    .dataframe tbody tr th:only-of-type {\n",
              "        vertical-align: middle;\n",
              "    }\n",
              "\n",
              "    .dataframe tbody tr th {\n",
              "        vertical-align: top;\n",
              "    }\n",
              "\n",
              "    .dataframe thead th {\n",
              "        text-align: right;\n",
              "    }\n",
              "</style>\n",
              "<table border=\"1\" class=\"dataframe\">\n",
              "  <thead>\n",
              "    <tr style=\"text-align: right;\">\n",
              "      <th></th>\n",
              "      <th>Name</th>\n",
              "      <th>Age</th>\n",
              "      <th>Experience</th>\n",
              "      <th>Salary</th>\n",
              "    </tr>\n",
              "  </thead>\n",
              "  <tbody>\n",
              "    <tr>\n",
              "      <th>0</th>\n",
              "      <td>Qscar</td>\n",
              "      <td>29.0</td>\n",
              "      <td>1.0</td>\n",
              "      <td>30000.0</td>\n",
              "    </tr>\n",
              "    <tr>\n",
              "      <th>1</th>\n",
              "      <td>Keith</td>\n",
              "      <td>NaN</td>\n",
              "      <td>11.0</td>\n",
              "      <td>50000.0</td>\n",
              "    </tr>\n",
              "    <tr>\n",
              "      <th>2</th>\n",
              "      <td>Luca</td>\n",
              "      <td>28.0</td>\n",
              "      <td>2.0</td>\n",
              "      <td>20000.0</td>\n",
              "    </tr>\n",
              "    <tr>\n",
              "      <th>3</th>\n",
              "      <td>Helena</td>\n",
              "      <td>25.0</td>\n",
              "      <td>NaN</td>\n",
              "      <td>10000.0</td>\n",
              "    </tr>\n",
              "    <tr>\n",
              "      <th>4</th>\n",
              "      <td>Joy</td>\n",
              "      <td>NaN</td>\n",
              "      <td>1.0</td>\n",
              "      <td>NaN</td>\n",
              "    </tr>\n",
              "    <tr>\n",
              "      <th>5</th>\n",
              "      <td>NaN</td>\n",
              "      <td>NaN</td>\n",
              "      <td>NaN</td>\n",
              "      <td>NaN</td>\n",
              "    </tr>\n",
              "  </tbody>\n",
              "</table>\n",
              "</div>"
            ],
            "text/plain": [
              "     Name   Age  Experience   Salary\n",
              "0   Qscar  29.0         1.0  30000.0\n",
              "1   Keith   NaN        11.0  50000.0\n",
              "2    Luca  28.0         2.0  20000.0\n",
              "3  Helena  25.0         NaN  10000.0\n",
              "4     Joy   NaN         1.0      NaN\n",
              "5     NaN   NaN         NaN      NaN"
            ]
          },
          "metadata": {
            "tags": []
          },
          "execution_count": 31
        }
      ]
    },
    {
      "cell_type": "code",
      "metadata": {
        "colab": {
          "base_uri": "https://localhost:8080/"
        },
        "id": "frY0fJOTZlbY",
        "outputId": "d2154861-c6a2-4eea-a29a-50c369b844cb"
      },
      "source": [
        "sdf = spark.read.csv('test3.csv')\n",
        "sdf.show()"
      ],
      "execution_count": 32,
      "outputs": [
        {
          "output_type": "stream",
          "text": [
            "+------+----+----------+-------+\n",
            "|   _c0| _c1|       _c2|    _c3|\n",
            "+------+----+----------+-------+\n",
            "|  Name| Age|Experience| Salary|\n",
            "| Qscar|29.0|       1.0|30000.0|\n",
            "| Keith|null|      11.0|50000.0|\n",
            "|  Luca|28.0|       2.0|20000.0|\n",
            "|Helena|25.0|      null|10000.0|\n",
            "|   Joy|null|       1.0|   null|\n",
            "|  null|null|      null|   null|\n",
            "+------+----+----------+-------+\n",
            "\n"
          ],
          "name": "stdout"
        }
      ]
    },
    {
      "cell_type": "code",
      "metadata": {
        "colab": {
          "base_uri": "https://localhost:8080/"
        },
        "id": "l5ap63gDaQh3",
        "outputId": "ca291467-7ca2-48e7-8488-8b2374375435"
      },
      "source": [
        "sdf = spark.read.csv('test3.csv',header=True, inferSchema=True)\n",
        "sdf.show()"
      ],
      "execution_count": 33,
      "outputs": [
        {
          "output_type": "stream",
          "text": [
            "+------+----+----------+-------+\n",
            "|  Name| Age|Experience| Salary|\n",
            "+------+----+----------+-------+\n",
            "| Qscar|29.0|       1.0|30000.0|\n",
            "| Keith|null|      11.0|50000.0|\n",
            "|  Luca|28.0|       2.0|20000.0|\n",
            "|Helena|25.0|      null|10000.0|\n",
            "|   Joy|null|       1.0|   null|\n",
            "|  null|null|      null|   null|\n",
            "+------+----+----------+-------+\n",
            "\n"
          ],
          "name": "stdout"
        }
      ]
    },
    {
      "cell_type": "code",
      "metadata": {
        "colab": {
          "base_uri": "https://localhost:8080/"
        },
        "id": "upJ4HK3eaEtc",
        "outputId": "23b870c9-67c6-4c1e-b1c1-515b5dad98bb"
      },
      "source": [
        "### drop the columns\n",
        "sdf.drop('Name').show()"
      ],
      "execution_count": 34,
      "outputs": [
        {
          "output_type": "stream",
          "text": [
            "+----+----------+-------+\n",
            "| Age|Experience| Salary|\n",
            "+----+----------+-------+\n",
            "|29.0|       1.0|30000.0|\n",
            "|null|      11.0|50000.0|\n",
            "|28.0|       2.0|20000.0|\n",
            "|25.0|      null|10000.0|\n",
            "|null|       1.0|   null|\n",
            "|null|      null|   null|\n",
            "+----+----------+-------+\n",
            "\n"
          ],
          "name": "stdout"
        }
      ]
    },
    {
      "cell_type": "code",
      "metadata": {
        "colab": {
          "base_uri": "https://localhost:8080/"
        },
        "id": "b7QrhNsIafdw",
        "outputId": "a1d612fb-f135-41a8-9a7a-52cf758300f8"
      },
      "source": [
        "### dropna()\n",
        "sdf.na.drop(how='any').show()"
      ],
      "execution_count": 35,
      "outputs": [
        {
          "output_type": "stream",
          "text": [
            "+-----+----+----------+-------+\n",
            "| Name| Age|Experience| Salary|\n",
            "+-----+----+----------+-------+\n",
            "|Qscar|29.0|       1.0|30000.0|\n",
            "| Luca|28.0|       2.0|20000.0|\n",
            "+-----+----+----------+-------+\n",
            "\n"
          ],
          "name": "stdout"
        }
      ]
    },
    {
      "cell_type": "code",
      "metadata": {
        "colab": {
          "base_uri": "https://localhost:8080/"
        },
        "id": "VAWNvaiibzQ9",
        "outputId": "cd749a21-9aa7-46b2-ec70-4ebdc89b1071"
      },
      "source": [
        "sdf.show()"
      ],
      "execution_count": 36,
      "outputs": [
        {
          "output_type": "stream",
          "text": [
            "+------+----+----------+-------+\n",
            "|  Name| Age|Experience| Salary|\n",
            "+------+----+----------+-------+\n",
            "| Qscar|29.0|       1.0|30000.0|\n",
            "| Keith|null|      11.0|50000.0|\n",
            "|  Luca|28.0|       2.0|20000.0|\n",
            "|Helena|25.0|      null|10000.0|\n",
            "|   Joy|null|       1.0|   null|\n",
            "|  null|null|      null|   null|\n",
            "+------+----+----------+-------+\n",
            "\n"
          ],
          "name": "stdout"
        }
      ]
    },
    {
      "cell_type": "code",
      "metadata": {
        "colab": {
          "base_uri": "https://localhost:8080/"
        },
        "id": "iaMjdbfCarMr",
        "outputId": "1196ef23-8586-45a1-ecac-01858cb6f296"
      },
      "source": [
        "### parameter tuning\n",
        "sdf.na.drop(how='all').show()"
      ],
      "execution_count": 37,
      "outputs": [
        {
          "output_type": "stream",
          "text": [
            "+------+----+----------+-------+\n",
            "|  Name| Age|Experience| Salary|\n",
            "+------+----+----------+-------+\n",
            "| Qscar|29.0|       1.0|30000.0|\n",
            "| Keith|null|      11.0|50000.0|\n",
            "|  Luca|28.0|       2.0|20000.0|\n",
            "|Helena|25.0|      null|10000.0|\n",
            "|   Joy|null|       1.0|   null|\n",
            "+------+----+----------+-------+\n",
            "\n"
          ],
          "name": "stdout"
        }
      ]
    },
    {
      "cell_type": "code",
      "metadata": {
        "colab": {
          "base_uri": "https://localhost:8080/"
        },
        "id": "4dURz9tccSmP",
        "outputId": "35de7725-9e0f-4c37-e99a-592b1436e4dd"
      },
      "source": [
        "sdf.na.drop(how='any', thresh=2).show()"
      ],
      "execution_count": 38,
      "outputs": [
        {
          "output_type": "stream",
          "text": [
            "+------+----+----------+-------+\n",
            "|  Name| Age|Experience| Salary|\n",
            "+------+----+----------+-------+\n",
            "| Qscar|29.0|       1.0|30000.0|\n",
            "| Keith|null|      11.0|50000.0|\n",
            "|  Luca|28.0|       2.0|20000.0|\n",
            "|Helena|25.0|      null|10000.0|\n",
            "|   Joy|null|       1.0|   null|\n",
            "+------+----+----------+-------+\n",
            "\n"
          ],
          "name": "stdout"
        }
      ]
    },
    {
      "cell_type": "code",
      "metadata": {
        "colab": {
          "base_uri": "https://localhost:8080/"
        },
        "id": "FDpUYLEmcCzT",
        "outputId": "123d3fe6-06f8-4ca3-ad04-668c8eac1dc1"
      },
      "source": [
        "sdf.na.drop(how='any', thresh=2, subset=['Name','Experience', 'Salary']).show()"
      ],
      "execution_count": 39,
      "outputs": [
        {
          "output_type": "stream",
          "text": [
            "+------+----+----------+-------+\n",
            "|  Name| Age|Experience| Salary|\n",
            "+------+----+----------+-------+\n",
            "| Qscar|29.0|       1.0|30000.0|\n",
            "| Keith|null|      11.0|50000.0|\n",
            "|  Luca|28.0|       2.0|20000.0|\n",
            "|Helena|25.0|      null|10000.0|\n",
            "|   Joy|null|       1.0|   null|\n",
            "+------+----+----------+-------+\n",
            "\n"
          ],
          "name": "stdout"
        }
      ]
    },
    {
      "cell_type": "code",
      "metadata": {
        "colab": {
          "base_uri": "https://localhost:8080/"
        },
        "id": "srVhwiXFa60d",
        "outputId": "9ae46c6c-65ee-436e-e3ac-18a40e78d9b9"
      },
      "source": [
        "### Filling the Missing Value \n",
        "\n",
        "sdf.na.fill('Missing!', ['Experience', 'Age']).show()"
      ],
      "execution_count": 40,
      "outputs": [
        {
          "output_type": "stream",
          "text": [
            "+------+----+----------+-------+\n",
            "|  Name| Age|Experience| Salary|\n",
            "+------+----+----------+-------+\n",
            "| Qscar|29.0|       1.0|30000.0|\n",
            "| Keith|null|      11.0|50000.0|\n",
            "|  Luca|28.0|       2.0|20000.0|\n",
            "|Helena|25.0|      null|10000.0|\n",
            "|   Joy|null|       1.0|   null|\n",
            "|  null|null|      null|   null|\n",
            "+------+----+----------+-------+\n",
            "\n"
          ],
          "name": "stdout"
        }
      ]
    },
    {
      "cell_type": "code",
      "metadata": {
        "colab": {
          "base_uri": "https://localhost:8080/"
        },
        "id": "fh774PdGch-b",
        "outputId": "881e1299-28eb-4b43-d782-a439e3a4fd9f"
      },
      "source": [
        "sdf.show()"
      ],
      "execution_count": 41,
      "outputs": [
        {
          "output_type": "stream",
          "text": [
            "+------+----+----------+-------+\n",
            "|  Name| Age|Experience| Salary|\n",
            "+------+----+----------+-------+\n",
            "| Qscar|29.0|       1.0|30000.0|\n",
            "| Keith|null|      11.0|50000.0|\n",
            "|  Luca|28.0|       2.0|20000.0|\n",
            "|Helena|25.0|      null|10000.0|\n",
            "|   Joy|null|       1.0|   null|\n",
            "|  null|null|      null|   null|\n",
            "+------+----+----------+-------+\n",
            "\n"
          ],
          "name": "stdout"
        }
      ]
    },
    {
      "cell_type": "code",
      "metadata": {
        "id": "r_p9gg9ZdE9M"
      },
      "source": [
        " from pyspark.ml.feature import Imputer\n",
        " \n",
        " imputer = Imputer(\n",
        "     inputCols=['Age', 'Experience', 'Salary'],\n",
        "     outputCols=[\"{}_imputed\".format(c) for c in ['Age', 'Experience', 'Salary']]\n",
        "      ).setStrategy(\"mean\")"
      ],
      "execution_count": 42,
      "outputs": []
    },
    {
      "cell_type": "code",
      "metadata": {
        "colab": {
          "base_uri": "https://localhost:8080/"
        },
        "id": "pmj9WT_Ed7qJ",
        "outputId": "45885907-4da9-4eb9-bc47-6dfafa85ad5f"
      },
      "source": [
        "# Add imputation cols to df\n",
        "\n",
        "imputer.fit(sdf).transform(sdf).show()"
      ],
      "execution_count": 43,
      "outputs": [
        {
          "output_type": "stream",
          "text": [
            "+------+----+----------+-------+------------------+------------------+--------------+\n",
            "|  Name| Age|Experience| Salary|       Age_imputed|Experience_imputed|Salary_imputed|\n",
            "+------+----+----------+-------+------------------+------------------+--------------+\n",
            "| Qscar|29.0|       1.0|30000.0|              29.0|               1.0|       30000.0|\n",
            "| Keith|null|      11.0|50000.0|27.333333333333332|              11.0|       50000.0|\n",
            "|  Luca|28.0|       2.0|20000.0|              28.0|               2.0|       20000.0|\n",
            "|Helena|25.0|      null|10000.0|              25.0|              3.75|       10000.0|\n",
            "|   Joy|null|       1.0|   null|27.333333333333332|               1.0|       27500.0|\n",
            "|  null|null|      null|   null|27.333333333333332|              3.75|       27500.0|\n",
            "+------+----+----------+-------+------------------+------------------+--------------+\n",
            "\n"
          ],
          "name": "stdout"
        }
      ]
    },
    {
      "cell_type": "code",
      "metadata": {
        "colab": {
          "base_uri": "https://localhost:8080/"
        },
        "id": "k1LB13RheB1J",
        "outputId": "bff6ad47-63de-4ece-b8cd-54148e889d14"
      },
      "source": [
        " from pyspark.ml.feature import Imputer\n",
        " \n",
        " imputer = Imputer(\n",
        "     inputCols=['Age', 'Experience', 'Salary'],\n",
        "     outputCols=[\"{}\".format(c) for c in ['Age', 'Experience', 'Salary']]\n",
        "      ).setStrategy(\"mean\")\n",
        "\n",
        "sdf = imputer.fit(sdf).transform(sdf)\n",
        "sdf.show()"
      ],
      "execution_count": 44,
      "outputs": [
        {
          "output_type": "stream",
          "text": [
            "+------+------------------+----------+-------+\n",
            "|  Name|               Age|Experience| Salary|\n",
            "+------+------------------+----------+-------+\n",
            "| Qscar|              29.0|       1.0|30000.0|\n",
            "| Keith|27.333333333333332|      11.0|50000.0|\n",
            "|  Luca|              28.0|       2.0|20000.0|\n",
            "|Helena|              25.0|      3.75|10000.0|\n",
            "|   Joy|27.333333333333332|       1.0|27500.0|\n",
            "|  null|27.333333333333332|      3.75|27500.0|\n",
            "+------+------------------+----------+-------+\n",
            "\n"
          ],
          "name": "stdout"
        }
      ]
    },
    {
      "cell_type": "code",
      "metadata": {
        "colab": {
          "base_uri": "https://localhost:8080/"
        },
        "id": "tzuJvXH6g2vj",
        "outputId": "6789dffb-bbfe-460f-dfb2-07ef167cd5f3"
      },
      "source": [
        "sdf = sdf.na.fill('NoNamed', ['Name'])\n",
        "sdf.show()"
      ],
      "execution_count": 45,
      "outputs": [
        {
          "output_type": "stream",
          "text": [
            "+-------+------------------+----------+-------+\n",
            "|   Name|               Age|Experience| Salary|\n",
            "+-------+------------------+----------+-------+\n",
            "|  Qscar|              29.0|       1.0|30000.0|\n",
            "|  Keith|27.333333333333332|      11.0|50000.0|\n",
            "|   Luca|              28.0|       2.0|20000.0|\n",
            "| Helena|              25.0|      3.75|10000.0|\n",
            "|    Joy|27.333333333333332|       1.0|27500.0|\n",
            "|NoNamed|27.333333333333332|      3.75|27500.0|\n",
            "+-------+------------------+----------+-------+\n",
            "\n"
          ],
          "name": "stdout"
        }
      ]
    },
    {
      "cell_type": "code",
      "metadata": {
        "colab": {
          "base_uri": "https://localhost:8080/"
        },
        "id": "gyzweytahDFj",
        "outputId": "354fa1a6-df9c-4125-d489-61465ac15363"
      },
      "source": [
        "sdf.filter(\"Salary<=20000\").show()"
      ],
      "execution_count": 46,
      "outputs": [
        {
          "output_type": "stream",
          "text": [
            "+------+----+----------+-------+\n",
            "|  Name| Age|Experience| Salary|\n",
            "+------+----+----------+-------+\n",
            "|  Luca|28.0|       2.0|20000.0|\n",
            "|Helena|25.0|      3.75|10000.0|\n",
            "+------+----+----------+-------+\n",
            "\n"
          ],
          "name": "stdout"
        }
      ]
    },
    {
      "cell_type": "code",
      "metadata": {
        "colab": {
          "base_uri": "https://localhost:8080/"
        },
        "id": "OgoTf8uvhaIp",
        "outputId": "62f31647-b8e5-4b53-d8b7-a4a0ae7db00b"
      },
      "source": [
        "sdf.filter(\"Salary<=20000\").select(['Name', \"Age\"]).show()"
      ],
      "execution_count": 47,
      "outputs": [
        {
          "output_type": "stream",
          "text": [
            "+------+----+\n",
            "|  Name| Age|\n",
            "+------+----+\n",
            "|  Luca|28.0|\n",
            "|Helena|25.0|\n",
            "+------+----+\n",
            "\n"
          ],
          "name": "stdout"
        }
      ]
    },
    {
      "cell_type": "code",
      "metadata": {
        "colab": {
          "base_uri": "https://localhost:8080/"
        },
        "id": "eEjeGRoPhugD",
        "outputId": "9e9fb053-2c99-4e31-c261-3d2921151335"
      },
      "source": [
        "sdf.filter( ( sdf['Salary'] <= 20000 ) & ( sdf['Salary'] >= 15000 ) ).show()"
      ],
      "execution_count": 48,
      "outputs": [
        {
          "output_type": "stream",
          "text": [
            "+----+----+----------+-------+\n",
            "|Name| Age|Experience| Salary|\n",
            "+----+----+----------+-------+\n",
            "|Luca|28.0|       2.0|20000.0|\n",
            "+----+----+----------+-------+\n",
            "\n"
          ],
          "name": "stdout"
        }
      ]
    },
    {
      "cell_type": "code",
      "metadata": {
        "colab": {
          "base_uri": "https://localhost:8080/"
        },
        "id": "PQ4umLMnh-ly",
        "outputId": "2018fe07-cf26-4174-f1fb-201dd6130cc8"
      },
      "source": [
        "sdf.filter( ( sdf['Salary'] > 20000 ) | ( sdf['Salary'] < 15000 ) ).show()"
      ],
      "execution_count": 49,
      "outputs": [
        {
          "output_type": "stream",
          "text": [
            "+-------+------------------+----------+-------+\n",
            "|   Name|               Age|Experience| Salary|\n",
            "+-------+------------------+----------+-------+\n",
            "|  Qscar|              29.0|       1.0|30000.0|\n",
            "|  Keith|27.333333333333332|      11.0|50000.0|\n",
            "| Helena|              25.0|      3.75|10000.0|\n",
            "|    Joy|27.333333333333332|       1.0|27500.0|\n",
            "|NoNamed|27.333333333333332|      3.75|27500.0|\n",
            "+-------+------------------+----------+-------+\n",
            "\n"
          ],
          "name": "stdout"
        }
      ]
    },
    {
      "cell_type": "markdown",
      "metadata": {
        "id": "_wnMSknPPptm"
      },
      "source": [
        "## Groupby & Aggregation\n"
      ]
    },
    {
      "cell_type": "code",
      "metadata": {
        "id": "9gqEcZVNhsf_",
        "colab": {
          "base_uri": "https://localhost:8080/",
          "height": 355
        },
        "outputId": "4727e51c-213d-4cf1-d1ce-70f75a74bd5e"
      },
      "source": [
        "import pandas as pd\n",
        "import numpy as np\n",
        "\n",
        "df = pd.DataFrame(\n",
        "    {\n",
        "        'Name':['Qscar','Qscar', \"Keith\",'Qscar', \"Luca\", \"Helena\",\"Helena\",\"Helena\", \"Joy\",\"Joy\"],\n",
        "        'Departments':[\"Data Science\",\"Big Data\",\"IoT\",\"Data Science\",\"Big Data\",\"IoT\",\"Data Science\",\"Data Science\",\"Big Data\",\"Data Science\"],\n",
        "        'Salary':[10000,5000,4000,4000,3000,20000,10000,5000,10000,2000]\n",
        "     }\n",
        ")\n",
        "\n",
        "df.to_csv(\"test3.csv\", index=False)\n",
        "df"
      ],
      "execution_count": 55,
      "outputs": [
        {
          "output_type": "execute_result",
          "data": {
            "text/html": [
              "<div>\n",
              "<style scoped>\n",
              "    .dataframe tbody tr th:only-of-type {\n",
              "        vertical-align: middle;\n",
              "    }\n",
              "\n",
              "    .dataframe tbody tr th {\n",
              "        vertical-align: top;\n",
              "    }\n",
              "\n",
              "    .dataframe thead th {\n",
              "        text-align: right;\n",
              "    }\n",
              "</style>\n",
              "<table border=\"1\" class=\"dataframe\">\n",
              "  <thead>\n",
              "    <tr style=\"text-align: right;\">\n",
              "      <th></th>\n",
              "      <th>Name</th>\n",
              "      <th>Departments</th>\n",
              "      <th>Salary</th>\n",
              "    </tr>\n",
              "  </thead>\n",
              "  <tbody>\n",
              "    <tr>\n",
              "      <th>0</th>\n",
              "      <td>Qscar</td>\n",
              "      <td>Data Science</td>\n",
              "      <td>10000</td>\n",
              "    </tr>\n",
              "    <tr>\n",
              "      <th>1</th>\n",
              "      <td>Qscar</td>\n",
              "      <td>Big Data</td>\n",
              "      <td>5000</td>\n",
              "    </tr>\n",
              "    <tr>\n",
              "      <th>2</th>\n",
              "      <td>Keith</td>\n",
              "      <td>IoT</td>\n",
              "      <td>4000</td>\n",
              "    </tr>\n",
              "    <tr>\n",
              "      <th>3</th>\n",
              "      <td>Qscar</td>\n",
              "      <td>Data Science</td>\n",
              "      <td>4000</td>\n",
              "    </tr>\n",
              "    <tr>\n",
              "      <th>4</th>\n",
              "      <td>Luca</td>\n",
              "      <td>Big Data</td>\n",
              "      <td>3000</td>\n",
              "    </tr>\n",
              "    <tr>\n",
              "      <th>5</th>\n",
              "      <td>Helena</td>\n",
              "      <td>IoT</td>\n",
              "      <td>20000</td>\n",
              "    </tr>\n",
              "    <tr>\n",
              "      <th>6</th>\n",
              "      <td>Helena</td>\n",
              "      <td>Data Science</td>\n",
              "      <td>10000</td>\n",
              "    </tr>\n",
              "    <tr>\n",
              "      <th>7</th>\n",
              "      <td>Helena</td>\n",
              "      <td>Data Science</td>\n",
              "      <td>5000</td>\n",
              "    </tr>\n",
              "    <tr>\n",
              "      <th>8</th>\n",
              "      <td>Joy</td>\n",
              "      <td>Big Data</td>\n",
              "      <td>10000</td>\n",
              "    </tr>\n",
              "    <tr>\n",
              "      <th>9</th>\n",
              "      <td>Joy</td>\n",
              "      <td>Data Science</td>\n",
              "      <td>2000</td>\n",
              "    </tr>\n",
              "  </tbody>\n",
              "</table>\n",
              "</div>"
            ],
            "text/plain": [
              "     Name   Departments  Salary\n",
              "0   Qscar  Data Science   10000\n",
              "1   Qscar      Big Data    5000\n",
              "2   Keith           IoT    4000\n",
              "3   Qscar  Data Science    4000\n",
              "4    Luca      Big Data    3000\n",
              "5  Helena           IoT   20000\n",
              "6  Helena  Data Science   10000\n",
              "7  Helena  Data Science    5000\n",
              "8     Joy      Big Data   10000\n",
              "9     Joy  Data Science    2000"
            ]
          },
          "metadata": {
            "tags": []
          },
          "execution_count": 55
        }
      ]
    },
    {
      "cell_type": "code",
      "metadata": {
        "id": "ACRefsR0gtSv",
        "colab": {
          "base_uri": "https://localhost:8080/"
        },
        "outputId": "d979e20e-2408-42b2-e698-67a5a230aa4d"
      },
      "source": [
        "sdf = spark.read.csv('test3.csv',header=True, inferSchema=True)\n",
        "sdf.show()"
      ],
      "execution_count": 56,
      "outputs": [
        {
          "output_type": "stream",
          "text": [
            "+------+------------+------+\n",
            "|  Name| Departments|Salary|\n",
            "+------+------------+------+\n",
            "| Qscar|Data Science| 10000|\n",
            "| Qscar|    Big Data|  5000|\n",
            "| Keith|         IoT|  4000|\n",
            "| Qscar|Data Science|  4000|\n",
            "|  Luca|    Big Data|  3000|\n",
            "|Helena|         IoT| 20000|\n",
            "|Helena|Data Science| 10000|\n",
            "|Helena|Data Science|  5000|\n",
            "|   Joy|    Big Data| 10000|\n",
            "|   Joy|Data Science|  2000|\n",
            "+------+------------+------+\n",
            "\n"
          ],
          "name": "stdout"
        }
      ]
    },
    {
      "cell_type": "code",
      "metadata": {
        "id": "5WOtJxH7Yq2M"
      },
      "source": [
        "from pyspark.sql import SparkSession\n",
        "spark = SparkSession.builder.appName('Agg').getOrCreate()"
      ],
      "execution_count": 57,
      "outputs": []
    },
    {
      "cell_type": "code",
      "metadata": {
        "colab": {
          "base_uri": "https://localhost:8080/",
          "height": 213
        },
        "id": "ac_Uq1U9RCI8",
        "outputId": "d4af4f64-2f4e-486d-ee74-5864fd6343ae"
      },
      "source": [
        "spark"
      ],
      "execution_count": 58,
      "outputs": [
        {
          "output_type": "execute_result",
          "data": {
            "text/html": [
              "\n",
              "            <div>\n",
              "                <p><b>SparkSession - in-memory</b></p>\n",
              "                \n",
              "        <div>\n",
              "            <p><b>SparkContext</b></p>\n",
              "\n",
              "            <p><a href=\"http://cfaa65324841:4040\">Spark UI</a></p>\n",
              "\n",
              "            <dl>\n",
              "              <dt>Version</dt>\n",
              "                <dd><code>v3.1.2</code></dd>\n",
              "              <dt>Master</dt>\n",
              "                <dd><code>local[*]</code></dd>\n",
              "              <dt>AppName</dt>\n",
              "                <dd><code>Practice</code></dd>\n",
              "            </dl>\n",
              "        </div>\n",
              "        \n",
              "            </div>\n",
              "        "
            ],
            "text/plain": [
              "<pyspark.sql.session.SparkSession at 0x7fa0a681cc50>"
            ]
          },
          "metadata": {
            "tags": []
          },
          "execution_count": 58
        }
      ]
    },
    {
      "cell_type": "code",
      "metadata": {
        "colab": {
          "base_uri": "https://localhost:8080/"
        },
        "id": "boCrPW1LRClQ",
        "outputId": "35d519aa-5835-4292-cb44-657b7978a960"
      },
      "source": [
        "sdf = spark.read.csv(\"test3.csv\", header=True, inferSchema=True)\n",
        "sdf.show()"
      ],
      "execution_count": 60,
      "outputs": [
        {
          "output_type": "stream",
          "text": [
            "+------+------------+------+\n",
            "|  Name| Departments|Salary|\n",
            "+------+------------+------+\n",
            "| Qscar|Data Science| 10000|\n",
            "| Qscar|    Big Data|  5000|\n",
            "| Keith|         IoT|  4000|\n",
            "| Qscar|Data Science|  4000|\n",
            "|  Luca|    Big Data|  3000|\n",
            "|Helena|         IoT| 20000|\n",
            "|Helena|Data Science| 10000|\n",
            "|Helena|Data Science|  5000|\n",
            "|   Joy|    Big Data| 10000|\n",
            "|   Joy|Data Science|  2000|\n",
            "+------+------------+------+\n",
            "\n"
          ],
          "name": "stdout"
        }
      ]
    },
    {
      "cell_type": "code",
      "metadata": {
        "colab": {
          "base_uri": "https://localhost:8080/"
        },
        "id": "nI03MekPRI02",
        "outputId": "0106e1dd-b59b-4910-f06e-c774f19921a9"
      },
      "source": [
        "sdf.printSchema()"
      ],
      "execution_count": 61,
      "outputs": [
        {
          "output_type": "stream",
          "text": [
            "root\n",
            " |-- Name: string (nullable = true)\n",
            " |-- Departments: string (nullable = true)\n",
            " |-- Salary: integer (nullable = true)\n",
            "\n"
          ],
          "name": "stdout"
        }
      ]
    },
    {
      "cell_type": "code",
      "metadata": {
        "colab": {
          "base_uri": "https://localhost:8080/"
        },
        "id": "5U1S4YUQRQo5",
        "outputId": "f57ad440-3052-4607-ba24-6dc5c22aedff"
      },
      "source": [
        "## Groupby\n",
        "sdf.groupBy('Name')"
      ],
      "execution_count": 62,
      "outputs": [
        {
          "output_type": "execute_result",
          "data": {
            "text/plain": [
              "<pyspark.sql.group.GroupedData at 0x7fa09cf88bd0>"
            ]
          },
          "metadata": {
            "tags": []
          },
          "execution_count": 62
        }
      ]
    },
    {
      "cell_type": "code",
      "metadata": {
        "colab": {
          "base_uri": "https://localhost:8080/"
        },
        "id": "zKXIze8CRWtb",
        "outputId": "cd3e5688-fcab-4887-99e0-afe4e35056da"
      },
      "source": [
        "sdf.groupBy('Name').sum()"
      ],
      "execution_count": 63,
      "outputs": [
        {
          "output_type": "execute_result",
          "data": {
            "text/plain": [
              "DataFrame[Name: string, sum(Salary): bigint]"
            ]
          },
          "metadata": {
            "tags": []
          },
          "execution_count": 63
        }
      ]
    },
    {
      "cell_type": "code",
      "metadata": {
        "colab": {
          "base_uri": "https://localhost:8080/"
        },
        "id": "dmy6HMXtRf2A",
        "outputId": "cb9df7eb-d7e4-4dd8-8246-e2e63e0271de"
      },
      "source": [
        "### Grouped to find the maximum salary\n",
        "sdf.groupBy('Name').sum().show()"
      ],
      "execution_count": 64,
      "outputs": [
        {
          "output_type": "stream",
          "text": [
            "+------+-----------+\n",
            "|  Name|sum(Salary)|\n",
            "+------+-----------+\n",
            "| Keith|       4000|\n",
            "| Qscar|      19000|\n",
            "|  Luca|       3000|\n",
            "|   Joy|      12000|\n",
            "|Helena|      35000|\n",
            "+------+-----------+\n",
            "\n"
          ],
          "name": "stdout"
        }
      ]
    },
    {
      "cell_type": "code",
      "metadata": {
        "colab": {
          "base_uri": "https://localhost:8080/"
        },
        "id": "iFAOBj1qRler",
        "outputId": "2cc6e47f-77d2-46ad-a685-2dd1287da415"
      },
      "source": [
        "### Groupby Departments which maximum salary\n",
        "sdf.groupBy('Departments').sum().show()"
      ],
      "execution_count": 65,
      "outputs": [
        {
          "output_type": "stream",
          "text": [
            "+------------+-----------+\n",
            "| Departments|sum(Salary)|\n",
            "+------------+-----------+\n",
            "|         IoT|      24000|\n",
            "|    Big Data|      18000|\n",
            "|Data Science|      31000|\n",
            "+------------+-----------+\n",
            "\n"
          ],
          "name": "stdout"
        }
      ]
    },
    {
      "cell_type": "code",
      "metadata": {
        "colab": {
          "base_uri": "https://localhost:8080/"
        },
        "id": "s6_Yp0NNR6vN",
        "outputId": "35b7077d-762b-4a25-a21b-8f0284d39b2a"
      },
      "source": [
        "sdf.groupBy('Departments').mean().show()"
      ],
      "execution_count": 66,
      "outputs": [
        {
          "output_type": "stream",
          "text": [
            "+------------+-----------+\n",
            "| Departments|avg(Salary)|\n",
            "+------------+-----------+\n",
            "|         IoT|    12000.0|\n",
            "|    Big Data|     6000.0|\n",
            "|Data Science|     6200.0|\n",
            "+------------+-----------+\n",
            "\n"
          ],
          "name": "stdout"
        }
      ]
    },
    {
      "cell_type": "code",
      "metadata": {
        "colab": {
          "base_uri": "https://localhost:8080/"
        },
        "id": "4N-tu_utSCc5",
        "outputId": "496bef6f-3b23-458d-bedf-0bc70243226e"
      },
      "source": [
        "sdf.groupby('Departments').count().show()"
      ],
      "execution_count": 67,
      "outputs": [
        {
          "output_type": "stream",
          "text": [
            "+------------+-----+\n",
            "| Departments|count|\n",
            "+------------+-----+\n",
            "|         IoT|    2|\n",
            "|    Big Data|    3|\n",
            "|Data Science|    5|\n",
            "+------------+-----+\n",
            "\n"
          ],
          "name": "stdout"
        }
      ]
    },
    {
      "cell_type": "code",
      "metadata": {
        "colab": {
          "base_uri": "https://localhost:8080/"
        },
        "id": "Yq7HdP7jSIAY",
        "outputId": "a3e793ff-42a4-4b85-9ad4-27adf63ae150"
      },
      "source": [
        "sdf.agg({'Salary':'sum'}).show()"
      ],
      "execution_count": 68,
      "outputs": [
        {
          "output_type": "stream",
          "text": [
            "+-----------+\n",
            "|sum(Salary)|\n",
            "+-----------+\n",
            "|      73000|\n",
            "+-----------+\n",
            "\n"
          ],
          "name": "stdout"
        }
      ]
    },
    {
      "cell_type": "code",
      "metadata": {
        "colab": {
          "base_uri": "https://localhost:8080/"
        },
        "id": "bfnUT9YfSPAG",
        "outputId": "6cdcd487-be68-428c-be70-9c125f954414"
      },
      "source": [
        "sdf.agg({\"Salary\":\"avg\"}).show()"
      ],
      "execution_count": 69,
      "outputs": [
        {
          "output_type": "stream",
          "text": [
            "+-----------+\n",
            "|avg(Salary)|\n",
            "+-----------+\n",
            "|     7300.0|\n",
            "+-----------+\n",
            "\n"
          ],
          "name": "stdout"
        }
      ]
    },
    {
      "cell_type": "code",
      "metadata": {
        "id": "XtfO51oKSnWA"
      },
      "source": [
        ""
      ],
      "execution_count": null,
      "outputs": []
    }
  ]
}