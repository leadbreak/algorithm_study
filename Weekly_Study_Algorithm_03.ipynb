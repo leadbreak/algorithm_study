{
  "nbformat": 4,
  "nbformat_minor": 0,
  "metadata": {
    "colab": {
      "name": "Weekly_Study_Algorithm_03.ipynb",
      "provenance": [],
      "authorship_tag": "ABX9TyN9xU8rQRV4LV155oTi2kUT",
      "include_colab_link": true
    },
    "kernelspec": {
      "name": "python3",
      "display_name": "Python 3"
    },
    "language_info": {
      "name": "python"
    }
  },
  "cells": [
    {
      "cell_type": "markdown",
      "metadata": {
        "id": "view-in-github",
        "colab_type": "text"
      },
      "source": [
        "<a href=\"https://colab.research.google.com/github/leadbreak/algorithm_study/blob/main/Weekly_Study_Algorithm_03.ipynb\" target=\"_parent\"><img src=\"https://colab.research.google.com/assets/colab-badge.svg\" alt=\"Open In Colab\"/></a>"
      ]
    },
    {
      "cell_type": "markdown",
      "metadata": {
        "id": "K37ox9bUEBHs"
      },
      "source": [
        "https://programmers.co.kr/learn/courses/30/lessons/84325\n"
      ]
    },
    {
      "cell_type": "code",
      "metadata": {
        "id": "BzHw6-rb9FlJ"
      },
      "source": [
        "## CASE 01\n",
        "table = [\"SI JAVA JAVASCRIPT SQL PYTHON C#\", \"CONTENTS JAVASCRIPT JAVA PYTHON SQL C++\", \"HARDWARE C C++ PYTHON JAVA JAVASCRIPT\", \"PORTAL JAVA JAVASCRIPT PYTHON KOTLIN PHP\", \"GAME C++ C# JAVASCRIPT C JAVA\"]\n",
        "\n",
        "languages = [\"PYTHON\", \"C++\", \"SQL\"]\n",
        "\n",
        "preference = [7, 5, 5]\n",
        "\n",
        "# result = \"HARDWARE\""
      ],
      "execution_count": 1,
      "outputs": []
    },
    {
      "cell_type": "code",
      "metadata": {
        "id": "2txTMRH-_ySP"
      },
      "source": [
        "## CASE 02\n",
        "table = [\"SI JAVA JAVASCRIPT SQL PYTHON C#\", \"CONTENTS JAVASCRIPT JAVA PYTHON SQL C++\", \"HARDWARE C C++ PYTHON JAVA JAVASCRIPT\", \"PORTAL JAVA JAVASCRIPT PYTHON KOTLIN PHP\", \"GAME C++ C# JAVASCRIPT C JAVA\"]\n",
        "\n",
        "languages = [\"JAVA\", \"JAVASCRIPT\"]\n",
        "\n",
        "preference = [7,5]\n",
        "\n",
        "# result = 'PORTAL'"
      ],
      "execution_count": 19,
      "outputs": []
    },
    {
      "cell_type": "code",
      "metadata": {
        "id": "Ekgr35NI9YQ1"
      },
      "source": [
        "def solution(table, languages, preference):\n",
        "    \n",
        "    scores = []\n",
        "    jobs = []\n",
        "    for job in table :\n",
        "        jobs.append(job.split()[0])\n",
        "        requirements = job.split()[1:]\n",
        "        print(f'requirements : {requirements}')\n",
        "\n",
        "        score = 0\n",
        "        for i in range(len(languages)) :\n",
        "          try :\n",
        "            score += (5- int(requirements.index(languages[i]))) * preference[i]\n",
        "          except :\n",
        "            pass\n",
        "        scores.append(score)\n",
        "\n",
        "\n",
        "    answer_list = []\n",
        "\n",
        "    high_score = max(scores)\n",
        "    index_list = list(filter(lambda x : scores[x] == high_score, range(len(scores))))\n",
        "    answer_list = [jobs[y] for y in index_list]\n",
        "    answer_list.sort()\n",
        "    answer = answer_list[0]\n",
        "    return scores, jobs, index_list, answer_list, answer"
      ],
      "execution_count": 54,
      "outputs": []
    },
    {
      "cell_type": "code",
      "metadata": {
        "colab": {
          "base_uri": "https://localhost:8080/",
          "height": 52
        },
        "id": "Pi8nLVB89zxn",
        "outputId": "ea4fe9ca-f8fa-4036-b435-6faf0280d5db"
      },
      "source": [
        "solution(table, languages, preference)"
      ],
      "execution_count": 57,
      "outputs": [
        {
          "output_type": "stream",
          "name": "stdout",
          "text": [
            "{'SI': 55, 'CONTENTS': 53, 'HARDWARE': 19, 'PORTAL': 55, 'GAME': 22}\n"
          ]
        },
        {
          "output_type": "execute_result",
          "data": {
            "application/vnd.google.colaboratory.intrinsic+json": {
              "type": "string"
            },
            "text/plain": [
              "'PORTAL'"
            ]
          },
          "metadata": {},
          "execution_count": 57
        }
      ]
    },
    {
      "cell_type": "code",
      "metadata": {
        "id": "y4jvD6qp96t9"
      },
      "source": [
        "def solution(table, languages, preference):\n",
        "    score = {}\n",
        "    for t in table:\n",
        "        for lang, pref in zip(languages, preference):\n",
        "            if lang in t.split():\n",
        "                score[t.split()[0]] = score.get(t.split()[0], 0) +  (6 - t.split().index(lang)) * pref\n",
        "    print(score)\n",
        "    return sorted(score.items(), key = lambda item: [-item[1], item[0]])[0][0]"
      ],
      "execution_count": 56,
      "outputs": []
    }
  ]
}