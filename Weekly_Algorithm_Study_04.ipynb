{
  "nbformat": 4,
  "nbformat_minor": 0,
  "metadata": {
    "colab": {
      "name": "Weekly_Algorithm_Study_04.ipynb",
      "provenance": [],
      "collapsed_sections": [],
      "authorship_tag": "ABX9TyPMTQ70wKAswhAk2yjDSWTP",
      "include_colab_link": true
    },
    "kernelspec": {
      "name": "python3",
      "display_name": "Python 3"
    },
    "language_info": {
      "name": "python"
    }
  },
  "cells": [
    {
      "cell_type": "markdown",
      "metadata": {
        "id": "view-in-github",
        "colab_type": "text"
      },
      "source": [
        "<a href=\"https://colab.research.google.com/github/leadbreak/algorithm_study/blob/main/Weekly_Algorithm_Study_04.ipynb\" target=\"_parent\"><img src=\"https://colab.research.google.com/assets/colab-badge.svg\" alt=\"Open In Colab\"/></a>"
      ]
    },
    {
      "cell_type": "markdown",
      "metadata": {
        "id": "ln7yYXGi3bjY"
      },
      "source": [
        "https://programmers.co.kr/learn/courses/30/lessons/72410\n",
        "2021 카카오 공채 신규아이디 추천"
      ]
    },
    {
      "cell_type": "code",
      "metadata": {
        "id": "x577l_Rhjasg"
      },
      "source": [
        "new_id = \"123_.def\""
      ],
      "execution_count": 120,
      "outputs": []
    },
    {
      "cell_type": "code",
      "metadata": {
        "id": "a8my2_2rlbNZ"
      },
      "source": [
        "new_id = \"...!@BaT#*..y.abcdefghijklm\""
      ],
      "execution_count": 121,
      "outputs": []
    },
    {
      "cell_type": "code",
      "metadata": {
        "id": "Waz107Jwlf27"
      },
      "source": [
        "new_id = \"z-+.^.\""
      ],
      "execution_count": 122,
      "outputs": []
    },
    {
      "cell_type": "code",
      "metadata": {
        "id": "Cj5XSKCjmfkw"
      },
      "source": [
        "new_id = \"=.=\""
      ],
      "execution_count": 123,
      "outputs": []
    },
    {
      "cell_type": "code",
      "metadata": {
        "colab": {
          "base_uri": "https://localhost:8080/"
        },
        "id": "i7U6kaLPnJvu",
        "outputId": "3104b2be-b72b-42f8-b9c7-6dbbd68b1881"
      },
      "source": [
        "new_id = \t\"abcdefghijklmn.p\"\n",
        "len(new_id)"
      ],
      "execution_count": 124,
      "outputs": [
        {
          "output_type": "execute_result",
          "data": {
            "text/plain": [
              "16"
            ]
          },
          "metadata": {},
          "execution_count": 124
        }
      ]
    },
    {
      "cell_type": "code",
      "metadata": {
        "id": "XAjsH2Igjbly"
      },
      "source": [
        "import re\n",
        "\n",
        "def solution(new_id):\n",
        "    \n",
        "    new_id = new_id.lower()\n",
        "    new_id = re.sub(r'[^0-9a-z\\-_.]','', new_id)\n",
        "    new_id = re.sub(re.compile(\"\\.{2,}\"),\".\", new_id)\n",
        "    if len(new_id) >= 1 :\n",
        "        if new_id[0] == \".\" :\n",
        "            new_id = new_id[1:]\n",
        "    else :\n",
        "        return \"aaa\"\n",
        "    if len(new_id) >= 1 :\n",
        "        if new_id[-1] == \".\":\n",
        "            new_id = new_id[:-1]\n",
        "    else :\n",
        "        return \"aaa\"\n",
        "    \n",
        "    if len(new_id) > 15 :\n",
        "        if new_id[14] == \".\" :\n",
        "            new_id = new_id[:14]\n",
        "            while new_id[-1] == \".\" :\n",
        "                new_id = new_id[:-1]\n",
        "            return new_id\n",
        "        \n",
        "        else :\n",
        "            return new_id[:15]\n",
        "    elif len(new_id) < 3 :\n",
        "        while len(new_id) < 3 :\n",
        "            if (new_id[0] == \".\") :\n",
        "                new_id = new_id[1:]\n",
        "            if (new_id[-1] == \".\") :\n",
        "                new_id = new_id[:-1]\n",
        "                \n",
        "            if len(new_id) < 1 :\n",
        "                return \"aaa\"\n",
        "            else :\n",
        "                new_id += new_id[-1]\n",
        "                \n",
        "        return new_id\n",
        "    else :\n",
        "        return new_id"
      ],
      "execution_count": 125,
      "outputs": []
    },
    {
      "cell_type": "code",
      "metadata": {
        "colab": {
          "base_uri": "https://localhost:8080/",
          "height": 34
        },
        "id": "AXzUnjJ2jhA4",
        "outputId": "827b4adb-8d23-4d02-d421-6dcb6fde5bc3"
      },
      "source": [
        "solution(new_id)"
      ],
      "execution_count": 126,
      "outputs": [
        {
          "output_type": "execute_result",
          "data": {
            "application/vnd.google.colaboratory.intrinsic+json": {
              "type": "string"
            },
            "text/plain": [
              "'abcdefghijklmn'"
            ]
          },
          "metadata": {},
          "execution_count": 126
        }
      ]
    },
    {
      "cell_type": "code",
      "metadata": {
        "id": "GVzHtoTE12NO"
      },
      "source": [
        ""
      ],
      "execution_count": null,
      "outputs": []
    }
  ]
}