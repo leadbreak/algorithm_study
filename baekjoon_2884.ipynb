{
  "nbformat": 4,
  "nbformat_minor": 0,
  "metadata": {
    "colab": {
      "name": "baekjoon_2884.ipynb",
      "provenance": [],
      "authorship_tag": "ABX9TyNe2Sb+FQnEE+L1H7HQeqXg",
      "include_colab_link": true
    },
    "kernelspec": {
      "name": "python3",
      "display_name": "Python 3"
    },
    "language_info": {
      "name": "python"
    }
  },
  "cells": [
    {
      "cell_type": "markdown",
      "metadata": {
        "id": "view-in-github",
        "colab_type": "text"
      },
      "source": [
        "<a href=\"https://colab.research.google.com/github/leadbreak/algorithm_study/blob/main/baekjoon_2884.ipynb\" target=\"_parent\"><img src=\"https://colab.research.google.com/assets/colab-badge.svg\" alt=\"Open In Colab\"/></a>"
      ]
    },
    {
      "cell_type": "markdown",
      "source": [
        "### BAEKJOON 기본 세팅 및 기초 문제 등 확인하며 사전 준비"
      ],
      "metadata": {
        "id": "cfp7q-UEtP5B"
      }
    },
    {
      "cell_type": "code",
      "source": [
        "hour, min = map(int, input().split())\n",
        "\n",
        "if min >= 45 :\n",
        "    min -= 45\n",
        "else :\n",
        "    min += 15\n",
        "    hour -= 1\n",
        "\n",
        "    if hour < 0 :\n",
        "      hour = 23\n",
        "\n",
        "print(f\"{hour} {min}\")"
      ],
      "metadata": {
        "colab": {
          "base_uri": "https://localhost:8080/"
        },
        "id": "FurkWyNQrxnW",
        "outputId": "6901bd26-547d-4d9b-d527-95a6babee238"
      },
      "execution_count": 9,
      "outputs": [
        {
          "output_type": "stream",
          "name": "stdout",
          "text": [
            "0 30\n",
            "23 45\n"
          ]
        }
      ]
    }
  ]
}