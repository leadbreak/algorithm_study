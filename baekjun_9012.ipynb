{
  "nbformat": 4,
  "nbformat_minor": 0,
  "metadata": {
    "colab": {
      "name": "baekjun_9012.ipynb",
      "provenance": [],
      "collapsed_sections": [],
      "authorship_tag": "ABX9TyPkpQS20G1CgJJUtBENPZXI",
      "include_colab_link": true
    },
    "kernelspec": {
      "name": "python3",
      "display_name": "Python 3"
    },
    "language_info": {
      "name": "python"
    }
  },
  "cells": [
    {
      "cell_type": "markdown",
      "metadata": {
        "id": "view-in-github",
        "colab_type": "text"
      },
      "source": [
        "<a href=\"https://colab.research.google.com/github/leadbreak/algorithm_study/blob/main/baekjun_9012.ipynb\" target=\"_parent\"><img src=\"https://colab.research.google.com/assets/colab-badge.svg\" alt=\"Open In Colab\"/></a>"
      ]
    },
    {
      "cell_type": "code",
      "source": [
        "n = int(input())\n",
        "\n",
        "for _ in range(n) :\n",
        "  stack = []\n",
        "  string = [s for s in input()]\n",
        "  \n",
        "  is_vps = True\n",
        "  for s in string :\n",
        "    if s == \"(\" :\n",
        "      stack.append(s)\n",
        "    else :\n",
        "      if len(stack) < 1 :\n",
        "        is_vps = False\n",
        "        break\n",
        "      stack.pop()\n",
        "\n",
        "  if is_vps and len(stack) == 0 :\n",
        "    print(\"YES\")\n",
        "  else :\n",
        "    print(\"NO\")"
      ],
      "metadata": {
        "colab": {
          "base_uri": "https://localhost:8080/"
        },
        "id": "weu8U4AYpN7s",
        "outputId": "5b53b826-948f-4bf1-eaad-fc5024a4c1e2"
      },
      "execution_count": 16,
      "outputs": [
        {
          "output_type": "stream",
          "name": "stdout",
          "text": [
            "1\n",
            ")(())\n",
            "NO\n"
          ]
        }
      ]
    }
  ]
}