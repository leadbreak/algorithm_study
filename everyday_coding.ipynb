{
  "nbformat": 4,
  "nbformat_minor": 0,
  "metadata": {
    "colab": {
      "name": "everyday_coding.ipynb",
      "provenance": [],
      "collapsed_sections": []
    },
    "kernelspec": {
      "name": "python3",
      "display_name": "Python 3"
    }
  },
  "cells": [
    {
      "cell_type": "markdown",
      "metadata": {
        "id": "Aq_Yn46a46SS"
      },
      "source": [
        "# Day 01(21.01.16) - 3문제 "
      ]
    },
    {
      "cell_type": "markdown",
      "metadata": {
        "id": "sAkl2PINRCV6"
      },
      "source": [
        "## 1. Sales by Match\r\n",
        "\r\n",
        "https://www.hackerrank.com/challenges/sock-merchant/problem?h_l=interview&playlist_slugs%5B%5D=interview-preparation-kit&playlist_slugs%5B%5D=warmup"
      ]
    },
    {
      "cell_type": "code",
      "metadata": {
        "id": "Tb93s9NGLrYg"
      },
      "source": [
        "n = 9\r\n",
        "ar = [10, 20, 20, 10, 10, 30, 50, 10, 20]"
      ],
      "execution_count": null,
      "outputs": []
    },
    {
      "cell_type": "code",
      "metadata": {
        "id": "iyQWUQWkQSsQ"
      },
      "source": [
        "n = 15\r\n",
        "ar = [6, 5, 2, 3, 5, 2, 2, 1, 1, 5, 1, 3, 3, 3, 5]"
      ],
      "execution_count": null,
      "outputs": []
    },
    {
      "cell_type": "code",
      "metadata": {
        "colab": {
          "base_uri": "https://localhost:8080/"
        },
        "id": "PlSTGiikOW0U",
        "outputId": "1dc6c380-d878-4762-f2db-73a58d7f4d82"
      },
      "source": [
        "print(ar.count(ar[0])//2)\r\n",
        "ar = list(filter(lambda x : x != ar[0], ar))\r\n",
        "ar"
      ],
      "execution_count": null,
      "outputs": [
        {
          "output_type": "stream",
          "text": [
            "2\n"
          ],
          "name": "stdout"
        },
        {
          "output_type": "execute_result",
          "data": {
            "text/plain": [
              "[20, 20, 30, 50, 20]"
            ]
          },
          "metadata": {
            "tags": []
          },
          "execution_count": 6
        }
      ]
    },
    {
      "cell_type": "code",
      "metadata": {
        "colab": {
          "base_uri": "https://localhost:8080/"
        },
        "id": "fktZ0sk-NZ38",
        "outputId": "66ecaebf-b599-4819-c4ce-e1b7f7c9b3ce"
      },
      "source": [
        "cnt = 0\r\n",
        "for i in range(n) :\r\n",
        "  try : \r\n",
        "    if ar.count(ar[0]) > 1 :\r\n",
        "      cnt += (ar.count(ar[0])//2)\r\n",
        "      ar = list(filter(lambda x : x != ar[0], ar))\r\n",
        "    else :\r\n",
        "      ar = ar[1:]\r\n",
        "  except : break\r\n",
        "\r\n",
        "print(cnt)"
      ],
      "execution_count": null,
      "outputs": [
        {
          "output_type": "stream",
          "text": [
            "6\n"
          ],
          "name": "stdout"
        }
      ]
    },
    {
      "cell_type": "markdown",
      "metadata": {
        "id": "fTmIazmERKTP"
      },
      "source": [
        "##2. Jumping on the clouds\r\n",
        "https://www.hackerrank.com/challenges/jumping-on-the-clouds/problem?h_l=interview&playlist_slugs%5B%5D=interview-preparation-kit&playlist_slugs%5B%5D=warmup"
      ]
    },
    {
      "cell_type": "code",
      "metadata": {
        "id": "zB4Yv4ynR0zS"
      },
      "source": [
        "n = 7\r\n",
        "c = [0, 0, 1, 0, 0, 1, 0]"
      ],
      "execution_count": null,
      "outputs": []
    },
    {
      "cell_type": "code",
      "metadata": {
        "id": "77fL5YnuTh3i"
      },
      "source": [
        "n = 6\r\n",
        "c = [0, 0, 0, 0, 1, 0] "
      ],
      "execution_count": null,
      "outputs": []
    },
    {
      "cell_type": "code",
      "metadata": {
        "id": "1CUECYH-fomS"
      },
      "source": [
        "# n = 6\r\n",
        "c = [0, 0, 1, 0, 0, 0, 0, 1, 0, 0] "
      ],
      "execution_count": null,
      "outputs": []
    },
    {
      "cell_type": "code",
      "metadata": {
        "id": "L1OB9VYFg_C0"
      },
      "source": [
        "cnt = 0"
      ],
      "execution_count": null,
      "outputs": []
    },
    {
      "cell_type": "code",
      "metadata": {
        "colab": {
          "base_uri": "https://localhost:8080/"
        },
        "id": "TAhKeLR5kjv6",
        "outputId": "434283a3-1b2b-4dbc-8521-77f705cee6ac"
      },
      "source": [
        "cnt = 0\r\n",
        "for i in range(len(c)) :\r\n",
        "  try :\r\n",
        "    if c[0] == c[1] == c[2] :\r\n",
        "      cnt += 1\r\n",
        "      c = c[2:]\r\n",
        "    elif c[0] == c[1] :\r\n",
        "      cnt += 2\r\n",
        "      c = c[3:]\r\n",
        "    elif c[0] == c[2] :\r\n",
        "      cnt += 1\r\n",
        "      c = c[2:]\r\n",
        "    else :\r\n",
        "      pass\r\n",
        "\r\n",
        "  except : \r\n",
        "    if len(c) > 1 :\r\n",
        "      cnt += 1\r\n",
        "      break\r\n",
        "    else :\r\n",
        "      break\r\n",
        "print(cnt)"
      ],
      "execution_count": null,
      "outputs": [
        {
          "output_type": "stream",
          "text": [
            "3\n"
          ],
          "name": "stdout"
        }
      ]
    },
    {
      "cell_type": "code",
      "metadata": {
        "id": "aR13P5AErCWX"
      },
      "source": [
        ""
      ],
      "execution_count": null,
      "outputs": []
    },
    {
      "cell_type": "markdown",
      "metadata": {
        "id": "GT5luxS4rZk6"
      },
      "source": [
        "##3. Repeating String\r\n",
        "https://www.hackerrank.com/challenges/repeated-string/problem?h_l=interview&playlist_slugs%5B%5D=interview-preparation-kit&playlist_slugs%5B%5D=warmup&page=2"
      ]
    },
    {
      "cell_type": "code",
      "metadata": {
        "id": "wBQHKLcMrgIJ"
      },
      "source": [
        "s = \"aba\"\r\n",
        "n = 10"
      ],
      "execution_count": null,
      "outputs": []
    },
    {
      "cell_type": "code",
      "metadata": {
        "colab": {
          "base_uri": "https://localhost:8080/",
          "height": 35
        },
        "id": "VbamVhXmyvs0",
        "outputId": "6131a65f-61a9-47ab-8cca-b0696e64e6ec"
      },
      "source": [
        "s * 3"
      ],
      "execution_count": null,
      "outputs": [
        {
          "output_type": "execute_result",
          "data": {
            "application/vnd.google.colaboratory.intrinsic+json": {
              "type": "string"
            },
            "text/plain": [
              "'abaabaaba'"
            ]
          },
          "metadata": {
            "tags": []
          },
          "execution_count": 360
        }
      ]
    },
    {
      "cell_type": "code",
      "metadata": {
        "id": "WwPosYCow0ej"
      },
      "source": [
        "s = \"abcac\"\r\n",
        "n = 10"
      ],
      "execution_count": null,
      "outputs": []
    },
    {
      "cell_type": "code",
      "metadata": {
        "id": "JAWYNMSYxfms"
      },
      "source": [
        "s = \"a\"\r\n",
        "n = 1000000"
      ],
      "execution_count": null,
      "outputs": []
    },
    {
      "cell_type": "code",
      "metadata": {
        "id": "RenN8JN50SqT"
      },
      "source": [
        "s = \"kmretasscityylpdhuwjirnqimlkcgxubxmsxpypgzxtenweirknjtasxtvxemtwxuarabssvqdnktqadhyktagjxoanknhgilnm\"\r\n",
        "n = 736778906400"
      ],
      "execution_count": null,
      "outputs": []
    },
    {
      "cell_type": "code",
      "metadata": {
        "id": "QswlFKw-2AD4"
      },
      "source": [
        "s = \"jdiacikk\"\r\n",
        "n = 899491"
      ],
      "execution_count": null,
      "outputs": []
    },
    {
      "cell_type": "code",
      "metadata": {
        "id": "-AtB6CGG3DL1"
      },
      "source": [
        "s = \"afcfffaged\"\r\n",
        "n = 962645758455"
      ],
      "execution_count": null,
      "outputs": []
    },
    {
      "cell_type": "code",
      "metadata": {
        "colab": {
          "base_uri": "https://localhost:8080/"
        },
        "id": "Nx5Pefhs0d1l",
        "outputId": "d69d598b-9e11-4e28-a635-3cdfdb98eb1c"
      },
      "source": [
        "list(Counter(s).most_common(1)[0])[1]"
      ],
      "execution_count": null,
      "outputs": [
        {
          "output_type": "execute_result",
          "data": {
            "text/plain": [
              "8"
            ]
          },
          "metadata": {
            "tags": []
          },
          "execution_count": 382
        }
      ]
    },
    {
      "cell_type": "code",
      "metadata": {
        "colab": {
          "base_uri": "https://localhost:8080/",
          "height": 35
        },
        "id": "t1q8TR4U1Igb",
        "outputId": "60bd0a2f-939b-4a16-fb60-62ff73314c30"
      },
      "source": [
        "list(Counter(s).most_common(1)[0])[0]"
      ],
      "execution_count": null,
      "outputs": [
        {
          "output_type": "execute_result",
          "data": {
            "application/vnd.google.colaboratory.intrinsic+json": {
              "type": "string"
            },
            "text/plain": [
              "'t'"
            ]
          },
          "metadata": {
            "tags": []
          },
          "execution_count": 384
        }
      ]
    },
    {
      "cell_type": "code",
      "metadata": {
        "colab": {
          "base_uri": "https://localhost:8080/"
        },
        "id": "4W1I4c47wuTI",
        "outputId": "2e97a13c-5314-428b-e8ee-10f86b8c169e"
      },
      "source": [
        "Counter(s).values()"
      ],
      "execution_count": null,
      "outputs": [
        {
          "output_type": "execute_result",
          "data": {
            "text/plain": [
              "dict_values([2, 1])"
            ]
          },
          "metadata": {
            "tags": []
          },
          "execution_count": 347
        }
      ]
    },
    {
      "cell_type": "code",
      "metadata": {
        "colab": {
          "base_uri": "https://localhost:8080/"
        },
        "id": "lmp-H0oYwAUb",
        "outputId": "960cc03a-267c-4333-deb5-8a060a29e94e"
      },
      "source": [
        "list(Counter(s).values())[0]"
      ],
      "execution_count": null,
      "outputs": [
        {
          "output_type": "execute_result",
          "data": {
            "text/plain": [
              "2"
            ]
          },
          "metadata": {
            "tags": []
          },
          "execution_count": 346
        }
      ]
    },
    {
      "cell_type": "code",
      "metadata": {
        "colab": {
          "base_uri": "https://localhost:8080/"
        },
        "id": "4wvu9bIRzEgl",
        "outputId": "eee0d803-9d69-4ff9-ad65-6613c5625ac4"
      },
      "source": [
        "# 문자열에서 가장 많이 반복된 글자를 카운트한 결과\r\n",
        "\r\n",
        "a = (n // len(s)) * list(Counter(s).most_common(1)[0])[1]\r\n",
        "b = \"\"\r\n",
        "c = n % len(s)\r\n",
        "\r\n",
        "for j in range(c) :\r\n",
        "  b += s[j]\r\n",
        "\r\n",
        "print(b.count(list(Counter(s).most_common(1)[0])[0]))\r\n",
        "print(b)\r\n",
        "print(b.count(list(Counter(s).most_common(1)[0])[0]) + a)"
      ],
      "execution_count": null,
      "outputs": [
        {
          "output_type": "stream",
          "text": [
            "3\n",
            "afcff\n",
            "385058303383\n"
          ],
          "name": "stdout"
        }
      ]
    },
    {
      "cell_type": "code",
      "metadata": {
        "colab": {
          "base_uri": "https://localhost:8080/"
        },
        "id": "rAWp2HY74HmM",
        "outputId": "e5c91f94-2a1c-47d7-d791-ffcb58bbad09"
      },
      "source": [
        "s.count(\"a\")"
      ],
      "execution_count": null,
      "outputs": [
        {
          "output_type": "execute_result",
          "data": {
            "text/plain": [
              "2"
            ]
          },
          "metadata": {
            "tags": []
          },
          "execution_count": 423
        }
      ]
    },
    {
      "cell_type": "code",
      "metadata": {
        "colab": {
          "base_uri": "https://localhost:8080/"
        },
        "id": "5wzhtBAM3vHV",
        "outputId": "25ec29ff-96b8-41a2-ce5b-4437e6982182"
      },
      "source": [
        "# 해당 문자열에서 'a'만 센 결과\r\n",
        "\r\n",
        "x = (n // len(s)) * s.count(\"a\")\r\n",
        "y = n % len(s)\r\n",
        "b = \"\"\r\n",
        "\r\n",
        "for j in range(c) :\r\n",
        "  b += s[j]\r\n",
        "\r\n",
        "print(x + b.count(\"a\"))"
      ],
      "execution_count": null,
      "outputs": [
        {
          "output_type": "stream",
          "text": [
            "192529151691\n"
          ],
          "name": "stdout"
        }
      ]
    },
    {
      "cell_type": "code",
      "metadata": {
        "id": "7G5ROMfU433o"
      },
      "source": [
        ""
      ],
      "execution_count": null,
      "outputs": []
    },
    {
      "cell_type": "markdown",
      "metadata": {
        "id": "D04fdgrNclG-"
      },
      "source": [
        "#Day 02.(21.01.17) - promgrammers(3문제) : 프로그래머스는 hackerank 이후에 할 것."
      ]
    },
    {
      "cell_type": "markdown",
      "metadata": {
        "id": "NZX-wzhrfuvM"
      },
      "source": [
        "##1. 완주하지 못한 선수\r\n",
        "https://programmers.co.kr/learn/courses/30/lessons/42576"
      ]
    },
    {
      "cell_type": "code",
      "metadata": {
        "id": "xBWQ-tu5fyNI"
      },
      "source": [
        "p = [\"leo\", \"kiki\", \"eden\"]\r\n",
        "c = [\"eden\", \"kiki\"]"
      ],
      "execution_count": null,
      "outputs": []
    },
    {
      "cell_type": "code",
      "metadata": {
        "colab": {
          "base_uri": "https://localhost:8080/",
          "height": 35
        },
        "id": "cZu-eCUnh-NG",
        "outputId": "ee9b8e4f-24c6-4b60-8620-f10dfdf5cf06"
      },
      "source": [
        "from collections import Counter\r\n",
        "list(Counter(p) - Counter(c))[0]"
      ],
      "execution_count": null,
      "outputs": [
        {
          "output_type": "execute_result",
          "data": {
            "application/vnd.google.colaboratory.intrinsic+json": {
              "type": "string"
            },
            "text/plain": [
              "'leo'"
            ]
          },
          "metadata": {
            "tags": []
          },
          "execution_count": 28
        }
      ]
    },
    {
      "cell_type": "markdown",
      "metadata": {
        "id": "-i0Yk-2_lrfh"
      },
      "source": [
        "#2. 가장 큰 수\r\n",
        "https://programmers.co.kr/learn/courses/30/lessons/42746"
      ]
    },
    {
      "cell_type": "code",
      "metadata": {
        "id": "2jGGAH7hmAp9"
      },
      "source": [
        "n = [3, 30, 34, 5, 9, 134,277,891]"
      ],
      "execution_count": null,
      "outputs": []
    },
    {
      "cell_type": "code",
      "metadata": {
        "id": "LS6nFGOzqExf"
      },
      "source": [
        "n = [6, 10, 2]"
      ],
      "execution_count": null,
      "outputs": []
    },
    {
      "cell_type": "code",
      "metadata": {
        "colab": {
          "base_uri": "https://localhost:8080/"
        },
        "id": "-UHvjHdFmDUW",
        "outputId": "995cc3c6-7702-47b3-ee01-0b00cf0c7995"
      },
      "source": [
        "n.sort(key = lambda x : (str(x).split()[0]))\r\n",
        "sorted(n)"
      ],
      "execution_count": null,
      "outputs": [
        {
          "output_type": "execute_result",
          "data": {
            "text/plain": [
              "[3, 5, 9, 30, 34]"
            ]
          },
          "metadata": {
            "tags": []
          },
          "execution_count": 34
        }
      ]
    },
    {
      "cell_type": "code",
      "metadata": {
        "colab": {
          "base_uri": "https://localhost:8080/"
        },
        "id": "r4HdycYCusH6",
        "outputId": "1b95ebda-4850-46e1-ebdd-e03db39ea826"
      },
      "source": [
        "numbers = list(map(str, n))\r\n",
        "numbers"
      ],
      "execution_count": null,
      "outputs": [
        {
          "output_type": "execute_result",
          "data": {
            "text/plain": [
              "['3', '30', '34', '5', '9']"
            ]
          },
          "metadata": {
            "tags": []
          },
          "execution_count": 68
        }
      ]
    },
    {
      "cell_type": "code",
      "metadata": {
        "colab": {
          "base_uri": "https://localhost:8080/",
          "height": 35
        },
        "id": "cEQbDqM3ut1c",
        "outputId": "4089e80e-2ca4-4524-a4ee-a215ae3759d4"
      },
      "source": [
        "numbers[0] * 3"
      ],
      "execution_count": null,
      "outputs": [
        {
          "output_type": "execute_result",
          "data": {
            "application/vnd.google.colaboratory.intrinsic+json": {
              "type": "string"
            },
            "text/plain": [
              "'333'"
            ]
          },
          "metadata": {
            "tags": []
          },
          "execution_count": 70
        }
      ]
    },
    {
      "cell_type": "code",
      "metadata": {
        "colab": {
          "base_uri": "https://localhost:8080/",
          "height": 35
        },
        "id": "FUgIhDidu0Lj",
        "outputId": "8f30b56c-91e3-4686-e4d8-646135dcaa0c"
      },
      "source": [
        "numbers[1] * 3"
      ],
      "execution_count": null,
      "outputs": [
        {
          "output_type": "execute_result",
          "data": {
            "application/vnd.google.colaboratory.intrinsic+json": {
              "type": "string"
            },
            "text/plain": [
              "'303030'"
            ]
          },
          "metadata": {
            "tags": []
          },
          "execution_count": 71
        }
      ]
    },
    {
      "cell_type": "code",
      "metadata": {
        "colab": {
          "base_uri": "https://localhost:8080/",
          "height": 35
        },
        "id": "6l_jcDPTu3Sg",
        "outputId": "9398254b-91fb-4092-f436-256101732c64"
      },
      "source": [
        "numbers[2] * 3"
      ],
      "execution_count": null,
      "outputs": [
        {
          "output_type": "execute_result",
          "data": {
            "application/vnd.google.colaboratory.intrinsic+json": {
              "type": "string"
            },
            "text/plain": [
              "'343434'"
            ]
          },
          "metadata": {
            "tags": []
          },
          "execution_count": 72
        }
      ]
    },
    {
      "cell_type": "code",
      "metadata": {
        "colab": {
          "base_uri": "https://localhost:8080/",
          "height": 35
        },
        "id": "PVbXLpdWvCui",
        "outputId": "6a004ddc-7e56-435c-88e9-0cf24a1ef751"
      },
      "source": [
        "numbers[3] * 3"
      ],
      "execution_count": null,
      "outputs": [
        {
          "output_type": "execute_result",
          "data": {
            "application/vnd.google.colaboratory.intrinsic+json": {
              "type": "string"
            },
            "text/plain": [
              "'555'"
            ]
          },
          "metadata": {
            "tags": []
          },
          "execution_count": 73
        }
      ]
    },
    {
      "cell_type": "code",
      "metadata": {
        "colab": {
          "base_uri": "https://localhost:8080/",
          "height": 35
        },
        "id": "4xTis1dKvEXE",
        "outputId": "66d0c416-a979-43ac-de69-947a246b21fa"
      },
      "source": [
        "numbers[4] * 3"
      ],
      "execution_count": null,
      "outputs": [
        {
          "output_type": "execute_result",
          "data": {
            "application/vnd.google.colaboratory.intrinsic+json": {
              "type": "string"
            },
            "text/plain": [
              "'999'"
            ]
          },
          "metadata": {
            "tags": []
          },
          "execution_count": 74
        }
      ]
    },
    {
      "cell_type": "code",
      "metadata": {
        "colab": {
          "base_uri": "https://localhost:8080/"
        },
        "id": "OV1zCHfSwGVo",
        "outputId": "c076dfd1-ba57-4bbe-f065-ad629637fcdf"
      },
      "source": [
        "numbers = list(map(str, n))\r\n",
        "numbers.sort(key=lambda x: x, reverse=True)\r\n",
        "numbers"
      ],
      "execution_count": null,
      "outputs": [
        {
          "output_type": "execute_result",
          "data": {
            "text/plain": [
              "['9', '891', '5', '34', '30', '3', '277', '134']"
            ]
          },
          "metadata": {
            "tags": []
          },
          "execution_count": 80
        }
      ]
    },
    {
      "cell_type": "code",
      "metadata": {
        "colab": {
          "base_uri": "https://localhost:8080/"
        },
        "id": "Obi9WObrwLWi",
        "outputId": "b7f025da-2d07-4f0b-cf56-7f97a1aadac8"
      },
      "source": [
        "numbers = list(map(str, n))\r\n",
        "numbers.sort(key=lambda x: x*2, reverse=True)\r\n",
        "numbers"
      ],
      "execution_count": null,
      "outputs": [
        {
          "output_type": "execute_result",
          "data": {
            "text/plain": [
              "['9', '891', '5', '34', '3', '30', '277', '134']"
            ]
          },
          "metadata": {
            "tags": []
          },
          "execution_count": 81
        }
      ]
    },
    {
      "cell_type": "code",
      "metadata": {
        "colab": {
          "base_uri": "https://localhost:8080/"
        },
        "id": "aCmpLpoAuciA",
        "outputId": "db78c6a4-8149-41d7-ad7a-160f347f864d"
      },
      "source": [
        "numbers = list(map(str, n))\r\n",
        "numbers.sort(key=lambda x: x*3, reverse=True)\r\n",
        "numbers"
      ],
      "execution_count": null,
      "outputs": [
        {
          "output_type": "execute_result",
          "data": {
            "text/plain": [
              "['9', '891', '5', '34', '3', '30', '277', '134']"
            ]
          },
          "metadata": {
            "tags": []
          },
          "execution_count": 82
        }
      ]
    },
    {
      "cell_type": "code",
      "metadata": {
        "colab": {
          "base_uri": "https://localhost:8080/",
          "height": 35
        },
        "id": "Yed2zTaIwu2H",
        "outputId": "13e95f92-bd7d-4b04-b795-dfeb487c01ad"
      },
      "source": [
        "# 숫자를 텍스트로 변환해서 사전 상 해당 숫자가 어느 위치에 있는가를 기준으로 체크\r\n",
        "def solution(numbers):\r\n",
        "    numbers = list(map(str, numbers))\r\n",
        "    numbers.sort(key=lambda x: x*3, reverse=True)\r\n",
        "    return ''.join(numbers)\r\n",
        "solution(n)"
      ],
      "execution_count": null,
      "outputs": [
        {
          "output_type": "execute_result",
          "data": {
            "application/vnd.google.colaboratory.intrinsic+json": {
              "type": "string"
            },
            "text/plain": [
              "'9891534330277134'"
            ]
          },
          "metadata": {
            "tags": []
          },
          "execution_count": 83
        }
      ]
    },
    {
      "cell_type": "code",
      "metadata": {
        "colab": {
          "base_uri": "https://localhost:8080/",
          "height": 35
        },
        "id": "2OMm5iXpnX24",
        "outputId": "18a23091-f12d-4bc0-b311-4955da250a9d"
      },
      "source": [
        "# 숫자를 텍스트로 변환해서 사전 상 해당 숫자가 어느 위치에 있는가를 기준으로 체크\r\n",
        "def solution(numbers):\r\n",
        "    numbers = list(map(str, numbers))\r\n",
        "    numbers.sort(key=lambda x: x*3, reverse=True)\r\n",
        "    return str(int(''.join(numbers)))\r\n",
        "solution(n)"
      ],
      "execution_count": null,
      "outputs": [
        {
          "output_type": "execute_result",
          "data": {
            "application/vnd.google.colaboratory.intrinsic+json": {
              "type": "string"
            },
            "text/plain": [
              "'9891534330277134'"
            ]
          },
          "metadata": {
            "tags": []
          },
          "execution_count": 84
        }
      ]
    },
    {
      "cell_type": "markdown",
      "metadata": {
        "id": "B94iQAeHvh2N"
      },
      "source": [
        "## 3. 가장 먼 노드\r\n",
        "https://programmers.co.kr/learn/courses/30/lessons/49189"
      ]
    },
    {
      "cell_type": "code",
      "metadata": {
        "id": "DrGXZOqlylj7"
      },
      "source": [
        "import collections\r\n",
        "import heapq\r\n",
        "\r\n",
        "def networkDelayTime(times : List[List[int]], N :int , K : int) -> int :\r\n",
        "  graph = collections.defaultdict(list)\r\n",
        "  # 그래프 인접 리스트 구성\r\n",
        "  for u, v, w in times :\r\n",
        "    graph[u].append((v,w))\r\n",
        "\r\n",
        "  # 큐 변수 : [(소요 시간, 정점)]\r\n",
        "  Q = [(0,K)]\r\n",
        "  dist = collections.defaultdict(int)\r\n",
        "\r\n",
        "  # 우선순위 큐 최솟값 기준으로 정점까지 최단 경로 삽입\r\n",
        "  while Q :\r\n",
        "    time, node = heapq.heappop(Q)\r\n",
        "    if node not in dist :\r\n",
        "      dist[node] = time\r\n",
        "      for v, w in graph[node] :\r\n",
        "        alt = time + w\r\n",
        "        heapq.heappush(Q, (alt, v))\r\n",
        "      \r\n",
        "  # 모든 노드의 최단 경로 존재 여부 판별\r\n",
        "  if len(dist) == N :\r\n",
        "    return max(dist.values())\r\n",
        "  return -1"
      ],
      "execution_count": null,
      "outputs": []
    },
    {
      "cell_type": "code",
      "metadata": {
        "colab": {
          "base_uri": "https://localhost:8080/"
        },
        "id": "_V1qrulR0t0E",
        "outputId": "da601595-2298-4aea-e3d5-7f4fc1d34539"
      },
      "source": [
        "# 각 노드에서 한 번에 갈 수 있는 경로 확인\r\n",
        "graph = collections.defaultdict(list)\r\n",
        "for u, v in edge :\r\n",
        "  graph[u].append(v)\r\n",
        "  # if u\r\n",
        "  graph[v].append(u)\r\n",
        "graph"
      ],
      "execution_count": null,
      "outputs": [
        {
          "output_type": "execute_result",
          "data": {
            "text/plain": [
              "defaultdict(list,\n",
              "            {1: [3, 2],\n",
              "             2: [3, 1, 4, 5],\n",
              "             3: [6, 4, 2, 1],\n",
              "             4: [3, 2],\n",
              "             5: [2],\n",
              "             6: [3]})"
            ]
          },
          "metadata": {
            "tags": []
          },
          "execution_count": 218
        }
      ]
    },
    {
      "cell_type": "code",
      "metadata": {
        "colab": {
          "base_uri": "https://localhost:8080/"
        },
        "id": "0cjG6xG_6tn3",
        "outputId": "2586f745-2d7d-4b68-cd0c-fb7cea1b77ef"
      },
      "source": [
        "import numpy as np\r\n",
        "cnt = 1\r\n",
        "n_list = list(np.arange(start=1, stop=n+1))\r\n",
        "n_list"
      ],
      "execution_count": null,
      "outputs": [
        {
          "output_type": "execute_result",
          "data": {
            "text/plain": [
              "[1, 2, 3, 4, 5, 6]"
            ]
          },
          "metadata": {
            "tags": []
          },
          "execution_count": 213
        }
      ]
    },
    {
      "cell_type": "code",
      "metadata": {
        "colab": {
          "base_uri": "https://localhost:8080/"
        },
        "id": "Rt23ffS7AaWP",
        "outputId": "0dfdef04-51fc-4374-9862-9d17f9865add"
      },
      "source": [
        "graph[1] == n_list"
      ],
      "execution_count": null,
      "outputs": [
        {
          "output_type": "execute_result",
          "data": {
            "text/plain": [
              "array([ True,  True,  True,  True,  True,  True])"
            ]
          },
          "metadata": {
            "tags": []
          },
          "execution_count": 217
        }
      ]
    },
    {
      "cell_type": "code",
      "metadata": {
        "colab": {
          "base_uri": "https://localhost:8080/"
        },
        "id": "5DT9pTL37T-7",
        "outputId": "2330d2d1-aa9c-4880-9097-985da74d6180"
      },
      "source": [
        "graph[1]"
      ],
      "execution_count": null,
      "outputs": [
        {
          "output_type": "execute_result",
          "data": {
            "text/plain": [
              "[3, 2]"
            ]
          },
          "metadata": {
            "tags": []
          },
          "execution_count": 151
        }
      ]
    },
    {
      "cell_type": "code",
      "metadata": {
        "colab": {
          "base_uri": "https://localhost:8080/"
        },
        "id": "TON03Og48rgg",
        "outputId": "c94b5196-bc42-46b7-f499-5c4f6d485696"
      },
      "source": [
        "edge"
      ],
      "execution_count": null,
      "outputs": [
        {
          "output_type": "execute_result",
          "data": {
            "text/plain": [
              "[[3, 6], [4, 3], [3, 2], [1, 3], [1, 2], [2, 4], [5, 2]]"
            ]
          },
          "metadata": {
            "tags": []
          },
          "execution_count": 164
        }
      ]
    },
    {
      "cell_type": "code",
      "metadata": {
        "colab": {
          "base_uri": "https://localhost:8080/"
        },
        "id": "-aBSKuhr7y25",
        "outputId": "fa5b7d62-1a4b-48b7-f4a4-cd41066f60f6"
      },
      "source": [
        "cnt += 1\r\n",
        "print(graph[1])\r\n",
        "for i in graph[1] :\r\n",
        "  for j in graph[i] :\r\n",
        "    if j not in graph[1] :\r\n",
        "      graph[1].append(j)\r\n",
        "      # print(j)\r\n",
        "graph[1].sort()\r\n",
        "print(graph[1])\r\n",
        "print(cnt)"
      ],
      "execution_count": null,
      "outputs": [
        {
          "output_type": "stream",
          "text": [
            "[1, 2, 3, 4, 5, 6]\n",
            "[1, 2, 3, 4, 5, 6]\n",
            "3\n"
          ],
          "name": "stdout"
        }
      ]
    },
    {
      "cell_type": "code",
      "metadata": {
        "colab": {
          "base_uri": "https://localhost:8080/"
        },
        "id": "tyoP5VEj_UNG",
        "outputId": "b970505c-ef8f-4a86-fc35-d96a1681aaab"
      },
      "source": [
        "graph[1].sort()\r\n",
        "graph[1]"
      ],
      "execution_count": null,
      "outputs": [
        {
          "output_type": "execute_result",
          "data": {
            "text/plain": [
              "[2, 3]"
            ]
          },
          "metadata": {
            "tags": []
          },
          "execution_count": 197
        }
      ]
    },
    {
      "cell_type": "code",
      "metadata": {
        "colab": {
          "base_uri": "https://localhost:8080/"
        },
        "id": "mqPZeiVi_vKV",
        "outputId": "1b62a29f-8872-4241-cf86-7149f80d2c6a"
      },
      "source": [
        "graph[1]"
      ],
      "execution_count": null,
      "outputs": [
        {
          "output_type": "execute_result",
          "data": {
            "text/plain": [
              "[3, 2]"
            ]
          },
          "metadata": {
            "tags": []
          },
          "execution_count": 196
        }
      ]
    },
    {
      "cell_type": "code",
      "metadata": {
        "id": "QabwfGQl_waK"
      },
      "source": [
        "n_list"
      ],
      "execution_count": null,
      "outputs": []
    },
    {
      "cell_type": "code",
      "metadata": {
        "colab": {
          "base_uri": "https://localhost:8080/"
        },
        "id": "70MXX1iGAtPa",
        "outputId": "8b26d9ae-5427-495a-df94-2a424dd7e903"
      },
      "source": [
        "# 각 노드에서 한 번에 갈 수 있는 경로 확인\r\n",
        "graph = collections.defaultdict(list)\r\n",
        "for u, v in edge :\r\n",
        "  graph[u].append(v)\r\n",
        "  # if u\r\n",
        "  graph[v].append(u)\r\n",
        "graph"
      ],
      "execution_count": null,
      "outputs": [
        {
          "output_type": "execute_result",
          "data": {
            "text/plain": [
              "defaultdict(list,\n",
              "            {1: [3, 2],\n",
              "             2: [3, 1, 4, 5],\n",
              "             3: [6, 4, 2, 1],\n",
              "             4: [3, 2],\n",
              "             5: [2],\n",
              "             6: [3]})"
            ]
          },
          "metadata": {
            "tags": []
          },
          "execution_count": 234
        }
      ]
    },
    {
      "cell_type": "code",
      "metadata": {
        "colab": {
          "base_uri": "https://localhost:8080/"
        },
        "id": "gZN_bFNKEJrX",
        "outputId": "3b25e5f2-c933-4bef-e5cc-cdbd3e9cdafe"
      },
      "source": [
        "# 각 노드에서 한 번에 갈 수 있는 경로 확인\r\n",
        "graph = collections.defaultdict(list)\r\n",
        "for u, v in edge :\r\n",
        "  graph[u].append(v)\r\n",
        "  if u not in graph[v] :\r\n",
        "    graph[v].append(u)\r\n",
        "graph"
      ],
      "execution_count": null,
      "outputs": [
        {
          "output_type": "execute_result",
          "data": {
            "text/plain": [
              "defaultdict(list,\n",
              "            {1: [3, 2],\n",
              "             2: [3, 1, 4, 5],\n",
              "             3: [6, 4, 2, 1],\n",
              "             4: [3, 2],\n",
              "             5: [2],\n",
              "             6: [3]})"
            ]
          },
          "metadata": {
            "tags": []
          },
          "execution_count": 249
        }
      ]
    },
    {
      "cell_type": "code",
      "metadata": {
        "colab": {
          "base_uri": "https://localhost:8080/"
        },
        "id": "9QyFlmQ1Bqbs",
        "outputId": "427d1045-58c5-4363-9bdc-67d90508e411"
      },
      "source": [
        "# 각 노드에서 한 번에 갈 수 있는 경로 확인\r\n",
        "graph = collections.defaultdict(list)\r\n",
        "for u, v in edge :\r\n",
        "  graph[u].append(v)\r\n",
        "  if u not in graph[v] :\r\n",
        "    graph[v].append(u)\r\n",
        "graph\r\n",
        "\r\n",
        "cnt = 1\r\n",
        "n_list = list(np.arange(start=1, stop=n+1))\r\n",
        "\r\n",
        "while True :\r\n",
        "  print(graph[1])\r\n",
        "  cnt += 1\r\n",
        "  for i in graph[1] :\r\n",
        "    for j in graph[i] :\r\n",
        "      if j not in graph[1] :\r\n",
        "        graph[1].append(j)\r\n",
        "\r\n",
        "  if len(graph[1]) == n :\r\n",
        "    break \r\n",
        "\r\n",
        "result = cnt + 1\r\n",
        "\r\n",
        "print(result)\r\n",
        "graph"
      ],
      "execution_count": null,
      "outputs": [
        {
          "output_type": "stream",
          "text": [
            "[3, 2]\n",
            "3\n"
          ],
          "name": "stdout"
        },
        {
          "output_type": "execute_result",
          "data": {
            "text/plain": [
              "defaultdict(list,\n",
              "            {1: [3, 2, 6, 4, 1, 5],\n",
              "             2: [3, 1, 4, 5],\n",
              "             3: [6, 4, 2, 1],\n",
              "             4: [3, 2],\n",
              "             5: [2],\n",
              "             6: [3]})"
            ]
          },
          "metadata": {
            "tags": []
          },
          "execution_count": 250
        }
      ]
    },
    {
      "cell_type": "code",
      "metadata": {
        "colab": {
          "base_uri": "https://localhost:8080/"
        },
        "id": "kpCR_0hdA6cr",
        "outputId": "c8071180-cf28-4076-c56c-a967bfd8573d"
      },
      "source": [
        "cnt"
      ],
      "execution_count": null,
      "outputs": [
        {
          "output_type": "execute_result",
          "data": {
            "text/plain": [
              "1"
            ]
          },
          "metadata": {
            "tags": []
          },
          "execution_count": 227
        }
      ]
    },
    {
      "cell_type": "code",
      "metadata": {
        "colab": {
          "base_uri": "https://localhost:8080/"
        },
        "id": "wKCNJAQh3AqB",
        "outputId": "59b4e416-ba2e-4f9c-f167-d90e0cbd4439"
      },
      "source": [
        "graph[3]"
      ],
      "execution_count": null,
      "outputs": [
        {
          "output_type": "execute_result",
          "data": {
            "text/plain": [
              "[(6, 1), (2, 1)]"
            ]
          },
          "metadata": {
            "tags": []
          },
          "execution_count": 106
        }
      ]
    },
    {
      "cell_type": "code",
      "metadata": {
        "id": "aoZGVKWFy2MA"
      },
      "source": [
        "n = 6\r\n",
        "edge = [[3, 6], [4, 3], [3, 2], [1, 3], [1, 2], [2, 4], [5, 2]] # return = 3"
      ],
      "execution_count": null,
      "outputs": []
    },
    {
      "cell_type": "markdown",
      "metadata": {
        "id": "xexKbBahy7nk"
      },
      "source": [
        "![image.png](data:image/png;base64,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)"
      ]
    },
    {
      "cell_type": "code",
      "metadata": {
        "colab": {
          "base_uri": "https://localhost:8080/"
        },
        "id": "CY7v4syIvf-L",
        "outputId": "16a91936-09ed-477d-996c-57d8bf06daf7"
      },
      "source": [
        "fail"
      ],
      "execution_count": null,
      "outputs": [
        {
          "output_type": "execute_result",
          "data": {
            "text/plain": [
              "[[3, 6], [4, 3], [3, 2], [1, 3], [1, 2], [2, 4], [5, 2]]"
            ]
          },
          "metadata": {
            "tags": []
          },
          "execution_count": 143
        }
      ]
    },
    {
      "cell_type": "markdown",
      "metadata": {
        "id": "KQgsXk0Qd2vX"
      },
      "source": [
        "# Day 03 (21.01.18)"
      ]
    },
    {
      "cell_type": "markdown",
      "metadata": {
        "id": "GLR8MoBhfb5m"
      },
      "source": [
        "##1. Sorting: Comparator\r\n",
        "https://www.hackerrank.com/challenges/ctci-comparator-sorting/problem?h_l=interview&playlist_slugs%5B%5D=interview-preparation-kit&playlist_slugs%5B%5D=sorting"
      ]
    },
    {
      "cell_type": "code",
      "metadata": {
        "colab": {
          "base_uri": "https://localhost:8080/"
        },
        "id": "jjIaLUcQffLr",
        "outputId": "1d364f0b-ba2b-40e0-994a-1682e47ef7e7"
      },
      "source": [
        "import sys\r\n",
        "\r\n",
        "name_score_list = [[\"amy\", 100], [\"david\", 100],[\"heraldo\", 50],[\"aakansha\", 75],[\"aleksa\", 150]]\r\n",
        "name_score_list"
      ],
      "execution_count": null,
      "outputs": [
        {
          "output_type": "execute_result",
          "data": {
            "text/plain": [
              "[['amy', 100],\n",
              " ['david', 100],\n",
              " ['heraldo', 50],\n",
              " ['aakansha', 75],\n",
              " ['aleksa', 150]]"
            ]
          },
          "metadata": {
            "tags": []
          },
          "execution_count": 15
        }
      ]
    },
    {
      "cell_type": "code",
      "metadata": {
        "colab": {
          "base_uri": "https://localhost:8080/"
        },
        "id": "_n4ijckLgQNi",
        "outputId": "02e0157b-a873-4615-d7f1-bd96c832c0d5"
      },
      "source": [
        "name_score_list.sort(key= lambda x : [-x[1], x[0]]) # 오름차순과 내림차순을 혼용할 경우 - 를 사용\r\n",
        "name_score_list"
      ],
      "execution_count": null,
      "outputs": [
        {
          "output_type": "execute_result",
          "data": {
            "text/plain": [
              "[['aleksa', 150],\n",
              " ['amy', 100],\n",
              " ['david', 100],\n",
              " ['aakansha', 75],\n",
              " ['heraldo', 50]]"
            ]
          },
          "metadata": {
            "tags": []
          },
          "execution_count": 30
        }
      ]
    },
    {
      "cell_type": "markdown",
      "metadata": {
        "id": "umiyYilfqMJ6"
      },
      "source": [
        "#2. Greedy Algorithms : Max Min\r\n",
        "https://www.hackerrank.com/challenges/angry-children/problem?h_l=interview&playlist_slugs%5B%5D=interview-preparation-kit&playlist_slugs%5B%5D=greedy-algorithms"
      ]
    },
    {
      "cell_type": "code",
      "metadata": {
        "id": "-dcu-9PHr9nP"
      },
      "source": [
        "k = 3\r\n",
        "arr = [10,100,300,200,1000,20,30]"
      ],
      "execution_count": null,
      "outputs": []
    },
    {
      "cell_type": "code",
      "metadata": {
        "id": "Cw8h1SywtW71"
      },
      "source": [
        "k = 3\r\n",
        "arr = [100,200,300,350,400,401,402]"
      ],
      "execution_count": null,
      "outputs": []
    },
    {
      "cell_type": "code",
      "metadata": {
        "colab": {
          "base_uri": "https://localhost:8080/"
        },
        "id": "yI3627WHsJSI",
        "outputId": "c958bef8-5e2b-4c1e-eff3-95be01764014"
      },
      "source": [
        "arr.sort()\r\n",
        "arr"
      ],
      "execution_count": null,
      "outputs": [
        {
          "output_type": "execute_result",
          "data": {
            "text/plain": [
              "[10, 20, 30, 100, 200, 300, 1000]"
            ]
          },
          "metadata": {
            "tags": []
          },
          "execution_count": 36
        }
      ]
    },
    {
      "cell_type": "code",
      "metadata": {
        "colab": {
          "base_uri": "https://localhost:8080/"
        },
        "id": "4NV4RTUns0hF",
        "outputId": "cc5688cd-d6bd-416c-e32e-6f9812e93eb8"
      },
      "source": [
        "test_list = []\r\n",
        "for i in range(len(arr) - k+1) :\r\n",
        "  test_list.append(arr[i+k-1] - arr[i])\r\n",
        "print(min(test_list))"
      ],
      "execution_count": null,
      "outputs": [
        {
          "output_type": "stream",
          "text": [
            "2\n"
          ],
          "name": "stdout"
        }
      ]
    },
    {
      "cell_type": "code",
      "metadata": {
        "id": "ln9XVvXxsc8E"
      },
      "source": [
        ""
      ],
      "execution_count": null,
      "outputs": []
    },
    {
      "cell_type": "markdown",
      "metadata": {
        "id": "et5g8J_3t2RQ"
      },
      "source": [
        "#3. Search : Minimum Time Required\r\n",
        "https://www.hackerrank.com/challenges/minimum-time-required/problem?h_l=interview&playlist_slugs%5B%5D=interview-preparation-kit&playlist_slugs%5B%5D=search"
      ]
    },
    {
      "cell_type": "code",
      "metadata": {
        "id": "xfiCMCYCvcQG"
      },
      "source": [
        "machines = [1,3,4]\r\n",
        "goal = 10"
      ],
      "execution_count": null,
      "outputs": []
    },
    {
      "cell_type": "code",
      "metadata": {
        "id": "P5C3wHPjAYwb"
      },
      "source": [
        "sys.stdin = \"\"\"57495 63591 21578 16040 46349 22497 72176 59262 88198 38894 85865 6606 53218 9954 50649 66341 70853 50416 96450 89258 4692 76228 38939 56820 11252 98931 57870 8651 11694 75578 95577 85541 39168 33507 17932 85516 56003 90107 61129 44200 45352 63345 67157 14922 73298 17805 97614 44151 68221 94064 33408 89264 70291 72346 46083 97894 71277 20305 6544 99322 95882 18473 1214 51402 51979 19145 53269 7981 25604 14398 68532 70955 77742 35689 85876 67392 69845 83490 27894 38065 77553 77653 27329 64195 66351 89763 78441 53979 26419 84984 53300 38653 19808 54514 90054 71786 90010 43322 96118 15613 74071 81002 86568 51813 16690 88795 35556 2886 88636 63449 40951 82540 41101 84631 63087 7451 90745 41527 61429 17164 42862 31081 55816 62670 1946 45869 50807 91955 5542 63277 7568 79613 44278 10487 31425 77319 99281 83332 80204 87917 46780 37506 86808 4232 38488 49894 11683 29233 91420 89463 46396 34282 20543 18563 96951 22488 64431 64109 30795 69972 27385 38362 65936 88014 48848 97360 65332 64480 97043 61888 68748 43822 99393 55556 48054 37881 5449 76088 67113 13221 65550 29860 47502 2445 48422 60804 41284 12852 24912 72078 99175 68649 26791 65111 56662 91990 78822 21994 56470 75865 83881 41569 36038 99625 97124 443 37505 18925 76530 20969 32145 58432 50828 79646 77228 15601 56801 34863 44804 98064 6941 43979 66712 50083 25441 23374 42073 20614 61719 14894 12830 61951 56462 65220 61575 69938 65662 15432 88862 42192 52752 21006 16975 3580 17003 94202 35532 73803 29064 80336 71866 52356 40666 54930 18791 66106 78303 77215 3071 56373 92108 15901 18323 64921 97472 96249 34858 63133 11680 40071 21676 64432 61076 38650 84363 94430 49203 19894 84584 94619 16581 72802 63326 57246 27731 82116 23351 22385 75682 42774 95109 67789 75026 13431 32710 72497 9679 83919 35629 37711 23990 57305 18494 1417 12306 19208 12199 77861 55453 96782 88831 72034 85935 52156 29279 30017 50624 68982 52401 26305 11755 47509 10446 3132 77291 59507 75628 3322 43425 27608 57384 67414 84912 92229 85183 13570 11436 97381 7782 83240 94162 96612 55273 96449 65119 904 26465 32094 69885 95218 58399 97991 59078 85196 17474 36369 44702 93101 56042 88126 20708 13425 71892 21972 5653 73426 51893 33440 70806 59674 16679 81319 56285 88304 77767 21403 89207 4232 53497 75443 99449 28247 89785 58526 29794 7258 11246 74495 358 67287 78972 37417 80711 67215 75740 2715 40640 27632 36154 11445 87305 52833 9116 59941 41136 86882 97696 46694 91113 67544 22136 6913 12142 28272 81791 41935 35529 93036 32781 52238 60323 11752 89654 57385 95319 81746 76452 35958 9377 12605 63755 13034 65437 72870 89326 22924 59751 87021 69617 67216 70916 8104 90480 83057 36375 72270 41343 88255 81658 74123 40492 58332 2227 46498 32068 97545 28243 8519 33502 37619 21124 13608 67004 2912 86477 56330 42188 62580 43350 11804 46147 14266 36260 52978 13674 88986 25248 55017 77241 23257 45491 17732 81588 47717 64229 13655 45261 8823 22174 95115 46442 59649 25074 29797 62560 11551 86126 21099 90482 45828\"\"\""
      ],
      "execution_count": null,
      "outputs": []
    },
    {
      "cell_type": "code",
      "metadata": {
        "colab": {
          "base_uri": "https://localhost:8080/"
        },
        "id": "y-IreRxSAflA",
        "outputId": "8bf684a8-dfb9-4e55-f5c3-84485d5d5972"
      },
      "source": [
        "machines = list(map(int, sys.stdin.split(\" \")))\r\n",
        "goal = 927\r\n",
        "machines"
      ],
      "execution_count": null,
      "outputs": [
        {
          "output_type": "execute_result",
          "data": {
            "text/plain": [
              "[57495,\n",
              " 63591,\n",
              " 21578,\n",
              " 16040,\n",
              " 46349,\n",
              " 22497,\n",
              " 72176,\n",
              " 59262,\n",
              " 88198,\n",
              " 38894,\n",
              " 85865,\n",
              " 6606,\n",
              " 53218,\n",
              " 9954,\n",
              " 50649,\n",
              " 66341,\n",
              " 70853,\n",
              " 50416,\n",
              " 96450,\n",
              " 89258,\n",
              " 4692,\n",
              " 76228,\n",
              " 38939,\n",
              " 56820,\n",
              " 11252,\n",
              " 98931,\n",
              " 57870,\n",
              " 8651,\n",
              " 11694,\n",
              " 75578,\n",
              " 95577,\n",
              " 85541,\n",
              " 39168,\n",
              " 33507,\n",
              " 17932,\n",
              " 85516,\n",
              " 56003,\n",
              " 90107,\n",
              " 61129,\n",
              " 44200,\n",
              " 45352,\n",
              " 63345,\n",
              " 67157,\n",
              " 14922,\n",
              " 73298,\n",
              " 17805,\n",
              " 97614,\n",
              " 44151,\n",
              " 68221,\n",
              " 94064,\n",
              " 33408,\n",
              " 89264,\n",
              " 70291,\n",
              " 72346,\n",
              " 46083,\n",
              " 97894,\n",
              " 71277,\n",
              " 20305,\n",
              " 6544,\n",
              " 99322,\n",
              " 95882,\n",
              " 18473,\n",
              " 1214,\n",
              " 51402,\n",
              " 51979,\n",
              " 19145,\n",
              " 53269,\n",
              " 7981,\n",
              " 25604,\n",
              " 14398,\n",
              " 68532,\n",
              " 70955,\n",
              " 77742,\n",
              " 35689,\n",
              " 85876,\n",
              " 67392,\n",
              " 69845,\n",
              " 83490,\n",
              " 27894,\n",
              " 38065,\n",
              " 77553,\n",
              " 77653,\n",
              " 27329,\n",
              " 64195,\n",
              " 66351,\n",
              " 89763,\n",
              " 78441,\n",
              " 53979,\n",
              " 26419,\n",
              " 84984,\n",
              " 53300,\n",
              " 38653,\n",
              " 19808,\n",
              " 54514,\n",
              " 90054,\n",
              " 71786,\n",
              " 90010,\n",
              " 43322,\n",
              " 96118,\n",
              " 15613,\n",
              " 74071,\n",
              " 81002,\n",
              " 86568,\n",
              " 51813,\n",
              " 16690,\n",
              " 88795,\n",
              " 35556,\n",
              " 2886,\n",
              " 88636,\n",
              " 63449,\n",
              " 40951,\n",
              " 82540,\n",
              " 41101,\n",
              " 84631,\n",
              " 63087,\n",
              " 7451,\n",
              " 90745,\n",
              " 41527,\n",
              " 61429,\n",
              " 17164,\n",
              " 42862,\n",
              " 31081,\n",
              " 55816,\n",
              " 62670,\n",
              " 1946,\n",
              " 45869,\n",
              " 50807,\n",
              " 91955,\n",
              " 5542,\n",
              " 63277,\n",
              " 7568,\n",
              " 79613,\n",
              " 44278,\n",
              " 10487,\n",
              " 31425,\n",
              " 77319,\n",
              " 99281,\n",
              " 83332,\n",
              " 80204,\n",
              " 87917,\n",
              " 46780,\n",
              " 37506,\n",
              " 86808,\n",
              " 4232,\n",
              " 38488,\n",
              " 49894,\n",
              " 11683,\n",
              " 29233,\n",
              " 91420,\n",
              " 89463,\n",
              " 46396,\n",
              " 34282,\n",
              " 20543,\n",
              " 18563,\n",
              " 96951,\n",
              " 22488,\n",
              " 64431,\n",
              " 64109,\n",
              " 30795,\n",
              " 69972,\n",
              " 27385,\n",
              " 38362,\n",
              " 65936,\n",
              " 88014,\n",
              " 48848,\n",
              " 97360,\n",
              " 65332,\n",
              " 64480,\n",
              " 97043,\n",
              " 61888,\n",
              " 68748,\n",
              " 43822,\n",
              " 99393,\n",
              " 55556,\n",
              " 48054,\n",
              " 37881,\n",
              " 5449,\n",
              " 76088,\n",
              " 67113,\n",
              " 13221,\n",
              " 65550,\n",
              " 29860,\n",
              " 47502,\n",
              " 2445,\n",
              " 48422,\n",
              " 60804,\n",
              " 41284,\n",
              " 12852,\n",
              " 24912,\n",
              " 72078,\n",
              " 99175,\n",
              " 68649,\n",
              " 26791,\n",
              " 65111,\n",
              " 56662,\n",
              " 91990,\n",
              " 78822,\n",
              " 21994,\n",
              " 56470,\n",
              " 75865,\n",
              " 83881,\n",
              " 41569,\n",
              " 36038,\n",
              " 99625,\n",
              " 97124,\n",
              " 443,\n",
              " 37505,\n",
              " 18925,\n",
              " 76530,\n",
              " 20969,\n",
              " 32145,\n",
              " 58432,\n",
              " 50828,\n",
              " 79646,\n",
              " 77228,\n",
              " 15601,\n",
              " 56801,\n",
              " 34863,\n",
              " 44804,\n",
              " 98064,\n",
              " 6941,\n",
              " 43979,\n",
              " 66712,\n",
              " 50083,\n",
              " 25441,\n",
              " 23374,\n",
              " 42073,\n",
              " 20614,\n",
              " 61719,\n",
              " 14894,\n",
              " 12830,\n",
              " 61951,\n",
              " 56462,\n",
              " 65220,\n",
              " 61575,\n",
              " 69938,\n",
              " 65662,\n",
              " 15432,\n",
              " 88862,\n",
              " 42192,\n",
              " 52752,\n",
              " 21006,\n",
              " 16975,\n",
              " 3580,\n",
              " 17003,\n",
              " 94202,\n",
              " 35532,\n",
              " 73803,\n",
              " 29064,\n",
              " 80336,\n",
              " 71866,\n",
              " 52356,\n",
              " 40666,\n",
              " 54930,\n",
              " 18791,\n",
              " 66106,\n",
              " 78303,\n",
              " 77215,\n",
              " 3071,\n",
              " 56373,\n",
              " 92108,\n",
              " 15901,\n",
              " 18323,\n",
              " 64921,\n",
              " 97472,\n",
              " 96249,\n",
              " 34858,\n",
              " 63133,\n",
              " 11680,\n",
              " 40071,\n",
              " 21676,\n",
              " 64432,\n",
              " 61076,\n",
              " 38650,\n",
              " 84363,\n",
              " 94430,\n",
              " 49203,\n",
              " 19894,\n",
              " 84584,\n",
              " 94619,\n",
              " 16581,\n",
              " 72802,\n",
              " 63326,\n",
              " 57246,\n",
              " 27731,\n",
              " 82116,\n",
              " 23351,\n",
              " 22385,\n",
              " 75682,\n",
              " 42774,\n",
              " 95109,\n",
              " 67789,\n",
              " 75026,\n",
              " 13431,\n",
              " 32710,\n",
              " 72497,\n",
              " 9679,\n",
              " 83919,\n",
              " 35629,\n",
              " 37711,\n",
              " 23990,\n",
              " 57305,\n",
              " 18494,\n",
              " 1417,\n",
              " 12306,\n",
              " 19208,\n",
              " 12199,\n",
              " 77861,\n",
              " 55453,\n",
              " 96782,\n",
              " 88831,\n",
              " 72034,\n",
              " 85935,\n",
              " 52156,\n",
              " 29279,\n",
              " 30017,\n",
              " 50624,\n",
              " 68982,\n",
              " 52401,\n",
              " 26305,\n",
              " 11755,\n",
              " 47509,\n",
              " 10446,\n",
              " 3132,\n",
              " 77291,\n",
              " 59507,\n",
              " 75628,\n",
              " 3322,\n",
              " 43425,\n",
              " 27608,\n",
              " 57384,\n",
              " 67414,\n",
              " 84912,\n",
              " 92229,\n",
              " 85183,\n",
              " 13570,\n",
              " 11436,\n",
              " 97381,\n",
              " 7782,\n",
              " 83240,\n",
              " 94162,\n",
              " 96612,\n",
              " 55273,\n",
              " 96449,\n",
              " 65119,\n",
              " 904,\n",
              " 26465,\n",
              " 32094,\n",
              " 69885,\n",
              " 95218,\n",
              " 58399,\n",
              " 97991,\n",
              " 59078,\n",
              " 85196,\n",
              " 17474,\n",
              " 36369,\n",
              " 44702,\n",
              " 93101,\n",
              " 56042,\n",
              " 88126,\n",
              " 20708,\n",
              " 13425,\n",
              " 71892,\n",
              " 21972,\n",
              " 5653,\n",
              " 73426,\n",
              " 51893,\n",
              " 33440,\n",
              " 70806,\n",
              " 59674,\n",
              " 16679,\n",
              " 81319,\n",
              " 56285,\n",
              " 88304,\n",
              " 77767,\n",
              " 21403,\n",
              " 89207,\n",
              " 4232,\n",
              " 53497,\n",
              " 75443,\n",
              " 99449,\n",
              " 28247,\n",
              " 89785,\n",
              " 58526,\n",
              " 29794,\n",
              " 7258,\n",
              " 11246,\n",
              " 74495,\n",
              " 358,\n",
              " 67287,\n",
              " 78972,\n",
              " 37417,\n",
              " 80711,\n",
              " 67215,\n",
              " 75740,\n",
              " 2715,\n",
              " 40640,\n",
              " 27632,\n",
              " 36154,\n",
              " 11445,\n",
              " 87305,\n",
              " 52833,\n",
              " 9116,\n",
              " 59941,\n",
              " 41136,\n",
              " 86882,\n",
              " 97696,\n",
              " 46694,\n",
              " 91113,\n",
              " 67544,\n",
              " 22136,\n",
              " 6913,\n",
              " 12142,\n",
              " 28272,\n",
              " 81791,\n",
              " 41935,\n",
              " 35529,\n",
              " 93036,\n",
              " 32781,\n",
              " 52238,\n",
              " 60323,\n",
              " 11752,\n",
              " 89654,\n",
              " 57385,\n",
              " 95319,\n",
              " 81746,\n",
              " 76452,\n",
              " 35958,\n",
              " 9377,\n",
              " 12605,\n",
              " 63755,\n",
              " 13034,\n",
              " 65437,\n",
              " 72870,\n",
              " 89326,\n",
              " 22924,\n",
              " 59751,\n",
              " 87021,\n",
              " 69617,\n",
              " 67216,\n",
              " 70916,\n",
              " 8104,\n",
              " 90480,\n",
              " 83057,\n",
              " 36375,\n",
              " 72270,\n",
              " 41343,\n",
              " 88255,\n",
              " 81658,\n",
              " 74123,\n",
              " 40492,\n",
              " 58332,\n",
              " 2227,\n",
              " 46498,\n",
              " 32068,\n",
              " 97545,\n",
              " 28243,\n",
              " 8519,\n",
              " 33502,\n",
              " 37619,\n",
              " 21124,\n",
              " 13608,\n",
              " 67004,\n",
              " 2912,\n",
              " 86477,\n",
              " 56330,\n",
              " 42188,\n",
              " 62580,\n",
              " 43350,\n",
              " 11804,\n",
              " 46147,\n",
              " 14266,\n",
              " 36260,\n",
              " 52978,\n",
              " 13674,\n",
              " 88986,\n",
              " 25248,\n",
              " 55017,\n",
              " 77241,\n",
              " 23257,\n",
              " 45491,\n",
              " 17732,\n",
              " 81588,\n",
              " 47717,\n",
              " 64229,\n",
              " 13655,\n",
              " 45261,\n",
              " 8823,\n",
              " 22174,\n",
              " 95115,\n",
              " 46442,\n",
              " 59649,\n",
              " 25074,\n",
              " 29797,\n",
              " 62560,\n",
              " 11551,\n",
              " 86126,\n",
              " 21099,\n",
              " 90482,\n",
              " 45828]"
            ]
          },
          "metadata": {
            "tags": []
          },
          "execution_count": 96
        }
      ]
    },
    {
      "cell_type": "code",
      "metadata": {
        "colab": {
          "base_uri": "https://localhost:8080/"
        },
        "id": "9lMvGO1lvp48",
        "outputId": "85412a4a-3767-4eaa-d2f6-f2f69c482b5d"
      },
      "source": [
        "# timeout\r\n",
        "start = time()\r\n",
        "\r\n",
        "d = 1\r\n",
        "while True :\r\n",
        "  p = 0\r\n",
        "  for i in range(len(machines)) :\r\n",
        "    p += d//machines[i]\r\n",
        "\r\n",
        "  target = goal - p\r\n",
        "\r\n",
        "  if target == 0 :\r\n",
        "    break\r\n",
        "\r\n",
        "  d += 1\r\n",
        "print(d)\r\n",
        "print(time() - start)"
      ],
      "execution_count": null,
      "outputs": [
        {
          "output_type": "stream",
          "text": [
            "7\n",
            "0.00069427490234375\n"
          ],
          "name": "stdout"
        }
      ]
    },
    {
      "cell_type": "code",
      "metadata": {
        "colab": {
          "base_uri": "https://localhost:8080/"
        },
        "id": "s-XiB_wRxmys",
        "outputId": "3fd519ac-5285-430a-f19d-cdca72137181"
      },
      "source": [
        "# 방법 1 : d 조정 - 최대치에서 내려오면서 - 더 오래 걸림\r\n",
        "start = time()\r\n",
        "\r\n",
        "d = goal // min(machines)\r\n",
        "while True :\r\n",
        "  p = 0\r\n",
        "  for i in range(len(machines)) :\r\n",
        "    p += d//machines[i]\r\n",
        "\r\n",
        "  target = goal - p\r\n",
        "\r\n",
        "  if target == 0 :\r\n",
        "    break\r\n",
        "\r\n",
        "  d -= 1\r\n",
        "print(d)\r\n",
        "print(time() - start)"
      ],
      "execution_count": null,
      "outputs": [
        {
          "output_type": "stream",
          "text": [
            "7\n",
            "0.0012211799621582031\n"
          ],
          "name": "stdout"
        }
      ]
    },
    {
      "cell_type": "code",
      "metadata": {
        "colab": {
          "base_uri": "https://localhost:8080/"
        },
        "id": "xnXU-ls10AO0",
        "outputId": "f9c8b193-41af-4099-f0ce-9bf41fb4b5dc"
      },
      "source": [
        "[i for i in machines]"
      ],
      "execution_count": null,
      "outputs": [
        {
          "output_type": "execute_result",
          "data": {
            "text/plain": [
              "[1, 3, 4]"
            ]
          },
          "metadata": {
            "tags": []
          },
          "execution_count": 64
        }
      ]
    },
    {
      "cell_type": "code",
      "metadata": {
        "colab": {
          "base_uri": "https://localhost:8080/"
        },
        "id": "pPoj0O8vzzuf",
        "outputId": "db8deb59-2f12-41cb-ffb7-415479afeb2f"
      },
      "source": [
        "# 기존 방법 개선\r\n",
        "\r\n",
        "start = time()\r\n",
        "\r\n",
        "d = 1\r\n",
        "while True :\r\n",
        "  p = sum([d//i for i in machines])\r\n",
        "\r\n",
        "  target = goal - p\r\n",
        "\r\n",
        "  if target == 0 :\r\n",
        "    break\r\n",
        "\r\n",
        "  d += 1\r\n",
        "print(d)\r\n",
        "print(time() - start)"
      ],
      "execution_count": null,
      "outputs": [
        {
          "output_type": "stream",
          "text": [
            "7\n",
            "0.0004343986511230469\n"
          ],
          "name": "stdout"
        }
      ]
    },
    {
      "cell_type": "code",
      "metadata": {
        "colab": {
          "base_uri": "https://localhost:8080/"
        },
        "id": "AAVgxbL634rl",
        "outputId": "253e50b6-47e6-4721-d587-0e3529427c6c"
      },
      "source": [
        "from time import time\r\n",
        "\r\n",
        "start = time()\r\n",
        "\r\n",
        "low_rate = goal // machines[0]\r\n",
        "high_rate = goal // machines[-1]\r\n",
        "d = (low_rate + high_rate) // 2\r\n",
        "\r\n",
        "print(time() - start)"
      ],
      "execution_count": null,
      "outputs": [
        {
          "output_type": "stream",
          "text": [
            "0.0001373291015625\n"
          ],
          "name": "stdout"
        }
      ]
    },
    {
      "cell_type": "code",
      "metadata": {
        "colab": {
          "base_uri": "https://localhost:8080/"
        },
        "id": "-b8uast24JlX",
        "outputId": "e102c256-71b5-435d-ecb8-202d4207c816"
      },
      "source": [
        "import numpy as np\r\n",
        "start = time()\r\n",
        "d = np.mean(machines)\r\n",
        "print(time() - start)"
      ],
      "execution_count": null,
      "outputs": [
        {
          "output_type": "stream",
          "text": [
            "0.0011532306671142578\n"
          ],
          "name": "stdout"
        }
      ]
    },
    {
      "cell_type": "code",
      "metadata": {
        "colab": {
          "base_uri": "https://localhost:8080/"
        },
        "id": "JSA5gcscyzdf",
        "outputId": "56a72893-b996-47ed-cf18-00e3e987dafd"
      },
      "source": [
        "# 방법 2 : 조정 \r\n",
        "start = time()\r\n",
        "\r\n",
        "machines.sort()\r\n",
        "\r\n",
        "low_rate = goal // machines[0]\r\n",
        "high_rate = goal // machines[-1]\r\n",
        "d = (low_rate + high_rate) // 2\r\n",
        "\r\n",
        "while True :\r\n",
        "  p = sum([d//i for i in machines])\r\n",
        "\r\n",
        "  target = goal - p\r\n",
        "\r\n",
        "  if target == 0 :\r\n",
        "    break\r\n",
        "  elif goal > p :\r\n",
        "    d += 10\r\n",
        "  else :\r\n",
        "    d -= 1\r\n",
        "\r\n",
        "print(d)\r\n",
        "print(time() - start)"
      ],
      "execution_count": null,
      "outputs": [
        {
          "output_type": "stream",
          "text": [
            "7\n",
            "0.0003600120544433594\n"
          ],
          "name": "stdout"
        }
      ]
    },
    {
      "cell_type": "code",
      "metadata": {
        "colab": {
          "base_uri": "https://localhost:8080/"
        },
        "id": "frVfGrOU5-WM",
        "outputId": "305d5e0a-5d83-47fa-936e-ff8aa30b0263"
      },
      "source": [
        "d = (low_rate + high_rate) // 2\r\n",
        "d"
      ],
      "execution_count": null,
      "outputs": [
        {
          "output_type": "execute_result",
          "data": {
            "text/plain": [
              "6"
            ]
          },
          "metadata": {
            "tags": []
          },
          "execution_count": 81
        }
      ]
    },
    {
      "cell_type": "code",
      "metadata": {
        "colab": {
          "base_uri": "https://localhost:8080/"
        },
        "id": "dLi2W8XR8xQQ",
        "outputId": "f754ea91-ff5f-46a7-a7a2-873bc5263c1b"
      },
      "source": [
        "# 방법 2 : 조정 \r\n",
        "start = time()\r\n",
        "\r\n",
        "machines.sort()\r\n",
        "\r\n",
        "low_rate = goal // machines[0]\r\n",
        "high_rate = goal // machines[-1]\r\n",
        "d = (low_rate * 2 + high_rate) // 3\r\n",
        "o = 100\r\n",
        "\r\n",
        "while True :\r\n",
        "  \r\n",
        "  p = sum([d//i for i in machines])\r\n",
        "\r\n",
        "  target = goal - p\r\n",
        "\r\n",
        "  if target < 0 :\r\n",
        "    while goal < sum([(d - o)//i for i in machines]) :\r\n",
        "      o += 100\r\n",
        "\r\n",
        "  if target == 0 :\r\n",
        "    break\r\n",
        "  elif goal > p :\r\n",
        "    d += 1\r\n",
        "  else :\r\n",
        "    d -= 1\r\n",
        "\r\n",
        "print(d)\r\n",
        "print(time() - start)"
      ],
      "execution_count": null,
      "outputs": [
        {
          "output_type": "stream",
          "text": [
            "7\n",
            "0.0003325939178466797\n"
          ],
          "name": "stdout"
        }
      ]
    },
    {
      "cell_type": "code",
      "metadata": {
        "colab": {
          "base_uri": "https://localhost:8080/"
        },
        "id": "9kVthrHPB9xD",
        "outputId": "50b9f41f-1421-4c19-f939-6038de363931"
      },
      "source": [
        "lower_bound = (goal // (len(machines) / low_rate))\r\n",
        "\r\n",
        "upper_bound = (goal // (len(machines) / high_rate)) + 1\r\n",
        "print(lower_bound,upper_bound)"
      ],
      "execution_count": null,
      "outputs": [
        {
          "output_type": "stream",
          "text": [
            "18.0 4.0\n"
          ],
          "name": "stdout"
        }
      ]
    },
    {
      "cell_type": "code",
      "metadata": {
        "colab": {
          "base_uri": "https://localhost:8080/"
        },
        "id": "spzCOA4wCMND",
        "outputId": "3ce8bf96-2506-4346-8b23-1ac0ccf28e6f"
      },
      "source": [
        "  machines.sort()\r\n",
        "\r\n",
        "  low_rate = machines[0]\r\n",
        "  lower_bound = (goal // (len(machines) / low_rate))\r\n",
        "  high_rate = machines[-1]\r\n",
        "  upper_bound = (goal // (len(machines) / high_rate)) + 1\r\n",
        "\r\n",
        "  while lower_bound < upper_bound:\r\n",
        "\r\n",
        "      num_days = (lower_bound + upper_bound) // 2\r\n",
        "      total = getNumItems(machines, goal, num_days)\r\n",
        "      if total >= goal:\r\n",
        "          upper_bound = num_days\r\n",
        "      else:\r\n",
        "          lower_bound = num_days + 1\r\n",
        "      print(num_days)\r\n",
        "\r\n",
        "print(int(lower_bound))"
      ],
      "execution_count": null,
      "outputs": [
        {
          "output_type": "stream",
          "text": [
            "92684.0\n",
            "46673.0\n",
            "23668.0\n",
            "35171.0\n",
            "40922.0\n",
            "43798.0\n",
            "45236.0\n",
            "45955.0\n",
            "45596.0\n",
            "45416.0\n",
            "45326.0\n",
            "45281.0\n",
            "45259.0\n",
            "45270.0\n",
            "45265.0\n",
            "45262.0\n",
            "45261.0\n",
            "45260.0\n",
            "45261\n"
          ],
          "name": "stdout"
        }
      ]
    },
    {
      "cell_type": "code",
      "metadata": {
        "colab": {
          "base_uri": "https://localhost:8080/"
        },
        "id": "GID9j-w1_5M1",
        "outputId": "b28fa30a-1ca0-4b09-a750-ec3aa99f48e9"
      },
      "source": [
        "def minTime(machines, goal):\r\n",
        "    \r\n",
        "    machines.sort()\r\n",
        "\r\n",
        "    low_rate = machines[0]\r\n",
        "    lower_bound = (goal // (len(machines) / low_rate))\r\n",
        "    high_rate = machines[-1]\r\n",
        "    upper_bound = (goal // (len(machines) / high_rate)) + 1\r\n",
        "\r\n",
        "    while lower_bound < upper_bound:\r\n",
        "\r\n",
        "        num_days = (lower_bound + upper_bound) // 2\r\n",
        "        total = getNumItems(machines, goal, num_days)\r\n",
        "        if total >= goal:\r\n",
        "            upper_bound = num_days\r\n",
        "        else:\r\n",
        "            lower_bound = num_days + 1\r\n",
        "\r\n",
        "    return int(lower_bound)\r\n",
        "\r\n",
        "\r\n",
        "def getNumItems(machines, goal, num_days):\r\n",
        "\r\n",
        "    total = 0\r\n",
        "\r\n",
        "    for machine in machines:\r\n",
        "        total += (num_days // machine)\r\n",
        "\r\n",
        "    return total\r\n",
        "\r\n",
        "%timeit(minTime(machines, goal))"
      ],
      "execution_count": null,
      "outputs": [
        {
          "output_type": "stream",
          "text": [
            "1000 loops, best of 3: 1.19 ms per loop\n"
          ],
          "name": "stdout"
        }
      ]
    },
    {
      "cell_type": "code",
      "metadata": {
        "colab": {
          "base_uri": "https://localhost:8080/"
        },
        "id": "W3TalzidAD_B",
        "outputId": "10dd73a2-053c-422c-d76d-8bac56978cc7"
      },
      "source": [
        "def minTime(machines, goal):\r\n",
        "    \r\n",
        "    machines.sort()\r\n",
        "\r\n",
        "    low_rate = goal / machines[0]\r\n",
        "    high_rate = goal / machines[-1]\r\n",
        "    d = (low_rate  + high_rate) // 2\r\n",
        "    \r\n",
        "    o = 100\r\n",
        "    \r\n",
        "    while True :\r\n",
        "        p = sum([d//i for i in machines])\r\n",
        "\r\n",
        "        target = goal - p\r\n",
        "        \r\n",
        "        if target < 0 :\r\n",
        "            while goal < sum([(d - o)//i for i in machines]) :\r\n",
        "                o += 100\r\n",
        "            \r\n",
        "        if target == 0 :\r\n",
        "            break\r\n",
        "        elif goal > p :\r\n",
        "            d += 1\r\n",
        "        else :\r\n",
        "            d -= 1\r\n",
        "        \r\n",
        "    return int(d)\r\n",
        "\r\n",
        "%timeit(minTime(machines,goal))\r\n"
      ],
      "execution_count": null,
      "outputs": [
        {
          "output_type": "stream",
          "text": [
            "1 loop, best of 3: 3.08 s per loop\n"
          ],
          "name": "stdout"
        }
      ]
    },
    {
      "cell_type": "code",
      "metadata": {
        "colab": {
          "base_uri": "https://localhost:8080/"
        },
        "id": "IGi_zB8_BQrx",
        "outputId": "b9c8b8ee-8a40-4035-97c7-431008370dff"
      },
      "source": [
        "def minTime(machines, goal):\r\n",
        "    \r\n",
        "    machines.sort()\r\n",
        "\r\n",
        "    low_rate = goal / machines[0]\r\n",
        "    high_rate = goal / machines[-1]\r\n",
        "    d = (low_rate  + high_rate) // 2\r\n",
        "    # d = low_rate\r\n",
        "    o = 100\r\n",
        "    \r\n",
        "    while True :\r\n",
        "        p = getNumItems(machines, goal, d)\r\n",
        "\r\n",
        "        target = goal - p\r\n",
        "        \r\n",
        "        if target < 0 :\r\n",
        "            while goal < sum([(d - o)//i for i in machines]) :\r\n",
        "                o += 100\r\n",
        "            \r\n",
        "        if target == 0 :\r\n",
        "            break\r\n",
        "        elif goal > p :\r\n",
        "            d += 1\r\n",
        "        else :\r\n",
        "            d -= 1\r\n",
        "        \r\n",
        "    return int(d)\r\n",
        "\r\n",
        "def getNumItems(machines, goal, num_days):\r\n",
        "\r\n",
        "    total = 0\r\n",
        "\r\n",
        "    for machine in machines:\r\n",
        "        total += (num_days // machine)\r\n",
        "\r\n",
        "    return total\r\n",
        "\r\n",
        "%timeit(minTime(machines,goal))"
      ],
      "execution_count": null,
      "outputs": [
        {
          "output_type": "stream",
          "text": [
            "1 loop, best of 3: 2.96 s per loop\n"
          ],
          "name": "stdout"
        }
      ]
    },
    {
      "cell_type": "markdown",
      "metadata": {
        "id": "sLrSE1G_vK4F"
      },
      "source": [
        "#Day 04 (21.01.19)\r\n"
      ]
    },
    {
      "cell_type": "markdown",
      "metadata": {
        "id": "cP8zmMEQxyoh"
      },
      "source": [
        "##1. Search : Maximum Subarray Sum(hard)\r\n",
        "https://www.hackerrank.com/challenges/maximum-subarray-sum/problem?h_l=interview&playlist_slugs%5B%5D=interview-preparation-kit&playlist_slugs%5B%5D=search"
      ]
    },
    {
      "cell_type": "code",
      "metadata": {
        "id": "mcAQjws5x5dc"
      },
      "source": [
        "a = [3, 3, 9, 9, 5]\r\n",
        "m = 7"
      ],
      "execution_count": null,
      "outputs": []
    },
    {
      "cell_type": "code",
      "metadata": {
        "colab": {
          "base_uri": "https://localhost:8080/"
        },
        "id": "psV3dni4yPBG",
        "outputId": "d38c8ffd-e2c6-4ebd-92e7-5f6fa79339b6"
      },
      "source": [
        "b = m - 1\r\n",
        "\r\n",
        "# 하나의 값에 있을 경우\r\n",
        "[i for i in a if i % m == b]\r\n",
        "# 두 개의 합에 있을 경우"
      ],
      "execution_count": null,
      "outputs": [
        {
          "output_type": "execute_result",
          "data": {
            "text/plain": [
              "[6]"
            ]
          },
          "metadata": {
            "tags": []
          },
          "execution_count": 6
        }
      ]
    },
    {
      "cell_type": "code",
      "metadata": {
        "colab": {
          "base_uri": "https://localhost:8080/"
        },
        "id": "_ffqV3_Q0UbJ",
        "outputId": "2d08c024-3e26-46a0-c4d2-c1a9661f3d7f"
      },
      "source": [
        "c = [i % m for i in a]\r\n",
        "c"
      ],
      "execution_count": null,
      "outputs": [
        {
          "output_type": "execute_result",
          "data": {
            "text/plain": [
              "[3, 3, 2, 2, 5]"
            ]
          },
          "metadata": {
            "tags": []
          },
          "execution_count": 14
        }
      ]
    },
    {
      "cell_type": "code",
      "metadata": {
        "colab": {
          "base_uri": "https://localhost:8080/"
        },
        "id": "gXZoq0Od2qBl",
        "outputId": "9aefe6d5-db93-42bd-ea6e-be074981f739"
      },
      "source": [
        "import itertools\r\n",
        "\r\n",
        "d = list(itertools.permutations(c, 2))\r\n",
        "d"
      ],
      "execution_count": null,
      "outputs": [
        {
          "output_type": "execute_result",
          "data": {
            "text/plain": [
              "[(3, 3),\n",
              " (3, 2),\n",
              " (3, 2),\n",
              " (3, 5),\n",
              " (3, 3),\n",
              " (3, 2),\n",
              " (3, 2),\n",
              " (3, 5),\n",
              " (2, 3),\n",
              " (2, 3),\n",
              " (2, 2),\n",
              " (2, 5),\n",
              " (2, 3),\n",
              " (2, 3),\n",
              " (2, 2),\n",
              " (2, 5),\n",
              " (5, 3),\n",
              " (5, 3),\n",
              " (5, 2),\n",
              " (5, 2)]"
            ]
          },
          "metadata": {
            "tags": []
          },
          "execution_count": 19
        }
      ]
    },
    {
      "cell_type": "code",
      "metadata": {
        "colab": {
          "base_uri": "https://localhost:8080/"
        },
        "id": "3LdmBox73a6d",
        "outputId": "0bd908f4-75e3-4da0-8eae-62fa34c2096b"
      },
      "source": [
        "import itertools\r\n",
        "\r\n",
        "d = list(itertools.combinations(c, 2))\r\n",
        "d"
      ],
      "execution_count": null,
      "outputs": [
        {
          "output_type": "execute_result",
          "data": {
            "text/plain": [
              "[(3, 3),\n",
              " (3, 2),\n",
              " (3, 2),\n",
              " (3, 5),\n",
              " (3, 2),\n",
              " (3, 2),\n",
              " (3, 5),\n",
              " (2, 2),\n",
              " (2, 5),\n",
              " (2, 5)]"
            ]
          },
          "metadata": {
            "tags": []
          },
          "execution_count": 22
        }
      ]
    },
    {
      "cell_type": "code",
      "metadata": {
        "colab": {
          "base_uri": "https://localhost:8080/"
        },
        "id": "MkKAcERC3fAP",
        "outputId": "eef603c9-7f28-4e4e-d5ed-6e14c13bf68a"
      },
      "source": [
        "import itertools\r\n",
        "\r\n",
        "d = list(itertools.combinations_with_replacement(c, 2))\r\n",
        "d"
      ],
      "execution_count": null,
      "outputs": [
        {
          "output_type": "execute_result",
          "data": {
            "text/plain": [
              "[(3, 3),\n",
              " (3, 3),\n",
              " (3, 2),\n",
              " (3, 2),\n",
              " (3, 5),\n",
              " (3, 3),\n",
              " (3, 2),\n",
              " (3, 2),\n",
              " (3, 5),\n",
              " (2, 2),\n",
              " (2, 2),\n",
              " (2, 5),\n",
              " (2, 2),\n",
              " (2, 5),\n",
              " (5, 5)]"
            ]
          },
          "metadata": {
            "tags": []
          },
          "execution_count": 21
        }
      ]
    },
    {
      "cell_type": "code",
      "metadata": {
        "colab": {
          "base_uri": "https://localhost:8080/"
        },
        "id": "sDqE-eTH0bVf",
        "outputId": "d71683bf-b34c-47c3-9d55-95ab2998b7b8"
      },
      "source": [
        "# 개선 필요\r\n",
        "def maximumSum(a, m):\r\n",
        "    b = m - 1\r\n",
        "    \r\n",
        "    for j in range(2, len(a)) :\r\n",
        "        d = list(itertools.combinations(a, j))\r\n",
        "        d_list = []\r\n",
        "        \r\n",
        "        for i in range(len(d)) :\r\n",
        "            \r\n",
        "            if sum(d[i]) % m == b :\r\n",
        "                result = b\r\n",
        "                break\r\n",
        "            else :\r\n",
        "                d_list.append(sum(d[i]) % m)\r\n",
        "                result = max(d_list)\r\n",
        "        \r\n",
        "        b -= 1\r\n",
        "\r\n",
        "    return result\r\n",
        "\r\n",
        "%timeit(maximumSum(a, m))"
      ],
      "execution_count": null,
      "outputs": [
        {
          "output_type": "stream",
          "text": [
            "100000 loops, best of 3: 12.7 µs per loop\n"
          ],
          "name": "stdout"
        }
      ]
    },
    {
      "cell_type": "code",
      "metadata": {
        "colab": {
          "base_uri": "https://localhost:8080/"
        },
        "id": "AkBkg3E56UCL",
        "outputId": "c1e4e81c-ec23-4aac-f53a-06e41a7be966"
      },
      "source": [
        "# bisect를 통한 개선\r\n",
        "import bisect\r\n",
        "\r\n",
        "def maximumSum(a, m):\r\n",
        "    mm,pr=0,0\r\n",
        "    a1=[]\r\n",
        "    for i in a:\r\n",
        "        pr=(pr+i)%m\r\n",
        "        mm=max(mm,pr)\r\n",
        "        ind=bisect.bisect_left(a1,pr+1) # bisect_left 전체 array에서 특정 값(여기선 pr+1)을 넣을 위치 인덱스를 추출, 같은 값이면 왼쪽\r\n",
        "        if(ind<len(a1)):\r\n",
        "            mm=max(mm,pr-a1[ind]+m)\r\n",
        "        bisect.insort(a1,pr)\r\n",
        "    return mm\r\n",
        "%timeit(maximumSum(a, m))"
      ],
      "execution_count": null,
      "outputs": [
        {
          "output_type": "stream",
          "text": [
            "The slowest run took 4.87 times longer than the fastest. This could mean that an intermediate result is being cached.\n",
            "100000 loops, best of 3: 3.77 µs per loop\n"
          ],
          "name": "stdout"
        }
      ]
    },
    {
      "cell_type": "code",
      "metadata": {
        "colab": {
          "base_uri": "https://localhost:8080/"
        },
        "id": "nid87bBGU0Pk",
        "outputId": "57137786-dad1-4249-91e7-0505cf634839"
      },
      "source": [
        "# bisect 설명(출처: https://programming119.tistory.com/196 [개발자 아저씨들 힘을모아])\r\n",
        "\r\n",
        "from bisect import bisect_left, bisect_right \r\n",
        "def calCountsByRange(nums, left_value, right_value): \r\n",
        "  r_i = bisect_right(nums, right_value) \r\n",
        "  l_i = bisect_left(nums, left_value) \r\n",
        "  return r_i - l_i \r\n",
        "\r\n",
        "nums = [-1, -3, 5, 5, 4, 7, 1, 7, 2, 5, 6] \r\n",
        "# 5 ~ 7 을 갖는 요소의 개수 구하기 \r\n",
        "nums.sort() # 정렬은 필수 \r\n",
        "print(calCountsByRange(nums, 5, 7))"
      ],
      "execution_count": null,
      "outputs": [
        {
          "output_type": "stream",
          "text": [
            "6\n"
          ],
          "name": "stdout"
        }
      ]
    },
    {
      "cell_type": "code",
      "metadata": {
        "colab": {
          "base_uri": "https://localhost:8080/"
        },
        "id": "E0DNTUXtHFtL",
        "outputId": "aab8b254-da77-4683-faef-32c86633eeab"
      },
      "source": [
        "a"
      ],
      "execution_count": null,
      "outputs": [
        {
          "output_type": "execute_result",
          "data": {
            "text/plain": [
              "[3, 3, 9, 9, 5]"
            ]
          },
          "metadata": {
            "tags": []
          },
          "execution_count": 44
        }
      ]
    },
    {
      "cell_type": "code",
      "metadata": {
        "colab": {
          "base_uri": "https://localhost:8080/"
        },
        "id": "qw7O2Wm4F_Yj",
        "outputId": "315b65f0-a035-4300-c062-c31d1f07880b"
      },
      "source": [
        "mm,pr=0,0\r\n",
        "a1=[]\r\n",
        "\r\n",
        "for i in a:\r\n",
        "    print(i)\r\n",
        "    pr=(pr+i)%m\r\n",
        "    mm=max(mm,pr)\r\n",
        "    # print(pr, mm)\r\n",
        "    ind=bisect.bisect_left(a1,pr+1)\r\n",
        "    print(ind)\r\n",
        "    if(ind<len(a1)):\r\n",
        "        mm=max(mm,pr-a1[ind]+m)\r\n",
        "    bisect.insort(a1,pr)\r\n",
        "    print(a1)"
      ],
      "execution_count": null,
      "outputs": [
        {
          "output_type": "stream",
          "text": [
            "3\n",
            "0\n",
            "[3]\n",
            "3\n",
            "1\n",
            "[3, 6]\n",
            "9\n",
            "0\n",
            "[1, 3, 6]\n",
            "9\n",
            "2\n",
            "[1, 3, 3, 6]\n",
            "5\n",
            "1\n",
            "[1, 1, 3, 3, 6]\n"
          ],
          "name": "stdout"
        }
      ]
    },
    {
      "cell_type": "markdown",
      "metadata": {
        "id": "Xwu0alraWepM"
      },
      "source": [
        "##2. 힙heap : 더 맵게\r\n",
        "https://programmers.co.kr/learn/courses/30/lessons/42626\r\n"
      ]
    },
    {
      "cell_type": "code",
      "metadata": {
        "colab": {
          "base_uri": "https://localhost:8080/"
        },
        "id": "xwFuNkv6YafW",
        "outputId": "8136625f-c6f1-4373-b8bc-117c8a283434"
      },
      "source": [
        "scoville = [1, 2, 3, 9, 10, 12]\r\n",
        "K = 7 # return = 2\r\n",
        "scoville"
      ],
      "execution_count": null,
      "outputs": [
        {
          "output_type": "execute_result",
          "data": {
            "text/plain": [
              "[1, 2, 3, 9, 10, 12]"
            ]
          },
          "metadata": {
            "tags": []
          },
          "execution_count": 144
        }
      ]
    },
    {
      "cell_type": "code",
      "metadata": {
        "colab": {
          "base_uri": "https://localhost:8080/"
        },
        "id": "Z6AYKwoHc-Dn",
        "outputId": "119e1d68-4251-4d89-f0f4-8b5703039cee"
      },
      "source": [
        "# 리스트를 heap 형태로 변환하지 않았을 경우\r\n",
        "import heapq as hq\r\n",
        "\r\n",
        "def solution(scoville, K):\r\n",
        "  scoville = [1, 2, 3, 9, 10, 12] # timeit 체크용\r\n",
        "  cnt = 0\r\n",
        "  while True :\r\n",
        "    s1 = hq.heappop(scoville) \r\n",
        "    if s1 >= K :\r\n",
        "        break\r\n",
        "    if len(scoville) < 1 :\r\n",
        "        cnt = -1\r\n",
        "        break\r\n",
        "\r\n",
        "    s2 = hq.heappop(scoville) * 2\r\n",
        "    hq.heappush(scoville, s1+ s2)\r\n",
        "    cnt += 1\r\n",
        "    \r\n",
        "  return cnt\r\n",
        "\r\n",
        "%timeit(solution(scoville,K))"
      ],
      "execution_count": null,
      "outputs": [
        {
          "output_type": "stream",
          "text": [
            "The slowest run took 4.80 times longer than the fastest. This could mean that an intermediate result is being cached.\n",
            "1000000 loops, best of 3: 1.23 µs per loop\n"
          ],
          "name": "stdout"
        }
      ]
    },
    {
      "cell_type": "markdown",
      "metadata": {
        "id": "r1uQtYrThOQu"
      },
      "source": [
        "![image.png](data:image/png;base64,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)"
      ]
    },
    {
      "cell_type": "code",
      "metadata": {
        "colab": {
          "base_uri": "https://localhost:8080/"
        },
        "id": "VueAWmu1c8sg",
        "outputId": "8976c728-f8bb-4de7-cddc-639e4732a3ce"
      },
      "source": [
        "# 리스트를 heap 형태로 변환했을 경우\r\n",
        "\r\n",
        "import heapq as hq\r\n",
        "\r\n",
        "def solution(scoville, K):\r\n",
        "    scoville = [1, 2, 3, 9, 10, 12] # timeit 체크용\r\n",
        "    hq.heapify(scoville)\r\n",
        "    cnt = 0\r\n",
        "\r\n",
        "    while True :\r\n",
        "\r\n",
        "        s1 = hq.heappop(scoville) \r\n",
        "        if s1 >= K :\r\n",
        "            break\r\n",
        "        if len(scoville) < 1 :\r\n",
        "            cnt = -1\r\n",
        "            break\r\n",
        "\r\n",
        "        s2 = hq.heappop(scoville) * 2\r\n",
        "        hq.heappush(scoville, s1+ s2)\r\n",
        "        cnt += 1\r\n",
        "    \r\n",
        "    return cnt\r\n",
        "    \r\n",
        "%timeit(solution(scoville,K))"
      ],
      "execution_count": null,
      "outputs": [
        {
          "output_type": "stream",
          "text": [
            "The slowest run took 4.99 times longer than the fastest. This could mean that an intermediate result is being cached.\n",
            "1000000 loops, best of 3: 1.42 µs per loop\n"
          ],
          "name": "stdout"
        }
      ]
    },
    {
      "cell_type": "markdown",
      "metadata": {
        "id": "YkWpo-Xahewh"
      },
      "source": [
        "![image.png](data:image/png;base64,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)"
      ]
    },
    {
      "cell_type": "markdown",
      "metadata": {
        "id": "gvS2X7WBhvIc"
      },
      "source": [
        "### 힙 문제의 경우 작은 규모의 데이터셋(리스트)의 경우 굳이 heapify를 하지 않는 것이 미세하게 더 빠르나, 데이터 규모가 증가할수록 heapify를 통한 heap적화가 필요하다."
      ]
    },
    {
      "cell_type": "markdown",
      "metadata": {
        "id": "5q_CA3O9h8tc"
      },
      "source": [
        "#3. 스택/큐 : 주식가격\r\n",
        "https://programmers.co.kr/learn/courses/30/lessons/42584\r\n"
      ]
    },
    {
      "cell_type": "code",
      "metadata": {
        "id": "HYOvWFQJkGcc"
      },
      "source": [
        "prices = [1, 2, 3, 2, 3] # return = [4, 3, 1, 1, 0]"
      ],
      "execution_count": null,
      "outputs": []
    },
    {
      "cell_type": "code",
      "metadata": {
        "colab": {
          "base_uri": "https://localhost:8080/"
        },
        "id": "j68wvR0EVaVt",
        "outputId": "492a42d9-4d6a-40f9-8c95-16206535ce2f"
      },
      "source": [
        "  answer = [1] * len(prices)\r\n",
        "\r\n",
        "  for i, price in enumerate(prices) :\r\n",
        "    cnt = i\r\n",
        "    stack = []\r\n",
        "    num = 0\r\n",
        "    \r\n",
        "    while True :\r\n",
        "      cnt += 1\r\n",
        "\r\n",
        "      if cnt > len(prices)-1 :\r\n",
        "        break\r\n",
        "\r\n",
        "      if price > prices[cnt] :\r\n",
        "        num = 1\r\n",
        "        break\r\n",
        "      else :\r\n",
        "        num += 1\r\n",
        "\r\n",
        "      # stack.append(prices[cnt])\r\n",
        "\r\n",
        "    answer[i] = num\r\n",
        "\r\n",
        "  print(answer)"
      ],
      "execution_count": null,
      "outputs": [
        {
          "output_type": "stream",
          "text": [
            "[4, 3, 1, 1, 0]\n"
          ],
          "name": "stdout"
        }
      ]
    },
    {
      "cell_type": "code",
      "metadata": {
        "id": "4xoIU675Ef_E"
      },
      "source": [
        "def solution(prices) :\r\n",
        "  answer = [1] * len(prices)\r\n",
        "\r\n",
        "  for i, price in enumerate(prices) :\r\n",
        "    cnt = i\r\n",
        "    stack = []\r\n",
        "    num = 0\r\n",
        "    \r\n",
        "    while True :\r\n",
        "      cnt += 1\r\n",
        "\r\n",
        "      if cnt > len(prices)-1 :\r\n",
        "        break\r\n",
        "\r\n",
        "      if price > prices[cnt] :\r\n",
        "        num = 1\r\n",
        "        break\r\n",
        "      else :\r\n",
        "        num += 1\r\n",
        "\r\n",
        "    answer[i] = num\r\n",
        "\r\n",
        "  return answer  "
      ],
      "execution_count": null,
      "outputs": []
    },
    {
      "cell_type": "code",
      "metadata": {
        "colab": {
          "base_uri": "https://localhost:8080/"
        },
        "id": "y88R7Q98UnXu",
        "outputId": "92e3ad45-3abd-4806-bf49-0d329771f207"
      },
      "source": [
        "%timeit(solution(prices))"
      ],
      "execution_count": null,
      "outputs": [
        {
          "output_type": "stream",
          "text": [
            "100000 loops, best of 3: 2.51 µs per loop\n"
          ],
          "name": "stdout"
        }
      ]
    },
    {
      "cell_type": "code",
      "metadata": {
        "id": "HaBT6XTQbfcz"
      },
      "source": [
        "from collections import deque\r\n",
        "def solution(prices):\r\n",
        "    answer = []\r\n",
        "    prices = deque(prices)\r\n",
        "    while prices:\r\n",
        "        c = prices.popleft()\r\n",
        "\r\n",
        "        count = 0\r\n",
        "        for i in prices:\r\n",
        "            if c > i:\r\n",
        "                count += 1\r\n",
        "                break\r\n",
        "            count += 1\r\n",
        "\r\n",
        "        answer.append(count)\r\n",
        "\r\n",
        "    return answer"
      ],
      "execution_count": null,
      "outputs": []
    },
    {
      "cell_type": "code",
      "metadata": {
        "colab": {
          "base_uri": "https://localhost:8080/"
        },
        "id": "4TbtvkCzbgfP",
        "outputId": "414d6606-9553-4a43-c426-f9884c595709"
      },
      "source": [
        "%timeit(solution(prices))"
      ],
      "execution_count": null,
      "outputs": [
        {
          "output_type": "stream",
          "text": [
            "100000 loops, best of 3: 2.48 µs per loop\n"
          ],
          "name": "stdout"
        }
      ]
    },
    {
      "cell_type": "code",
      "metadata": {
        "colab": {
          "base_uri": "https://localhost:8080/"
        },
        "id": "WOVi3xyaoXIs",
        "outputId": "df166f53-fdc3-4855-cff7-0191377ea572"
      },
      "source": [
        "prices = [1, 2, 3, 2, 3] # return = [4, 3, 1, 1, 0]\r\n",
        "\r\n",
        "from collections import deque\r\n",
        "prices = deque(prices)\r\n",
        "prices"
      ],
      "execution_count": null,
      "outputs": [
        {
          "output_type": "execute_result",
          "data": {
            "text/plain": [
              "deque([1, 2, 3, 2, 3])"
            ]
          },
          "metadata": {
            "tags": []
          },
          "execution_count": 327
        }
      ]
    },
    {
      "cell_type": "code",
      "metadata": {
        "colab": {
          "base_uri": "https://localhost:8080/"
        },
        "id": "xZYfkv9moDZ9",
        "outputId": "11288446-5763-45cd-8771-a79f90734515"
      },
      "source": [
        "prices.popleft()"
      ],
      "execution_count": null,
      "outputs": [
        {
          "output_type": "execute_result",
          "data": {
            "text/plain": [
              "1"
            ]
          },
          "metadata": {
            "tags": []
          },
          "execution_count": 328
        }
      ]
    },
    {
      "cell_type": "code",
      "metadata": {
        "colab": {
          "base_uri": "https://localhost:8080/"
        },
        "id": "kWYs0FK6obNB",
        "outputId": "a557d9de-3e8b-4ec0-8c6e-85b249da0a34"
      },
      "source": [
        "prices"
      ],
      "execution_count": null,
      "outputs": [
        {
          "output_type": "execute_result",
          "data": {
            "text/plain": [
              "deque([2, 3, 2, 3])"
            ]
          },
          "metadata": {
            "tags": []
          },
          "execution_count": 329
        }
      ]
    },
    {
      "cell_type": "markdown",
      "metadata": {
        "id": "r6k4vrT6bqP1"
      },
      "source": [
        "# Day 05 (21.01.20)"
      ]
    },
    {
      "cell_type": "markdown",
      "metadata": {
        "id": "tQqBopedhXdy"
      },
      "source": [
        "##1. Dynamic Programming : Max Array Sum\r\n",
        "https://www.hackerrank.com/challenges/max-array-sum/problem?h_l=interview&playlist_slugs%5B%5D=interview-preparation-kit&playlist_slugs%5B%5D=dynamic-programming"
      ]
    },
    {
      "cell_type": "code",
      "metadata": {
        "id": "vX5nBMmbhbIl"
      },
      "source": [
        "arr = [3, 7, 4, 6, 5] #13"
      ],
      "execution_count": null,
      "outputs": []
    },
    {
      "cell_type": "code",
      "metadata": {
        "id": "dbxUX8qNh1B2"
      },
      "source": [
        "arr = [2, 1, 5, 8, 4] #11"
      ],
      "execution_count": null,
      "outputs": []
    },
    {
      "cell_type": "code",
      "metadata": {
        "id": "vC9lnR1kh4S4"
      },
      "source": [
        "arr = [3, 5, -7, 8, 10] #15\r\n",
        "n = 5"
      ],
      "execution_count": null,
      "outputs": []
    },
    {
      "cell_type": "code",
      "metadata": {
        "id": "vnBQXSOvpALb"
      },
      "source": [
        "def solution(arr):\r\n",
        "    dp = {} # key : max index of subarray, value = sum\r\n",
        "    dp[0], dp[1] = arr[0], max(arr[0], arr[1])\r\n",
        "    for i, num in enumerate(arr[2:], start=2):\r\n",
        "        dp[i] = max(dp[i-1], dp[i-2]+num, dp[i-2], num)\r\n",
        "    return dp[len(arr)-1]"
      ],
      "execution_count": null,
      "outputs": []
    },
    {
      "cell_type": "code",
      "metadata": {
        "colab": {
          "base_uri": "https://localhost:8080/"
        },
        "id": "cwicpv1n3GmM",
        "outputId": "76ec02d5-6fe3-4e58-8520-a08ce33e7ef3"
      },
      "source": [
        "solution(arr)"
      ],
      "execution_count": null,
      "outputs": [
        {
          "output_type": "execute_result",
          "data": {
            "text/plain": [
              "15"
            ]
          },
          "metadata": {
            "tags": []
          },
          "execution_count": 75
        }
      ]
    },
    {
      "cell_type": "code",
      "metadata": {
        "colab": {
          "base_uri": "https://localhost:8080/"
        },
        "id": "hWxnauqC3JyW",
        "outputId": "8ac65a15-91d4-4ee6-fff9-798c61643302"
      },
      "source": [
        "def solution(arr):\r\n",
        "    dp = {} # key : max index of subarray, value = sum\r\n",
        "    dp[0], dp[1] = arr[0], max(arr[0], arr[1])\r\n",
        "    for i, num in enumerate(arr[2:], start=2):\r\n",
        "        dp[i] = max(dp[i-1], dp[i-2]+num, dp[i-2], num)\r\n",
        "    return dp\r\n",
        "solution(arr)"
      ],
      "execution_count": null,
      "outputs": [
        {
          "output_type": "execute_result",
          "data": {
            "text/plain": [
              "{0: 3, 1: 5, 2: 5, 3: 13, 4: 15}"
            ]
          },
          "metadata": {
            "tags": []
          },
          "execution_count": 76
        }
      ]
    },
    {
      "cell_type": "markdown",
      "metadata": {
        "id": "LpUvZDwk-VJd"
      },
      "source": [
        "##2.이진수 변환(inflearn. 섹션 6 #1)"
      ]
    },
    {
      "cell_type": "code",
      "metadata": {
        "colab": {
          "base_uri": "https://localhost:8080/"
        },
        "id": "2EhFJXk4A-X8",
        "outputId": "011322e9-75a8-41e4-8f5e-abad2009e641"
      },
      "source": [
        "def dfs(n) :\r\n",
        "\r\n",
        "  print(n)\r\n",
        "  if n > 0 :\r\n",
        "    dfs(n-1)\r\n",
        "\r\n",
        "dfs(11)"
      ],
      "execution_count": null,
      "outputs": [
        {
          "output_type": "stream",
          "text": [
            "11\n",
            "10\n",
            "9\n",
            "8\n",
            "7\n",
            "6\n",
            "5\n",
            "4\n",
            "3\n",
            "2\n",
            "1\n",
            "0\n"
          ],
          "name": "stdout"
        }
      ]
    },
    {
      "cell_type": "code",
      "metadata": {
        "colab": {
          "base_uri": "https://localhost:8080/"
        },
        "id": "C0HjKouPBPwm",
        "outputId": "db7f3134-796e-44a6-fba7-f51da3346a72"
      },
      "source": [
        "def dfs(n) :\r\n",
        "\r\n",
        "  if n > 0 :\r\n",
        "    dfs(n-1)\r\n",
        "    print(n)\r\n",
        "\r\n",
        "dfs(11)"
      ],
      "execution_count": null,
      "outputs": [
        {
          "output_type": "stream",
          "text": [
            "1\n",
            "2\n",
            "3\n",
            "4\n",
            "5\n",
            "6\n",
            "7\n",
            "8\n",
            "9\n",
            "10\n",
            "11\n"
          ],
          "name": "stdout"
        }
      ]
    },
    {
      "cell_type": "code",
      "metadata": {
        "colab": {
          "base_uri": "https://localhost:8080/"
        },
        "id": "lgxTbzTW-3TD",
        "outputId": "7ed5bc45-325f-4c5d-ec06-6efd04fdf422"
      },
      "source": [
        "def dfs(n) :\r\n",
        "\r\n",
        "  if n == 0 :\r\n",
        "    return\r\n",
        "  else :\r\n",
        "    dfs(n//2)\r\n",
        "    print(n%2, end=\"\")\r\n",
        "\r\n",
        "dfs(11)"
      ],
      "execution_count": null,
      "outputs": [
        {
          "output_type": "stream",
          "text": [
            "1011"
          ],
          "name": "stdout"
        }
      ]
    },
    {
      "cell_type": "markdown",
      "metadata": {
        "id": "ZQfai6rfkj_8"
      },
      "source": [
        "##3. inflearn : BFS : 부분집합 구하기"
      ]
    },
    {
      "cell_type": "code",
      "metadata": {
        "colab": {
          "base_uri": "https://localhost:8080/"
        },
        "id": "pwKmItnTlxP2",
        "outputId": "e08954d8-5926-4a12-d2bf-d99d0d7fe186"
      },
      "source": [
        "def DFS(v) :\r\n",
        "  if v == n+1 :\r\n",
        "    for i in range(1, n+1) :\r\n",
        "      if ch[i]==1:\r\n",
        "        print(i, end=\"\")\r\n",
        "    print() \r\n",
        "\r\n",
        "  else :\r\n",
        "    ch[v] = 1\r\n",
        "    DFS(v+1)\r\n",
        "    ch[v] = 0\r\n",
        "    DFS(v+1)\r\n",
        "\r\n",
        "if __name__ == \"__main__\" :\r\n",
        "  n = int(input())\r\n",
        "  ch = [0]*(n+1)\r\n",
        "  DFS(1)"
      ],
      "execution_count": null,
      "outputs": [
        {
          "output_type": "stream",
          "text": [
            "3\n",
            "123\n",
            "12\n",
            "13\n",
            "1\n",
            "23\n",
            "2\n",
            "3\n",
            "\n"
          ],
          "name": "stdout"
        }
      ]
    },
    {
      "cell_type": "markdown",
      "metadata": {
        "id": "ESOi6jhymWlj"
      },
      "source": [
        "#4. inflearn : DFS : 합이 같은 부분집"
      ]
    },
    {
      "cell_type": "code",
      "metadata": {
        "id": "_u0-4FDRmaSo"
      },
      "source": [
        "import numpy as np\r\n",
        "\r\n",
        "def DFS(arr,v) :\r\n",
        "  if v == n+1:\r\n",
        "    for i in range(1, n+1) :\r\n",
        "      if ch[i] == -1 :\r\n",
        "        arr[i] = arr[i] * -1\r\n",
        "    print(arr)\r\n",
        "\r\n",
        "  else :\r\n",
        "    ch[v] == 1\r\n",
        "    DFS(arr, v+1)\r\n",
        "    ch[v] == -1\r\n",
        "    DFS(arr, v+1)\r\n",
        "\r\n",
        "\r\n",
        "if __name__ == \"__main__\" :\r\n",
        "  arr = [1, 3, 5, 6, 7, 10]\r\n",
        "  n = len(arr)\r\n",
        "  ch = [0] * (n+1)\r\n",
        "  DFS(arr,0)"
      ],
      "execution_count": null,
      "outputs": []
    },
    {
      "cell_type": "code",
      "metadata": {
        "colab": {
          "base_uri": "https://localhost:8080/",
          "height": 192
        },
        "id": "_qwzcujamIYM",
        "outputId": "ceb22079-81a6-42f1-e3c1-a60134fd49ec"
      },
      "source": [
        "import sys\r\n",
        "\r\n",
        "def DFS(L, sum) :\r\n",
        "  if sum > total // 2 : # 시간 복잡도를 낮추기 위해\r\n",
        "    return\r\n",
        "\r\n",
        "  if L == n :\r\n",
        "    if sum == (total-sum) :\r\n",
        "      print(\"YES\")\r\n",
        "      sys.exit(0)\r\n",
        "  \r\n",
        "  else :\r\n",
        "    DFS(L+1, sum+arr[L]) # 옆에 것을 사용하는 경우\r\n",
        "    DFS(L+1, sum) # 옆에 것을 사용하지 않는 경우\r\n",
        "\r\n",
        "\r\n",
        "if __name__ == \"__main__\" :\r\n",
        "  arr = [1, 3, 5, 6, 7, 10]\r\n",
        "  n = len(arr)\r\n",
        "  total = sum(arr)\r\n",
        "  DFS(0,0)\r\n",
        "  print(\"NO\")"
      ],
      "execution_count": null,
      "outputs": [
        {
          "output_type": "stream",
          "text": [
            "YES\n"
          ],
          "name": "stdout"
        },
        {
          "output_type": "error",
          "ename": "SystemExit",
          "evalue": "ignored",
          "traceback": [
            "An exception has occurred, use %tb to see the full traceback.\n",
            "\u001b[0;31mSystemExit\u001b[0m\u001b[0;31m:\u001b[0m 0\n"
          ]
        },
        {
          "output_type": "stream",
          "text": [
            "/usr/local/lib/python3.6/dist-packages/IPython/core/interactiveshell.py:2890: UserWarning: To exit: use 'exit', 'quit', or Ctrl-D.\n",
            "  warn(\"To exit: use 'exit', 'quit', or Ctrl-D.\", stacklevel=1)\n"
          ],
          "name": "stderr"
        }
      ]
    },
    {
      "cell_type": "markdown",
      "metadata": {
        "id": "VKKxAyGiiP_W"
      },
      "source": [
        "# Day 06 (21.01.21)\r\n",
        "목표 : inflearn 강의 섹션 6 완료(8개)"
      ]
    },
    {
      "cell_type": "markdown",
      "metadata": {
        "id": "4yX6WrvPieMz"
      },
      "source": [
        "## 1/5 : 바둑이 승차(DFS)"
      ]
    },
    {
      "cell_type": "code",
      "metadata": {
        "id": "g7Bu7fddih9v"
      },
      "source": [
        "C = 259\r\n",
        "n = 5\r\n",
        "dogs = [81,58,42,33,61] # return 242"
      ],
      "execution_count": null,
      "outputs": []
    },
    {
      "cell_type": "code",
      "metadata": {
        "colab": {
          "base_uri": "https://localhost:8080/"
        },
        "id": "UOKXhzCOiyLi",
        "outputId": "56e624e0-a8c1-4875-d261-6bb7920df357"
      },
      "source": [
        "def solution(dogs, C) :\r\n",
        "  dogs.sort()\r\n",
        "  answer = 0\r\n",
        "  for i in dogs :\r\n",
        "    if answer + i < C :\r\n",
        "      answer += i\r\n",
        "    else :\r\n",
        "      return answer\r\n",
        "\r\n",
        "solution(dogs, C)\r\n",
        "\r\n",
        "# 이렇게 했을 경우 차에 실을 수 있는 최대 무게가 아닌 최대 마리 수의 개를 구할 수 있을 뿐, 무게는 다를 수도 있다."
      ],
      "execution_count": null,
      "outputs": [
        {
          "output_type": "execute_result",
          "data": {
            "text/plain": [
              "194"
            ]
          },
          "metadata": {
            "tags": []
          },
          "execution_count": 2
        }
      ]
    },
    {
      "cell_type": "code",
      "metadata": {
        "colab": {
          "base_uri": "https://localhost:8080/"
        },
        "id": "uiJblGc8jLlB",
        "outputId": "cc0966cd-8cef-42de-e40a-c34823f14167"
      },
      "source": [
        "def DFS(dogs, sum) -> list :\r\n",
        "\r\n",
        "  if len(dogs) < 1 :\r\n",
        "    if sum < C :  \r\n",
        "      result.append(sum)\r\n",
        "      # print(sum)\r\n",
        "      return\r\n",
        "    else :\r\n",
        "      return\r\n",
        "\r\n",
        "  if sum > C :\r\n",
        "    return\r\n",
        "  else :\r\n",
        "    DFS(dogs[1:], sum + dogs[0])\r\n",
        "    DFS(dogs[1:], sum)\r\n",
        "\r\n",
        "\r\n",
        "if __name__ == \"__main__\" :\r\n",
        "  C = 259\r\n",
        "  sum = 0\r\n",
        "  result = []\r\n",
        "  DFS(dogs, sum)\r\n",
        "  print(max(result))\r\n",
        "\r\n",
        "# 자체 풀이 : 60점 - 이유 : time limit exceeded"
      ],
      "execution_count": null,
      "outputs": [
        {
          "output_type": "stream",
          "text": [
            "242\n"
          ],
          "name": "stdout"
        }
      ]
    },
    {
      "cell_type": "code",
      "metadata": {
        "id": "zyeHHvW7iTfW"
      },
      "source": [
        "# 내가 푼 문제 양식 \r\n",
        "\r\n",
        "import sys\r\n",
        "# sys.stdin=open(\"input.txt\", \"r\")\r\n",
        "def DFS(L, sum, tsum):\r\n",
        "    global result\r\n",
        "    if sum>c:\r\n",
        "        return\r\n",
        "    if L==n:\r\n",
        "        if sum>result:\r\n",
        "            result=sum\r\n",
        "    else:\r\n",
        "        DFS(L+1, sum+a[L], tsum+a[L])\r\n",
        "        DFS(L+1, sum, tsum+a[L])\r\n",
        "\r\n",
        "if __name__==\"__main__\":\r\n",
        "    c, n=map(int, input().split())\r\n",
        "    a=[0]*n\r\n",
        "    result=-2147000000\r\n",
        "    for i in range(n):\r\n",
        "        a[i]=int(input())\r\n",
        "    total=sum(a)\r\n",
        "    DFS(0, 0, 0)\r\n",
        "    print(result)"
      ],
      "execution_count": null,
      "outputs": []
    },
    {
      "cell_type": "code",
      "metadata": {
        "id": "zGBJT5JZBChv"
      },
      "source": [
        "# 위의 것에서 개선 - 컷 추가\r\n",
        "# 여태까지 계산한 값을 tsum에 넣고 이를 총 total에서 제외함으로써\r\n",
        "# 아직 도달하지 못한 하위 가지들에 대한 평가를 하며 컷 추가\r\n",
        "# 현재 가지고 있는 result 값보다 개선값이 나오지 않을 것.\r\n",
        "\r\n",
        "import sys\r\n",
        "# sys.stdin=open(\"input.txt\", \"r\")\r\n",
        "def DFS(L, sum, tsum):\r\n",
        "    global result\r\n",
        "    if sum+(total-tsum)<result:\r\n",
        "        return\r\n",
        "    if sum>c:\r\n",
        "        return\r\n",
        "    if L==n:\r\n",
        "        if sum>result:\r\n",
        "            result=sum\r\n",
        "    else:\r\n",
        "        DFS(L+1, sum+a[L], tsum+a[L])\r\n",
        "        DFS(L+1, sum, tsum+a[L])\r\n",
        "\r\n",
        "\r\n",
        "if __name__==\"__main__\":\r\n",
        "    c, n=map(int, input().split())\r\n",
        "    a=[0]*n\r\n",
        "    result=-2147000000\r\n",
        "    for i in range(n):\r\n",
        "        a[i]=int(input())\r\n",
        "    total=sum(a)\r\n",
        "    DFS(0, 0, 0)\r\n",
        "    print(result)"
      ],
      "execution_count": null,
      "outputs": []
    },
    {
      "cell_type": "code",
      "metadata": {
        "colab": {
          "base_uri": "https://localhost:8080/"
        },
        "id": "1nafZtV5w3y8",
        "outputId": "2e92828d-261b-48d1-d2b4-4cfb77d59265"
      },
      "source": [
        "def DFS(L, sum, tsum)  :\r\n",
        "  global result\r\n",
        "  if sum + (total - tsum) < result :\r\n",
        "    return\r\n",
        "\r\n",
        "  if sum > C :\r\n",
        "    return\r\n",
        "\r\n",
        "  if L == n :\r\n",
        "    if sum > result :  \r\n",
        "      result = sum\r\n",
        "      # print(sum)\r\n",
        "      return\r\n",
        "    else :\r\n",
        "      return\r\n",
        "\r\n",
        "  else :\r\n",
        "    DFS(L+1, sum + dogs[L], tsum + dogs[L])\r\n",
        "    DFS(L+1, sum, tsum + dogs[L])\r\n",
        "\r\n",
        "\r\n",
        "if __name__ == \"__main__\" :\r\n",
        "  C = 259\r\n",
        "  sum, tsum = 0, 0\r\n",
        "  total = 0\r\n",
        "  for i in dogs :\r\n",
        "    total += i\r\n",
        "  result = -21470000\r\n",
        "  DFS(0,0,0)\r\n",
        "  print(result)\r\n",
        "\r\n",
        "# 자체 풀이 : 100점 -- global 변수 사용해서 한 번에 result 값에 넣음 + 컷라인 추가"
      ],
      "execution_count": null,
      "outputs": [
        {
          "output_type": "stream",
          "text": [
            "242\n"
          ],
          "name": "stdout"
        }
      ]
    },
    {
      "cell_type": "markdown",
      "metadata": {
        "id": "vFAbHbNcDgNh"
      },
      "source": [
        "## 2/5 중복순열 구하기\r\n"
      ]
    },
    {
      "cell_type": "code",
      "metadata": {
        "colab": {
          "base_uri": "https://localhost:8080/"
        },
        "id": "VvaCi3OJIHgf",
        "outputId": "0dcfd0be-35ae-4ffe-9692-a930c4bd3005"
      },
      "source": [
        "import itertools\r\n",
        "def solution(arr, m) :\r\n",
        "  arr = arr * m\r\n",
        "  result = list(set(itertools.combinations(arr, m)))\r\n",
        "  result.sort()\r\n",
        "  for i in result :\r\n",
        "    for j in range(m) :\r\n",
        "\r\n",
        "      print(i[j], end=\" \")\r\n",
        "    print()\r\n",
        "  print(len(result))\r\n",
        "  # return result    \r\n",
        "\r\n",
        "if __name__ == \"__main__\" :\r\n",
        "  n = 5\r\n",
        "  m = 3\r\n",
        "  arr = [0] * n\r\n",
        "  for i in range(n) :\r\n",
        "    arr[i] = i+1\r\n",
        "  solution(arr, m)"
      ],
      "execution_count": null,
      "outputs": [
        {
          "output_type": "stream",
          "text": [
            "1 1 1 \n",
            "1 1 2 \n",
            "1 1 3 \n",
            "1 1 4 \n",
            "1 1 5 \n",
            "1 2 1 \n",
            "1 2 2 \n",
            "1 2 3 \n",
            "1 2 4 \n",
            "1 2 5 \n",
            "1 3 1 \n",
            "1 3 2 \n",
            "1 3 3 \n",
            "1 3 4 \n",
            "1 3 5 \n",
            "1 4 1 \n",
            "1 4 2 \n",
            "1 4 3 \n",
            "1 4 4 \n",
            "1 4 5 \n",
            "1 5 1 \n",
            "1 5 2 \n",
            "1 5 3 \n",
            "1 5 4 \n",
            "1 5 5 \n",
            "2 1 1 \n",
            "2 1 2 \n",
            "2 1 3 \n",
            "2 1 4 \n",
            "2 1 5 \n",
            "2 2 1 \n",
            "2 2 2 \n",
            "2 2 3 \n",
            "2 2 4 \n",
            "2 2 5 \n",
            "2 3 1 \n",
            "2 3 2 \n",
            "2 3 3 \n",
            "2 3 4 \n",
            "2 3 5 \n",
            "2 4 1 \n",
            "2 4 2 \n",
            "2 4 3 \n",
            "2 4 4 \n",
            "2 4 5 \n",
            "2 5 1 \n",
            "2 5 2 \n",
            "2 5 3 \n",
            "2 5 4 \n",
            "2 5 5 \n",
            "3 1 1 \n",
            "3 1 2 \n",
            "3 1 3 \n",
            "3 1 4 \n",
            "3 1 5 \n",
            "3 2 1 \n",
            "3 2 2 \n",
            "3 2 3 \n",
            "3 2 4 \n",
            "3 2 5 \n",
            "3 3 1 \n",
            "3 3 2 \n",
            "3 3 3 \n",
            "3 3 4 \n",
            "3 3 5 \n",
            "3 4 1 \n",
            "3 4 2 \n",
            "3 4 3 \n",
            "3 4 4 \n",
            "3 4 5 \n",
            "3 5 1 \n",
            "3 5 2 \n",
            "3 5 3 \n",
            "3 5 4 \n",
            "3 5 5 \n",
            "4 1 1 \n",
            "4 1 2 \n",
            "4 1 3 \n",
            "4 1 4 \n",
            "4 1 5 \n",
            "4 2 1 \n",
            "4 2 2 \n",
            "4 2 3 \n",
            "4 2 4 \n",
            "4 2 5 \n",
            "4 3 1 \n",
            "4 3 2 \n",
            "4 3 3 \n",
            "4 3 4 \n",
            "4 3 5 \n",
            "4 4 1 \n",
            "4 4 2 \n",
            "4 4 3 \n",
            "4 4 4 \n",
            "4 4 5 \n",
            "4 5 1 \n",
            "4 5 2 \n",
            "4 5 3 \n",
            "4 5 4 \n",
            "4 5 5 \n",
            "5 1 1 \n",
            "5 1 2 \n",
            "5 1 3 \n",
            "5 1 4 \n",
            "5 1 5 \n",
            "5 2 1 \n",
            "5 2 2 \n",
            "5 2 3 \n",
            "5 2 4 \n",
            "5 2 5 \n",
            "5 3 1 \n",
            "5 3 2 \n",
            "5 3 3 \n",
            "5 3 4 \n",
            "5 3 5 \n",
            "5 4 1 \n",
            "5 4 2 \n",
            "5 4 3 \n",
            "5 4 4 \n",
            "5 4 5 \n",
            "5 5 1 \n",
            "5 5 2 \n",
            "5 5 3 \n",
            "5 5 4 \n",
            "5 5 5 \n",
            "125\n"
          ],
          "name": "stdout"
        }
      ]
    },
    {
      "cell_type": "markdown",
      "metadata": {
        "id": "2t0LUw2tJPQq"
      },
      "source": [
        "# 3/5 : 동전교환"
      ]
    },
    {
      "cell_type": "code",
      "metadata": {
        "colab": {
          "base_uri": "https://localhost:8080/"
        },
        "id": "14e5TPnyJSmZ",
        "outputId": "a4e26297-416a-4075-df9d-2152d87bf897"
      },
      "source": [
        "def DFS(L, sum): # L : 트리 래벨이자 동시에 사용하는 동전의 개수\r\n",
        "    global res\r\n",
        "    if L>=res: # 만약 그 전에 처리한 결과값보다 커진 순간 정지\r\n",
        "        return\r\n",
        "    if sum>m: # 거스름돈보다 커지기 전에 정지\r\n",
        "        return\r\n",
        "    if sum==m: # 거스름돈과 일치했을 때, 기존 결과값보다 작으면 대체\r\n",
        "        if L<res:\r\n",
        "            res=L\r\n",
        "    else:\r\n",
        "        for i in range(n):\r\n",
        "            DFS(L+1, sum+a[i]) # 동전을 하나씩 더한다.\r\n",
        "\r\n",
        "\r\n",
        "if __name__ == \"__main__\" :\r\n",
        "  res = 217400000\r\n",
        "\r\n",
        "  n = 5 # 동전의 종류 개수\r\n",
        "  a = [1,8,20,25,50] # 동전의 종류\r\n",
        "  m = 129 # 거슬러줄 금액 \r\n",
        "  a.sort(reverse=True)\r\n",
        "  DFS(0,0)\r\n",
        "  print(res)"
      ],
      "execution_count": null,
      "outputs": [
        {
          "output_type": "stream",
          "text": [
            "5\n"
          ],
          "name": "stdout"
        }
      ]
    },
    {
      "cell_type": "code",
      "metadata": {
        "colab": {
          "base_uri": "https://localhost:8080/"
        },
        "id": "6erLvmOBKZ9b",
        "outputId": "1729be43-8d50-4caf-ccd4-a9eee7d65e73"
      },
      "source": [
        "arr = [1,2,5]\r\n",
        "arr.sort(reverse=True)\r\n",
        "arr"
      ],
      "execution_count": null,
      "outputs": [
        {
          "output_type": "execute_result",
          "data": {
            "text/plain": [
              "[5, 2, 1]"
            ]
          },
          "metadata": {
            "tags": []
          },
          "execution_count": 115
        }
      ]
    },
    {
      "cell_type": "markdown",
      "metadata": {
        "id": "9zKbASHFfle9"
      },
      "source": [
        "#4/5 : 수열 추측하기"
      ]
    },
    {
      "cell_type": "code",
      "metadata": {
        "colab": {
          "base_uri": "https://localhost:8080/"
        },
        "id": "DkWmMguhKdUT",
        "outputId": "3a607c70-e6d2-45ca-92a3-7b48b37a9685"
      },
      "source": [
        "# 파스칼 트라이앵글로 마지막 열 출력하기\r\n",
        "def PascalTriangle(n):\r\n",
        "   trow = [1]\r\n",
        "   y = [0]\r\n",
        "   for x in range(n-1):\r\n",
        "      # print(trow)\r\n",
        "      trow=[left+right for left,right in zip(trow+y, y+trow)]\r\n",
        "   return np.array(trow)   \r\n",
        "\r\n",
        "PascalTriangle(9)"
      ],
      "execution_count": null,
      "outputs": [
        {
          "output_type": "execute_result",
          "data": {
            "text/plain": [
              "array([ 1,  8, 28, 56, 70, 56, 28,  8,  1])"
            ]
          },
          "metadata": {
            "tags": []
          },
          "execution_count": 248
        }
      ]
    },
    {
      "cell_type": "code",
      "metadata": {
        "colab": {
          "base_uri": "https://localhost:8080/"
        },
        "id": "hz2HA_uVyzXm",
        "outputId": "e0d1492d-a4ba-4cdd-d54c-26a8817e17e8"
      },
      "source": [
        "(PascalTriangle(9) * np.array([1, 2, 3, 6, 9, 5, 8, 4, 7])).sum()"
      ],
      "execution_count": null,
      "outputs": [
        {
          "output_type": "execute_result",
          "data": {
            "text/plain": [
              "1610"
            ]
          },
          "metadata": {
            "tags": []
          },
          "execution_count": 252
        }
      ]
    },
    {
      "cell_type": "code",
      "metadata": {
        "colab": {
          "base_uri": "https://localhost:8080/",
          "height": 172
        },
        "id": "nEMbsGo4qos7",
        "outputId": "73d161a5-30e2-442e-ea8b-d1999f2ce98f"
      },
      "source": [
        "# 파스칼 트라이앵글로 마지막 열 출력하기\r\n",
        "def PascalTriangle(n):\r\n",
        "   trow = [1]\r\n",
        "   y = [0]\r\n",
        "   for x in range(n-1):\r\n",
        "      # print(trow)\r\n",
        "      trow=[left+right for left,right in zip(trow+y, y+trow)]\r\n",
        "   return np.array(trow)  \r\n",
        "   \r\n",
        "def solution(c, f) :\r\n",
        "  global a\r\n",
        "  for i in range(len(c)) :\r\n",
        "    if (np.array(c[i]) * a).sum() == f :\r\n",
        "      for j in c[i] :\r\n",
        "        print(j, end=\" \")\r\n",
        "      # print(np.array(c[i]))\r\n",
        "      sys.exit(0)\r\n",
        "\r\n",
        "if __name__ ==  \"__main__\" :\r\n",
        "  n = 9\r\n",
        "  f = 1610\r\n",
        "  a = PascalTriangle(n)\r\n",
        "  b = np.array([0] * n)\r\n",
        "  for i in range(len(b)) :\r\n",
        "    b[i] = i+1\r\n",
        "  c = list(itertools.permutations(b,n))\r\n",
        "  solution(c,f)\r\n",
        "\r\n",
        "# 100점!! 고생했다~!!"
      ],
      "execution_count": null,
      "outputs": [
        {
          "output_type": "stream",
          "text": [
            "1 2 3 5 9 6 8 4 7 "
          ],
          "name": "stdout"
        },
        {
          "output_type": "error",
          "ename": "SystemExit",
          "evalue": "ignored",
          "traceback": [
            "An exception has occurred, use %tb to see the full traceback.\n",
            "\u001b[0;31mSystemExit\u001b[0m\u001b[0;31m:\u001b[0m 0\n"
          ]
        },
        {
          "output_type": "stream",
          "text": [
            "/usr/local/lib/python3.6/dist-packages/IPython/core/interactiveshell.py:2890: UserWarning: To exit: use 'exit', 'quit', or Ctrl-D.\n",
            "  warn(\"To exit: use 'exit', 'quit', or Ctrl-D.\", stacklevel=1)\n"
          ],
          "name": "stderr"
        }
      ]
    },
    {
      "cell_type": "markdown",
      "metadata": {
        "id": "gXV7i7m12Bz2"
      },
      "source": [
        "## 5/5. 수들의 조합"
      ]
    },
    {
      "cell_type": "code",
      "metadata": {
        "colab": {
          "base_uri": "https://localhost:8080/"
        },
        "id": "B2hb80bH2G_1",
        "outputId": "e9b78618-122b-41e1-c753-c7f8964c1cec"
      },
      "source": [
        "def solution(sample_list,m) :\r\n",
        "  cnt = 0\r\n",
        "  for i in sample_list :\r\n",
        "    if np.array(i).sum() % m == 0 :\r\n",
        "      cnt += 1\r\n",
        "  \r\n",
        "  print(cnt)\r\n",
        "\r\n",
        "\r\n",
        "\r\n",
        "if __name__ == \"__main__\" :\r\n",
        "  n = 5\r\n",
        "  k = 3\r\n",
        "  m = 6\r\n",
        "  arr = [2,4,5,8,12]\r\n",
        "  sample_list = list(itertools.combinations(arr,k))\r\n",
        "  solution(sample_list,m)"
      ],
      "execution_count": null,
      "outputs": [
        {
          "output_type": "stream",
          "text": [
            "2\n"
          ],
          "name": "stdout"
        }
      ]
    },
    {
      "cell_type": "code",
      "metadata": {
        "id": "PomHWwM_5Jp4"
      },
      "source": [
        "import numpy as np\r\n",
        "import itertools\r\n",
        "import sys\r\n",
        "\r\n",
        "# sys.stdin = open(\"input.txt\")\r\n",
        "\r\n",
        "def solution(sample_list,m) :\r\n",
        "  cnt = 0\r\n",
        "  for i in sample_list :\r\n",
        "    if np.array(i).sum() % m == 0 :\r\n",
        "      cnt += 1\r\n",
        "  \r\n",
        "  print(cnt)\r\n",
        "\r\n",
        "if __name__ == \"__main__\" :\r\n",
        "  n, k = map(int, input().split())\r\n",
        "  arr = list(map(int, input().split()))\r\n",
        "  m = int(input())\r\n",
        "  sample_list = list(itertools.combinations(arr,k))\r\n",
        "  solution(sample_list,m)\r\n",
        "\r\n",
        "# 100점"
      ],
      "execution_count": null,
      "outputs": []
    },
    {
      "cell_type": "markdown",
      "metadata": {
        "id": "1lkP_DM_1E2c"
      },
      "source": [
        "# Day 07 (21.01.23)\r\n",
        "## 목표 : ch.6 남은 2문제 인강 듣고 1문제 풀고, ch.7 5문제 이상 풀기"
      ]
    },
    {
      "cell_type": "code",
      "metadata": {
        "id": "5fRcYZMV1VKE",
        "colab": {
          "base_uri": "https://localhost:8080/"
        },
        "outputId": "c49cc362-ab46-4c2f-b741-f72c968c9018"
      },
      "source": [
        "# 인접행렬 만들기\r\n",
        "\r\n",
        "n = 5\r\n",
        "m = 5\r\n",
        "graph = [[0] * (n) for _ in range(n)]\r\n",
        "graph"
      ],
      "execution_count": null,
      "outputs": [
        {
          "output_type": "execute_result",
          "data": {
            "text/plain": [
              "[[0, 0, 0, 0, 0],\n",
              " [0, 0, 0, 0, 0],\n",
              " [0, 0, 0, 0, 0],\n",
              " [0, 0, 0, 0, 0],\n",
              " [0, 0, 0, 0, 0]]"
            ]
          },
          "metadata": {
            "tags": []
          },
          "execution_count": 26
        }
      ]
    },
    {
      "cell_type": "code",
      "metadata": {
        "colab": {
          "base_uri": "https://localhost:8080/"
        },
        "id": "IyZlKzGybXHE",
        "outputId": "3748a8c4-4a16-4b0c-a7a9-76f2d71ea316"
      },
      "source": [
        "for i in range(m) :\r\n",
        "  a, b = map(int, input().split())\r\n",
        "  graph[a-1][b-1] = 1\r\n",
        "  graph[b-1][a-1] = 1"
      ],
      "execution_count": null,
      "outputs": [
        {
          "output_type": "stream",
          "text": [
            "1 2\n",
            "1 3\n",
            "2 4\n",
            "3 4\n",
            "4 5\n"
          ],
          "name": "stdout"
        }
      ]
    },
    {
      "cell_type": "code",
      "metadata": {
        "colab": {
          "base_uri": "https://localhost:8080/"
        },
        "id": "nFPcCLnSckWA",
        "outputId": "21f74a13-dfee-49c4-9c1a-7d4a87262b20"
      },
      "source": [
        "graph"
      ],
      "execution_count": null,
      "outputs": [
        {
          "output_type": "execute_result",
          "data": {
            "text/plain": [
              "[[0, 1, 1, 0, 0],\n",
              " [1, 0, 1, 1, 0],\n",
              " [1, 1, 0, 1, 1],\n",
              " [0, 1, 1, 0, 1],\n",
              " [0, 0, 1, 1, 0]]"
            ]
          },
          "metadata": {
            "tags": []
          },
          "execution_count": 29
        }
      ]
    },
    {
      "cell_type": "code",
      "metadata": {
        "colab": {
          "base_uri": "https://localhost:8080/"
        },
        "id": "2FzssU-Te3ts",
        "outputId": "e1339d7d-8c00-40aa-8129-3404098d2408"
      },
      "source": [
        "# 인접행렬 만들기\r\n",
        "\r\n",
        "n, m = map(int, input().split())\r\n",
        "graph = [[0] * (n) for _ in range(n)]\r\n",
        "\r\n",
        "for i in range(m) :\r\n",
        "  a, b, c = map(int, input().split())\r\n",
        "  graph[a-1][b-1] = c\r\n",
        "  # graph[b-1][a-1] = c\r\n",
        "\r\n",
        "graph"
      ],
      "execution_count": null,
      "outputs": [
        {
          "output_type": "stream",
          "text": [
            "6 9\n",
            "1 2 7\n",
            "1 3 4\n",
            "2 1 2\n",
            "2 3 5\n",
            "2 5 5\n",
            "3 4 5\n",
            "4 2 2\n",
            "4 5 5\n",
            "6 4 5\n"
          ],
          "name": "stdout"
        },
        {
          "output_type": "execute_result",
          "data": {
            "text/plain": [
              "[[0, 7, 4, 0, 0, 0],\n",
              " [2, 0, 5, 0, 5, 0],\n",
              " [0, 0, 0, 5, 0, 0],\n",
              " [0, 2, 0, 0, 5, 0],\n",
              " [0, 0, 0, 0, 0, 0],\n",
              " [0, 0, 0, 5, 0, 0]]"
            ]
          },
          "metadata": {
            "tags": []
          },
          "execution_count": 31
        }
      ]
    },
    {
      "cell_type": "code",
      "metadata": {
        "colab": {
          "base_uri": "https://localhost:8080/"
        },
        "id": "mfzqObkEffsj",
        "outputId": "278fa873-897d-429d-fc3f-0008c3a75384"
      },
      "source": [
        "import numpy as np\r\n",
        "\r\n",
        "np.array(graph) * np.array(graph)"
      ],
      "execution_count": null,
      "outputs": [
        {
          "output_type": "execute_result",
          "data": {
            "text/plain": [
              "array([[ 0, 49, 16,  0,  0,  0],\n",
              "       [ 4,  0, 25,  0, 25,  0],\n",
              "       [ 0,  0,  0, 25,  0,  0],\n",
              "       [ 0,  4,  0,  0, 25,  0],\n",
              "       [ 0,  0,  0,  0,  0,  0],\n",
              "       [ 0,  0,  0, 25,  0,  0]])"
            ]
          },
          "metadata": {
            "tags": []
          },
          "execution_count": 35
        }
      ]
    },
    {
      "cell_type": "code",
      "metadata": {
        "colab": {
          "base_uri": "https://localhost:8080/"
        },
        "id": "xAoKdIG8f59z",
        "outputId": "27c16205-efcc-4894-fc50-f34cf9edf15c"
      },
      "source": [
        "# 두 경로에 걸쳐서 a -> b 로 가는 경우의 수\r\n",
        "np.dot(np.array(graph),np.array(graph))"
      ],
      "execution_count": null,
      "outputs": [
        {
          "output_type": "execute_result",
          "data": {
            "text/plain": [
              "array([[14,  0, 35, 20, 35,  0],\n",
              "       [ 0, 14,  8, 25,  0,  0],\n",
              "       [ 0, 10,  0,  0, 25,  0],\n",
              "       [ 4,  0, 10,  0, 10,  0],\n",
              "       [ 0,  0,  0,  0,  0,  0],\n",
              "       [ 0, 10,  0,  0, 25,  0]])"
            ]
          },
          "metadata": {
            "tags": []
          },
          "execution_count": 36
        }
      ]
    },
    {
      "cell_type": "markdown",
      "metadata": {
        "id": "pBBShBVIc75z"
      },
      "source": [
        "##1. 경로탐색(그래프 DFS)"
      ]
    },
    {
      "cell_type": "code",
      "metadata": {
        "id": "4BSJazhldADt"
      },
      "source": [
        "sample_input = \"\"\"5 9\r\n",
        "1 2\r\n",
        "1 3\r\n",
        "1 4\r\n",
        "2 1\r\n",
        "2 3\r\n",
        "2 5\r\n",
        "3 4\r\n",
        "4 2\r\n",
        "4 5\"\"\""
      ],
      "execution_count": null,
      "outputs": []
    },
    {
      "cell_type": "code",
      "metadata": {
        "colab": {
          "base_uri": "https://localhost:8080/"
        },
        "id": "YKFC2Gj7dIzN",
        "outputId": "1104fa50-e09c-45da-b463-8567e14ffcc9"
      },
      "source": [
        "import sys\r\n",
        "sys.stdin = sample_input\r\n",
        "\r\n",
        "if __name__ == \"__main__\" :\r\n",
        "  n, m = 5, 9\r\n",
        "  graph = [[0] * n for _ in range(n)]\r\n",
        "  for i in range(m) :\r\n",
        "    a, b = map(int, input().split())\r\n",
        "    graph[a-1][b-1] += 1\r\n",
        "graph"
      ],
      "execution_count": null,
      "outputs": [
        {
          "output_type": "stream",
          "text": [
            "1 2\n",
            "1 3\n",
            "1 4\n",
            "2 1\n",
            "2 3\n",
            "2 5\n",
            "3 4\n",
            "4 2\n",
            "4 5\n"
          ],
          "name": "stdout"
        },
        {
          "output_type": "execute_result",
          "data": {
            "text/plain": [
              "[[0, 1, 1, 1, 0],\n",
              " [1, 0, 1, 0, 1],\n",
              " [0, 0, 0, 1, 0],\n",
              " [0, 1, 0, 0, 1],\n",
              " [0, 0, 0, 0, 0]]"
            ]
          },
          "metadata": {
            "tags": []
          },
          "execution_count": 40
        }
      ]
    },
    {
      "cell_type": "code",
      "metadata": {
        "colab": {
          "base_uri": "https://localhost:8080/"
        },
        "id": "T8dsxX06jkPw",
        "outputId": "9d42de53-3442-4ed0-a711-3d01ef3596ff"
      },
      "source": [
        "g = np.array(graph)\r\n",
        "g2 = np.array(graph)\r\n",
        "cnt = 0\r\n",
        "\r\n",
        "for i in range(1, n) :\r\n",
        "  g2 = np.dot(g,g2)\r\n",
        "  g2 = g2 * graph2\r\n",
        "  if g2[1-1][5-1] > 0 :\r\n",
        "    cnt += g2[1-1][5-1]\r\n",
        "cnt"
      ],
      "execution_count": null,
      "outputs": [
        {
          "output_type": "execute_result",
          "data": {
            "text/plain": [
              "14"
            ]
          },
          "metadata": {
            "tags": []
          },
          "execution_count": 101
        }
      ]
    },
    {
      "cell_type": "code",
      "metadata": {
        "id": "PJH_wNo1lQz4"
      },
      "source": [
        "g = np.array(graph)\r\n",
        "g2 = np.array(graph)"
      ],
      "execution_count": null,
      "outputs": []
    },
    {
      "cell_type": "code",
      "metadata": {
        "colab": {
          "base_uri": "https://localhost:8080/"
        },
        "id": "wKsAUEJZlKcy",
        "outputId": "6b79cf2f-5cfb-4832-d5de-23d5428cae6e"
      },
      "source": [
        "g2 = np.dot(g,g2)\r\n",
        "g2\r\n",
        "\r\n",
        "# 이렇게 짠 코드는 한 번 방문한 노드를 재방문하게 되는 경우의 수까지 체크하게 된다."
      ],
      "execution_count": null,
      "outputs": [
        {
          "output_type": "execute_result",
          "data": {
            "text/plain": [
              "array([[2, 1, 2, 1, 4],\n",
              "       [1, 2, 2, 2, 3],\n",
              "       [0, 1, 1, 0, 0],\n",
              "       [1, 0, 1, 1, 3],\n",
              "       [0, 0, 0, 0, 0]])"
            ]
          },
          "metadata": {
            "tags": []
          },
          "execution_count": 90
        }
      ]
    },
    {
      "cell_type": "code",
      "metadata": {
        "id": "sL-XQVgynVxh"
      },
      "source": [
        "# 내 코드\r\n",
        "\r\n",
        "import numpy as np\r\n",
        "import sys\r\n",
        "\r\n",
        "sys.stdin = open(\"input.txt\")\r\n",
        "\r\n",
        "def solution(graph, n) :\r\n",
        "      g = np.array(graph)\r\n",
        "      g2 = np.array(graph)\r\n",
        "      cnt = 0\r\n",
        "\r\n",
        "      for i in range(1, n) :\r\n",
        "        g2 = np.dot(g,g2)\r\n",
        "        # g2 = g2 * graph2\r\n",
        "        if g2[1-1][5-1] > 0 :\r\n",
        "          cnt += g2[1-1][5-1]\r\n",
        "          \r\n",
        "      print(cnt)\r\n",
        "\r\n",
        "\r\n",
        "if __name__ == \"__main__\" :\r\n",
        "  n, m = map(int, input().split())\r\n",
        "  graph = [[0] * n for _ in range(n)]\r\n",
        "  for i in range(m) :\r\n",
        "    a, b = map(int, input().split())\r\n",
        "    graph[a-1][b-1] += 1\r\n",
        "  \r\n",
        "  # print(graph)\r\n",
        "  solution(graph, n)"
      ],
      "execution_count": null,
      "outputs": []
    },
    {
      "cell_type": "code",
      "metadata": {
        "id": "JmAWiEksnXXJ"
      },
      "source": [
        "# 정답 코드\r\n",
        "import sys\r\n",
        "\r\n",
        "sys.stdin = open(\"input.txt\")\r\n",
        "\r\n",
        "\r\n",
        "def DFS(v) : # 현재 노드 번호가 v\r\n",
        "      global cnt\r\n",
        "      if v == n :\r\n",
        "            cnt += 1\r\n",
        "      else :\r\n",
        "            for i in range(1, n+1) : # i 가 방문하려는 노드 번호\r\n",
        "              if g[v-1][i-1] ==  1 and ch[i] == 0 :\r\n",
        "                    ch[i] = 1 # 방문할 노드를 1로 변경해놓고, 그 다음 가지로 넘어가기\r\n",
        "                    DFS(i)\r\n",
        "                    ch[i] = 0 # 끝나고 돌아왔을 때 해당 번호를 초기화\r\n",
        "                  \r\n",
        "      \r\n",
        "\r\n",
        "if __name__ == \"__main__\" :\r\n",
        "\r\n",
        "  n, m = map(int, input().split())\r\n",
        "  g = [[0] * (n) for _ in range(n)]\r\n",
        "  ch = [0] * (n+1)\r\n",
        "  for i in range(m) :\r\n",
        "        a, b = map(int, input().split())\r\n",
        "        g[a-1][b-1] += 1\r\n",
        "  # print(g)\r\n",
        "  cnt = 0\r\n",
        "  ch[1] = 1\r\n",
        "  DFS(1)\r\n",
        "  print(cnt)"
      ],
      "execution_count": null,
      "outputs": []
    },
    {
      "cell_type": "code",
      "metadata": {
        "id": "z0JcUI9IsxBP"
      },
      "source": [
        "# 경로 출력\r\n",
        "\r\n",
        "import sys\r\n",
        "\r\n",
        "sys.stdin = open(\"input.txt\")\r\n",
        "\r\n",
        "\r\n",
        "def DFS(v) : # 현재 노드 번호가 v\r\n",
        "      global cnt\r\n",
        "      if v == n :\r\n",
        "            cnt += 1\r\n",
        "            for x in path :\r\n",
        "              print(x, end=\" \")\r\n",
        "            print()\r\n",
        "      else :\r\n",
        "            for i in range(1, n+1) : # i 가 방문하려는 노드 번호\r\n",
        "              if g[v-1][i-1] ==  1 and ch[i] == 0 :\r\n",
        "                    ch[i] = 1 # 방문할 노드를 1로 변경해놓고, 그 다음 가지로 넘어가기\r\n",
        "                    path.append(i)\r\n",
        "                    DFS(i)\r\n",
        "                    path.pop() # 뒤로 백했을 경우에는 빼준다.\r\n",
        "                    ch[i] = 0 # 끝나고 돌아왔을 때 해당 번호를 초기화\r\n",
        "                  \r\n",
        "      \r\n",
        "\r\n",
        "if __name__ == \"__main__\" :\r\n",
        "\r\n",
        "  n, m = map(int, input().split())\r\n",
        "  g = [[0] * (n) for _ in range(n)]\r\n",
        "  ch = [0] * (n+1)\r\n",
        "  for i in range(m) :\r\n",
        "        a, b = map(int, input().split())\r\n",
        "        g[a-1][b-1] += 1\r\n",
        "  # print(g)\r\n",
        "  cnt = 0\r\n",
        "  path = []\r\n",
        "  path.append(1)\r\n",
        "  ch[1] = 1\r\n",
        "  DFS(1)\r\n",
        "  print(cnt)\r\n"
      ],
      "execution_count": null,
      "outputs": []
    },
    {
      "cell_type": "markdown",
      "metadata": {
        "id": "ea59p00ntbAd"
      },
      "source": [
        "##2. 최대점수 구하기(DFS)"
      ]
    },
    {
      "cell_type": "code",
      "metadata": {
        "id": "t19vXNNOwVP2"
      },
      "source": [
        "# 내 코드 : 1번 말고는 안풀리거나 오래걸림\r\n",
        "\r\n",
        "# 경로 출력\r\n",
        "\r\n",
        "import sys\r\n",
        "\r\n",
        "sys.stdin = open(\"input.txt\")\r\n",
        "\r\n",
        "def DFS(v, s, t) :\r\n",
        "      \r\n",
        "      global result, m\r\n",
        "\r\n",
        "      if v == n :\r\n",
        "            return\r\n",
        "\r\n",
        "      if t > m :\r\n",
        "            return\r\n",
        "      else :\r\n",
        "            if s > result :\r\n",
        "                  result = s\r\n",
        "                  return\r\n",
        "            else :\r\n",
        "                  for i in range(n) :\r\n",
        "                        DFS(v+1, s, t)\r\n",
        "                        DFS(v+1, s+score[v], t+time[v])\r\n",
        "        \r\n",
        "     \r\n",
        "\r\n",
        "if __name__ == \"__main__\" :\r\n",
        "\r\n",
        "  n, m = map(int, input().split())\r\n",
        "  score, time = [0] * n, [0] * n\r\n",
        "  \r\n",
        "\r\n",
        "  for i in range(n) :\r\n",
        "        score[i], time[i] = map(int, input().split())\r\n",
        "  result = 0\r\n",
        "  DFS(0,0,0)\r\n",
        "print(result)"
      ],
      "execution_count": null,
      "outputs": []
    },
    {
      "cell_type": "code",
      "metadata": {
        "id": "CWYsRWZh0MvL"
      },
      "source": [
        "# 정답 코드\r\n",
        "\r\n",
        "# 경로 출력\r\n",
        "\r\n",
        "import sys\r\n",
        "\r\n",
        "# sys.stdin = open(\"input.txt\")\r\n",
        "\r\n",
        "def DFS(L, sum, time) :\r\n",
        "      global res\r\n",
        "\r\n",
        "      if time > m :\r\n",
        "            return\r\n",
        "\r\n",
        "      if L == n : # 종착지점\r\n",
        "            if sum > res :\r\n",
        "                  res = sum\r\n",
        "                  return\r\n",
        "      else : \r\n",
        "        DFS(L+1, sum+pv[L], time+pt[L]) # 현재 문제를 풀고 넘어가는 경우\r\n",
        "        DFS(L+1, sum, time) #현재 문제를 안풀고 넘어가는 경우\r\n",
        "      \r\n",
        "    \r\n",
        "\r\n",
        "if __name__ == \"__main__\" :\r\n",
        "\r\n",
        "  n, m = map(int, input().split())\r\n",
        "  pv = []\r\n",
        "  pt = []\r\n",
        "  for i in range(n) :\r\n",
        "        a, b = map(int, input().split())\r\n",
        "        pv.append(a)\r\n",
        "        pt.append(b)\r\n",
        "  res = 0\r\n",
        "  DFS(0,0,0)\r\n",
        "  print(res)\r\n",
        "\r\n"
      ],
      "execution_count": null,
      "outputs": []
    },
    {
      "cell_type": "markdown",
      "metadata": {
        "id": "kMK3MgDK5edF"
      },
      "source": [
        "##3. 최대 휴가비 구하기"
      ]
    },
    {
      "cell_type": "code",
      "metadata": {
        "colab": {
          "resources": {
            "http://localhost:8080/nbextensions/google.colab/files.js": {
              "data": "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",
              "ok": true,
              "headers": [
                [
                  "content-type",
                  "application/javascript"
                ]
              ],
              "status": 200,
              "status_text": ""
            }
          },
          "base_uri": "https://localhost:8080/",
          "height": 94
        },
        "id": "IPBTF4C99Ni6",
        "outputId": "c7e0f6b1-74d5-4998-8f31-43a084c2cd97"
      },
      "source": [
        "from google.colab import files\r\n",
        "\r\n",
        "files.upload()"
      ],
      "execution_count": null,
      "outputs": [
        {
          "output_type": "display_data",
          "data": {
            "text/html": [
              "\n",
              "     <input type=\"file\" id=\"files-787ac412-2108-45e3-b323-24d88a5c5386\" name=\"files[]\" multiple disabled\n",
              "        style=\"border:none\" />\n",
              "     <output id=\"result-787ac412-2108-45e3-b323-24d88a5c5386\">\n",
              "      Upload widget is only available when the cell has been executed in the\n",
              "      current browser session. Please rerun this cell to enable.\n",
              "      </output>\n",
              "      <script src=\"/nbextensions/google.colab/files.js\"></script> "
            ],
            "text/plain": [
              "<IPython.core.display.HTML object>"
            ]
          },
          "metadata": {
            "tags": []
          }
        },
        {
          "output_type": "stream",
          "text": [
            "Saving input.txt to input.txt\n"
          ],
          "name": "stdout"
        },
        {
          "output_type": "execute_result",
          "data": {
            "text/plain": [
              "{'input.txt': b'7\\r\\n4 20\\r\\n2 10\\r\\n3 15\\r\\n3 20\\r\\n2 30\\r\\n2 20\\r\\n1 10\\r\\n'}"
            ]
          },
          "metadata": {
            "tags": []
          },
          "execution_count": 104
        }
      ]
    },
    {
      "cell_type": "code",
      "metadata": {
        "colab": {
          "base_uri": "https://localhost:8080/"
        },
        "id": "yiN1MFJG-F3t",
        "outputId": "935cddd5-0c27-41e7-95cc-b63885b79deb"
      },
      "source": [
        "# 경로 출력\r\n",
        "\r\n",
        "import sys\r\n",
        "\r\n",
        "# sys.stdin = open(\"input.txt\", \"r\")\r\n",
        "\r\n",
        "def DFS(L, time, profit) :\r\n",
        "  global res\r\n",
        "  if time > n :\r\n",
        "    return \r\n",
        "\r\n",
        "  if L == n :\r\n",
        "    if profit > res :\r\n",
        "      res = profit\r\n",
        "    return\r\n",
        "    \r\n",
        "  else :\r\n",
        "    try :\r\n",
        "      DFS(L+t[L], time+t[L], profit+p[L])\r\n",
        "    except :\r\n",
        "      pass\r\n",
        "    DFS(L+1, time, profit)\r\n",
        "\r\n",
        "if __name__ == \"__main__\" :\r\n",
        "  n = 7\r\n",
        "  t = [4,2,3,3,2,2,1]\r\n",
        "  p = [20,10,15,20,30,20,10]\r\n",
        "\r\n",
        "  t2 = t\r\n",
        "  res = 0\r\n",
        "  s = [0] * n # schedule\r\n",
        "  DFS(0,0,0)\r\n",
        "  print(res)\r\n"
      ],
      "execution_count": null,
      "outputs": [
        {
          "output_type": "stream",
          "text": [
            "60\n"
          ],
          "name": "stdout"
        }
      ]
    },
    {
      "cell_type": "code",
      "metadata": {
        "colab": {
          "base_uri": "https://localhost:8080/"
        },
        "id": "kCjcVIUzDhbg",
        "outputId": "5de95113-918c-4191-e3d5-e296e390c734"
      },
      "source": [
        "# 경로 출력\r\n",
        "\r\n",
        "import sys\r\n",
        "\r\n",
        "# sys.stdin = open(\"input.txt\", \"r\")\r\n",
        "\r\n",
        "def DFS(L, time, profit) :\r\n",
        "  global res\r\n",
        "  if time > n :\r\n",
        "    return \r\n",
        "\r\n",
        "  if L == n :\r\n",
        "    if profit > res :\r\n",
        "      res = profit\r\n",
        "    return\r\n",
        "    \r\n",
        "  else :\r\n",
        "    try :\r\n",
        "      DFS(L+t[L], time+t[L], profit+p[L])\r\n",
        "    except :\r\n",
        "      pass\r\n",
        "    DFS(L+1, time, profit)\r\n",
        "\r\n",
        "\r\n",
        "if __name__ == \"__main__\" :\r\n",
        "  n = int(input())\r\n",
        "  t = []\r\n",
        "  p = []\r\n",
        "\r\n",
        "  for i in range(n) :\r\n",
        "    a, b = map(int, input().split())\r\n",
        "    t.append(a)\r\n",
        "    p.append(b)\r\n",
        "\r\n",
        "  res = -217000\r\n",
        "  DFS(0,0,0)\r\n",
        "  print(res)\r\n",
        "\r\n",
        "# 내 코드 - 100점(총 작업 시간 : 0.0009980201721191406)"
      ],
      "execution_count": null,
      "outputs": [
        {
          "output_type": "stream",
          "text": [
            "60\n"
          ],
          "name": "stdout"
        }
      ]
    },
    {
      "cell_type": "code",
      "metadata": {
        "id": "V1L_nOTrFjiC"
      },
      "source": [
        "# 정답 코드(총 작업 시간 : 0.0009975433349609375)\r\n",
        "import sys\r\n",
        "sys.stdin=open(\"input.txt\", \"r\")\r\n",
        "def DFS(L, sum):\r\n",
        "    global res\r\n",
        "    if L==n+1:\r\n",
        "        if sum>res:\r\n",
        "            res=sum\r\n",
        "    else:\r\n",
        "        if L+T[L]<=n+1:\r\n",
        "            DFS(L+T[L], sum+P[L])\r\n",
        "        DFS(L+1, sum)\r\n",
        "\r\n",
        "if __name__==\"__main__\":\r\n",
        "    n=int(input())\r\n",
        "    T=list()\r\n",
        "    P=list()\r\n",
        "    for i in range(n):\r\n",
        "        a, b=map(int, input().split())\r\n",
        "        T.append(a)\r\n",
        "        P.append(b)\r\n",
        "    res=-2147000000\r\n",
        "    T.insert(0, 0)\r\n",
        "    P.insert(0, 0)\r\n",
        "    DFS(1, 0)\r\n",
        "    print(res)\r\n"
      ],
      "execution_count": null,
      "outputs": []
    },
    {
      "cell_type": "markdown",
      "metadata": {
        "id": "oIXwSxmWHpeO"
      },
      "source": [
        "##4. 양팔저울"
      ]
    },
    {
      "cell_type": "code",
      "metadata": {
        "colab": {
          "base_uri": "https://localhost:8080/"
        },
        "id": "BY4WI7iZHrTs",
        "outputId": "4d43ff92-f4ba-42d6-dccb-83b537cb1067"
      },
      "source": [
        "if __name__ == \"__main__\" :\r\n",
        "  n = 3\r\n",
        "  k = [1,5,7]\r\n",
        "  k_range = [i for i in range(1, sum(k)+1)]\r\n",
        "  print(k_range)"
      ],
      "execution_count": null,
      "outputs": [
        {
          "output_type": "stream",
          "text": [
            "[1, 2, 3, 4, 5, 6, 7, 8, 9, 10, 11, 12, 13]\n"
          ],
          "name": "stdout"
        }
      ]
    },
    {
      "cell_type": "code",
      "metadata": {
        "colab": {
          "base_uri": "https://localhost:8080/"
        },
        "id": "vjNiB6heH_kr",
        "outputId": "40e71e38-81a4-4760-9f5f-0b8adb403f59"
      },
      "source": [
        "# time-limit에 의해 마지막 문제 아웃\r\n",
        "# 일일히 수정해서 나올 수 있는 경우의 수를 모두 구하며 일일히 빼기\r\n",
        "\r\n",
        "import time\r\n",
        "\r\n",
        "start = time.time()\r\n",
        "\r\n",
        "def DFS(L, res) :\r\n",
        "  global k_range\r\n",
        "  if L == n :\r\n",
        "    try : \r\n",
        "      k_range.remove(res)\r\n",
        "    except :\r\n",
        "      pass\r\n",
        "    return\r\n",
        "\r\n",
        "  else :\r\n",
        "    DFS(L+1,res+k[L])\r\n",
        "    DFS(L+1,res)\r\n",
        "    DFS(L+1,res-k[L])\r\n",
        "\r\n",
        "if __name__ == \"__main__\" :\r\n",
        "  n = 10\r\n",
        "  k = [1152, 835, 1351 ,21351, 21353 ,5533, 8359 ,10350, 101 ,108]\r\n",
        "  k_range = [i for i in range(1, sum(k)+1)]\r\n",
        "  DFS(0, 0)\r\n",
        "  print(len(k_range))\r\n",
        "\r\n",
        "print(\"총 작업시간 :\", time.time() - start)"
      ],
      "execution_count": null,
      "outputs": [
        {
          "output_type": "stream",
          "text": [
            "50650\n",
            "총 작업시간 : 34.78069734573364\n"
          ],
          "name": "stdout"
        }
      ]
    },
    {
      "cell_type": "code",
      "metadata": {
        "colab": {
          "base_uri": "https://localhost:8080/"
        },
        "id": "P3_6fKgmPjN1",
        "outputId": "ad0b3bf7-0795-447c-a41d-f43a0ed36c8b"
      },
      "source": [
        "# time-limit에 의해 마지막 문제 아웃 - 조금 개선(컷 라인 추가)\r\n",
        "# 일일히 수정해서 나올 수 있는 경우의 수를 모두 구하며 일일히 빼기\r\n",
        "\r\n",
        "import time\r\n",
        "\r\n",
        "start = time.time()\r\n",
        "\r\n",
        "def DFS(L, res) :\r\n",
        "  global k_range\r\n",
        "\r\n",
        "  if res + sum(k[L:]) < 1 : # 컷라인 추가\r\n",
        "    return \r\n",
        "\r\n",
        "  if L == n :\r\n",
        "    try : \r\n",
        "      k_range.remove(res)\r\n",
        "    except :\r\n",
        "      pass\r\n",
        "    return\r\n",
        "\r\n",
        "  else :\r\n",
        "    DFS(L+1,res+k[L])\r\n",
        "    DFS(L+1,res)\r\n",
        "    DFS(L+1,res-k[L])\r\n",
        "\r\n",
        "if __name__ == \"__main__\" :\r\n",
        "  n = 10\r\n",
        "  k = [1152, 835, 1351 ,21351, 21353 ,5533, 8359 ,10350, 101 ,108]\r\n",
        "  k_range = [i for i in range(1, sum(k)+1)]\r\n",
        "  DFS(0, 0)\r\n",
        "  print(len(k_range))\r\n",
        "\r\n",
        "print(\"총 작업시간 :\", time.time() - start)"
      ],
      "execution_count": null,
      "outputs": [
        {
          "output_type": "stream",
          "text": [
            "50650\n",
            "총 작업시간 : 13.337746620178223\n"
          ],
          "name": "stdout"
        }
      ]
    },
    {
      "cell_type": "code",
      "metadata": {
        "colab": {
          "base_uri": "https://localhost:8080/"
        },
        "id": "MglvvYNwNVWD",
        "outputId": "01b20634-73b1-43c5-880e-88d86cc53fdf"
      },
      "source": [
        "# 알고리즘 수정 : 100점\r\n",
        "# 정답 범위 안에 있는 값들만을 모은 뒤 중복을 제거하고, 길이 차이로 정답 도출\r\n",
        "\r\n",
        "import time\r\n",
        "\r\n",
        "start = time.time()\r\n",
        "\r\n",
        "def DFS(L, res) :\r\n",
        "  global k_range\r\n",
        "\r\n",
        "  if L == n :\r\n",
        "    if 0 < res <= target :\r\n",
        "      k_range.append(res)\r\n",
        "\r\n",
        "    return\r\n",
        "\r\n",
        "  else :\r\n",
        "    DFS(L+1,res+k[L])\r\n",
        "    DFS(L+1,res)\r\n",
        "    if res-k[L]+sum(k[L+1:]) > 0 :\r\n",
        "      DFS(L+1,res-k[L])\r\n",
        "\r\n",
        "if __name__ == \"__main__\" :\r\n",
        "  n = 10\r\n",
        "  k = [1152, 835, 1351 ,21351, 21353 ,5533, 8359 ,10350, 101 ,108]\r\n",
        "  target = sum(k) + 1\r\n",
        "  k_range = []\r\n",
        "  # k_range = [i for i in range(1, sum(k)+1)]\r\n",
        "  DFS(0, 0)\r\n",
        "  print(target - len(set(k_range)))\r\n",
        "\r\n",
        "print(\"총 작업시간 :\", time.time() - start)"
      ],
      "execution_count": null,
      "outputs": [
        {
          "output_type": "stream",
          "text": [
            "50651\n",
            "총 작업시간 : 0.01962876319885254\n"
          ],
          "name": "stdout"
        }
      ]
    },
    {
      "cell_type": "markdown",
      "metadata": {
        "id": "GZal6nqt8-n2"
      },
      "source": [
        "#Day 08 (21.01.24) "
      ]
    },
    {
      "cell_type": "markdown",
      "metadata": {
        "id": "CFBNdXHL9HpC"
      },
      "source": [
        "##1. 동전 분배하기\r\n"
      ]
    },
    {
      "cell_type": "code",
      "metadata": {
        "colab": {
          "base_uri": "https://localhost:8080/"
        },
        "id": "VJNE6sr897L2",
        "outputId": "71479613-0986-4505-994f-97edac99ac56"
      },
      "source": [
        "def DFS(L) :\r\n",
        "  global res\r\n",
        "  if L == n :\r\n",
        "    if max(w) - min(w) < res and len(set(w)) > 2:      \r\n",
        "      res = max(w) - min(w)\r\n",
        "    return\r\n",
        "    \r\n",
        "  else :\r\n",
        "    for i in range(len(w)) :\r\n",
        "       w[i] += m[L]\r\n",
        "       DFS(L+1)\r\n",
        "       w[i] -= m[L]\r\n",
        "      #  DFS(L+1)\r\n",
        "\r\n",
        "if __name__ == \"__main__\" :\r\n",
        "  n = 7\r\n",
        "  m = [8,9,11,12,23,15,17]\r\n",
        "  w = [0] * 3 \r\n",
        "  res = 1000000\r\n",
        "  DFS(0)\r\n",
        "  print(res)"
      ],
      "execution_count": null,
      "outputs": [
        {
          "output_type": "stream",
          "text": [
            "5\n"
          ],
          "name": "stdout"
        }
      ]
    },
    {
      "cell_type": "markdown",
      "metadata": {
        "id": "JyFZrZbdG2Ee"
      },
      "source": [
        "##2. 알파코드\r\n"
      ]
    },
    {
      "cell_type": "code",
      "metadata": {
        "colab": {
          "base_uri": "https://localhost:8080/",
          "height": 394
        },
        "id": "goWM3z-F9Ful",
        "outputId": "e309942a-861c-49ab-96e7-668c151fe1d7"
      },
      "source": [
        "# 숫자로 먼저 출력해보기 - 에러 방지 X\r\n",
        "\r\n",
        "def DFS(L,P) :\r\n",
        "  global cnt\r\n",
        "  if L == n :\r\n",
        "    cnt += 1\r\n",
        "    for j in range(P) :\r\n",
        "      print(res[j], end=\" \")\r\n",
        "    print()\r\n",
        "  \r\n",
        "  else :\r\n",
        "    for i in range(1, 26 + 1) :\r\n",
        "      if code[L] == i :\r\n",
        "        res[P] = i\r\n",
        "        DFS(L+1, P+1)\r\n",
        "      elif i >= 10 and code[L]==i//10 and code[L+1] == i%10 : #두 자리 숫자의 경우\r\n",
        "        res[P] = i\r\n",
        "        DFS(L+2,P+1)\r\n",
        "\r\n",
        "\r\n",
        "\r\n",
        "if __name__ == \"__main__\" :\r\n",
        "  code = [2,5,1,1,2]\r\n",
        "  n = len(code) # 종착점\r\n",
        "  # code.insert(n, -1) # 마지막에 도달했을 때, 두 자리 숫자인지 판단할 때 에러가 발생 방지\r\n",
        "  res = [0] * (n+3) # index로 P 사용\r\n",
        "  cnt = 0\r\n",
        "  DFS(0,0)\r\n",
        "  print(cnt)"
      ],
      "execution_count": null,
      "outputs": [
        {
          "output_type": "stream",
          "text": [
            "2 5 1 1 2 \n"
          ],
          "name": "stdout"
        },
        {
          "output_type": "error",
          "ename": "IndexError",
          "evalue": "ignored",
          "traceback": [
            "\u001b[0;31m---------------------------------------------------------------------------\u001b[0m",
            "\u001b[0;31mIndexError\u001b[0m                                Traceback (most recent call last)",
            "\u001b[0;32m<ipython-input-90-323943939399>\u001b[0m in \u001b[0;36m<module>\u001b[0;34m()\u001b[0m\n\u001b[1;32m     26\u001b[0m   \u001b[0mres\u001b[0m \u001b[0;34m=\u001b[0m \u001b[0;34m[\u001b[0m\u001b[0;36m0\u001b[0m\u001b[0;34m]\u001b[0m \u001b[0;34m*\u001b[0m \u001b[0;34m(\u001b[0m\u001b[0mn\u001b[0m\u001b[0;34m+\u001b[0m\u001b[0;36m3\u001b[0m\u001b[0;34m)\u001b[0m \u001b[0;31m# index로 P 사용\u001b[0m\u001b[0;34m\u001b[0m\u001b[0;34m\u001b[0m\u001b[0m\n\u001b[1;32m     27\u001b[0m   \u001b[0mcnt\u001b[0m \u001b[0;34m=\u001b[0m \u001b[0;36m0\u001b[0m\u001b[0;34m\u001b[0m\u001b[0;34m\u001b[0m\u001b[0m\n\u001b[0;32m---> 28\u001b[0;31m   \u001b[0mDFS\u001b[0m\u001b[0;34m(\u001b[0m\u001b[0;36m0\u001b[0m\u001b[0;34m,\u001b[0m\u001b[0;36m0\u001b[0m\u001b[0;34m)\u001b[0m\u001b[0;34m\u001b[0m\u001b[0;34m\u001b[0m\u001b[0m\n\u001b[0m\u001b[1;32m     29\u001b[0m   \u001b[0mprint\u001b[0m\u001b[0;34m(\u001b[0m\u001b[0mcnt\u001b[0m\u001b[0;34m)\u001b[0m\u001b[0;34m\u001b[0m\u001b[0;34m\u001b[0m\u001b[0m\n",
            "\u001b[0;32m<ipython-input-90-323943939399>\u001b[0m in \u001b[0;36mDFS\u001b[0;34m(L, P)\u001b[0m\n\u001b[1;32m     13\u001b[0m       \u001b[0;32mif\u001b[0m \u001b[0mcode\u001b[0m\u001b[0;34m[\u001b[0m\u001b[0mL\u001b[0m\u001b[0;34m]\u001b[0m \u001b[0;34m==\u001b[0m \u001b[0mi\u001b[0m \u001b[0;34m:\u001b[0m\u001b[0;34m\u001b[0m\u001b[0;34m\u001b[0m\u001b[0m\n\u001b[1;32m     14\u001b[0m         \u001b[0mres\u001b[0m\u001b[0;34m[\u001b[0m\u001b[0mP\u001b[0m\u001b[0;34m]\u001b[0m \u001b[0;34m=\u001b[0m \u001b[0mi\u001b[0m\u001b[0;34m\u001b[0m\u001b[0;34m\u001b[0m\u001b[0m\n\u001b[0;32m---> 15\u001b[0;31m         \u001b[0mDFS\u001b[0m\u001b[0;34m(\u001b[0m\u001b[0mL\u001b[0m\u001b[0;34m+\u001b[0m\u001b[0;36m1\u001b[0m\u001b[0;34m,\u001b[0m \u001b[0mP\u001b[0m\u001b[0;34m+\u001b[0m\u001b[0;36m1\u001b[0m\u001b[0;34m)\u001b[0m\u001b[0;34m\u001b[0m\u001b[0;34m\u001b[0m\u001b[0m\n\u001b[0m\u001b[1;32m     16\u001b[0m       \u001b[0;32melif\u001b[0m \u001b[0mi\u001b[0m \u001b[0;34m>=\u001b[0m \u001b[0;36m10\u001b[0m \u001b[0;32mand\u001b[0m \u001b[0mcode\u001b[0m\u001b[0;34m[\u001b[0m\u001b[0mL\u001b[0m\u001b[0;34m]\u001b[0m\u001b[0;34m==\u001b[0m\u001b[0mi\u001b[0m\u001b[0;34m//\u001b[0m\u001b[0;36m10\u001b[0m \u001b[0;32mand\u001b[0m \u001b[0mcode\u001b[0m\u001b[0;34m[\u001b[0m\u001b[0mL\u001b[0m\u001b[0;34m+\u001b[0m\u001b[0;36m1\u001b[0m\u001b[0;34m]\u001b[0m \u001b[0;34m==\u001b[0m \u001b[0mi\u001b[0m\u001b[0;34m%\u001b[0m\u001b[0;36m10\u001b[0m \u001b[0;34m:\u001b[0m \u001b[0;31m#두 자리 숫자의 경우\u001b[0m\u001b[0;34m\u001b[0m\u001b[0;34m\u001b[0m\u001b[0m\n\u001b[1;32m     17\u001b[0m         \u001b[0mres\u001b[0m\u001b[0;34m[\u001b[0m\u001b[0mP\u001b[0m\u001b[0;34m]\u001b[0m \u001b[0;34m=\u001b[0m \u001b[0mi\u001b[0m\u001b[0;34m\u001b[0m\u001b[0;34m\u001b[0m\u001b[0m\n",
            "\u001b[0;32m<ipython-input-90-323943939399>\u001b[0m in \u001b[0;36mDFS\u001b[0;34m(L, P)\u001b[0m\n\u001b[1;32m     13\u001b[0m       \u001b[0;32mif\u001b[0m \u001b[0mcode\u001b[0m\u001b[0;34m[\u001b[0m\u001b[0mL\u001b[0m\u001b[0;34m]\u001b[0m \u001b[0;34m==\u001b[0m \u001b[0mi\u001b[0m \u001b[0;34m:\u001b[0m\u001b[0;34m\u001b[0m\u001b[0;34m\u001b[0m\u001b[0m\n\u001b[1;32m     14\u001b[0m         \u001b[0mres\u001b[0m\u001b[0;34m[\u001b[0m\u001b[0mP\u001b[0m\u001b[0;34m]\u001b[0m \u001b[0;34m=\u001b[0m \u001b[0mi\u001b[0m\u001b[0;34m\u001b[0m\u001b[0;34m\u001b[0m\u001b[0m\n\u001b[0;32m---> 15\u001b[0;31m         \u001b[0mDFS\u001b[0m\u001b[0;34m(\u001b[0m\u001b[0mL\u001b[0m\u001b[0;34m+\u001b[0m\u001b[0;36m1\u001b[0m\u001b[0;34m,\u001b[0m \u001b[0mP\u001b[0m\u001b[0;34m+\u001b[0m\u001b[0;36m1\u001b[0m\u001b[0;34m)\u001b[0m\u001b[0;34m\u001b[0m\u001b[0;34m\u001b[0m\u001b[0m\n\u001b[0m\u001b[1;32m     16\u001b[0m       \u001b[0;32melif\u001b[0m \u001b[0mi\u001b[0m \u001b[0;34m>=\u001b[0m \u001b[0;36m10\u001b[0m \u001b[0;32mand\u001b[0m \u001b[0mcode\u001b[0m\u001b[0;34m[\u001b[0m\u001b[0mL\u001b[0m\u001b[0;34m]\u001b[0m\u001b[0;34m==\u001b[0m\u001b[0mi\u001b[0m\u001b[0;34m//\u001b[0m\u001b[0;36m10\u001b[0m \u001b[0;32mand\u001b[0m \u001b[0mcode\u001b[0m\u001b[0;34m[\u001b[0m\u001b[0mL\u001b[0m\u001b[0;34m+\u001b[0m\u001b[0;36m1\u001b[0m\u001b[0;34m]\u001b[0m \u001b[0;34m==\u001b[0m \u001b[0mi\u001b[0m\u001b[0;34m%\u001b[0m\u001b[0;36m10\u001b[0m \u001b[0;34m:\u001b[0m \u001b[0;31m#두 자리 숫자의 경우\u001b[0m\u001b[0;34m\u001b[0m\u001b[0;34m\u001b[0m\u001b[0m\n\u001b[1;32m     17\u001b[0m         \u001b[0mres\u001b[0m\u001b[0;34m[\u001b[0m\u001b[0mP\u001b[0m\u001b[0;34m]\u001b[0m \u001b[0;34m=\u001b[0m \u001b[0mi\u001b[0m\u001b[0;34m\u001b[0m\u001b[0;34m\u001b[0m\u001b[0m\n",
            "\u001b[0;32m<ipython-input-90-323943939399>\u001b[0m in \u001b[0;36mDFS\u001b[0;34m(L, P)\u001b[0m\n\u001b[1;32m     13\u001b[0m       \u001b[0;32mif\u001b[0m \u001b[0mcode\u001b[0m\u001b[0;34m[\u001b[0m\u001b[0mL\u001b[0m\u001b[0;34m]\u001b[0m \u001b[0;34m==\u001b[0m \u001b[0mi\u001b[0m \u001b[0;34m:\u001b[0m\u001b[0;34m\u001b[0m\u001b[0;34m\u001b[0m\u001b[0m\n\u001b[1;32m     14\u001b[0m         \u001b[0mres\u001b[0m\u001b[0;34m[\u001b[0m\u001b[0mP\u001b[0m\u001b[0;34m]\u001b[0m \u001b[0;34m=\u001b[0m \u001b[0mi\u001b[0m\u001b[0;34m\u001b[0m\u001b[0;34m\u001b[0m\u001b[0m\n\u001b[0;32m---> 15\u001b[0;31m         \u001b[0mDFS\u001b[0m\u001b[0;34m(\u001b[0m\u001b[0mL\u001b[0m\u001b[0;34m+\u001b[0m\u001b[0;36m1\u001b[0m\u001b[0;34m,\u001b[0m \u001b[0mP\u001b[0m\u001b[0;34m+\u001b[0m\u001b[0;36m1\u001b[0m\u001b[0;34m)\u001b[0m\u001b[0;34m\u001b[0m\u001b[0;34m\u001b[0m\u001b[0m\n\u001b[0m\u001b[1;32m     16\u001b[0m       \u001b[0;32melif\u001b[0m \u001b[0mi\u001b[0m \u001b[0;34m>=\u001b[0m \u001b[0;36m10\u001b[0m \u001b[0;32mand\u001b[0m \u001b[0mcode\u001b[0m\u001b[0;34m[\u001b[0m\u001b[0mL\u001b[0m\u001b[0;34m]\u001b[0m\u001b[0;34m==\u001b[0m\u001b[0mi\u001b[0m\u001b[0;34m//\u001b[0m\u001b[0;36m10\u001b[0m \u001b[0;32mand\u001b[0m \u001b[0mcode\u001b[0m\u001b[0;34m[\u001b[0m\u001b[0mL\u001b[0m\u001b[0;34m+\u001b[0m\u001b[0;36m1\u001b[0m\u001b[0;34m]\u001b[0m \u001b[0;34m==\u001b[0m \u001b[0mi\u001b[0m\u001b[0;34m%\u001b[0m\u001b[0;36m10\u001b[0m \u001b[0;34m:\u001b[0m \u001b[0;31m#두 자리 숫자의 경우\u001b[0m\u001b[0;34m\u001b[0m\u001b[0;34m\u001b[0m\u001b[0m\n\u001b[1;32m     17\u001b[0m         \u001b[0mres\u001b[0m\u001b[0;34m[\u001b[0m\u001b[0mP\u001b[0m\u001b[0;34m]\u001b[0m \u001b[0;34m=\u001b[0m \u001b[0mi\u001b[0m\u001b[0;34m\u001b[0m\u001b[0;34m\u001b[0m\u001b[0m\n",
            "\u001b[0;32m<ipython-input-90-323943939399>\u001b[0m in \u001b[0;36mDFS\u001b[0;34m(L, P)\u001b[0m\n\u001b[1;32m     13\u001b[0m       \u001b[0;32mif\u001b[0m \u001b[0mcode\u001b[0m\u001b[0;34m[\u001b[0m\u001b[0mL\u001b[0m\u001b[0;34m]\u001b[0m \u001b[0;34m==\u001b[0m \u001b[0mi\u001b[0m \u001b[0;34m:\u001b[0m\u001b[0;34m\u001b[0m\u001b[0;34m\u001b[0m\u001b[0m\n\u001b[1;32m     14\u001b[0m         \u001b[0mres\u001b[0m\u001b[0;34m[\u001b[0m\u001b[0mP\u001b[0m\u001b[0;34m]\u001b[0m \u001b[0;34m=\u001b[0m \u001b[0mi\u001b[0m\u001b[0;34m\u001b[0m\u001b[0;34m\u001b[0m\u001b[0m\n\u001b[0;32m---> 15\u001b[0;31m         \u001b[0mDFS\u001b[0m\u001b[0;34m(\u001b[0m\u001b[0mL\u001b[0m\u001b[0;34m+\u001b[0m\u001b[0;36m1\u001b[0m\u001b[0;34m,\u001b[0m \u001b[0mP\u001b[0m\u001b[0;34m+\u001b[0m\u001b[0;36m1\u001b[0m\u001b[0;34m)\u001b[0m\u001b[0;34m\u001b[0m\u001b[0;34m\u001b[0m\u001b[0m\n\u001b[0m\u001b[1;32m     16\u001b[0m       \u001b[0;32melif\u001b[0m \u001b[0mi\u001b[0m \u001b[0;34m>=\u001b[0m \u001b[0;36m10\u001b[0m \u001b[0;32mand\u001b[0m \u001b[0mcode\u001b[0m\u001b[0;34m[\u001b[0m\u001b[0mL\u001b[0m\u001b[0;34m]\u001b[0m\u001b[0;34m==\u001b[0m\u001b[0mi\u001b[0m\u001b[0;34m//\u001b[0m\u001b[0;36m10\u001b[0m \u001b[0;32mand\u001b[0m \u001b[0mcode\u001b[0m\u001b[0;34m[\u001b[0m\u001b[0mL\u001b[0m\u001b[0;34m+\u001b[0m\u001b[0;36m1\u001b[0m\u001b[0;34m]\u001b[0m \u001b[0;34m==\u001b[0m \u001b[0mi\u001b[0m\u001b[0;34m%\u001b[0m\u001b[0;36m10\u001b[0m \u001b[0;34m:\u001b[0m \u001b[0;31m#두 자리 숫자의 경우\u001b[0m\u001b[0;34m\u001b[0m\u001b[0;34m\u001b[0m\u001b[0m\n\u001b[1;32m     17\u001b[0m         \u001b[0mres\u001b[0m\u001b[0;34m[\u001b[0m\u001b[0mP\u001b[0m\u001b[0;34m]\u001b[0m \u001b[0;34m=\u001b[0m \u001b[0mi\u001b[0m\u001b[0;34m\u001b[0m\u001b[0;34m\u001b[0m\u001b[0m\n",
            "\u001b[0;32m<ipython-input-90-323943939399>\u001b[0m in \u001b[0;36mDFS\u001b[0;34m(L, P)\u001b[0m\n\u001b[1;32m     14\u001b[0m         \u001b[0mres\u001b[0m\u001b[0;34m[\u001b[0m\u001b[0mP\u001b[0m\u001b[0;34m]\u001b[0m \u001b[0;34m=\u001b[0m \u001b[0mi\u001b[0m\u001b[0;34m\u001b[0m\u001b[0;34m\u001b[0m\u001b[0m\n\u001b[1;32m     15\u001b[0m         \u001b[0mDFS\u001b[0m\u001b[0;34m(\u001b[0m\u001b[0mL\u001b[0m\u001b[0;34m+\u001b[0m\u001b[0;36m1\u001b[0m\u001b[0;34m,\u001b[0m \u001b[0mP\u001b[0m\u001b[0;34m+\u001b[0m\u001b[0;36m1\u001b[0m\u001b[0;34m)\u001b[0m\u001b[0;34m\u001b[0m\u001b[0;34m\u001b[0m\u001b[0m\n\u001b[0;32m---> 16\u001b[0;31m       \u001b[0;32melif\u001b[0m \u001b[0mi\u001b[0m \u001b[0;34m>=\u001b[0m \u001b[0;36m10\u001b[0m \u001b[0;32mand\u001b[0m \u001b[0mcode\u001b[0m\u001b[0;34m[\u001b[0m\u001b[0mL\u001b[0m\u001b[0;34m]\u001b[0m\u001b[0;34m==\u001b[0m\u001b[0mi\u001b[0m\u001b[0;34m//\u001b[0m\u001b[0;36m10\u001b[0m \u001b[0;32mand\u001b[0m \u001b[0mcode\u001b[0m\u001b[0;34m[\u001b[0m\u001b[0mL\u001b[0m\u001b[0;34m+\u001b[0m\u001b[0;36m1\u001b[0m\u001b[0;34m]\u001b[0m \u001b[0;34m==\u001b[0m \u001b[0mi\u001b[0m\u001b[0;34m%\u001b[0m\u001b[0;36m10\u001b[0m \u001b[0;34m:\u001b[0m \u001b[0;31m#두 자리 숫자의 경우\u001b[0m\u001b[0;34m\u001b[0m\u001b[0;34m\u001b[0m\u001b[0m\n\u001b[0m\u001b[1;32m     17\u001b[0m         \u001b[0mres\u001b[0m\u001b[0;34m[\u001b[0m\u001b[0mP\u001b[0m\u001b[0;34m]\u001b[0m \u001b[0;34m=\u001b[0m \u001b[0mi\u001b[0m\u001b[0;34m\u001b[0m\u001b[0;34m\u001b[0m\u001b[0m\n\u001b[1;32m     18\u001b[0m         \u001b[0mDFS\u001b[0m\u001b[0;34m(\u001b[0m\u001b[0mL\u001b[0m\u001b[0;34m+\u001b[0m\u001b[0;36m2\u001b[0m\u001b[0;34m,\u001b[0m\u001b[0mP\u001b[0m\u001b[0;34m+\u001b[0m\u001b[0;36m1\u001b[0m\u001b[0;34m)\u001b[0m\u001b[0;34m\u001b[0m\u001b[0;34m\u001b[0m\u001b[0m\n",
            "\u001b[0;31mIndexError\u001b[0m: list index out of range"
          ]
        }
      ]
    },
    {
      "cell_type": "code",
      "metadata": {
        "colab": {
          "base_uri": "https://localhost:8080/"
        },
        "id": "TrKPy6iUjR6q",
        "outputId": "c0b5dc3b-9559-4ffc-f19c-c7716d1df037"
      },
      "source": [
        "# 숫자로 먼저 출력해보기 - 에러 방지 O\r\n",
        "\r\n",
        "def DFS(L,P) :\r\n",
        "  global cnt\r\n",
        "  if L == n :\r\n",
        "    cnt += 1\r\n",
        "    for j in range(P) :\r\n",
        "      print(res[j], end=\" \")\r\n",
        "    print()\r\n",
        "  \r\n",
        "  else :\r\n",
        "    for i in range(1, 26 + 1) :\r\n",
        "      if code[L] == i :\r\n",
        "        res[P] = i\r\n",
        "        DFS(L+1, P+1)\r\n",
        "      elif i >= 10 and code[L]==i//10 and code[L+1] == i%10 : #두 자리 숫자의 경우\r\n",
        "        res[P] = i\r\n",
        "        DFS(L+2,P+1)\r\n",
        "\r\n",
        "\r\n",
        "\r\n",
        "if __name__ == \"__main__\" :\r\n",
        "  code = [2,5,1,1,2]\r\n",
        "  n = len(code) # 종착점\r\n",
        "  code.insert(n, -1) # 마지막에 도달했을 때, 두 자리 숫자인지 판단할 때 에러가 발생 방지\r\n",
        "  res = [0] * (n+3) # index로 P 사용\r\n",
        "  cnt = 0\r\n",
        "  DFS(0,0)\r\n",
        "  print(cnt)"
      ],
      "execution_count": null,
      "outputs": [
        {
          "output_type": "stream",
          "text": [
            "2 5 1 1 2 \n",
            "2 5 1 12 \n",
            "2 5 11 2 \n",
            "25 1 1 2 \n",
            "25 1 12 \n",
            "25 11 2 \n",
            "6\n"
          ],
          "name": "stdout"
        }
      ]
    },
    {
      "cell_type": "code",
      "metadata": {
        "colab": {
          "base_uri": "https://localhost:8080/"
        },
        "id": "W6JeFPewjfZN",
        "outputId": "65bcdd34-d94e-4972-ac36-afb827b06a90"
      },
      "source": [
        "# 문자로 변환 by using chr(i + 64)\r\n",
        "\r\n",
        "def DFS(L,P) :\r\n",
        "  global cnt\r\n",
        "  if L == n :\r\n",
        "    cnt += 1\r\n",
        "    for j in range(P) :\r\n",
        "      print(chr(res[j]+64), end=\"\")\r\n",
        "    print()\r\n",
        "  \r\n",
        "  else :\r\n",
        "    for i in range(1, 26 + 1) :\r\n",
        "      if code[L] == i :\r\n",
        "        res[P] = i\r\n",
        "        DFS(L+1, P+1)\r\n",
        "      elif i >= 10 and code[L]==i//10 and code[L+1] == i%10 : #두 자리 숫자의 경우\r\n",
        "        res[P] = i\r\n",
        "        DFS(L+2,P+1)\r\n",
        "\r\n",
        "if __name__ == \"__main__\" :\r\n",
        "  code = [2,5,1,1,4]\r\n",
        "  n = len(code) # 종착점\r\n",
        "  code.insert(n, -1) # 마지막에 도달했을 때, 두 자리 숫자인지 판단할 때 에러가 발생 방지\r\n",
        "  res = [0] * (n+3) # index로 P 사용\r\n",
        "  cnt = 0\r\n",
        "  DFS(0,0)\r\n",
        "  print(cnt)"
      ],
      "execution_count": null,
      "outputs": [
        {
          "output_type": "stream",
          "text": [
            "BEAAD\n",
            "BEAN\n",
            "BEKD\n",
            "YAAD\n",
            "YAN\n",
            "YKD\n",
            "6\n"
          ],
          "name": "stdout"
        }
      ]
    },
    {
      "cell_type": "markdown",
      "metadata": {
        "id": "90Va3HHnOslp"
      },
      "source": [
        "##3. 송아지 찾기(BFS) - 래벨 탐색"
      ]
    },
    {
      "cell_type": "code",
      "metadata": {
        "colab": {
          "base_uri": "https://localhost:8080/"
        },
        "id": "vvpQgX7yTFj9",
        "outputId": "25b7252c-4b5e-45a6-df38-de472ddd79da"
      },
      "source": [
        "# 내풀이\r\n",
        "\r\n",
        "import sys\r\n",
        "\r\n",
        "def solution(s, e) :\r\n",
        "  global res\r\n",
        "\r\n",
        "  if s >= e :\r\n",
        "    res = s - e\r\n",
        "  else :\r\n",
        "    while True :\r\n",
        "      tmp = e - s\r\n",
        "      if tmp == 0 :\r\n",
        "        break\r\n",
        "\r\n",
        "      if (tmp / 5) >= 1 :\r\n",
        "        res += (tmp // 5)\r\n",
        "        s += 5 * (tmp // 5)\r\n",
        "      elif (tmp % 5) == 4 :\r\n",
        "        res += 2\r\n",
        "        break\r\n",
        "\r\n",
        "      else :\r\n",
        "        if e >= s :\r\n",
        "          res += (e-s)\r\n",
        "          break\r\n",
        "\r\n",
        "        else :\r\n",
        "          res += (s-e)\r\n",
        "          break\r\n",
        "\r\n",
        "\r\n",
        "\r\n",
        "if __name__ == \"__main__\" :\r\n",
        "  s = 5\r\n",
        "  e = 14\r\n",
        "  move = [-1,1,5]\r\n",
        "  res = 0\r\n",
        "  solution(s, e)\r\n",
        "  print(res)"
      ],
      "execution_count": null,
      "outputs": [
        {
          "output_type": "stream",
          "text": [
            "3\n"
          ],
          "name": "stdout"
        }
      ]
    },
    {
      "cell_type": "code",
      "metadata": {
        "colab": {
          "base_uri": "https://localhost:8080/"
        },
        "id": "Bd1q_AowOt9w",
        "outputId": "efa5dc4a-c5fc-4af7-c55a-7b614f96c9e8"
      },
      "source": [
        "# 내풀이\r\n",
        "\r\n",
        "import sys\r\n",
        "import time\r\n",
        "\r\n",
        "start = time.time()\r\n",
        "\r\n",
        "# sys.stdin=open(\"input.txt\", \"r\")\r\n",
        "\r\n",
        "def solution(s, e) :\r\n",
        "  global res\r\n",
        "\r\n",
        "  if s >= e :\r\n",
        "    res = s - e\r\n",
        "  else :\r\n",
        "    while True :\r\n",
        "      tmp = e - s\r\n",
        "      if tmp == 0 :\r\n",
        "        break\r\n",
        "\r\n",
        "      if (tmp / 5) >= 1 :\r\n",
        "        res += (tmp // 5)\r\n",
        "        s += 5 * (tmp // 5)\r\n",
        "      elif (tmp % 5) == 4 :\r\n",
        "        res += 2\r\n",
        "        break\r\n",
        "\r\n",
        "      else :\r\n",
        "        if e >= s :\r\n",
        "          res += (e-s)\r\n",
        "          break\r\n",
        "\r\n",
        "        else :\r\n",
        "          res += (s-e)\r\n",
        "          break\r\n",
        "\r\n",
        "\r\n",
        "\r\n",
        "if __name__ == \"__main__\" :\r\n",
        "  s, e = map(int, input().split())\r\n",
        "  res = 0\r\n",
        "  solution(s, e)\r\n",
        "  print(res)\r\n",
        "\r\n",
        "# print(\"총 작업 시간 :\", time.time()-start)\r\n"
      ],
      "execution_count": null,
      "outputs": [
        {
          "output_type": "stream",
          "text": [
            "1\n"
          ],
          "name": "stdout"
        }
      ]
    },
    {
      "cell_type": "code",
      "metadata": {
        "colab": {
          "base_uri": "https://localhost:8080/"
        },
        "id": "l8POiQ8RkGz4",
        "outputId": "a78ad9ac-9998-4bef-fe15-9171ae6bcbe6"
      },
      "source": [
        "from collections import deque\r\n",
        "\r\n",
        "MAX = 10000 # 채널 최대치\r\n",
        "ch, dis = [0] * (MAX+1),[0] * (MAX+1)\r\n",
        "n, m = 5, 14\r\n",
        "ch[n] = 1 # 현재 위치\r\n",
        "dis[n] = 0 # 출발점과의 거리 0\r\n",
        "dQ = deque()\r\n",
        "dQ.append(n) # 현재위치 삽입\r\n",
        "while dQ : # 비어있으면 멈춤\r\n",
        "  now = dQ.popleft()\r\n",
        "  if now == m : # 현재 위치가 목표지점과 같을 경우\r\n",
        "    break\r\n",
        "\r\n",
        "  for next in (now-1, now+1, now+5) : # 한 번에 갈 수 있는 거리\r\n",
        "    if 0 < next <= MAX :\r\n",
        "      if ch[next] == 0 : # 가보지 않은 경우에만\r\n",
        "        dQ.append(next)\r\n",
        "        ch[next] = 1 #가본 곳 체크\r\n",
        "        dis[next] = dis[now]+1\r\n",
        "\r\n",
        "print(dis[m])"
      ],
      "execution_count": null,
      "outputs": [
        {
          "output_type": "stream",
          "text": [
            "3\n"
          ],
          "name": "stdout"
        }
      ]
    },
    {
      "cell_type": "markdown",
      "metadata": {
        "id": "rbejvu0cZfm_"
      },
      "source": [
        "##4. 사과나무 - BFS"
      ]
    },
    {
      "cell_type": "code",
      "metadata": {
        "colab": {
          "base_uri": "https://localhost:8080/"
        },
        "id": "vms7TP1taJWc",
        "outputId": "caae9630-a227-43a3-be35-8577d6e4efca"
      },
      "source": [
        "# 내풀이\r\n",
        "\r\n",
        "def solution(g, m) :\r\n",
        "  global res\r\n",
        "  for i in range(n) :\r\n",
        "    if i < m :\r\n",
        "      res += sum(g[i][m-1-i:m-1+i+1])\r\n",
        "    else :\r\n",
        "      res += sum(g[i][m-n+i:m-1+n-i])\r\n",
        "\r\n",
        "if __name__ == \"__main__\" :\r\n",
        "  n = 5\r\n",
        "  g = [[10,13,10,12,15],[12,39,30,23,11],[11,25,50,53,15],[19,27,29,37,27],[19,13,30,13,19]]\r\n",
        "  m = math.ceil(n/2)\r\n",
        "  res = 0\r\n",
        "  solution(g, m)\r\n",
        "  print(res)"
      ],
      "execution_count": null,
      "outputs": [
        {
          "output_type": "stream",
          "text": [
            "379\n"
          ],
          "name": "stdout"
        }
      ]
    },
    {
      "cell_type": "code",
      "metadata": {
        "id": "CotsbltSf1vx"
      },
      "source": [
        "# 내풀이\r\n",
        "\r\n",
        "import sys\r\n",
        "import time\r\n",
        "import math\r\n",
        "\r\n",
        "start = time.time()\r\n",
        "\r\n",
        "sys.stdin=open(\"input.txt\", \"r\")\r\n",
        "\r\n",
        "def solution(g, m) :\r\n",
        "  global res\r\n",
        "  for i in range(n) :\r\n",
        "    if i < m :\r\n",
        "      res += sum(g[i][m-1-i:m-1+i+1])\r\n",
        "    else :\r\n",
        "      res += sum(g[i][m-n+i:m-1+n-i])\r\n",
        "\r\n",
        "if __name__ == \"__main__\" :\r\n",
        "  n = int(input())\r\n",
        "  g = [[0] * n for _ in range(n)]\r\n",
        "  for i in range(n) :\r\n",
        "        g[i] = list(map(int, input().split()))\r\n",
        "  # print(g)\r\n",
        "  m = math.ceil(n/2)\r\n",
        "  res = 0\r\n",
        "  solution(g, m)\r\n",
        "  print(res)\r\n",
        "\r\n",
        "print(\"총 작업 시간 :\", time.time()-start)\r\n"
      ],
      "execution_count": null,
      "outputs": []
    },
    {
      "cell_type": "code",
      "metadata": {
        "colab": {
          "base_uri": "https://localhost:8080/"
        },
        "id": "gwc6814af2VS",
        "outputId": "17ac5196-ca54-44fd-bd31-f01d53ad85c5"
      },
      "source": [
        "# BFS 풀이\r\n",
        "# 가운데 값으로 시작 - 레벨에 따라 확장\r\n",
        "\r\n",
        "from collections import deque\r\n",
        "\r\n",
        "dx = [-1,0,1,0]\r\n",
        "dy = [0,1,0,-1]\r\n",
        "\r\n",
        "n = 5\r\n",
        "a = [[10,13,10,12,15],[12,39,30,23,11],[11,25,50,53,15],[19,27,29,37,27],[19,13,30,13,19]]\r\n",
        "ch = [[0] * n for _ in range(n)]\r\n",
        "sum = 0\r\n",
        "Q = deque()\r\n",
        "ch[n//2][n//2] = 1\r\n",
        "sum += a[n//2][n//2]\r\n",
        "Q.append((n//2,n//2))\r\n",
        "L = 0\r\n",
        "\r\n",
        "while True :\r\n",
        "  if L == n//2 :\r\n",
        "    break\r\n",
        "  size = len(Q) # 처음엔 1((2,2))\r\n",
        "  for i in range(size) :\r\n",
        "    tmp = Q.popleft()\r\n",
        "    for j in range(4) : # 네 방향으로 확장\r\n",
        "      x = tmp[0] + dx[j]\r\n",
        "      y = tmp[1] + dy[j]\r\n",
        "      if ch[x][y] == 0 :\r\n",
        "        sum += a[x][y]\r\n",
        "        ch[x][y] = 1\r\n",
        "        Q.append((x,y))\r\n",
        "  L += 1\r\n",
        "  print(L, size)\r\n",
        "  for x in ch :\r\n",
        "    print(x)\r\n",
        "print(sum)"
      ],
      "execution_count": null,
      "outputs": [
        {
          "output_type": "stream",
          "text": [
            "1 1\n",
            "[0, 0, 0, 0, 0]\n",
            "[0, 0, 1, 0, 0]\n",
            "[0, 1, 1, 1, 0]\n",
            "[0, 0, 1, 0, 0]\n",
            "[0, 0, 0, 0, 0]\n",
            "2 4\n",
            "[0, 0, 1, 0, 0]\n",
            "[0, 1, 1, 1, 0]\n",
            "[1, 1, 1, 1, 1]\n",
            "[0, 1, 1, 1, 0]\n",
            "[0, 0, 1, 0, 0]\n",
            "379\n"
          ],
          "name": "stdout"
        }
      ]
    },
    {
      "cell_type": "markdown",
      "metadata": {
        "id": "WwHNUxYO27sb"
      },
      "source": [
        "##5. 미로의 최단거리 통로 - BFS"
      ]
    },
    {
      "cell_type": "code",
      "metadata": {
        "colab": {
          "base_uri": "https://localhost:8080/"
        },
        "id": "xeaBQTYp5pL0",
        "outputId": "ef834e07-2d6e-4cd9-8a50-d9f0b5919720"
      },
      "source": [
        "from collections import deque\r\n",
        "\r\n",
        "dx = [1,0,-1,0]\r\n",
        "dy = [0,1,0,-1]\r\n",
        "\r\n",
        "ch, dis = [[0] * 8 for _ in range(8)], [[0] * 8 for _ in range(8)]\r\n",
        "a = [[1,1,1,1,1,1,1,1],[1,-1,0,0,0,0,0,0],[1,0,1,1,1,1,1,0],[1,0,0,0,1,0,0,0],[1,1,1,0,1,0,1,1],[1,1,1,0,1,0,0,0],[1,1,0,0,0,1,0,0],[1,1,0,1,0,0,0,0]]\r\n",
        "n, m = 1, (7,7)\r\n",
        "ch = a\r\n",
        "ch[n][n] = 1 # 현재 위치\r\n",
        "dis[n][n] = 0 # 출발점과의 거리 0\r\n",
        "\r\n",
        "dQ = deque()\r\n",
        "dQ.append((n,n)) # 현재위치 삽입\r\n",
        "while dQ : # 비어있으면 멈춤\r\n",
        "\r\n",
        "  size = len(dQ) \r\n",
        "  for i in range(size) :\r\n",
        "    now = dQ.popleft()\r\n",
        "    if now == m : # 현재 위치가 목표지점과 같을 경우\r\n",
        "      break\r\n",
        "    for j in range(4) :\r\n",
        "      x = now[0] + dx[j]\r\n",
        "      y = now[1] + dy[j]\r\n",
        "      try :\r\n",
        "        if ch[x][y] == 0 :\r\n",
        "          dQ.append((x,y))\r\n",
        "          ch[x][y] = 1\r\n",
        "          dis[x][y] = dis[now[0]][now[1]] + 1\r\n",
        "      except : pass\r\n",
        "\r\n",
        "\r\n",
        "print(dis[7][7])"
      ],
      "execution_count": null,
      "outputs": [
        {
          "output_type": "stream",
          "text": [
            "12\n"
          ],
          "name": "stdout"
        }
      ]
    },
    {
      "cell_type": "code",
      "metadata": {
        "colab": {
          "base_uri": "https://localhost:8080/"
        },
        "id": "EJb4Ajw75MS8",
        "outputId": "1f4d1c82-b9f1-4bd6-8266-bfa182967262"
      },
      "source": [
        "# 기존 위의 작업에서 x, y 범위를 추가해 board 범위 밖으로 못나가게 처리\r\n",
        "# 또한 도달할 수 없는 경우, -1을 출력하도록 예외조건문 추가\r\n",
        "\r\n",
        "import sys\r\n",
        "import time\r\n",
        "import math\r\n",
        "\r\n",
        "start = time.time()\r\n",
        "\r\n",
        "# sys.stdin=open(\"input.txt\", \"r\")\r\n",
        "\r\n",
        "\r\n",
        "from collections import deque\r\n",
        "\r\n",
        "dx = [1,0,-1,0]\r\n",
        "dy = [0,-1,0,1]\r\n",
        "\r\n",
        "dis = [[0] * 7 for _ in range(7)]\r\n",
        "board = []\r\n",
        "for i in range(7) :\r\n",
        "      board.append(list(map(int, input().split())))\r\n",
        "\r\n",
        "n, m = 0, (6,6)\r\n",
        "board[n][n] = 1 # 현재 위치\r\n",
        "dis[n][n] = 0 # 출발점과의 거리 0\r\n",
        "# print(dis)\r\n",
        "\r\n",
        "dQ = deque()\r\n",
        "dQ.append((n,n)) # 현재위치 삽입\r\n",
        "while dQ : # 비어있으면 멈춤\r\n",
        "  size = len(dQ) \r\n",
        "  for i in range(size) :\r\n",
        "    now = dQ.popleft()\r\n",
        "    if now == m : # 현재 위치가 목표지점과 같을 경우\r\n",
        "      break\r\n",
        "    for j in range(4) :\r\n",
        "      x = now[0] + dx[j]\r\n",
        "      y = now[1] + dy[j]\r\n",
        "      try :\r\n",
        "        if 0 <= x <= 6 and 0 <= y <= 6 and board[x][y] == 0 :\r\n",
        "          dQ.append((x,y))\r\n",
        "          board[x][y] = 1\r\n",
        "          dis[x][y] = dis[now[0]][now[1]] + 1\r\n",
        "      except : pass\r\n",
        "\r\n",
        "if dis[6][6] == 0 :\r\n",
        "      dis[6][6] = -1\r\n",
        "\r\n",
        "print(dis[6][6])\r\n",
        "# print(board)\r\n",
        "\r\n",
        "\r\n",
        "# print(\"총 작업 시간 :\", time.time()-start)\r\n"
      ],
      "execution_count": null,
      "outputs": [
        {
          "output_type": "execute_result",
          "data": {
            "text/plain": [
              "[[1, 1, 1, 1, 1, 1, 1, 1],\n",
              " [1, 1, 1, 1, 1, 1, 1, 1],\n",
              " [1, 1, 1, 1, 1, 1, 1, 1],\n",
              " [1, 1, 1, 1, 1, 1, 1, 1],\n",
              " [1, 1, 1, 1, 1, 1, 1, 1],\n",
              " [1, 1, 1, 1, 1, 1, 1, 1],\n",
              " [1, 1, 1, 1, 1, 1, 1, 1],\n",
              " [1, 1, 1, 1, 1, 1, 1, 1]]"
            ]
          },
          "metadata": {
            "tags": []
          },
          "execution_count": 13
        }
      ]
    },
    {
      "cell_type": "code",
      "metadata": {
        "colab": {
          "base_uri": "https://localhost:8080/"
        },
        "id": "oSbyHl0x0IZq",
        "outputId": "097c726b-80dd-47bf-f1f5-5b1d577e4d1f"
      },
      "source": [
        "dis"
      ],
      "execution_count": null,
      "outputs": [
        {
          "output_type": "execute_result",
          "data": {
            "text/plain": [
              "[[0, 0, 0, 0, 0, 0, 0, 0],\n",
              " [0, 0, 1, 2, 3, 4, 5, 6],\n",
              " [0, 1, 0, 0, 0, 0, 0, 7],\n",
              " [0, 2, 3, 4, 0, 10, 9, 8],\n",
              " [0, 0, 0, 5, 0, 11, 0, 0],\n",
              " [0, 0, 0, 6, 0, 12, 13, 14],\n",
              " [0, 0, 8, 7, 8, 0, 12, 13],\n",
              " [0, 0, 9, 0, 9, 10, 11, 12]]"
            ]
          },
          "metadata": {
            "tags": []
          },
          "execution_count": 11
        }
      ]
    },
    {
      "cell_type": "markdown",
      "metadata": {
        "id": "Hjn_gtpz2k48"
      },
      "source": [
        "#Day 09 (21.01.25)"
      ]
    },
    {
      "cell_type": "markdown",
      "metadata": {
        "id": "cHX5xE_N7mrV"
      },
      "source": [
        "##1. 미로탐색 (DFS)\r\n"
      ]
    },
    {
      "cell_type": "code",
      "metadata": {
        "id": "9MqZ9IGf2sh_"
      },
      "source": [
        "# 내 풀이 - fail\r\n",
        "import sys\r\n",
        "import time\r\n",
        "import math\r\n",
        "\r\n",
        "start = time.time()\r\n",
        "\r\n",
        "sys.stdin=open(\"input.txt\", \"r\")\r\n",
        "\r\n",
        "\r\n",
        "from collections import deque\r\n",
        "\r\n",
        "def DFS(x, y) :\r\n",
        "      \r\n",
        "  if x < 0 or x > 6 or y < 0  or y > 6 or board[x][y] != 0 :\r\n",
        "        return\r\n",
        "    \r\n",
        "  if (x, y) == m :\r\n",
        "    cnt += 1\r\n",
        "    return\r\n",
        "\r\n",
        "  else :    \r\n",
        "    for i in range(4) :\r\n",
        "      board[x][y] = 1\r\n",
        "      x = x+dx[i]\r\n",
        "      y = y+dy[i]\r\n",
        "      DFS(x, y)\r\n",
        "      x = x-dx[i]\r\n",
        "      y = y-dy[i]\r\n",
        "      board[x][y] = 0\r\n",
        "\r\n",
        "if __name__ == \"__main__\" :\r\n",
        "  dx = [1,0,-1,0]\r\n",
        "  dy = [0,-1,0,1]\r\n",
        "  board = []\r\n",
        "  for i in range(7) :\r\n",
        "        board.append(list(map(int, input().split())))\r\n",
        "\r\n",
        "  n, m = 0, (6,6)\r\n",
        "  board[n][n] = 1 # 현재 위치\r\n",
        "\r\n",
        "\r\n",
        "  cnt = 0\r\n",
        "  DFS(0,0)\r\n",
        "  print(cnt)\r\n",
        "\r\n",
        "\r\n"
      ],
      "execution_count": null,
      "outputs": []
    },
    {
      "cell_type": "code",
      "metadata": {
        "id": "TrHq5dx088yw"
      },
      "source": [
        "# 정답 \r\n",
        "\r\n",
        "import sys \r\n",
        "\r\n",
        "sys.stdin = open(\"input.txt\", \"r\")\r\n",
        "dx = [1,0,-1,0]\r\n",
        "dy = [0,-1,0,1]\r\n",
        "\r\n",
        "def DFS(x, y) :\r\n",
        "  global cnt\r\n",
        "  if x == 6 and y == 6 :\r\n",
        "    cnt += 1\r\n",
        "\r\n",
        "  else :\r\n",
        "    for i in range(4) :\r\n",
        "      xx = x + dx[i] # 앞으로 진행될 방향\r\n",
        "      yy = y + dy[i]\r\n",
        "      if 0 <= xx <= 6 and 0 <= yy <= 6 and board[xx][yy] == 0 :\r\n",
        "        board[xx][yy] = 1 # 도달한 지점 벽으로 변경\r\n",
        "        DFS(xx,yy)\r\n",
        "        board[xx][yy] = 0 # 돌아온 다음 다시 통로로 변경\r\n",
        "\r\n",
        "if __name__ == \"__main__\" :\r\n",
        "  board = [list(map(int, input().split())) for _ in range(7)]\r\n",
        "  cnt = 0\r\n",
        "  board[0][0] = 1 # 방문한 곳은 0으로, 여기선 시작점 일단 1로 변경\r\n",
        "  DFS(0,0)\r\n",
        "  print(cnt)"
      ],
      "execution_count": null,
      "outputs": []
    },
    {
      "cell_type": "markdown",
      "metadata": {
        "id": "rlKm-lM8G3TM"
      },
      "source": [
        "##2. 부분 증가수열 - 동적계획법\r\n"
      ]
    },
    {
      "cell_type": "code",
      "metadata": {
        "colab": {
          "base_uri": "https://localhost:8080/"
        },
        "id": "PKJuRPS3lQcu",
        "outputId": "6d4bad67-ee20-43aa-d3ae-ce6550b751ca"
      },
      "source": [
        "n = 8\r\n",
        "arr = [5,3,7,8,6,2,9,4]\r\n",
        "dy = [1] * n\r\n",
        "\r\n",
        "dy"
      ],
      "execution_count": null,
      "outputs": [
        {
          "output_type": "execute_result",
          "data": {
            "text/plain": [
              "[1, 1, 1, 1, 1, 1, 1, 1]"
            ]
          },
          "metadata": {
            "tags": []
          },
          "execution_count": 37
        }
      ]
    },
    {
      "cell_type": "code",
      "metadata": {
        "colab": {
          "base_uri": "https://localhost:8080/"
        },
        "id": "tHvwAx5rprFc",
        "outputId": "c86e3cc0-a2e3-449c-dba6-d26b58ebca75"
      },
      "source": [
        "for i in range(1, len(arr)) :\r\n",
        "  a = []\r\n",
        "  for j in range(len(arr[:i])) :\r\n",
        "    if arr[i] > arr[j] :\r\n",
        "      a.append(dy[j] + 1)\r\n",
        "    else :\r\n",
        "      a.append(1)\r\n",
        "  dy[i] = max(a)\r\n",
        "dy"
      ],
      "execution_count": null,
      "outputs": [
        {
          "output_type": "execute_result",
          "data": {
            "text/plain": [
              "[1, 1, 2, 3, 2, 1, 4, 2]"
            ]
          },
          "metadata": {
            "tags": []
          },
          "execution_count": 40
        }
      ]
    },
    {
      "cell_type": "code",
      "metadata": {
        "colab": {
          "base_uri": "https://localhost:8080/"
        },
        "id": "62uj6p5XqWir",
        "outputId": "72c5a72f-771b-41db-d667-f1b97474d589"
      },
      "source": [
        "def solution(arr, dy) :\r\n",
        "\r\n",
        "  for i in range(1, len(arr)) :\r\n",
        "    a = []\r\n",
        "    for j in range(len(arr[:i])) :\r\n",
        "      if arr[i] > arr[j] :\r\n",
        "        a.append(dy[j] + 1)\r\n",
        "      else :\r\n",
        "        a.append(1)\r\n",
        "    dy[i] = max(a)\r\n",
        "\r\n",
        "  return print(max(dy))\r\n",
        "solution(arr, dy)"
      ],
      "execution_count": null,
      "outputs": [
        {
          "output_type": "stream",
          "text": [
            "4\n"
          ],
          "name": "stdout"
        }
      ]
    },
    {
      "cell_type": "code",
      "metadata": {
        "id": "gxJXH5zpqziX"
      },
      "source": [
        "# 내 풀이 - 100점\r\n",
        "\r\n",
        "import sys, time\r\n",
        "\r\n",
        "start = time.time()\r\n",
        "\r\n",
        "# sys.stdin = open(\"input.txt\", \"r\")\r\n",
        "\r\n",
        "def solution(arr, dy) :\r\n",
        "    \r\n",
        "  for i in range(1, len(arr)) :\r\n",
        "    a = []\r\n",
        "    for j in range(len(arr[:i])) :\r\n",
        "      if arr[i] > arr[j] :\r\n",
        "        a.append(dy[j] + 1)\r\n",
        "      else :\r\n",
        "        a.append(1)\r\n",
        "    dy[i] = max(a)\r\n",
        "\r\n",
        "  return print(max(dy))\r\n",
        "\r\n",
        "if __name__ == \"__main__\" :\r\n",
        "  n = int(input())\r\n",
        "  arr = list(map(int, input().split()))\r\n",
        "  dy = [1] * n\r\n",
        "  solution(arr, dy)\r\n",
        "\r\n",
        "# print(time.time() - start)\r\n",
        "# print(dy)\r\n"
      ],
      "execution_count": null,
      "outputs": []
    },
    {
      "cell_type": "markdown",
      "metadata": {
        "id": "nxaHC_iZ5ZTQ"
      },
      "source": [
        "##3. 알리바바와 40인의 도둑 - 두 가지 방식\r\n"
      ]
    },
    {
      "cell_type": "code",
      "metadata": {
        "id": "AO_pBLW2BoIK"
      },
      "source": [
        "# 내 풀이 - time limit으로 인해 40점\r\n",
        "\r\n",
        "import sys, time\r\n",
        "\r\n",
        "start = time.time()\r\n",
        "\r\n",
        "# sys.stdin = open(\"input.txt\", \"r\")\r\n",
        "\r\n",
        "def solution(x,y,sum) :\r\n",
        "  global res\r\n",
        "\r\n",
        "  if sum  >= res :\r\n",
        "        return\r\n",
        "\r\n",
        "  if (x, y) == (n-1, n-1) :\r\n",
        "    if sum < res :\r\n",
        "      res = sum\r\n",
        "      return\r\n",
        "  else :\r\n",
        "    for i in range(2) :\r\n",
        "      xx = x + dx[i]\r\n",
        "      yy = y + dy[i]\r\n",
        "      if 0 <= xx < n and 0 <= yy < n :\r\n",
        "        sum += arr[xx][yy]\r\n",
        "        solution(xx, yy, sum)\r\n",
        "        sum -= arr[xx][yy] \r\n",
        "\r\n",
        "if __name__ == \"__main__\" :\r\n",
        "  n = int(input())\r\n",
        "  arr = []\r\n",
        "  for i in range(n) :\r\n",
        "        arr.append(list(map(int, input().split())))\r\n",
        "\r\n",
        "  dx = [1,0]\r\n",
        "  dy = [0,1]\r\n",
        "  res = 100000000\r\n",
        "  solution(0,0,arr[0][0])\r\n",
        "  print(res)\r\n",
        "\r\n",
        "\r\n",
        "# print(time.time() - start)"
      ],
      "execution_count": null,
      "outputs": []
    },
    {
      "cell_type": "code",
      "metadata": {
        "colab": {
          "base_uri": "https://localhost:8080/"
        },
        "id": "y39aeN3X5gix",
        "outputId": "b8994036-6b27-4b61-d5b8-df6052636009"
      },
      "source": [
        "n = 5\r\n",
        "arr = [[3,7,2,1,9],[5,8,3,9,2],[5,3,1,2,3],[5,4,3,2,1],[1,7,5,2,4]] # return = 25\r\n",
        "\r\n",
        "dx = [-1,0]\r\n",
        "dy = [0,-1]\r\n",
        "res = 100000000\r\n",
        "\r\n",
        "\r\n",
        "def solution(x,y) :\r\n",
        "  if (x, y) == (n-1, n-1) :\r\n",
        "    return arr[n-1][n-1]\r\n",
        "  else :\r\n",
        "    result = []\r\n",
        "    for i in range(2) :\r\n",
        "      xx = x + dx[i]\r\n",
        "      yy = y + dy[i]\r\n",
        "      if 0 <= xx < n and 0 <= yy < n :\r\n",
        "        result.append(arr[xx][yy])\r\n",
        "      try :\r\n",
        "        arr[x][y] += min(result)\r\n",
        "      except :\r\n",
        "        pass\r\n",
        "    \r\n",
        "    for j in range(2) :\r\n",
        "      xx = x - dx[i]\r\n",
        "      yy = y - dy[i]\r\n",
        "      if 0 <= xx < n and 0 <= yy < n :\r\n",
        "        solution(xx, yy)\r\n",
        "  \r\n",
        "solution(0,0)\r\n",
        "print(arr[n-1][n-1])"
      ],
      "execution_count": null,
      "outputs": [
        {
          "output_type": "stream",
          "text": [
            "4\n"
          ],
          "name": "stdout"
        }
      ]
    },
    {
      "cell_type": "code",
      "metadata": {
        "colab": {
          "base_uri": "https://localhost:8080/"
        },
        "id": "BYnAIGl4DcqV",
        "outputId": "0200712a-be55-4c95-89f3-519f55c8fedb"
      },
      "source": [
        "arr = [[3,7,2,1,9],[5,8,3,9,2],[5,3,1,2,3],[5,4,3,2,1],[1,7,5,2,4]]\r\n",
        "arr"
      ],
      "execution_count": null,
      "outputs": [
        {
          "output_type": "execute_result",
          "data": {
            "text/plain": [
              "[[3, 7, 2, 1, 9],\n",
              " [5, 8, 3, 9, 2],\n",
              " [5, 3, 1, 2, 3],\n",
              " [5, 4, 3, 2, 1],\n",
              " [1, 7, 5, 2, 4]]"
            ]
          },
          "metadata": {
            "tags": []
          },
          "execution_count": 69
        }
      ]
    },
    {
      "cell_type": "code",
      "metadata": {
        "colab": {
          "base_uri": "https://localhost:8080/"
        },
        "id": "tec0h7AzAgzr",
        "outputId": "ea017c67-55b6-4849-a514-e5f2e24e2cd0"
      },
      "source": [
        "# Bottom-Up 방식\r\n",
        "\r\n",
        "if __name__ == \"__main__\" :\r\n",
        "  n = 5\r\n",
        "  arr = [[3,7,2,1,9],[5,8,3,9,2],[5,3,1,2,3],[5,4,3,2,1],[1,7,5,2,4]]\r\n",
        "  dy = [[0] * n for _ in range(n)]\r\n",
        "  dy[0][0] = arr[0][0]\r\n",
        "\r\n",
        "  for i in range(n) :\r\n",
        "    dy[0][i] = dy[0][i-1]+arr[0][i]\r\n",
        "    dy[i][0] = dy[i-1][0]+arr[i][0]\r\n",
        "  for i in range(1,n) :\r\n",
        "    for j in range(1, n) :\r\n",
        "      dy[i][j] += min(dy[i-1][j], dy[i][j-1]) + arr[i][j]\r\n",
        "dy"
      ],
      "execution_count": null,
      "outputs": [
        {
          "output_type": "execute_result",
          "data": {
            "text/plain": [
              "[[3, 10, 12, 13, 22],\n",
              " [8, 16, 15, 22, 24],\n",
              " [13, 16, 16, 18, 21],\n",
              " [18, 20, 19, 20, 21],\n",
              " [19, 26, 24, 22, 25]]"
            ]
          },
          "metadata": {
            "tags": []
          },
          "execution_count": 71
        }
      ]
    },
    {
      "cell_type": "code",
      "metadata": {
        "id": "JE3LZcXRFZvu"
      },
      "source": [
        "import sys, time\r\n",
        "\r\n",
        "start = time.time()\r\n",
        "\r\n",
        "sys.stdin = open(\"input.txt\", \"r\")\r\n",
        "\r\n",
        "\r\n",
        "if __name__ == \"__main__\" :\r\n",
        "  n = int(input())\r\n",
        "  arr = [list(map(int, input().split())) for _ in range(n)]\r\n",
        "  dy = [[0] * n for _ in range(n)]\r\n",
        "  dy[0][0] = arr[0][0]\r\n",
        "\r\n",
        "  for i in range(n) :\r\n",
        "    dy[0][i] = dy[0][i-1]+arr[0][i]\r\n",
        "    dy[i][0] = dy[i-1][0]+arr[i][0]\r\n",
        "\r\n",
        "  for i in range(1,n) :\r\n",
        "    for j in range(1, n) :\r\n",
        "      dy[i][j] += min(dy[i-1][j], dy[i][j-1]) + arr[i][j]\r\n",
        "  print(dy[n-1][n-1])\r\n",
        "\r\n",
        "\r\n",
        "print(time.time() - start)"
      ],
      "execution_count": null,
      "outputs": []
    },
    {
      "cell_type": "code",
      "metadata": {
        "id": "YHcP8faTFaWn"
      },
      "source": [
        "# top-down\r\n",
        "\r\n",
        "import sys, time\r\n",
        "\r\n",
        "start = time.time()\r\n",
        "\r\n",
        "sys.stdin = open(\"input.txt\", \"r\")\r\n",
        "\r\n",
        "def DFS(x,y) :\r\n",
        "  \r\n",
        "  if dy[x][y] > 0 :\r\n",
        "        return dy[x][y]\r\n",
        "  if x == 0 and y == 0 :\r\n",
        "    return arr[0][0]\r\n",
        "  else :\r\n",
        "    if y == 0 :\r\n",
        "      dy[x][y] = DFS(x-1, y) + arr[x][y]\r\n",
        "    elif x == 0 :\r\n",
        "      dy[x][y] = DFS(x, y-1) + arr[x][y]\r\n",
        "    else :\r\n",
        "      dy[x][y] = min(DFS(x-1,y), DFS(x, y-1)) + arr[x][y]\r\n",
        "    return dy[x][y]\r\n",
        "                            \r\n",
        "\r\n",
        "if __name__ == \"__main__\" :\r\n",
        "  n = int(input())\r\n",
        "  arr = [list(map(int, input().split())) for _ in range(n)]\r\n",
        "  dy = [[0] * n for _ in range(n)]\r\n",
        "  \r\n",
        "  print(DFS(n-1,n-1))\r\n",
        "\r\n",
        "\r\n",
        "print(time.time() - start)"
      ],
      "execution_count": null,
      "outputs": []
    },
    {
      "cell_type": "markdown",
      "metadata": {
        "id": "I3QwO8y0KBdf"
      },
      "source": [
        "##4. 가방 문제(냅색 알고리즘)"
      ]
    },
    {
      "cell_type": "code",
      "metadata": {
        "colab": {
          "base_uri": "https://localhost:8080/"
        },
        "id": "_zaIz3h8KErC",
        "outputId": "14e15f4a-375a-48a7-e909-7ec177235b49"
      },
      "source": [
        "def DFS(sum, value) :\r\n",
        "  global res\r\n",
        "  if sum > m :\r\n",
        "    return\r\n",
        "\r\n",
        "  if sum <= m :\r\n",
        "    if value > res :\r\n",
        "      res = value\r\n",
        "    \r\n",
        "    for i in range(n) :\r\n",
        "      sum += a[i]\r\n",
        "      value += b[i]\r\n",
        "      DFS(sum, value)\r\n",
        "      sum -= a[i]\r\n",
        "      value -= b[i]\r\n",
        "\r\n",
        "\r\n",
        "if __name__ == \"__main__\" :\r\n",
        "  n = 4\r\n",
        "  m = 11\r\n",
        "  res = -1000000\r\n",
        "  a = [5,3,6,4]\r\n",
        "  b = [12,8,14,8]\r\n",
        "\r\n",
        "  DFS(0,0)\r\n",
        "  print(res)"
      ],
      "execution_count": null,
      "outputs": [
        {
          "output_type": "stream",
          "text": [
            "28\n"
          ],
          "name": "stdout"
        }
      ]
    },
    {
      "cell_type": "code",
      "metadata": {
        "id": "DQzb2accNvhT"
      },
      "source": [
        "# 내 코드 - time-limit으로 인한 40점\r\n",
        "import sys, time\r\n",
        "\r\n",
        "start = time.time()\r\n",
        "\r\n",
        "# sys.stdin = open(\"input.txt\", \"r\")\r\n",
        "\r\n",
        "def DFS(sum, value) :\r\n",
        "  global res\r\n",
        "  if sum > m :\r\n",
        "    return\r\n",
        "\r\n",
        "  if sum <= m :\r\n",
        "    if value > res :\r\n",
        "      res = value\r\n",
        "    \r\n",
        "    for i in range(n) :\r\n",
        "      sum += a[i]\r\n",
        "      value += b[i]\r\n",
        "      DFS(sum, value)\r\n",
        "      sum -= a[i]\r\n",
        "      value -= b[i]\r\n",
        "\r\n",
        "\r\n",
        "if __name__ == \"__main__\" :\r\n",
        "  n, m = map(int, input().split())\r\n",
        "  res = -1000000\r\n",
        "  a, b = [], []\r\n",
        "  for i in range(n) :\r\n",
        "        w, v = map(int, input().split())\r\n",
        "        a.append(w)\r\n",
        "        b.append(v)\r\n",
        "\r\n",
        "  DFS(0,0)\r\n",
        "  print(res)\r\n",
        "\r\n",
        "\r\n",
        "# print(time.time() - start)"
      ],
      "execution_count": null,
      "outputs": []
    },
    {
      "cell_type": "code",
      "metadata": {
        "id": "MYL2bKEqOpyN"
      },
      "source": [
        "# 정답 코드\r\n",
        "\r\n",
        "\r\n",
        "import sys, time\r\n",
        "\r\n",
        "start = time.time()\r\n",
        "\r\n",
        "# sys.stdin = open(\"input.txt\", \"r\")\r\n",
        "\r\n",
        "if __name__ == \"__main__\" :\r\n",
        "  n, m = map(int, input().split())\r\n",
        "  dy = [0] * (m+1)\r\n",
        "  for i in range(n) :\r\n",
        "        w, v = map(int, input().split())\r\n",
        "        for j in range(w, m+1) :\r\n",
        "              dy[j] = max(dy[j], dy[j-w]+v) # 현재 무게 vs 새로운 보석의 무게 w 전에서 이것을 담았을 때의 가치 \r\n",
        "  print(dy[m])\r\n",
        "\r\n",
        "\r\n",
        "# print(time.time() - start)"
      ],
      "execution_count": null,
      "outputs": []
    },
    {
      "cell_type": "markdown",
      "metadata": {
        "id": "_0wlSlcLYf7h"
      },
      "source": [
        "##5. 최대점수 - 냅색 알고리즘 동일(but 중복 허용이 안되는 문제를 2차원이 아닌 1차원으로 풀기)"
      ]
    },
    {
      "cell_type": "code",
      "metadata": {
        "id": "k6P-iS5AYukq"
      },
      "source": [
        "# 중복을 피하되, 메모리 사용량을 최소화시키기 위해 역방향으로 전개\r\n",
        "import sys, time\r\n",
        "\r\n",
        "start = time.time()\r\n",
        "\r\n",
        "# sys.stdin = open(\"input.txt\", \"r\")\r\n",
        "\r\n",
        "if __name__ == \"__main__\" :\r\n",
        "      n, m = map(int, input().split())\r\n",
        "      dy = [0] * (m+1)\r\n",
        "      ch = [0] * n\r\n",
        "\r\n",
        "      for i in range(n) :\r\n",
        "            s, t = map(int, input().split())\r\n",
        "            for j in range(m, t-1, -1) : # 역방향 전개\r\n",
        "                dy[j] = max(dy[j], dy[j-t] + s)\r\n",
        "      print(dy[m])\r\n",
        "\r\n",
        "\r\n",
        "\r\n",
        "# print(time.time() - start)"
      ],
      "execution_count": null,
      "outputs": []
    },
    {
      "cell_type": "markdown",
      "metadata": {
        "id": "e8eiGxEzi1WG"
      },
      "source": [
        "##6. 플로이드 워샬 알고리즘"
      ]
    },
    {
      "cell_type": "code",
      "metadata": {
        "id": "0mJFZEnQi3n1"
      },
      "source": [
        "import sys, time\r\n",
        "import numpy as np\r\n",
        "\r\n",
        "start = time.time()\r\n",
        "\r\n",
        "sys.stdin = open(\"input.txt\", \"r\")\r\n",
        "\r\n",
        "if __name__ == \"__main__\" :\r\n",
        "      n, m = map(int, input().split())\r\n",
        "      dis = [[5000] * (n+1) for _ in range(n+1)]\r\n",
        "\r\n",
        "      # step 01. 입력값을 이용, 자기 자신으로의 값이 0인 그래프 그리기\r\n",
        "      for i in range(1, n+1) :\r\n",
        "            dis[i][i] = 0\r\n",
        "      for i in range(m) :\r\n",
        "            a, b, c = map(int,input().split())\r\n",
        "            dis[a][b] = c\r\n",
        "\r\n",
        "      # step 02. 다른 곳으로 향하는 경로 그리기\r\n",
        "      for k in range(1, n+1) :\r\n",
        "            for i in range(1, n+1) :\r\n",
        "                  for j in range(1, n+1) :\r\n",
        "                        dis[i][j] = min(dis[i][j], dis[i][k] + dis[k][j])\r\n",
        "\r\n",
        "      # step 03. 만약 도달할 수 없는 경로가 있다면, M으로 지정하기\r\n",
        "      \r\n",
        "      for i in range(1, n+1) :\r\n",
        "            for j in range(1, n+1) :\r\n",
        "                  if dis[i][j] == 5000 :\r\n",
        "                        print(\"M\", end=\" \")\r\n",
        "                  else :\r\n",
        "                        print(dis[i][j], end= \" \")\r\n",
        "            print()\r\n",
        "\r\n",
        "\r\n",
        "# print(time.time() - start)"
      ],
      "execution_count": null,
      "outputs": []
    },
    {
      "cell_type": "markdown",
      "metadata": {
        "id": "RnNlWUeC4jjR"
      },
      "source": [
        "#Day 10 (21.01.26)"
      ]
    },
    {
      "cell_type": "markdown",
      "metadata": {
        "id": "ben7iTHr4pWN"
      },
      "source": [
        "##1. 회장뽑기(플로이드 워샬 응용)"
      ]
    },
    {
      "cell_type": "code",
      "metadata": {
        "id": "2GGRcOTC4o4K"
      },
      "source": [
        "import sys, time\r\n",
        "import numpy as np\r\n",
        "\r\n",
        "start = time.time()\r\n",
        "\r\n",
        "sys.stdin = open(\"input.txt\", \"r\")\r\n",
        "\r\n",
        "if __name__ == \"__main__\" :\r\n",
        "      n = int(input())\r\n",
        "      dis = [[100] * (n+1) for _ in range(n+1)]\r\n",
        "\r\n",
        "      # step 01. 입력값을 이용, 자기 자신으로의 값이 0인 그래프 그리기\r\n",
        "      for i in range(1,n+1) :\r\n",
        "            dis[i][i] = 0\r\n",
        "      while True:\r\n",
        "            a, b = map(int,input().split())\r\n",
        "            if a == -1 and b == -1 :\r\n",
        "                  break\r\n",
        "            dis[a][b] = 1\r\n",
        "            dis[b][a] = 1\r\n",
        "\r\n",
        "\r\n",
        "      # step 02. 다른 곳으로 향하는 경로 그리기\r\n",
        "      for k in range(1, n+1) :\r\n",
        "            for i in range(1, n+1) :\r\n",
        "                  for j in range(1, n+1) :\r\n",
        "                        dis[i][j] = min(dis[i][j] , dis[i][k] + dis[k][j])\r\n",
        "\r\n",
        "      # step 03. 각 후보의 최대관계점수를 기준으로 점수 메기기\r\n",
        "      res = [0] * (n+1)\r\n",
        "      score = 100\r\n",
        "      for i in range(1, n+1) :\r\n",
        "            for j in range(1, n+1) :\r\n",
        "                  res[i] = max(res[i], dis[i][j])\r\n",
        "            score = min(score,res[i])\r\n",
        "      # print(res, score)\r\n",
        "\r\n",
        "      out = []\r\n",
        "      for i in range(1, n+1) :\r\n",
        "            if res[i] == score :\r\n",
        "                  out.append(i)\r\n",
        "      print(\"%d %d\" %(score, len(out)))\r\n",
        "      for x in out :\r\n",
        "            print(x, end = \" \")\r\n",
        "\r\n",
        "\r\n",
        "\r\n",
        "# print(time.time() - start)"
      ],
      "execution_count": null,
      "outputs": []
    },
    {
      "cell_type": "markdown",
      "metadata": {
        "id": "LOnDoEh8B9oY"
      },
      "source": [
        "##2. 위상정렬\r\n"
      ]
    },
    {
      "cell_type": "code",
      "metadata": {
        "id": "WBNo-lssCAYA"
      },
      "source": [
        "# 내 풀이\r\n",
        "import sys, time\r\n",
        "import numpy as np\r\n",
        "\r\n",
        "start = time.time()\r\n",
        "\r\n",
        "sys.stdin = open(\"input.txt\", \"r\")\r\n",
        "\r\n",
        "if __name__ == \"__main__\" :\r\n",
        "      n, m = map(int, input().split())\r\n",
        "      dis = [[0] * (n) for _ in range(n)]\r\n",
        "\r\n",
        "      for i in range(n) :\r\n",
        "            dis[i][i] = 0\r\n",
        "\r\n",
        "      for i in range(m) :\r\n",
        "            a, b = map(int, input().split())\r\n",
        "            dis[a-1][b-1] = 1\r\n",
        "\r\n",
        "      answer = []\r\n",
        "\r\n",
        "      while True :\r\n",
        "            del_list = []\r\n",
        "            for i in range(len(dis)) :\r\n",
        "                  sum = 0\r\n",
        "                  for j in range(len(dis)) :\r\n",
        "                        sum += dis[j][i] \r\n",
        "                  if sum == 0 and (i+1) not in answer :\r\n",
        "                        answer.append(i+1)\r\n",
        "\r\n",
        "            for h in answer :\r\n",
        "                  for k in range(len(dis)) :\r\n",
        "                        dis[h-1][k] = 0\r\n",
        "                   \r\n",
        "            if len(answer) == n :\r\n",
        "                  break\r\n",
        "      for x in answer :\r\n",
        "            print(x, end=\" \")\r\n",
        "\r\n",
        "print(time.time() - start)"
      ],
      "execution_count": null,
      "outputs": []
    },
    {
      "cell_type": "markdown",
      "metadata": {
        "id": "JH9L5KhsJM-4"
      },
      "source": [
        "![image.png](data:image/png;base64,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)"
      ]
    },
    {
      "cell_type": "code",
      "metadata": {
        "id": "SDUZ_TvYIW9_"
      },
      "source": [
        "# 교수님 풀이 - deque 활용\r\n",
        "\r\n",
        "import sys\r\n",
        "from collections import deque\r\n",
        "sys.stdin=open(\"input.txt\", \"r\")\r\n",
        "n, m=map(int, input().split())\r\n",
        "graph=[[0]*(n+1) for _ in range(n+1)]\r\n",
        "degree=[0]*(n+1)\r\n",
        "dQ=deque()\r\n",
        "for i in range(m):\r\n",
        "    a, b=map(int, input().split())\r\n",
        "    graph[a][b]=1\r\n",
        "    degree[b]+=1\r\n",
        "for i in range(1, n+1):\r\n",
        "    if degree[i]==0:\r\n",
        "        dQ.append(i)\r\n",
        "while dQ:\r\n",
        "    x=dQ.popleft()\r\n",
        "    print(x, end=' ')\r\n",
        "    for i in range(1, n+1):\r\n",
        "        if graph[x][i]==1:\r\n",
        "            degree[i]-=1\r\n",
        "            if degree[i]==0:\r\n",
        "                dQ.append(i)"
      ],
      "execution_count": null,
      "outputs": []
    },
    {
      "cell_type": "markdown",
      "metadata": {
        "id": "Dv8DIqMDes-O"
      },
      "source": [
        "##3. 등산경로"
      ]
    },
    {
      "cell_type": "code",
      "metadata": {
        "id": "gEa7wcBievRY"
      },
      "source": [
        "# 내 코드 - 100점\r\n",
        "import sys, time\r\n",
        "import numpy as np\r\n",
        "\r\n",
        "# start = time.time()\r\n",
        "\r\n",
        "# sys.stdin = open(\"input.txt\", \"r\")\r\n",
        "\r\n",
        "\r\n",
        "def DFS(x, y) :\r\n",
        "      global cnt\r\n",
        "      if x == end[0] and y == end[1] :\r\n",
        "            cnt += 1\r\n",
        "            return\r\n",
        "      else :\r\n",
        "            for i in range(4) :\r\n",
        "                  xx = x + dx[i]\r\n",
        "                  yy = y + dy[i]\r\n",
        "                  if 0 <= xx < n and 0 <= yy < n and graph[xx][yy] > graph[x][y] :\r\n",
        "                        DFS(xx, yy)\r\n",
        "\r\n",
        "if __name__ == \"__main__\" :\r\n",
        "      n = int(input())\r\n",
        "      graph = [list(map(int, input().split())) for _ in range(n)]\r\n",
        "      low = 100000000\r\n",
        "      high = 0\r\n",
        "      start, end = [], []\r\n",
        "      # 등산 출발점과 도착점 구하기\r\n",
        "      for i in range(n) :\r\n",
        "            for j in range(n) :\r\n",
        "                  \r\n",
        "                  if graph[i][j] > high :\r\n",
        "                        end.clear()\r\n",
        "                        high = graph[i][j]\r\n",
        "                        end.append(i)\r\n",
        "                        end.append(j)\r\n",
        "                  if graph[i][j] < low :\r\n",
        "                        start.clear()\r\n",
        "                        low = graph[i][j]\r\n",
        "                        start.append(i)\r\n",
        "                        start.append(j)\r\n",
        "\r\n",
        "      # 네 방향으로 퍼져 나갈 곳 지정.\r\n",
        "      dx = [1,0,-1,0]\r\n",
        "      dy = [0,1,0,-1]\r\n",
        "      cnt = 0\r\n",
        "\r\n",
        "      DFS(start[0],start[1])\r\n",
        "      # print(start, end)\r\n",
        "      print(cnt)\r\n",
        "# print(time.time() - start)"
      ],
      "execution_count": null,
      "outputs": []
    },
    {
      "cell_type": "markdown",
      "metadata": {
        "id": "p9yJxc2JjEHg"
      },
      "source": [
        "##4. 섬나라 아일랜드 - 카카오의 원수!!! - DFS, BFS"
      ]
    },
    {
      "cell_type": "code",
      "metadata": {
        "id": "sumPmPejmRY-"
      },
      "source": [
        "# 내 점수 - 100점이다!!! - DFS 이용\r\n",
        "import sys, time\r\n",
        "import numpy as np\r\n",
        "\r\n",
        "# start = time.time()\r\n",
        "\r\n",
        "# sys.stdin = open(\"input.txt\", \"r\")\r\n",
        "\r\n",
        "def solution(x, y) :\r\n",
        "      \r\n",
        "      for i in range(8) :\r\n",
        "            xx = x + dx[i]\r\n",
        "            yy = y + dy[i]\r\n",
        "            if 0 <= xx < n and 0 <= yy < n and graph[xx][yy] == 1 :\r\n",
        "                  graph[xx][yy] = 0\r\n",
        "                  solution(xx, yy)\r\n",
        "                  \r\n",
        "            \r\n",
        "      return\r\n",
        "\r\n",
        "\r\n",
        "if __name__ == \"__main__\" :\r\n",
        "      n = int(input())\r\n",
        "      graph = [list(map(int, input().split())) for _ in range(n)]\r\n",
        "\r\n",
        "      dx = [1,1,0,-1,-1,-1,0,1]\r\n",
        "      dy = [0,-1,-1,-1,0,1,1,1]\r\n",
        "      cnt = 0\r\n",
        "\r\n",
        "      for i in range(n) :\r\n",
        "            for j in range(n) :\r\n",
        "                  if graph[i][j] == 1 :\r\n",
        "                        solution(i, j)\r\n",
        "                        cnt += 1\r\n",
        "      print(cnt)\r\n",
        "\r\n",
        "     \r\n",
        "# print(time.time() - start)"
      ],
      "execution_count": null,
      "outputs": []
    },
    {
      "cell_type": "code",
      "metadata": {
        "id": "1ocoQeLqnnnP"
      },
      "source": [
        "# BFS 이용한 교수님 답지\r\n",
        "import sys, time\r\n",
        "import numpy as np\r\n",
        "from collections import deque\r\n",
        "\r\n",
        "# start = time.time()\r\n",
        "\r\n",
        "sys.stdin = open(\"input.txt\", \"r\")\r\n",
        "\r\n",
        "if __name__ == \"__main__\" :\r\n",
        "      n = int(input())\r\n",
        "      board = [list(map(int, input().split())) for _ in range(n)]\r\n",
        "\r\n",
        "      dx = [1,1,0,-1,-1,-1,0,1]\r\n",
        "      dy = [0,-1,-1,-1,0,1,1,1]\r\n",
        "      cnt = 0\r\n",
        "\r\n",
        "      Q = deque()\r\n",
        "\r\n",
        "      for i in range(n) :\r\n",
        "            for j in range(n) :\r\n",
        "                  if board[i][j] == 1 :\r\n",
        "                        board[i][j] = 0\r\n",
        "                        Q.append((i, j))\r\n",
        "                        while Q :\r\n",
        "                              tmp = Q.popleft()\r\n",
        "                              for k in range(8) :\r\n",
        "                                    x = tmp[0] + dx[k]\r\n",
        "                                    y = tmp[1] + dy[k]\r\n",
        "                                    if 0 <= x < n and 0 <= y < n and board[x][y] == 1:\r\n",
        "                                          board[x][y] = 0\r\n",
        "                                          Q.append((x,y))\r\n",
        "                        cnt+=1\r\n",
        "\r\n",
        "      print(cnt)\r\n",
        "\r\n",
        "   \r\n",
        "\r\n",
        "     \r\n",
        "# print(time.time() - start)"
      ],
      "execution_count": null,
      "outputs": []
    },
    {
      "cell_type": "markdown",
      "metadata": {
        "id": "bTGKTTffqd-q"
      },
      "source": [
        "#5. 아파트 카운트 - BFS, DFS"
      ]
    },
    {
      "cell_type": "code",
      "metadata": {
        "id": "cU5fFNLNnnh9"
      },
      "source": [
        "# 내풀이 - BFS - 100점\r\n",
        "import sys, time\r\n",
        "import numpy as np\r\n",
        "from collections import deque\r\n",
        "\r\n",
        "# start = time.time()\r\n",
        "\r\n",
        "# sys.stdin = open(\"input.txt\", \"r\")\r\n",
        "\r\n",
        "\r\n",
        "\r\n",
        "if __name__ == \"__main__\" :\r\n",
        "      n = int(input())\r\n",
        "      \r\n",
        "      board = [[int(i) for i in input()] for _ in range(n)]\r\n",
        "\r\n",
        "      dx = [1,0,-1,0]\r\n",
        "      dy = [0,1,0,-1]\r\n",
        "\r\n",
        "      cnt1 = 0 # 단지의 개수\r\n",
        "      cnt2 = 0\r\n",
        "      result = [] # 각 단지별 아파트 개수\r\n",
        "      Q = deque()\r\n",
        "\r\n",
        "      for i in range(n) :\r\n",
        "            for j in range(n) :\r\n",
        "                  if board[i][j] == 1 :\r\n",
        "                        board[i][j] = 0\r\n",
        "                        cnt2 += 1 # 각 단지별 아파트 개수\r\n",
        "                        Q.append((i,j))\r\n",
        "                        while Q :\r\n",
        "                              tmp = Q.popleft()\r\n",
        "                              for k in range(4) :\r\n",
        "                                    x = tmp[0] + dx[k]\r\n",
        "                                    y = tmp[1] + dy[k]\r\n",
        "                                    if 0 <= x < n and 0 <= y < n and board[x][y] == 1 :\r\n",
        "                                          board[x][y] = 0\r\n",
        "                                          cnt2 += 1\r\n",
        "                                          Q.append((x, y))\r\n",
        "                        cnt1 += 1\r\n",
        "                        result.append(cnt2)\r\n",
        "                        cnt2 = 0\r\n",
        "      result.sort()\r\n",
        "\r\n",
        "      print(cnt1)\r\n",
        "      for x in result :\r\n",
        "            print(x)\r\n",
        "      \r\n",
        "      \r\n",
        "  \r\n",
        "\r\n",
        "     \r\n",
        "# print(time.time() - start)"
      ],
      "execution_count": null,
      "outputs": []
    },
    {
      "cell_type": "code",
      "metadata": {
        "id": "S3ZCtHNNqogd"
      },
      "source": [
        "# 내 풀이 - DFS\r\n",
        "import sys, time\r\n",
        "import numpy as np\r\n",
        "from collections import deque\r\n",
        "\r\n",
        "\r\n",
        "def DFS(x, y) :\r\n",
        "      global cnt2\r\n",
        "      \r\n",
        "      for i in range(4) :\r\n",
        "            xx = x + dx[i]\r\n",
        "            yy = y + dy[i]\r\n",
        "            if 0 <= xx < n and 0 <= yy < n and board[xx][yy] == 1 :\r\n",
        "                  board[xx][yy] = 0\r\n",
        "                  cnt2 += 1\r\n",
        "                  DFS(xx,yy)\r\n",
        "                  \r\n",
        "      return\r\n",
        "\r\n",
        "if __name__ == \"__main__\" :\r\n",
        "      n = int(input())\r\n",
        "      \r\n",
        "      board = [[int(i) for i in input()] for _ in range(n)]\r\n",
        "\r\n",
        "      dx = [1,0,-1,0]\r\n",
        "      dy = [0,1,0,-1]\r\n",
        "\r\n",
        "      cnt1 = 0 # 단지의 개수\r\n",
        "      cnt2 = 0\r\n",
        "      result = [] # 각 단지별 아파트 개수\r\n",
        "\r\n",
        "      for i in range(n) :\r\n",
        "            for j in range(n) :\r\n",
        "                  if board[i][j] == 1 :\r\n",
        "                        board[i][j] = 0\r\n",
        "                        cnt2 +=1\r\n",
        "                                                \r\n",
        "                        DFS(i, j)\r\n",
        "                        cnt1 += 1\r\n",
        "                        result.append(cnt2)\r\n",
        "                        cnt2 = 0\r\n",
        "       \r\n",
        "      result.sort()\r\n",
        "\r\n",
        "      print(cnt1)\r\n",
        "      for x in result :\r\n",
        "            print(x)\r\n",
        "\r\n",
        "     \r\n",
        "# print(time.time() - start)"
      ],
      "execution_count": null,
      "outputs": []
    },
    {
      "cell_type": "markdown",
      "metadata": {
        "id": "S3IJxqnsmVAD"
      },
      "source": [
        "##6. 안전영역 - BFS"
      ]
    },
    {
      "cell_type": "code",
      "metadata": {
        "id": "38bXb0iHKYYu"
      },
      "source": [
        "# 내 풀이 100점\r\n",
        "import sys, time\r\n",
        "import numpy as np\r\n",
        "from collections import deque\r\n",
        "\r\n",
        "# sys.stdin = open(\"input.txt\", \"r\")\r\n",
        "\r\n",
        "if __name__ == \"__main__\" :\r\n",
        "      n = int(input())\r\n",
        "      board = [list(map(int, input().split())) for _ in range(n)]\r\n",
        "\r\n",
        "      # print(ch2)\r\n",
        "      dx = [1, 0, -1, 0]\r\n",
        "      dy = [0, -1, 0, 1]\r\n",
        "\r\n",
        "      cnt = 0\r\n",
        "      res = 0\r\n",
        "      h = 2 # 수위\r\n",
        "\r\n",
        "      Q = deque()\r\n",
        "      while True :\r\n",
        "            ch = [[0] * n for _ in range(n)]\r\n",
        "            cnt = 0            \r\n",
        "            for i in range(n) :\r\n",
        "                  for j in range(n) :\r\n",
        "                        \r\n",
        "                        if board[i][j] > h and ch[i][j] == 0 :\r\n",
        "\r\n",
        "                              ch[i][j] = 1\r\n",
        "                              Q.append((i, j))\r\n",
        "                              while Q :\r\n",
        "                                    tmp = Q.popleft()\r\n",
        "                                    for k in range(4) :\r\n",
        "                                          x = tmp[0] + dx[k]\r\n",
        "                                          y = tmp[1] + dy[k]\r\n",
        "                                          if 0 <= x < n and 0 <= y < n and board[x][y] > h and ch[x][y] == 0 :\r\n",
        "                                                ch[x][y] = 1\r\n",
        "                                                Q.append((x,y))\r\n",
        "                              cnt += 1\r\n",
        "            # print(cnt)\r\n",
        "            if res <= cnt :\r\n",
        "                  res = cnt\r\n",
        "            if h == 99 :\r\n",
        "                  break\r\n",
        "\r\n",
        "            h += 1\r\n",
        "      print(res)\r\n",
        "\r\n",
        "\r\n",
        "\r\n",
        "\r\n",
        "\r\n",
        "\r\n",
        "     \r\n",
        "# print(time.time() - start)"
      ],
      "execution_count": null,
      "outputs": []
    },
    {
      "cell_type": "markdown",
      "metadata": {
        "id": "bBpdMhmNRGGl"
      },
      "source": [
        "##7. 토마토 - BFS 활용"
      ]
    },
    {
      "cell_type": "code",
      "metadata": {
        "colab": {
          "base_uri": "https://localhost:8080/"
        },
        "id": "7F6VLgNKRLiV",
        "outputId": "d9d98eb1-1f2c-4929-b5f0-ad2e7b149d2c"
      },
      "source": [
        "\r\n",
        "import sys, time\r\n",
        "import numpy as np\r\n",
        "from collections import deque\r\n",
        "\r\n",
        "start = time.time()\r\n",
        "\r\n",
        "# sys.stdin = open(\"input.txt\", \"r\")\r\n",
        "\r\n",
        "if __name__ == \"__main__\" :\r\n",
        "      m, n = map(int, input().split())\r\n",
        "      board = [list(map(int, input().split())) for _ in range(n)]\r\n",
        "      # print(board)\r\n",
        "\r\n",
        "      dx = [1, 0, -1, 0]\r\n",
        "      dy = [0, 1, 0, -1]\r\n",
        "\r\n",
        "      Q = deque()\r\n",
        "      cnt = 0\r\n",
        "      ex_sum = 100000 # 만약 전보다 익은 토마토가 늘지 않았을 경우를 위해 이전의 합값 크게 초기화\r\n",
        "\r\n",
        "      while True :\r\n",
        "            sum = 0            \r\n",
        "            for i in range(n) :\r\n",
        "                  for j in range(m) :\r\n",
        "                        if board[i][j] == 1 :\r\n",
        "                              Q.append((i, j))\r\n",
        "            while Q :\r\n",
        "                  tmp = Q.popleft()\r\n",
        "                  for k in range(4) :\r\n",
        "                        x = tmp[0] + dx[k]\r\n",
        "                        y = tmp[1] + dy[k]\r\n",
        "                        if 0 <= x < n and 0 <= y < m and board[x][y] == 0 :\r\n",
        "                              board[x][y] = 1\r\n",
        "                                                \r\n",
        "            cnt += 1\r\n",
        "\r\n",
        "            for v in range(n) :\r\n",
        "                  sum += board[v].count(0)\r\n",
        "            if ex_sum <= sum : # 현재의 안익은 토마토와 전의 안익은 토마토를 비교해 개선되는지 여부 판단\r\n",
        "                  cnt = -1 \r\n",
        "                  break\r\n",
        "            ex_sum = sum\r\n",
        "\r\n",
        "            if sum == 0 : # 전부 다 익었으면 브레이크\r\n",
        "                  break\r\n",
        "\r\n",
        "      print(cnt)\r\n",
        "     \r\n"
      ],
      "execution_count": null,
      "outputs": [
        {
          "output_type": "execute_result",
          "data": {
            "text/plain": [
              "1"
            ]
          },
          "metadata": {
            "tags": []
          },
          "execution_count": 13
        }
      ]
    },
    {
      "cell_type": "markdown",
      "metadata": {
        "id": "t78V_2JWfkF3"
      },
      "source": [
        "#8. 사다리 타기 - DFS"
      ]
    },
    {
      "cell_type": "code",
      "metadata": {
        "id": "wDV5uJ86fmRx"
      },
      "source": [
        "# 내 풀이 - BottomUp 방식으로 풀이 - 100점\r\n",
        "import sys, time\r\n",
        "import numpy as np\r\n",
        "from collections import deque\r\n",
        "\r\n",
        "start = time.time()\r\n",
        "\r\n",
        "# sys.stdin = open(\"input.txt\", \"r\")\r\n",
        "\r\n",
        "def DFS(x,y) :\r\n",
        "\r\n",
        "      if x == 0 : \r\n",
        "            print(y)\r\n",
        "            sys.exit(0)\r\n",
        "      else :\r\n",
        "            for i in range(3) :\r\n",
        "                  xx = x + dx[i]\r\n",
        "                  yy = y + dy[i]\r\n",
        "                  if 0 <= xx < 10 and 0 <= yy < 10 and board[xx][yy] == 1 and ch[xx][yy] == 0 :\r\n",
        "                        ch[xx][yy] = 1\r\n",
        "                        DFS(xx,yy)\r\n",
        "\r\n",
        "\r\n",
        "if __name__ == \"__main__\" :\r\n",
        "      board = [list(map(int, input().split())) for _ in range(10)]\r\n",
        "      ch = [[0] * 10 for _ in range(10)]\r\n",
        "      \r\n",
        "      dx = [0, 0, -1]\r\n",
        "      dy = [1, -1, 0]\r\n",
        "\r\n",
        "      for i in range(10) :\r\n",
        "            for j in range(10) :\r\n",
        "                  if board[i][j] == 2 :\r\n",
        "                        DFS(i,j)\r\n",
        "\r\n",
        "      \r\n",
        "                        \r\n",
        "\r\n",
        "# print(time.time() - start)"
      ],
      "execution_count": null,
      "outputs": []
    },
    {
      "cell_type": "markdown",
      "metadata": {
        "id": "DTJQGR4-m56E"
      },
      "source": [
        "##9. 피자배달 - DFS활용\r\n",
        "\r\n"
      ]
    },
    {
      "cell_type": "code",
      "metadata": {
        "id": "PFmsJOzc481V"
      },
      "source": [
        "# 내 풀이 - 100점\r\n",
        "\r\n",
        "\r\n",
        "import sys, time\r\n",
        "import numpy as np\r\n",
        "from collections import deque\r\n",
        "import itertools\r\n",
        "\r\n",
        "start = time.time()\r\n",
        "\r\n",
        "# sys.stdin = open(\"input.txt\", \"r\")\r\n",
        "\r\n",
        "\r\n",
        "if __name__ == \"__main__\" :\r\n",
        "      n, m = map(int, input().split())\r\n",
        "      board = [list(map(int, input().split())) for _ in range(n)]\r\n",
        "      home = []\r\n",
        "      pizza = []\r\n",
        "      for i in range(n) :\r\n",
        "            for j in range(n) :\r\n",
        "                  if board[i][j] == 1 :\r\n",
        "                        home.append((i,j))\r\n",
        "                  elif board[i][j] == 2 :\r\n",
        "                        pizza.append((i,j))\r\n",
        "\r\n",
        "      pizza_list = list(itertools.combinations(pizza, m))\r\n",
        "\r\n",
        "      result3 = []\r\n",
        "      for k in pizza_list :\r\n",
        "            result2 = []\r\n",
        "            for i in home : # 피자집 좌표                  \r\n",
        "                  result = []\r\n",
        "                  for j in k :\r\n",
        "                        cnt = 0\r\n",
        "                        cnt += abs(i[0] - j[0])\r\n",
        "                        cnt += abs(i[1] - j[1])\r\n",
        "                        result.append(cnt) \r\n",
        "                  result2.append(min(result)) # 주문하는 피자집 중 최소거리 \r\n",
        "            result3.append(sum(result2)) # 최소거리들의 합\r\n",
        "\r\n",
        "      print(min(result3))    \r\n",
        "                        \r\n",
        "\r\n",
        "# print(time.time() - start)"
      ],
      "execution_count": null,
      "outputs": []
    },
    {
      "cell_type": "code",
      "metadata": {
        "id": "-0w2v2885CKF"
      },
      "source": [
        "# itertools 쓰지 않고 combinations 값 도출\r\n",
        "\r\n",
        "\r\n",
        "import sys, time\r\n",
        "import itertools\r\n",
        "\r\n",
        "start = time.time()\r\n",
        "\r\n",
        "sys.stdin = open(\"input.txt\", \"r\")\r\n",
        "\r\n",
        "def DFS(L, s) :\r\n",
        "      global res\r\n",
        "      if L == m :\r\n",
        "            for x in cb :\r\n",
        "                  print(x, end=\" \")\r\n",
        "            print()\r\n",
        "      else :\r\n",
        "            for i in range(s, len(pz)) :\r\n",
        "                  cb[L] = i\r\n",
        "                  DFS(L+1, i+1)\r\n",
        "\r\n",
        "\r\n",
        "if __name__ == \"__main__\" :\r\n",
        "      n, m = map(int, input().split())\r\n",
        "      board = [list(map(int, input().split())) for _ in range(n)]\r\n",
        "      hs = []\r\n",
        "      pz = []\r\n",
        "      cb = [0] * m # 조합의 개수 저장\r\n",
        "      res = - 217000000\r\n",
        "      for i in range(n) :\r\n",
        "            for j in range(n) :\r\n",
        "                  if board[i][j] == 1 :\r\n",
        "                        hs.append((i,j))\r\n",
        "                  elif board[i][j] == 2 :\r\n",
        "                        pz.append((i,j))\r\n",
        "      DFS(0, 0)"
      ],
      "execution_count": null,
      "outputs": []
    },
    {
      "cell_type": "code",
      "metadata": {
        "id": "rcVI_eOy6Cne"
      },
      "source": [
        "# DFS 활용 풀이\r\n",
        "\r\n",
        "\r\n",
        "import sys, time\r\n",
        "import numpy as np\r\n",
        "from collections import deque\r\n",
        "import itertools\r\n",
        "\r\n",
        "start = time.time()\r\n",
        "\r\n",
        "sys.stdin = open(\"input.txt\", \"r\")\r\n",
        "\r\n",
        "def DFS(L, s) :\r\n",
        "      global res\r\n",
        "      if L == m :\r\n",
        "            sum = 0\r\n",
        "            for j in range(len(hs)) :\r\n",
        "                  x1 = hs[j][0]\r\n",
        "                  y1 = hs[j][1]\r\n",
        "                  dis = 2147000000\r\n",
        "                  for x in cb :\r\n",
        "                        x2 = pz[x][0]\r\n",
        "                        y2 = pz[x][1]\r\n",
        "                        dis = min(dis, abs(x1-x2) + abs(y1-y2)) # 각 집 별 최소거리\r\n",
        "                  sum += dis # 각 집들의 최소거리 합\r\n",
        "            \r\n",
        "            if sum < res :\r\n",
        "                  res = sum\r\n",
        "\r\n",
        "      else :\r\n",
        "            for i in range(s, len(pz)) :\r\n",
        "                  cb[L] = i\r\n",
        "                  DFS(L+1, i+1)\r\n",
        "\r\n",
        "\r\n",
        "if __name__ == \"__main__\" :\r\n",
        "      n, m = map(int, input().split())\r\n",
        "      board = [list(map(int, input().split())) for _ in range(n)]\r\n",
        "      hs = []\r\n",
        "      pz = []\r\n",
        "      cb = [0] * m # 조합의 개수 저장\r\n",
        "      res = 217000000\r\n",
        "      for i in range(n) :\r\n",
        "            for j in range(n) :\r\n",
        "                  if board[i][j] == 1 :\r\n",
        "                        hs.append((i,j))\r\n",
        "                  elif board[i][j] == 2 :\r\n",
        "                        pz.append((i,j))\r\n",
        "      DFS(0, 0)\r\n",
        "      print(res)"
      ],
      "execution_count": null,
      "outputs": []
    },
    {
      "cell_type": "markdown",
      "metadata": {
        "id": "33OH3Bx56jxI"
      },
      "source": [
        "# 21.01.28"
      ]
    },
    {
      "cell_type": "code",
      "metadata": {
        "id": "2EZ74Edh6lzC"
      },
      "source": [
        "a = \"AbCdE\"\r\n",
        "b = \"ABC\""
      ],
      "execution_count": null,
      "outputs": []
    },
    {
      "cell_type": "code",
      "metadata": {
        "colab": {
          "base_uri": "https://localhost:8080/"
        },
        "id": "bfcv_DUlBSSx",
        "outputId": "82c19743-a72e-494b-9c7f-e5d82c8c48a5"
      },
      "source": [
        "a = list(a)\r\n",
        "a.remove(\"d\")\r\n",
        "a"
      ],
      "execution_count": null,
      "outputs": [
        {
          "output_type": "execute_result",
          "data": {
            "text/plain": [
              "['A', 'b', 'C', 'E', 'd']"
            ]
          },
          "metadata": {
            "tags": []
          },
          "execution_count": 45
        }
      ]
    },
    {
      "cell_type": "code",
      "metadata": {
        "id": "Jo_iX-QD9v8s"
      },
      "source": [
        "def abbreviation(a, b):\r\n",
        "    \r\n",
        "    a = deque(sorted(a.upper()))\r\n",
        "    b = deque(sorted(b))\r\n",
        "\r\n",
        "    cnt = 0\r\n",
        "    n = len(b)\r\n",
        "\r\n",
        "    for i in list(b) :\r\n",
        "        for j in list(a) :\r\n",
        "            if j == i :\r\n",
        "                a.remove(j)\r\n",
        "                cnt += 1\r\n",
        "                        \r\n",
        "        \r\n",
        "        # print(a,b)\r\n",
        "\r\n",
        "        if cnt == n :\r\n",
        "            res =  \"YES\"\r\n",
        "            break\r\n",
        "    if cnt < n :\r\n",
        "      res = \"NO\"\r\n",
        "        \r\n",
        "    \r\n",
        "    return res\r\n",
        "  \r\n",
        "# %timeit(abbreviation(a,b))"
      ],
      "execution_count": null,
      "outputs": []
    },
    {
      "cell_type": "code",
      "metadata": {
        "colab": {
          "base_uri": "https://localhost:8080/",
          "height": 35
        },
        "id": "PQWszRHLAd2S",
        "outputId": "9f75129f-272f-4703-eff1-6884b58ae71d"
      },
      "source": [
        "abbreviation(a,b)"
      ],
      "execution_count": null,
      "outputs": [
        {
          "output_type": "execute_result",
          "data": {
            "application/vnd.google.colaboratory.intrinsic+json": {
              "type": "string"
            },
            "text/plain": [
              "'YES'"
            ]
          },
          "metadata": {
            "tags": []
          },
          "execution_count": 51
        }
      ]
    }
  ]
}